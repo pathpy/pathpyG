{
 "cells": [
  {
   "cell_type": "code",
   "execution_count": null,
   "id": "9d7f85a4",
   "metadata": {},
   "outputs": [],
   "source": [
    "import pathpyG as pp\n",
    "\n",
    "# Example temporal network data\n",
    "tedges = [\n",
    "    (\"a\", \"b\", 1),\n",
    "    (\"a\", \"b\", 2),\n",
    "    (\"b\", \"a\", 3),\n",
    "    (\"b\", \"c\", 3),\n",
    "    (\"d\", \"c\", 4),\n",
    "    (\"a\", \"b\", 4),\n",
    "    (\"c\", \"b\", 4),\n",
    "    (\"c\", \"d\", 5),\n",
    "    (\"b\", \"a\", 5),\n",
    "    (\"c\", \"b\", 6),\n",
    "]\n",
    "t = pp.TemporalGraph.from_edge_list(tedges)\n",
    "\n",
    "# Create temporal plot and display inline\n",
    "pp.plot(t, filename=\"d3js_temporal.html\")"
   ]
  },
  {
   "cell_type": "code",
   "execution_count": null,
   "id": "011e3cc1",
   "metadata": {},
   "outputs": [],
   "source": [
    "import pathpyG as pp\n",
    "\n",
    "# Example network data\n",
    "edges = [\n",
    "    (\"a\", \"b\"),\n",
    "    (\"a\", \"c\"),\n",
    "    (\"b\", \"c\"),\n",
    "    (\"c\", \"d\"),\n",
    "    (\"d\", \"e\"),\n",
    "    (\"e\", \"a\"),\n",
    "]\n",
    "g = pp.Graph.from_edge_list(edges)\n",
    "pp.plot(g, filename=\"d3js_static.html\")"
   ]
  },
  {
   "cell_type": "code",
   "execution_count": null,
   "id": "639acb38",
   "metadata": {},
   "outputs": [],
   "source": [
    "import torch\n",
    "import pathpyG as pp\n",
    "\n",
    "# Example undirected network data\n",
    "edge_index = torch.tensor([[0, 1, 3, 3], [1, 2, 1, 0]])\n",
    "g = pp.Graph.from_edge_index(edge_index).to_undirected()\n",
    "\n",
    "# Create static plot and display inline\n",
    "pp.plot(g, backend=\"matplotlib\", filename=\"matplotlib_undirected.png\")"
   ]
  },
  {
   "cell_type": "code",
   "execution_count": null,
   "id": "e9b55019",
   "metadata": {},
   "outputs": [],
   "source": [
    "import torch\n",
    "import pathpyG as pp\n",
    "\n",
    "# Example network data\n",
    "edges = [\n",
    "    (\"a\", \"b\"),\n",
    "    (\"a\", \"c\"),\n",
    "    (\"b\", \"d\"),\n",
    "    (\"c\", \"d\"),\n",
    "    (\"d\", \"a\"),\n",
    "]\n",
    "g = pp.Graph.from_edge_list(edges)\n",
    "\n",
    "# Add properties as attributes to the graph\n",
    "g.data[\"node_size\"] = torch.tensor([10, 15, 20, 15])\n",
    "g.data[\"edge_color\"] = torch.tensor([0, 1, 2, 1, 0])\n",
    "g.data[\"node_opacity\"] = torch.zeros(g.n)\n",
    "\n",
    "# Create static plot with custom settings and display inline\n",
    "pp.plot(\n",
    "    g,\n",
    "    backend=\"tikz\",\n",
    "    node_color={\"a\": \"red\", \"b\": \"#00FF00\"},\n",
    "    edge_opacity={(\"a\", \"b\"): 0.1, (\"a\", \"c\"): 0.5, (\"b\", \"d\"): 1.0},\n",
    "    node_opacity=1.0,  # override graph attribute\n",
    "    edge_size=torch.tensor([1, 2, 3, 2, 1]),\n",
    "    filename=\"tikz_custom_properties.svg\"\n",
    ")"
   ]
  },
  {
   "cell_type": "code",
   "execution_count": null,
   "id": "bd65a329",
   "metadata": {},
   "outputs": [],
   "source": [
    "import torch\n",
    "import pathpyG as pp\n",
    "\n",
    "# Example network data\n",
    "edges = [\n",
    "    (\"b\", \"a\"),\n",
    "    (\"c\", \"a\"),\n",
    "]\n",
    "mapping = pp.IndexMap([\"a\", \"b\", \"c\", \"d\"])\n",
    "g = pp.Graph.from_edge_list(edges, mapping=mapping)\n",
    "g.data[\"node_size\"] = torch.tensor([25]*4)\n",
    "pp.plot(\n",
    "    g,\n",
    "    node_size={\"d\": 50},\n",
    "    edge_size=5,\n",
    "    node_image={\n",
    "        \"a\": \"https://avatars.githubusercontent.com/u/52822508?s=48&v=4\",\n",
    "        \"b\": \"https://raw.githubusercontent.com/pyg-team/pyg_sphinx_theme/master/pyg_sphinx_theme/static/img/pyg_logo.png\",\n",
    "        \"c\": \"https://pytorch-geometric.readthedocs.io/en/latest/_static/img/pytorch_logo.svg\",\n",
    "        \"d\": \"/workspaces/pathpyG/docs/img/pathpy_logo_new.png\",\n",
    "    },\n",
    "    show_labels=False,\n",
    "    filename=\"d3js_custom_node_images.html\",\n",
    ")"
   ]
  },
  {
   "cell_type": "code",
   "execution_count": null,
   "id": "b31fb5a7",
   "metadata": {},
   "outputs": [],
   "source": [
    "import torch\n",
    "import numpy as np\n",
    "import pathpyG as pp\n",
    "\n",
    "# Example temporal network data\n",
    "tedges = [\n",
    "    (\"a\", \"b\", 1),\n",
    "    (\"a\", \"b\", 2),\n",
    "    (\"b\", \"a\", 3),\n",
    "    (\"b\", \"c\", 3),\n",
    "]\n",
    "t = pp.TemporalGraph.from_edge_list(tedges)\n",
    "t.data[\"node_size\"] = torch.tensor([15, 8, 19])\n",
    "t.data[\"node_color\"] = np.array([\"blue\", \"green\", \"orange\"])\n",
    "t.data[\"edge_color\"] = torch.tensor([0, 1, 2, 1])\n",
    "\n",
    "# Create temporal plot and display inline\n",
    "pp.plot(\n",
    "    t,\n",
    "    backend=\"manim\",\n",
    "    node_opacity=0.5,\n",
    "    edge_size={(\"a\", \"b\", 1): 10, (\"a\", \"b\", 2): 1},\n",
    "    node_color={(\"b\", 2): \"red\", \"a\": \"purple\"}, # node_color for node 'a' is set to 'purple' from the start\n",
    "    filename=\"manim_custom_properties.gif\"\n",
    ")"
   ]
  },
  {
   "cell_type": "markdown",
   "id": "324fc97c",
   "metadata": {},
   "source": [
    "## Layouts"
   ]
  },
  {
   "cell_type": "code",
   "execution_count": null,
   "id": "90d4b5cf",
   "metadata": {},
   "outputs": [],
   "source": [
    "import pathpyG as pp\n",
    "from torch_geometric import seed_everything\n",
    "seed_everything(42)\n",
    "\n",
    "g = pp.algorithms.generative_models.watts_strogatz(30, 2, 0.25)\n",
    "pp.plot(g, backend=\"tikz\", layout=\"random\", filename=\"tikz_random_layout.svg\")"
   ]
  },
  {
   "cell_type": "code",
   "execution_count": null,
   "id": "11b1d2fd",
   "metadata": {},
   "outputs": [],
   "source": [
    "import pathpyG as pp\n",
    "from torch_geometric import seed_everything\n",
    "seed_everything(42)\n",
    "\n",
    "g = pp.algorithms.generative_models.watts_strogatz(30, 2, 0.25)\n",
    "pp.plot(g, backend=\"tikz\", layout=\"circle\", filename=\"tikz_circle_layout.svg\")"
   ]
  },
  {
   "cell_type": "code",
   "execution_count": null,
   "id": "fa396cc5",
   "metadata": {},
   "outputs": [],
   "source": [
    "import pathpyG as pp\n",
    "from torch_geometric import seed_everything\n",
    "seed_everything(42)\n",
    "\n",
    "g = pp.algorithms.generative_models.watts_strogatz(30, 2, 0.25)\n",
    "pp.plot(g, backend=\"tikz\", layout=\"shell\", filename=\"tikz_shell_layout.svg\")"
   ]
  },
  {
   "cell_type": "code",
   "execution_count": null,
   "id": "9f8031bb",
   "metadata": {},
   "outputs": [],
   "source": [
    "import pathpyG as pp\n",
    "from torch_geometric import seed_everything\n",
    "seed_everything(42)\n",
    "\n",
    "g = pp.algorithms.generative_models.watts_strogatz(30, 2, 0.25)\n",
    "pp.plot(g, backend=\"tikz\", layout=\"spectral\", filename=\"tikz_spectral_layout.svg\")"
   ]
  },
  {
   "cell_type": "code",
   "execution_count": null,
   "id": "49f57f41",
   "metadata": {},
   "outputs": [],
   "source": [
    "import pathpyG as pp\n",
    "from torch_geometric import seed_everything\n",
    "seed_everything(42)\n",
    "\n",
    "g = pp.algorithms.generative_models.watts_strogatz(30, 2, 0.25)\n",
    "pp.plot(g, backend=\"tikz\", layout=\"kk\", filename=\"tikz_kk_layout.svg\")"
   ]
  },
  {
   "cell_type": "code",
   "execution_count": null,
   "id": "2ab50ca7",
   "metadata": {},
   "outputs": [],
   "source": [
    "import pathpyG as pp\n",
    "from torch_geometric import seed_everything\n",
    "seed_everything(42)\n",
    "\n",
    "g = pp.algorithms.generative_models.watts_strogatz(30, 2, 0.25)\n",
    "pp.plot(g, backend=\"tikz\", layout=\"spring\", filename=\"tikz_spring_layout.svg\")"
   ]
  },
  {
   "cell_type": "code",
   "execution_count": null,
   "id": "07bbd250",
   "metadata": {},
   "outputs": [],
   "source": [
    "import pathpyG as pp\n",
    "from torch_geometric import seed_everything\n",
    "seed_everything(42)\n",
    "\n",
    "g = pp.algorithms.generative_models.watts_strogatz(30, 2, 0.25)\n",
    "pp.plot(g, backend=\"tikz\", layout=\"fa2\", filename=\"tikz_fa2_layout.svg\")"
   ]
  },
  {
   "cell_type": "code",
   "execution_count": null,
   "id": "e3a120f7",
   "metadata": {},
   "outputs": [],
   "source": [
    "import pathpyG as pp\n",
    "from torch_geometric import seed_everything\n",
    "seed_everything(42)\n",
    "\n",
    "g = pp.algorithms.generative_models.watts_strogatz(30, 2, 0.25)\n",
    "pp.plot(g, backend=\"tikz\", layout=\"grid\", filename=\"tikz_grid_layout.svg\")"
   ]
  },
  {
   "cell_type": "code",
   "execution_count": null,
   "id": "1d774139",
   "metadata": {},
   "outputs": [],
   "source": [
    "import pathpyG as pp\n",
    "\n",
    "g = pp.Graph.from_edge_list([(\"a\", \"b\"), (\"a\", \"c\"), (\"b\", \"d\"), (\"c\", \"d\"), (\"d\", \"a\")])\n",
    "# Provide custom x and y coordinates for a layout\n",
    "layout = {\n",
    "    \"a\": (0, 0),\n",
    "    \"b\": (1, 0),\n",
    "    \"c\": (0, 1),\n",
    "    \"d\": (1, 1)\n",
    "}\n",
    "pp.plot(g, backend=\"tikz\", layout=layout, filename=\"tikz_layout.svg\")"
   ]
  },
  {
   "cell_type": "code",
   "execution_count": null,
   "id": "0780f52c",
   "metadata": {},
   "outputs": [],
   "source": [
    "import pathpyG as pp\n",
    "\n",
    "# Example temporal network data\n",
    "tedges = [\n",
    "    (\"a\", \"b\", 1),\n",
    "    (\"a\", \"b\", 2),\n",
    "    (\"b\", \"a\", 3),\n",
    "    (\"b\", \"c\", 3),\n",
    "    (\"d\", \"c\", 4),\n",
    "    (\"a\", \"b\", 4),\n",
    "    (\"c\", \"b\", 4),\n",
    "    (\"c\", \"d\", 5),\n",
    "    (\"b\", \"a\", 5),\n",
    "    (\"c\", \"b\", 6),\n",
    "]\n",
    "t = pp.TemporalGraph.from_edge_list(tedges)\n",
    "\n",
    "# Create temporal plot and display inline\n",
    "pp.plot(t, backend=\"manim\", layout_window_size=2, layout=\"fa2\", filename=\"manim_temporal_fa2.gif\")"
   ]
  },
  {
   "cell_type": "code",
   "execution_count": 3,
   "id": "69983370",
   "metadata": {},
   "outputs": [
    {
     "data": {
      "text/plain": [
       "<pathpyG.visualisations._d3js.backend.D3jsBackend at 0x7f2e583ee050>"
      ]
     },
     "execution_count": 3,
     "metadata": {},
     "output_type": "execute_result"
    }
   ],
   "source": [
    "import pathpyG as pp\n",
    "\n",
    "# Example network data\n",
    "g = pp.Graph.from_edge_list([(\"a\", \"b\"), (\"a\", \"c\")])\n",
    "\n",
    "# Create network plot and display inline\n",
    "pp.plot(g, node={\"opacity\": 0.2}, filename=\"d3js_node_opacity.html\")"
   ]
  },
  {
   "cell_type": "code",
   "execution_count": 2,
   "id": "e262e2ad",
   "metadata": {},
   "outputs": [
    {
     "data": {
      "text/plain": [
       "<pathpyG.visualisations._tikz.backend.TikzBackend at 0x7fc18b7a5120>"
      ]
     },
     "execution_count": 2,
     "metadata": {},
     "output_type": "execute_result"
    }
   ],
   "source": [
    "import pathpyG as pp\n",
    "\n",
    "# Simple network visualization\n",
    "edges = [(\"A\", \"B\"), (\"B\", \"C\"), (\"C\", \"A\")]\n",
    "g = pp.Graph.from_edge_list(edges)\n",
    "pp.plot(g, backend=\"tikz\", filename=\"tikz_init_basic.svg\")"
   ]
  },
  {
   "cell_type": "code",
   "execution_count": 4,
   "id": "23ddcdfe",
   "metadata": {},
   "outputs": [
    {
     "data": {
      "text/plain": [
       "<pathpyG.visualisations._tikz.backend.TikzBackend at 0x7fbfd7f51bd0>"
      ]
     },
     "execution_count": 4,
     "metadata": {},
     "output_type": "execute_result"
    }
   ],
   "source": [
    "import pathpyG as pp\n",
    "import torch\n",
    "\n",
    "# Graph with custom styling\n",
    "edges = [(\"A\", \"B\"), (\"B\", \"C\"), (\"C\", \"D\"), (\"D\", \"A\")]\n",
    "g = pp.Graph.from_edge_list(edges)\n",
    "g.data[\"node_size\"] = torch.tensor([15, 20, 25, 20])\n",
    "\n",
    "pp.plot(\n",
    "    g,\n",
    "    backend=\"tikz\",\n",
    "    node_color={\"A\": \"red\", \"B\": \"#00FF00\"},\n",
    "    edge_opacity=0.7,\n",
    "    curvature=0.2,\n",
    "    width=\"8cm\",\n",
    "    height=\"6cm\",\n",
    "    filename=\"tikz_init_advanced.svg\",\n",
    "    margin=0.25\n",
    ")"
   ]
  },
  {
   "cell_type": "code",
   "execution_count": 5,
   "id": "22165c89",
   "metadata": {},
   "outputs": [
    {
     "data": {
      "text/plain": [
       "<pathpyG.visualisations._tikz.backend.TikzBackend at 0x7fbfd7ffe650>"
      ]
     },
     "execution_count": 5,
     "metadata": {},
     "output_type": "execute_result"
    }
   ],
   "source": [
    "# The backend is typically used via pp.plot()\n",
    "import pathpyG as pp\n",
    "g = pp.Graph.from_edge_list([(\"A\", \"B\"), (\"B\", \"C\")])\n",
    "pp.plot(g, backend=\"tikz\", filename=\"tikz_backend_example.svg\")"
   ]
  },
  {
   "cell_type": "code",
   "execution_count": 6,
   "id": "aaa69bed",
   "metadata": {},
   "outputs": [
    {
     "data": {
      "text/plain": [
       "<pathpyG.visualisations._matplotlib.backend.MatplotlibBackend at 0x7fbfd7f53250>"
      ]
     },
     "execution_count": 6,
     "metadata": {},
     "output_type": "execute_result"
    },
    {
     "data": {
      "image/png": "[encoded data removed]",
      "text/plain": [
       "<Figure size 708.661x708.661 with 1 Axes>"
      ]
     },
     "metadata": {},
     "output_type": "display_data"
    }
   ],
   "source": [
    "import pathpyG as pp\n",
    "\n",
    "# Static network\n",
    "g = pp.Graph.from_edge_list([('a', 'b'), ('b', 'c')])\n",
    "pp.plot(g, filename='network.png')"
   ]
  },
  {
   "cell_type": "code",
   "execution_count": 8,
   "id": "be239917",
   "metadata": {},
   "outputs": [
    {
     "data": {
      "text/plain": [
       "<pathpyG.visualisations._d3js.backend.D3jsBackend at 0x7fbfd7fffa00>"
      ]
     },
     "execution_count": 8,
     "metadata": {},
     "output_type": "execute_result"
    }
   ],
   "source": [
    "import pathpyG as pp\n",
    "tg = pp.TemporalGraph.from_edge_list([('a', 'b', 1), ('b', 'c', 2), ('a', 'c', 3)])\n",
    "pp.plot(tg, filename='temporal_network.html')"
   ]
  },
  {
   "cell_type": "code",
   "execution_count": 9,
   "id": "5432f763",
   "metadata": {},
   "outputs": [
    {
     "data": {
      "text/plain": [
       "<pathpyG.visualisations._matplotlib.backend.MatplotlibBackend at 0x7fbfd7e97550>"
      ]
     },
     "execution_count": 9,
     "metadata": {},
     "output_type": "execute_result"
    },
    {
     "data": {
      "image/png": "[encoded data removed]",
      "text/plain": [
       "<Figure size 708.661x708.661 with 1 Axes>"
      ]
     },
     "metadata": {},
     "output_type": "display_data"
    }
   ],
   "source": [
    "import pathpyG as pp\n",
    "graph = pp.Graph.from_edge_list([[\"a\", \"b\"], [\"b\", \"c\"], [\"a\", \"c\"]])\n",
    "pp.plot(graph, kind=\"static\", filename=\"graph.png\")"
   ]
  },
  {
   "cell_type": "code",
   "execution_count": 11,
   "id": "6e5cd0a6",
   "metadata": {},
   "outputs": [
    {
     "name": "stdout",
     "output_type": "stream",
     "text": [
      "{'a': array([ 0.61899711, -1.        ]), 'b': array([-0.00132282,  0.00213747]), 'c': array([-0.61767429,  0.99786253])}\n"
     ]
    }
   ],
   "source": [
    "from pathpyG import Graph\n",
    "from pathpyG.visualisations import layout\n",
    "    \n",
    "g = Graph.from_edge_list([('a', 'b'), ('b', 'c')])\n",
    "positions = layout(g, layout='spring', k=0.5)\n",
    "print(positions)"
   ]
  },
  {
   "cell_type": "code",
   "execution_count": 12,
   "id": "295a1d53",
   "metadata": {},
   "outputs": [
    {
     "data": {
      "text/plain": [
       "<pathpyG.visualisations._matplotlib.backend.MatplotlibBackend at 0x7fbfd54dcc40>"
      ]
     },
     "execution_count": 12,
     "metadata": {},
     "output_type": "execute_result"
    },
    {
     "data": {
      "image/png": "[encoded data removed]",
      "text/plain": [
       "<Figure size 708.661x708.661 with 1 Axes>"
      ]
     },
     "metadata": {},
     "output_type": "display_data"
    }
   ],
   "source": [
    "import pathpyG as pp\n",
    "\n",
    "# Simple network visualization\n",
    "edges = [(\"A\", \"B\"), (\"B\", \"C\"), (\"C\", \"A\")]\n",
    "g = pp.Graph.from_edge_list(edges)\n",
    "pp.plot(g, backend=\"matplotlib\", filename=\"network.png\")"
   ]
  },
  {
   "cell_type": "code",
   "execution_count": 15,
   "id": "e32343c6",
   "metadata": {},
   "outputs": [
    {
     "name": "stderr",
     "output_type": "stream",
     "text": [
      "                                                                                          \r"
     ]
    },
    {
     "data": {
      "text/plain": [
       "<pathpyG.visualisations._manim.backend.ManimBackend at 0x7fbfc4d47cd0>"
      ]
     },
     "execution_count": 15,
     "metadata": {},
     "output_type": "execute_result"
    }
   ],
   "source": [
    "import pathpyG as pp\n",
    "\n",
    "# Simple temporal network animation\n",
    "tedges = [(\"a\", \"b\", 1), (\"b\", \"c\", 2), (\"c\", \"a\", 3)]\n",
    "tg = pp.TemporalGraph.from_edge_list(tedges)\n",
    "pp.plot(tg, backend=\"manim\", filename=\"temporal_network.gif\")"
   ]
  },
  {
   "cell_type": "code",
   "execution_count": 14,
   "id": "00e8f652",
   "metadata": {},
   "outputs": [
    {
     "name": "stderr",
     "output_type": "stream",
     "text": [
      "                                                                                             \r"
     ]
    },
    {
     "data": {
      "text/plain": [
       "<pathpyG.visualisations._manim.backend.ManimBackend at 0x7fbfc4e58850>"
      ]
     },
     "execution_count": 14,
     "metadata": {},
     "output_type": "execute_result"
    }
   ],
   "source": [
    "import pathpyG as pp\n",
    "\n",
    "# Temporal network with evolving properties\n",
    "tedges = [\n",
    "    (\"a\", \"b\", 1), (\"b\", \"c\", 1),\n",
    "    (\"c\", \"d\", 2), (\"d\", \"a\", 2), \n",
    "    (\"a\", \"c\", 3), (\"b\", \"d\", 3)\n",
    "]\n",
    "tg = pp.TemporalGraph.from_edge_list(tedges)\n",
    "\n",
    "pp.plot(\n",
    "    tg,\n",
    "    backend=\"manim\",\n",
    "    delta=2000,                    # 2 seconds per timestep\n",
    "    node_size={(\"a\", 1): 20, (\"b\", 2): 7},\n",
    "    node_color=[\"red\", \"blue\", \"green\", \"orange\"],\n",
    "    edge_opacity=0.7,\n",
    "    edge_color={(\"a\", \"b\", 1): \"purple\", (\"c\", \"d\", 2): \"orange\"},\n",
    "    filename=\"dynamic_network.mp4\"\n",
    ")"
   ]
  },
  {
   "cell_type": "code",
   "execution_count": 16,
   "id": "06363bf4",
   "metadata": {},
   "outputs": [
    {
     "data": {
      "text/plain": [
       "<pathpyG.visualisations._d3js.backend.D3jsBackend at 0x7fbfd7d007f0>"
      ]
     },
     "execution_count": 16,
     "metadata": {},
     "output_type": "execute_result"
    }
   ],
   "source": [
    "import pathpyG as pp\n",
    "\n",
    "# Simple network visualization\n",
    "edges = [(\"A\", \"B\"), (\"B\", \"C\"), (\"C\", \"A\")]\n",
    "g = pp.Graph.from_edge_list(edges)\n",
    "pp.plot(g, filename=\"simple_network.html\")  # Uses d3.js backend by default"
   ]
  },
  {
   "cell_type": "code",
   "execution_count": 1,
   "id": "8488043d",
   "metadata": {},
   "outputs": [
    {
     "data": {
      "text/html": [
       "<style>\n",
       ".label-text {\n",
       "    fill: #969595;\n",
       "    font-size: 16px;\n",
       "    font-family: sans-serif;\n",
       "}\n",
       "</style>\n",
       "\n",
       "<div id = \"x5135bbab838a41af9a3e939f9808bd02\"> </div>\n",
       "<script charset=\"utf-8\" src=\"/workspaces/pathpyG/src/pathpyG/visualisations/_d3js/templates/d3.v7.min.js\"></script>\n",
       "<script charset=\"utf-8\">\n",
       "// Load via requireJS if available (jupyter notebook environment)\n",
       "try {\n",
       "    // Problem: require.config will raise an exception when called for the second time \n",
       "    require.config({\n",
       "        paths: {\n",
       "            d3: \"/workspaces/pathpyG/src/pathpyG/visualisations/_d3js/templates/d3.v7.min.js\".replace(\".js\", \"\")\n",
       "        }\n",
       "    });\n",
       "    console.log(\"OKAY: requireJS was detected.\");\n",
       "}\n",
       "catch(err){\n",
       "    // a reference error indicates that requireJS does not exist. \n",
       "    // other errors may occur due to multiple calls to config\n",
       "    if (err instanceof ReferenceError){\n",
       "        console.log(\"WARNING: NO requireJS was detected!\");\n",
       "\n",
       "        // Helper function that waits for d3js to be loaded\n",
       "        require = function require(symbols, callback) {\n",
       "            var ms = 10;\n",
       "            window.setTimeout(function(t) {\n",
       "                if (window[symbols[0]])\n",
       "                    callback(window[symbols[0]]);\n",
       "                else \n",
       "                    window.setTimeout(arguments.callee, ms);\n",
       "            }, ms);\n",
       "        }\n",
       "    }\n",
       "};\n",
       "require(['d3'], function(d3){ //START\n",
       "const data = {\"nodes\": [{\"color\": \"#ff0000\", \"image\": NaN, \"opacity\": 0.75, \"size\": 15.0, \"start\": 0, \"end\": 1.0, \"uid\": \"a\"}, {\"color\": \"#ff0000\", \"image\": NaN, \"opacity\": 0.75, \"size\": 20.0, \"start\": 1, \"end\": 4.0, \"uid\": \"a\"}, {\"color\": \"#0000ff\", \"image\": NaN, \"opacity\": 0.75, \"size\": 15.0, \"start\": 0, \"end\": 2.0, \"uid\": \"b\"}, {\"color\": \"#0000ff\", \"image\": NaN, \"opacity\": 0.75, \"size\": 7.0, \"start\": 2, \"end\": 4.0, \"uid\": \"b\"}, {\"color\": \"#008000\", \"image\": NaN, \"opacity\": 0.75, \"size\": 15.0, \"start\": 0, \"end\": 4.0, \"uid\": \"c\"}, {\"color\": \"#ffa500\", \"image\": NaN, \"opacity\": 0.75, \"size\": 15.0, \"start\": 0, \"end\": 4.0, \"uid\": \"d\"}], \"edges\": [{\"color\": \"#00224d\", \"size\": 2, \"opacity\": 0.7, \"image\": null, \"start\": 1, \"end\": 2, \"uid\": \"a-b\", \"source\": \"a\", \"target\": \"b\"}, {\"color\": \"#35456c\", \"size\": 2, \"opacity\": 0.7, \"image\": null, \"start\": 1, \"end\": 2, \"uid\": \"b-c\", \"source\": \"b\", \"target\": \"c\"}, {\"color\": \"#666970\", \"size\": 2, \"opacity\": 0.7, \"image\": null, \"start\": 2, \"end\": 3, \"uid\": \"c-d\", \"source\": \"c\", \"target\": \"d\"}, {\"color\": \"#948e77\", \"size\": 2, \"opacity\": 0.7, \"image\": null, \"start\": 2, \"end\": 3, \"uid\": \"d-a\", \"source\": \"d\", \"target\": \"a\"}, {\"color\": \"#c8b765\", \"size\": 2, \"opacity\": 0.7, \"image\": null, \"start\": 3, \"end\": 4, \"uid\": \"a-c\", \"source\": \"a\", \"target\": \"c\"}, {\"color\": \"#fde737\", \"size\": 2, \"opacity\": 0.7, \"image\": null, \"start\": 3, \"end\": 4, \"uid\": \"b-d\", \"source\": \"b\", \"target\": \"d\"}]}\n",
       "const config = {\"default_backend\": \"d3js\", \"cmap\": \"cividis\", \"layout\": null, \"width\": 453.54330708661416, \"height\": 453.54330708661416, \"latex_class_options\": \"\", \"margin\": 0.1, \"curvature\": 0.25, \"layout_window_size\": [4, 4], \"delta\": 750, \"separator\": \"->\", \"node\": {\"color\": \"#244a5c\", \"size\": 15, \"opacity\": 0.75, \"image_padding\": 5}, \"edge\": {\"color\": \"#4c707b\", \"size\": 2, \"opacity\": 0.5}, \"directed\": true, \"curved\": false, \"simulation\": true, \"selector\": \"#x5135bbab838a41af9a3e939f9808bd02\", \"show_labels\": true}\n",
       "console.log('temporal Network Template');\n",
       "// Useful pages\n",
       "// ------------\n",
       "// https://github.com/takanori-fujiwara/d3-gallery-javascript/tree/main/animation/temporal-force-directed-graph\n",
       "// https://observablehq.com/@d3/temporal-force-directed-graph\n",
       "// https://observablehq.com/@mbostock/scrubber\n",
       "// https://plnkr.co/edit/0VxwY1Mc5UYusvhYic8u?preview\n",
       "// https://stackoverflow.com/questions/42545531/making-d3-like-force-directed-graph-with-pngs\n",
       "\n",
       "\n",
       "// Create function for Network Drawing\n",
       "const Network = (config) => {\n",
       "    console.log(\"Initialize Network Function\");\n",
       "\n",
       "    // Get variables from config\n",
       "    const selector = config.selector;       // DOM uuid\n",
       "    const width = config.width || 800;      // window width \n",
       "    const height = config.height || 600;    // window height\n",
       "    const delta = config.delta || 300;      // time between frames\n",
       "    const padding = (config.node && config.node.image_padding) || 5;    // distance between node and image\n",
       "    const margin = config.margin || 0.1;  // margin around the plot area for fixed layout\n",
       "    const xlim = [-1*margin, 1+(1*margin)]; // limits of the x-coordinates\n",
       "    const ylim = [-1*margin, 1+(1*margin)]; // limits of the y-coordinates\n",
       "    const arrowheadMultiplier = 4; // Multiplier for arrowhead size based on edge stroke width\n",
       "    const nodeStrokeWidth = 2.5; // Stroke width around nodes\n",
       "    const curveFactor = config.curvature || 0.25; // Factor to control curvature of edges (higher = more curved)\n",
       "\n",
       "    // Initialize svg canvas\n",
       "    const svg = d3.select(selector)\n",
       "          .append('svg')\n",
       "          .attr('width', width)\n",
       "          .attr('height', height)\n",
       "          .attr('viewBox', [0, 0, width, height]);\n",
       "    \n",
       "    // add container to store network\n",
       "    let container = svg.append(\"g\");\n",
       "\n",
       "    // initialize link\n",
       "    let link = container.append(\"g\")\n",
       "        .attr(\"class\", \"edges\")\n",
       "        .selectAll(\".link\");\n",
       "\n",
       "    // initialize node\n",
       "    let node = container.append(\"g\")\n",
       "        .attr(\"class\", \"nodes\")\n",
       "        .selectAll(\"circle.node\");\n",
       "\n",
       "    // initialize label\n",
       "    let label = container.append(\"g\")\n",
       "        .attr(\"class\", \"labels\")\n",
       "        .selectAll(\".label\");\n",
       "\n",
       "    // initialize image\n",
       "    let image = container.append(\"g\")\n",
       "        .attr(\"class\", \"images\")\n",
       "        .selectAll(\".image\");\n",
       "\n",
       "    const ticked = () => {\n",
       "        // 1. Update node, label, and image positions\n",
       "        node.attr(\"transform\", d => `translate(${d.x},${d.y})`);\n",
       "        label.attr(\"transform\", d => `translate(${d.x},${d.y})`);\n",
       "        image.attr(\"transform\", d => `translate(${d.x},${d.y})`);\n",
       "\n",
       "        // 2. Update the link paths\n",
       "        link.attr('d', d => {\n",
       "            // --- A. Get necessary properties ---\n",
       "            const sourceRadius = d.source.size || (config.node && config.node.size) || 15;\n",
       "            const targetRadius = d.target.size || (config.node && config.node.size) || 15;\n",
       "            const edgeStrokeWidth = d.size || (config.edge && config.edge.size) || 2;\n",
       "            const arrowheadLength = config.directed ? (edgeStrokeWidth * arrowheadMultiplier) : 0;\n",
       "\n",
       "            const effectiveSourceRadius = sourceRadius + (nodeStrokeWidth/2);\n",
       "            const effectiveTargetRadius = targetRadius + (nodeStrokeWidth/2) + arrowheadLength;\n",
       "\n",
       "            const x1 = d.source.x, y1 = d.source.y;\n",
       "            const x2 = d.target.x, y2 = d.target.y;\n",
       "\n",
       "            const dx = x2 - x1, dy = y2 - y1;\n",
       "            const distance = Math.hypot(dx, dy);\n",
       "\n",
       "            // Don't draw if nodes are overlapping\n",
       "            if (distance < effectiveSourceRadius + effectiveTargetRadius) return \"\";\n",
       "\n",
       "            // --- B. Straight Line Calculation (Fast Path) ---\n",
       "            if (!config.curved) {\n",
       "                const sourceX = d.source.x + (dx / distance) * effectiveSourceRadius;\n",
       "                const sourceY = d.source.y + (dy / distance) * effectiveSourceRadius;\n",
       "                const targetX = d.target.x - (dx / distance) * effectiveTargetRadius;\n",
       "                const targetY = d.target.y - (dy / distance) * effectiveTargetRadius;\n",
       "\n",
       "                return `M${sourceX},${sourceY}L${targetX},${targetY}`;\n",
       "            } else {\n",
       "                // --- C. Curved Line Calculation (Quadratic Bézier) ---\n",
       "\n",
       "                // Find the midpoint, the vector between the nodes, and the distance.\n",
       "                const midX = (x1 + x2) / 2;\n",
       "                const midY = (y1 + y2) / 2;\n",
       "\n",
       "                // Calculate the control point (P1) for the quadratic curve.\n",
       "                // This point is offset from the midpoint along a perpendicular vector.\n",
       "                if (distance === 0) { // Handle case where nodes are at the same position\n",
       "                    return `M${x1},${y1}`; \n",
       "                }\n",
       "                // Get the normalized perpendicular vector.\n",
       "                const perpX = -dy / distance;\n",
       "                const perpY = dx / distance;\n",
       "\n",
       "                // Define how much the curve should \"bulge\". This is your curvature factor.\n",
       "                const controlPointOffset = distance * curveFactor;\n",
       "\n",
       "                // Calculate the final control point's coordinates.\n",
       "                const controlX = midX + perpX * controlPointOffset;\n",
       "                const controlY = midY + perpY * controlPointOffset;\n",
       "\n",
       "                // Shorten the curve to start and end at the node's edge, not its center.\n",
       "                // To do this, we find the direction from the node's center towards the control point\n",
       "                // and move the start/end point along that direction by the node's radius.\n",
       "\n",
       "                // a. For the source node (P0 -> P1 direction)\n",
       "                const dirSourceX = controlX - x1;\n",
       "                const dirSourceY = controlY - y1;\n",
       "                const lenSource = Math.hypot(dirSourceX, dirSourceY);\n",
       "                const normDirSourceX = dirSourceX / lenSource;\n",
       "                const normDirSourceY = dirSourceY / lenSource;\n",
       "\n",
       "                // For the target node (P2 -> P1 direction)\n",
       "                const dirTargetX = controlX - x2;\n",
       "                const dirTargetY = controlY - y2;\n",
       "                const lenTarget = Math.hypot(dirTargetX, dirTargetY);\n",
       "                const normDirTargetX = dirTargetX / lenTarget;\n",
       "                const normDirTargetY = dirTargetY / lenTarget;\n",
       "\n",
       "                if (lenTarget < effectiveTargetRadius) {\n",
       "                    const message = \"Arrowhead length is too long for some edges. Please reduce the edge size.\";\n",
       "                    console.error(message);\n",
       "                    const sourceX = d.source.x + (dx / distance) * effectiveSourceRadius;\n",
       "                    const sourceY = d.source.y + (dy / distance) * effectiveSourceRadius;\n",
       "                    const targetX = d.target.x - (dx / distance) * effectiveTargetRadius;\n",
       "                    const targetY = d.target.y - (dy / distance) * effectiveTargetRadius;\n",
       "\n",
       "                    return `M${sourceX},${sourceY}L${targetX},${targetY}`;\n",
       "                }\n",
       "\n",
       "                // The new, shortened start point (x3, y3)\n",
       "                const x3 = x1 + normDirSourceX * effectiveSourceRadius;\n",
       "                const y3 = y1 + normDirSourceY * effectiveSourceRadius;\n",
       "\n",
       "                // The new, shortened end point (x4, y4)\n",
       "                const x4 = x2 + normDirTargetX * effectiveTargetRadius;\n",
       "                const y4 = y2 + normDirTargetY * effectiveTargetRadius;\n",
       "\n",
       "                // Return the SVG path string for the quadratic Bézier curve.\n",
       "                return `M${x3},${y3} Q${controlX},${controlY} ${x4},${y4}`;\n",
       "            }\n",
       "        });\n",
       "    };\n",
       "\n",
       "    const simulation = d3.forceSimulation()\n",
       "          .velocityDecay(0.2)\n",
       "          .alphaMin(0.1)\n",
       "          .force('link', d3.forceLink().id(d => d.uid))\n",
       "          .on('tick', ticked);\n",
       "\n",
       "    let currentlyDragged = null; // Remember currently dragged node during update\n",
       "\n",
       "    // Add drag functionality to the node objects\n",
       "    const drag = d3.drag()\n",
       "          .on(\"start\", dragstarted)\n",
       "          .on(\"drag\", dragged)\n",
       "          .on(\"end\", dragended);\n",
       "\n",
       "    function dragstarted(event, d) {\n",
       "        currentlyDragged = d;\n",
       "        event.sourceEvent.stopPropagation();\n",
       "        if (!event.active) simulation.alphaTarget(0.3).restart();\n",
       "        d.fx = d.x;\n",
       "        d.fy = d.y;\n",
       "    };\n",
       "\n",
       "    function dragged(event, d) {\n",
       "        d.fx = event.x;\n",
       "        d.fy = event.y;\n",
       "    };\n",
       "\n",
       "    function dragended(event, d) {\n",
       "        currentlyDragged = null;\n",
       "        if (!event.active) simulation.alphaTarget(0);\n",
       "        d.fx = null;\n",
       "        d.fy = null;\n",
       "    };\n",
       "\n",
       "    /**\n",
       "    * Creates a custom D3 force that repels nodes from a rectangular boundary.\n",
       "    * @param {number} x0 - The left boundary.\n",
       "    * @param {number} y0 - The top boundary.\n",
       "    * @param {number} x1 - The right boundary.\n",
       "    * @param {number} y1 - The bottom boundary.\n",
       "    * @param {number} strength - The strength of the repulsion.\n",
       "    */\n",
       "    function forceBoundary(x0, y0, x1, y1, strength = 0.5) {\n",
       "        let nodes;\n",
       "\n",
       "        function force(alpha) {\n",
       "            for (let i = 0, n = nodes.length; i < n; ++i) {\n",
       "                const node = nodes[i];\n",
       "                const r = node.size || (config.node && config.node.size) || 15;\n",
       "\n",
       "                // Push node away from the left boundary\n",
       "                if (node.x - r < x0) {\n",
       "                    node.vx += (x0 - (node.x - r)) * strength * alpha;\n",
       "                }\n",
       "                // Push node away from the right boundary\n",
       "                if (node.x + r > x1) {\n",
       "                    node.vx += (x1 - (node.x + r)) * strength * alpha;\n",
       "                }\n",
       "                // Push node away from the top boundary\n",
       "                if (node.y - r < y0) {\n",
       "                    node.vy += (y0 - (node.y - r)) * strength * alpha;\n",
       "                }\n",
       "                // Push node away from the bottom boundary\n",
       "                if (node.y + r > y1) {\n",
       "                    node.vy += (y1 - (node.y + r)) * strength * alpha;\n",
       "                }\n",
       "            }\n",
       "        }\n",
       "\n",
       "        force.initialize = function(_) {\n",
       "            nodes = _;\n",
       "        };\n",
       "\n",
       "        return force;\n",
       "    }\n",
       "\n",
       "    return Object.assign(svg.node(), {\n",
       "        update({nodes, links}) {\n",
       "\n",
       "            // --- DATA PREPARATION ---\n",
       "            // Preserve node positions across updates\n",
       "            const oldNodesMap = new Map(node.data().map(d => [d.uid, d]));\n",
       "            nodes = nodes.map(newNode => {\n",
       "                const oldNode = oldNodesMap.get(newNode.uid);\n",
       "                // If there's an old node, preserve its position and velocity.\n",
       "                // Also, preserve fixed position (fx, fy) if the user is dragging it.\n",
       "                if (oldNode) {\n",
       "                    newNode.x = oldNode.x;\n",
       "                    newNode.y = oldNode.y;\n",
       "                    newNode.vx = oldNode.vx;\n",
       "                    newNode.vy = oldNode.vy;\n",
       "                    if (oldNode.fx) newNode.fx = oldNode.fx;\n",
       "                    if (oldNode.fy) newNode.fy = oldNode.fy;\n",
       "                }\n",
       "                return newNode;\n",
       "            });\n",
       "            links = links.map(d => ({...d}));\n",
       "            \n",
       "            // --- NODES (CIRCLES) ---\n",
       "            // 1. Data Join\n",
       "            node = container.select('.nodes').selectAll(\"circle.node\")\n",
       "                .data(nodes, d => d.uid);\n",
       "\n",
       "            // 2. Exit Selection: Fade out and remove old nodes\n",
       "            node.exit()\n",
       "                .transition()\n",
       "                .duration(delta / 2)\n",
       "                .style(\"opacity\", 0)\n",
       "                .remove();\n",
       "\n",
       "            // 3. Enter & Merge: Create new circles and merge with updating ones\n",
       "            node = node.enter().append('circle')\n",
       "                .attr(\"class\", \"node\")\n",
       "                .call(drag)\n",
       "                .merge(node);\n",
       "\n",
       "            // 4. Update Selection: Apply transitions to all nodes (new and existing)\n",
       "            node.transition()\n",
       "                .duration(delta)\n",
       "                .style(\"r\", d => (d.size || (config.node && config.node.size)) + \"px\") // Use fallback for size\n",
       "                .style(\"fill\", d => (d.color || (config.node && config.node.color))) // Use fallback for color\n",
       "                .style(\"opacity\", d => (d.opacity || (config.node && config.node.opacity))) // Use fallback for opacity\n",
       "                .style(\"stroke-width\", nodeStrokeWidth + \"px\")\n",
       "                .style(\"stroke\", \"#000000\");\n",
       "\n",
       "            // --- IMAGES ---\n",
       "            // 1. Data Join\n",
       "            image = container.select('.images').selectAll('.image')\n",
       "                .data(nodes.filter(d => d.image), d => d.uid);\n",
       "\n",
       "            // 2. Exit Selection: Fade out and remove old images\n",
       "            image.exit()\n",
       "                .transition()\n",
       "                .duration(delta / 2)\n",
       "                .style(\"opacity\", 0)\n",
       "                .remove();\n",
       "\n",
       "            // 3. Enter & Merge: Create new images and merge with updating ones\n",
       "            image = image.enter().append('image')\n",
       "                .attr(\"class\", \"image\")\n",
       "                .attr(\"xlink:href\", d => d.image)\n",
       "                .style(\"width\", \"0px\")\n",
       "                .style(\"height\", \"0px\")\n",
       "                .call(drag)\n",
       "              .merge(image);\n",
       "\n",
       "            // 4. Update Selection: Apply transitions to all images\n",
       "            image.transition()\n",
       "                .duration(delta)\n",
       "                .attr(\"x\", d => -(d.size || (config.node && config.node.size)) + padding)\n",
       "                .attr(\"y\", d => -(d.size || (config.node && config.node.size)) + padding)\n",
       "                .style(\"width\", d => 2 * (d.size || (config.node && config.node.size)) - 2 * padding + \"px\")\n",
       "                .style(\"height\", d => 2 * (d.size || (config.node && config.node.size)) - 2 * padding + \"px\");\n",
       "\n",
       "\n",
       "            // --- LABELS ---\n",
       "            if (config.show_labels) {\n",
       "                // 1. Data Join\n",
       "                label = container.select('.labels').selectAll('.label-text')\n",
       "                    .data(nodes, d => d.uid);\n",
       "\n",
       "                // 2. Exit Selection: Fade out and remove old labels\n",
       "                label.exit()\n",
       "                    .transition()\n",
       "                    .duration(delta / 2)\n",
       "                    .style(\"opacity\", 0)\n",
       "                    .remove();\n",
       "\n",
       "                // 3. Enter & Merge: Create new text elements and merge with updating ones\n",
       "                label = label.enter().append('text')\n",
       "                    .attr(\"class\", \"label-text\")\n",
       "                    .attr(\"dy\", \".32em\")\n",
       "                    .style(\"opacity\", 0) // Start transparent to fade in\n",
       "                .merge(label);\n",
       "\n",
       "                // 4. Update Selection: Apply transitions to all labels\n",
       "                label.transition()\n",
       "                    .duration(delta)\n",
       "                    .attr(\"x\", d => (d.size || 15) + 5) // Use fallback for size\n",
       "                    .text(d => d.uid)\n",
       "                    .style(\"opacity\", 1); // Fade in new/updating labels\n",
       "            }\n",
       "\n",
       "            // --- DYNAMIC ARROWHEAD MARKERS ---\n",
       "            if (config.directed) {\n",
       "                // Ensure a <defs> element exists\n",
       "                const defs = container.selectAll('defs').data([1]).join('defs');\n",
       "\n",
       "                // 1. Get a list of all unique edge colors currently in the data\n",
       "                const uniqueColors = Array.from(\n",
       "                    new Set(links.map(d => d.color || (config.edge && config.edge.color)))\n",
       "                );\n",
       "\n",
       "                // 2. Perform a data join to create one marker per unique color\n",
       "                const markers = defs.selectAll('marker')\n",
       "                    .data(uniqueColors, color => color); // Key the data by the color string itself\n",
       "\n",
       "                // 3. Remove any markers for colors that are no longer in the data\n",
       "                markers.exit().remove();\n",
       "\n",
       "                // 4. For any new colors, create a new marker\n",
       "                markers.enter().append('marker')\n",
       "                    .attr('id', color => `arrowhead-${color.replace('#', '')}`) // e.g., \"arrowhead-ff0000\"\n",
       "                    .attr('viewBox', '0 -5 10 10')\n",
       "                    .attr('refX', 0)\n",
       "                    .attr('refY', 0)\n",
       "                    .attr('markerUnits', 'strokeWidth')\n",
       "                    .attr('markerWidth', arrowheadMultiplier)\n",
       "                    .attr('markerHeight', arrowheadMultiplier)\n",
       "                    .attr('orient', 'auto')\n",
       "                    .append('path')\n",
       "                        .attr('d', 'M0,-5L10,0L0,5')\n",
       "                        .style('fill', color => color); // Set the fill using the color data\n",
       "            }\n",
       "\n",
       "\n",
       "            // --- LINKS (EDGES) ---\n",
       "            // 1. Data Join\n",
       "            link = container.select(\".edges\").selectAll(\".link\")\n",
       "                .data(links, d => d.uid);\n",
       "\n",
       "            // 2. Exit Selection\n",
       "            link.exit().remove();\n",
       "\n",
       "            // 3. Enter & Merge\n",
       "            link = link.enter().append(\"path\")\n",
       "                .attr(\"class\", \"link\")\n",
       "                .style(\"fill\", \"none\")\n",
       "                .merge(link);\n",
       "\n",
       "            // 4. Update Selection\n",
       "            link.transition()\n",
       "                .duration(delta)\n",
       "                .style(\"stroke\", d => (d.color || (config.edge && config.edge.color)))\n",
       "                .style(\"color\", d => (d.color || (config.edge && config.edge.color))) // For arrowhead color\n",
       "                .style(\"stroke-width\", d => (d.size || (config.edge && config.edge.size)) + 'px')\n",
       "                .style(\"opacity\", d => (d.opacity || (config.edge && config.edge.opacity)));\n",
       "\n",
       "        // Conditionally add the correct arrowhead marker\n",
       "        if (config.directed) {\n",
       "            link.attr('marker-end', d => {\n",
       "                // Find the color for this specific link\n",
       "                const color = d.color || (config.edge && config.edge.color);\n",
       "                // Create the safe ID that matches the marker definition\n",
       "                const safeColorId = color.replace('#', '');\n",
       "                // Return the URL pointing to the specific marker\n",
       "                return `url(#arrowhead-${safeColorId})`;\n",
       "            });\n",
       "        } else {\n",
       "            link.attr('marker-end', null);\n",
       "        }\n",
       "\n",
       "            simulation.nodes(nodes);\n",
       "            simulation.force(\"link\").links(links);\n",
       "\n",
       "            // Based on the config.simulation parameter, choose the layout type.\n",
       "            if (config.simulation) {\n",
       "                // TRUE: Use a dynamic spring layout (force-directed)\n",
       "                simulation\n",
       "                    .force('charge', d3.forceManyBody().strength(-50)) // Nodes repel each other\n",
       "                    .force('center', d3.forceCenter(width/2, height/2)) // Center the graph\n",
       "                    .force('x', null) // Remove the static x-force\n",
       "                    .force('y', null) // Remove the static y-force\n",
       "                    .force('boundary', forceBoundary(0, 0, width, height));\n",
       "                \n",
       "                // Adjust link force\n",
       "                simulation.force(\"link\").strength(0.1).distance(70);\n",
       "\n",
       "            } else {\n",
       "                // FALSE: Use the original fixed layout based on xpos and ypos\n",
       "                simulation.force('charge', d3.forceManyBody().strength(-20)); // Weak charge to prevent some overlap\n",
       "                simulation.force('center', null); // No need for centering force\n",
       "                simulation.force('boundary', null); \n",
       "\n",
       "                // Use x/y forces to position nodes based on data\n",
       "                const xScale = d3.scaleLinear().domain(xlim).range([0, width]);\n",
       "                const yScale = d3.scaleLinear().domain(ylim).range([0, height]);\n",
       "                simulation.force('x', d3.forceX().strength(0.1).x(d => xScale(d.xpos)));\n",
       "                simulation.force('y', d3.forceY().strength(0.1).y(d => yScale(d.ypos)));\n",
       "                \n",
       "                // Weaken link force so it doesn't fight the x/y positioning\n",
       "                simulation.force(\"link\").strength(0);\n",
       "            }\n",
       "\n",
       "            // Restart simulation and render immediately\n",
       "            simulation.alpha(1).restart();\n",
       "        }\n",
       "    });\n",
       "}; // End Network\n",
       "const scrubber = (values, {\n",
       "  chartUpdate,\n",
       "  format = value => value,\n",
       "  initial = 0,\n",
       "  delay = null,\n",
       "  autoplay = true,\n",
       "  loop = true,\n",
       "  loopDelay = null,\n",
       "  alternate = false\n",
       "} = {}) => {\n",
       "  values = Array.from(values);\n",
       "  const form = d3.create('form')\n",
       "    .style('font', '12px var(--sans-serif)')\n",
       "    .style('font-variant-numeric', 'tabular-nums')\n",
       "    .style('display', 'flex')\n",
       "    .style('height', 33)\n",
       "    .style('align-items', 'center')\n",
       "    .attr('value', values[initial]);\n",
       "  const formB = form.append('button')\n",
       "    .attr('name', 'b')\n",
       "    .attr('type', 'button')\n",
       "    .style('margin-right', '0.4em')\n",
       "    .style('width', '5em')\n",
       "    .text('Play');\n",
       "\n",
       "  const label = form.append('label')\n",
       "    .style('display', 'flex')\n",
       "    .style('align-items', 'center');\n",
       "  const formI = label.append('input')\n",
       "    .attr('name', 'i')\n",
       "    .attr('type', 'range')\n",
       "    .attr('min', 0)\n",
       "    .attr('max', values.length - 1)\n",
       "    .attr('value', initial)\n",
       "    .attr('step', 1)\n",
       "    .style('width', 180);\n",
       "  const formO = label.append('output')\n",
       "    .attr('name', 'o')\n",
       "    .text(format(values[initial]));\n",
       "\n",
       "  let frame = null;\n",
       "  let timer = null;\n",
       "  let interval = null;\n",
       "  let direction = 1;\n",
       "\n",
       "  const stop = () => {\n",
       "    formB.text('Play');\n",
       "    if (frame !== null) cancelAnimationFrame(frame), frame = null;\n",
       "    if (timer !== null) clearTimeout(timer), timer = null;\n",
       "    if (interval !== null) clearInterval(interval), interval = null;\n",
       "  }\n",
       "\n",
       "  const running = () => {\n",
       "    return frame !== null || timer !== null || interval !== null;\n",
       "  }\n",
       "\n",
       "  const formIPostUpdate = (event) => {\n",
       "    const index = parseInt(formI.property('value'));\n",
       "    if (event && event.isTrusted && running()) stop();\n",
       "    formO.property('value', format(values[index], index, values));\n",
       "\n",
       "      chartUpdate(index);\n",
       "  }\n",
       "\n",
       "  const step = () => {\n",
       "    formI.property('value', (parseInt(formI.property('value')) + direction + values.length) % values.length);\n",
       "    formIPostUpdate();\n",
       "  }\n",
       "\n",
       "  const tick = () => {\n",
       "    if (parseInt(formI.property('value')) === (direction > 0 ? values.length - 1 : direction < 0 ? 0 : NaN)) {\n",
       "      if (!loop) return stop();\n",
       "      if (alternate) direction = -direction;\n",
       "      if (loopDelay !== null) {\n",
       "        if (frame !== null) cancelAnimationFrame(frame), frame = null;\n",
       "        if (interval !== null) clearInterval(interval), interval = null;\n",
       "        timer = setTimeout(() => (step(), start()), loopDelay);\n",
       "        return;\n",
       "      }\n",
       "    }\n",
       "    if (delay === null) frame = requestAnimationFrame(tick);\n",
       "    step();\n",
       "  }\n",
       "\n",
       "  const start = () => {\n",
       "    formB.text('Pause');\n",
       "    if (delay === null) frame = requestAnimationFrame(tick);\n",
       "    else interval = setInterval(tick, delay);\n",
       "  }\n",
       "\n",
       "  formI.on('input', (event) => {\n",
       "    formIPostUpdate(event);\n",
       "  });\n",
       "  formB.on('click', () => {\n",
       "    if (running()) return stop();\n",
       "    direction = alternate && parseInt(formI.property('value')) === values.length - 1 ? -1 : 1;\n",
       "    formI.property('value', (parseInt(formI.property('value')) + direction) % values.length);\n",
       "    formIPostUpdate();\n",
       "\n",
       "    start();\n",
       "  });\n",
       "\n",
       "  if (autoplay) start();\n",
       "  else stop();\n",
       "\n",
       "  return form;\n",
       "}\n",
       "\n",
       "\n",
       "// Initialize Network\n",
       "const network = Network(config);\n",
       "\n",
       "// Function to filter elements\n",
       "const contains = ({start,end}, time) => start <= time && time < end;\n",
       "\n",
       "// Function to update network over time\n",
       "const update = (index) => {\n",
       "    const time = index;//times[index];\n",
       "    const nodes = data.nodes.filter(d => contains(d, time));\n",
       "    const links = data.edges.filter(d => contains(d, time));\n",
       "    network.update({nodes,links});\n",
       "};\n",
       "\n",
       "// Range function\n",
       "const range = (start, stop, step) =>\n",
       "      Array.from({ length: (stop - start) / step + 1 }, (_, i) => start + i * step);\n",
       "\n",
       "// Considered time range\n",
       "times = range(d3.min(data.nodes, d => d.start),d3.max(data.nodes, d => d.end),1);\n",
       "\n",
       "// Initiate Network\n",
       "update(1);\n",
       "\n",
       "// Add counter and start updating network\n",
       "const scrubberForm = scrubber(times,{chartUpdate:update, delay: config.delta || 300});\n",
       "d3.select(config.selector).append(() => scrubberForm.node());\n",
       "\n",
       "}); //END\n",
       "\n",
       "</script>"
      ]
     },
     "metadata": {},
     "output_type": "display_data"
    },
    {
     "data": {
      "text/plain": [
       "<pathpyG.visualisations._d3js.backend.D3jsBackend at 0x7f25676f24d0>"
      ]
     },
     "execution_count": 1,
     "metadata": {},
     "output_type": "execute_result"
    }
   ],
   "source": [
    "import torch\n",
    "import pathpyG as pp\n",
    "\n",
    "# Temporal network with evolving properties\n",
    "tedges = [\n",
    "    (\"a\", \"b\", 1), (\"b\", \"c\", 1),\n",
    "    (\"c\", \"d\", 2), (\"d\", \"a\", 2), \n",
    "    (\"a\", \"c\", 3), (\"b\", \"d\", 3)\n",
    "]\n",
    "tg = pp.TemporalGraph.from_edge_list(tedges)\n",
    "tg.data[\"edge_color\"] = torch.arange(tg.m)  # Assign a unique color index to each edge\n",
    "\n",
    "pp.plot(\n",
    "    tg,\n",
    "    delta=750,  # 0.75 seconds per timestep\n",
    "    node_size={(\"a\", 1): 20, (\"b\", 2): 7},\n",
    "    node_color=[\"red\", \"blue\", \"green\", \"orange\"],\n",
    "    edge_opacity=0.7,\n",
    "    # filename=\"dynamic_network.html\"\n",
    ")"
   ]
  },
  {
   "cell_type": "markdown",
   "id": "d7223c25",
   "metadata": {},
   "source": [
    "### Time-Unfolded Layout\n"
   ]
  },
  {
   "cell_type": "code",
   "execution_count": 2,
   "id": "89628069",
   "metadata": {},
   "outputs": [
    {
     "data": {
      "text/plain": [
       "<pathpyG.visualisations._tikz.backend.TikzBackend at 0x7f351508ea10>"
      ]
     },
     "execution_count": 2,
     "metadata": {},
     "output_type": "execute_result"
    }
   ],
   "source": [
    "import pathpyG as pp\n",
    "\n",
    "# Example temporal network data\n",
    "tedges = [\n",
    "    (\"a\", \"b\", 1),\n",
    "    (\"a\", \"b\", 2),\n",
    "    (\"b\", \"a\", 3),\n",
    "    (\"b\", \"c\", 3),\n",
    "    (\"d\", \"c\", 4),\n",
    "    (\"a\", \"b\", 4),\n",
    "    (\"c\", \"b\", 4),\n",
    "    (\"c\", \"d\", 5),\n",
    "    (\"b\", \"a\", 5),\n",
    "    (\"c\", \"b\", 6),\n",
    "]\n",
    "t = pp.TemporalGraph.from_edge_list(tedges)\n",
    "\n",
    "# Create temporal plot and display inline\n",
    "node_color = {\"a\": \"red\", (\"a\", 2): \"darkred\"}\n",
    "edge_color = {(\"a\", \"b\", 2): \"blue\"}\n",
    "pp.plot(t, backend=\"tikz\", kind=\"unfolded\", node_size=12, node_color=node_color, edge_color=edge_color, filename=\"unfolded_graph.svg\")"
   ]
  },
  {
   "cell_type": "code",
   "execution_count": 1,
   "id": "53c35a96",
   "metadata": {},
   "outputs": [
    {
     "data": {
      "text/plain": [
       "<pathpyG.visualisations._tikz.backend.TikzBackend at 0x7f9052bfa770>"
      ]
     },
     "execution_count": 1,
     "metadata": {},
     "output_type": "execute_result"
    }
   ],
   "source": [
    "import pathpyG as pp\n",
    "\n",
    "# Example temporal network data\n",
    "tedges = [\n",
    "    (\"a\", \"b\", 1),\n",
    "    (\"a\", \"b\", 2),\n",
    "    (\"b\", \"a\", 3),\n",
    "    (\"a\", \"b\", 4),\n",
    "    (\"c\", \"b\", 4),\n",
    "    (\"c\", \"d\", 5),\n",
    "    (\"b\", \"a\", 5),\n",
    "    (\"c\", \"b\", 6),\n",
    "]\n",
    "t = pp.TemporalGraph.from_edge_list(tedges)\n",
    "\n",
    "# Create temporal plot and display inline\n",
    "node_color = {\"a\": \"red\", (\"a\", 2): \"darkred\"}\n",
    "edge_color = {(\"a\", \"b\", 2): \"blue\"}\n",
    "pp.plot(t, backend=\"tikz\", kind=\"unfolded\", node_size=12, node_color=node_color, edge_color=edge_color, orientation=\"right\", filename=\"unfolded_graph_tikz.svg\")"
   ]
  },
  {
   "cell_type": "code",
   "execution_count": 9,
   "id": "7df27ecd",
   "metadata": {},
   "outputs": [
    {
     "data": {
      "text/plain": [
       "<pathpyG.visualisations._matplotlib.backend.MatplotlibBackend at 0x7f35150e76d0>"
      ]
     },
     "execution_count": 9,
     "metadata": {},
     "output_type": "execute_result"
    },
    {
     "data": {
      "image/png": "[encoded data removed]",
      "text/plain": [
       "<Figure size 708.661x708.661 with 1 Axes>"
      ]
     },
     "metadata": {},
     "output_type": "display_data"
    }
   ],
   "source": [
    "import pathpyG as pp\n",
    "\n",
    "# Example temporal network data\n",
    "tedges = [\n",
    "    (\"a\", \"b\", 1),\n",
    "    (\"a\", \"b\", 2),\n",
    "    (\"b\", \"a\", 3),\n",
    "    (\"b\", \"c\", 3),\n",
    "    (\"d\", \"c\", 4),\n",
    "    (\"a\", \"b\", 4),\n",
    "    (\"c\", \"b\", 4),\n",
    "]\n",
    "t = pp.TemporalGraph.from_edge_list(tedges)\n",
    "\n",
    "# Create temporal plot and display inline\n",
    "node_opacity = {(node_id, time): 0.1 for node_id in t.nodes for time in range(t.data.time.max().item() + 2)}\n",
    "node_opacity.update({(source_id, time): 1.0 for source_id, target_id, time in t.temporal_edges})\n",
    "node_opacity.update({(target_id, time+1): 1.0 for source_id, target_id, time in t.temporal_edges})\n",
    "pp.plot(t, backend=\"matplotlib\", kind=\"unfolded\", node_size=12, node_opacity=node_opacity, filename=\"unfolded_graph_matplotlib.png\")"
   ]
  },
  {
   "cell_type": "code",
   "execution_count": 13,
   "id": "034d667a",
   "metadata": {},
   "outputs": [
    {
     "data": {
      "text/plain": [
       "<pathpyG.visualisations._d3js.backend.D3jsBackend at 0x7f33517d62f0>"
      ]
     },
     "execution_count": 13,
     "metadata": {},
     "output_type": "execute_result"
    }
   ],
   "source": [
    "import pathpyG as pp\n",
    "\n",
    "# Example temporal network data\n",
    "tedges = [\n",
    "    (\"a\", \"d\", 1),\n",
    "    (\"b\", \"c\", 2),\n",
    "    (\"b\", \"c\", 3),\n",
    "    (\"b\", \"a\", 3),\n",
    "    (\"d\", \"b\", 4),\n",
    "\n",
    "]\n",
    "t = pp.TemporalGraph.from_edge_list(tedges)\n",
    "\n",
    "# Create temporal plot and display inline\n",
    "pp.plot(t, kind=\"unfolded\", show_labels=False, filename=\"unfolded_graph_d3js.html\")"
   ]
  },
  {
   "cell_type": "code",
   "execution_count": null,
   "id": "b9f0f45b",
   "metadata": {},
   "outputs": [],
   "source": []
  }
 ],
 "metadata": {
  "kernelspec": {
   "display_name": "pathpyg",
   "language": "python",
   "name": "python3"
  },
  "language_info": {
   "codemirror_mode": {
    "name": "ipython",
    "version": 3
   },
   "file_extension": ".py",
   "mimetype": "text/x-python",
   "name": "python",
   "nbconvert_exporter": "python",
   "pygments_lexer": "ipython3",
   "version": "3.10.18"
  }
 },
 "nbformat": 4,
 "nbformat_minor": 5
}
