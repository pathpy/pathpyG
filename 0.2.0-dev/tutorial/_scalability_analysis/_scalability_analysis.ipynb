{
 "cells": [
  {
   "cell_type": "code",
   "execution_count": 1,
   "metadata": {},
   "outputs": [],
   "source": [
    "import pathpyG as pp\n",
    "import torch\n",
    "import copy\n",
    "import time\n",
    "import numpy as np\n",
    "from collections import defaultdict\n",
    "import json\n",
    "\n",
    "import pprint \n",
    "printer = pprint.PrettyPrinter(indent=4)\n",
    "pp.config['device'] = 'cpu'\n",
    "import seaborn as sns"
   ]
  },
  {
   "cell_type": "code",
   "execution_count": 2,
   "metadata": {},
   "outputs": [],
   "source": [
    "def test_mo_scalability(g, exp):\n",
    "    res = copy.deepcopy(exp)\n",
    "    pp.config['device'] = exp['device']\n",
    "    g.data.to(exp['device'])\n",
    "    res['temp_net_nodes'] = g.n\n",
    "    res['temp_net_edges'] = g.m\n",
    "    res['temp_net_events'] = g.data.edge_index.size(1)\n",
    "\n",
    "    start_time = time.time()\n",
    "    eg = pp.algorithms.lift_order_temporal(g, delta=exp['delta'])\n",
    "    eg.to(exp['device'])\n",
    "    res['lift_event_graph_time'] = time.time() - start_time\n",
    "    res['event_graph_edges'] = eg.size(1)\n",
    "\n",
    "    start_time = time.time()\n",
    "    m = pp.MultiOrderModel.from_temporal_graph(g, delta=exp['delta'], max_order=exp['max_order'])\n",
    "    res['mo_time'] = time.time() - start_time\n",
    "    res['max_order_nodes'] = m.layers[exp['max_order']].n\n",
    "    res['max_order_edges'] = m.layers[exp['max_order']].m\n",
    "    return res\n"
   ]
  },
  {
   "cell_type": "code",
   "execution_count": 3,
   "metadata": {},
   "outputs": [
    {
     "name": "stdout",
     "output_type": "stream",
     "text": [
      "Mapping node attributes based on node indices in column `index`\n",
      "Temporal Graph with 568 nodes, 1303 unique edges and 24333 events in [18.0, 2418982.0]\n",
      "\n",
      "Node attributes\n",
      "\tnode_female\t\t<class 'torch.Tensor'> -> torch.Size([568])\n",
      "\tnode_id\t\t<class 'torch.Tensor'> -> torch.Size([568])\n",
      "\tnode__pos\t\t<class 'numpy.ndarray'>\n",
      "\n",
      "Edge attributes\n",
      "\ttime\t\t<class 'torch.Tensor'> -> torch.Size([24333])\n",
      "\tedge_index\t\t<class 'torch_geometric.edge_index.EdgeIndex'>\n",
      "\n",
      "Graph attributes\n",
      "\tanalyses_edge_properties\t\t<class 'list'>\n",
      "\tanalyses_num_edges\t\t<class 'int'>\n",
      "\tanalyses_degree_assortativity\t\t<class 'float'>\n",
      "\tanalyses_mixing_time\t\t<class 'float'>\n",
      "\tanalyses_diameter\t\t<class 'int'>\n",
      "\tanalyses_largest_component_fraction\t\t<class 'float'>\n",
      "\tanalyses_is_directed\t\t<class 'bool'>\n",
      "\tanalyses_knn_proj_2\t\t<class 'float'>\n",
      "\tanalyses_num_vertices\t\t<class 'int'>\n",
      "\tanalyses_vertex_properties\t\t<class 'list'>\n",
      "\tanalyses_edge_reciprocity\t\t<class 'float'>\n",
      "\tanalyses_is_bipartite\t\t<class 'bool'>\n",
      "\tanalyses_knn_proj_1\t\t<class 'float'>\n",
      "\tanalyses_transition_gap\t\t<class 'float'>\n",
      "\tanalyses_average_degree\t\t<class 'float'>\n",
      "\tanalyses_hashimoto_radius\t\t<class 'float'>\n",
      "\tnum_nodes\t\t<class 'int'>\n",
      "\tanalyses_degree_std_dev\t\t<class 'float'>\n",
      "\tanalyses_global_clustering\t\t<class 'float'>\n",
      "\n"
     ]
    },
    {
     "name": "stderr",
     "output_type": "stream",
     "text": [
      "100%|██████████| 24039/24039 [00:11<00:00, 2167.73it/s]\n",
      "100%|██████████| 24039/24039 [00:11<00:00, 2088.86it/s]\n"
     ]
    },
    {
     "name": "stdout",
     "output_type": "stream",
     "text": [
      "{   'delta': 30.0,\n",
      "    'device': 'cuda',\n",
      "    'event_graph_edges': 4394,\n",
      "    'lift_event_graph_time': 11.122706413269043,\n",
      "    'max_order': 2,\n",
      "    'max_order_edges': 557,\n",
      "    'max_order_nodes': 1303,\n",
      "    'mo_time': 12.025795459747314,\n",
      "    'temp_net_edges': 24333,\n",
      "    'temp_net_events': 24333,\n",
      "    'temp_net_nodes': 568}\n"
     ]
    },
    {
     "name": "stderr",
     "output_type": "stream",
     "text": [
      "100%|██████████| 24039/24039 [00:11<00:00, 2038.99it/s]\n",
      "100%|██████████| 24039/24039 [00:11<00:00, 2069.14it/s]\n"
     ]
    },
    {
     "name": "stdout",
     "output_type": "stream",
     "text": [
      "{   'delta': 30.0,\n",
      "    'device': 'cuda',\n",
      "    'event_graph_edges': 4394,\n",
      "    'lift_event_graph_time': 11.795116186141968,\n",
      "    'max_order': 3,\n",
      "    'max_order_edges': 229,\n",
      "    'max_order_nodes': 557,\n",
      "    'mo_time': 11.878443956375122,\n",
      "    'temp_net_edges': 24333,\n",
      "    'temp_net_events': 24333,\n",
      "    'temp_net_nodes': 568}\n"
     ]
    },
    {
     "name": "stderr",
     "output_type": "stream",
     "text": [
      "100%|██████████| 24039/24039 [00:11<00:00, 2042.28it/s]\n",
      "100%|██████████| 24039/24039 [00:11<00:00, 2011.84it/s]\n"
     ]
    },
    {
     "name": "stdout",
     "output_type": "stream",
     "text": [
      "{   'delta': 30.0,\n",
      "    'device': 'cuda',\n",
      "    'event_graph_edges': 4394,\n",
      "    'lift_event_graph_time': 11.777009963989258,\n",
      "    'max_order': 4,\n",
      "    'max_order_edges': 110,\n",
      "    'max_order_nodes': 229,\n",
      "    'mo_time': 12.220279693603516,\n",
      "    'temp_net_edges': 24333,\n",
      "    'temp_net_events': 24333,\n",
      "    'temp_net_nodes': 568}\n"
     ]
    },
    {
     "name": "stderr",
     "output_type": "stream",
     "text": [
      "100%|██████████| 24039/24039 [00:11<00:00, 2074.25it/s]\n",
      "100%|██████████| 24039/24039 [00:11<00:00, 2061.54it/s]\n"
     ]
    },
    {
     "name": "stdout",
     "output_type": "stream",
     "text": [
      "{   'delta': 30.0,\n",
      "    'device': 'cuda',\n",
      "    'event_graph_edges': 4394,\n",
      "    'lift_event_graph_time': 11.595112562179565,\n",
      "    'max_order': 5,\n",
      "    'max_order_edges': 61,\n",
      "    'max_order_nodes': 110,\n",
      "    'mo_time': 12.093271017074585,\n",
      "    'temp_net_edges': 24333,\n",
      "    'temp_net_events': 24333,\n",
      "    'temp_net_nodes': 568}\n"
     ]
    },
    {
     "name": "stderr",
     "output_type": "stream",
     "text": [
      "100%|██████████| 24039/24039 [00:22<00:00, 1082.67it/s]\n",
      "100%|██████████| 24039/24039 [00:21<00:00, 1130.39it/s]\n"
     ]
    },
    {
     "name": "stdout",
     "output_type": "stream",
     "text": [
      "{   'delta': 922.5,\n",
      "    'device': 'cuda',\n",
      "    'event_graph_edges': 54935,\n",
      "    'lift_event_graph_time': 22.232107639312744,\n",
      "    'max_order': 2,\n",
      "    'max_order_edges': 1236,\n",
      "    'max_order_nodes': 1303,\n",
      "    'mo_time': 21.630196571350098,\n",
      "    'temp_net_edges': 24333,\n",
      "    'temp_net_events': 24333,\n",
      "    'temp_net_nodes': 568}\n"
     ]
    },
    {
     "name": "stderr",
     "output_type": "stream",
     "text": [
      "100%|██████████| 24039/24039 [00:21<00:00, 1095.26it/s]\n",
      "100%|██████████| 24039/24039 [00:21<00:00, 1120.23it/s]\n"
     ]
    },
    {
     "name": "stdout",
     "output_type": "stream",
     "text": [
      "{   'delta': 922.5,\n",
      "    'device': 'cuda',\n",
      "    'event_graph_edges': 54935,\n",
      "    'lift_event_graph_time': 21.974792957305908,\n",
      "    'max_order': 3,\n",
      "    'max_order_edges': 1122,\n",
      "    'max_order_nodes': 1236,\n",
      "    'mo_time': 22.22197437286377,\n",
      "    'temp_net_edges': 24333,\n",
      "    'temp_net_events': 24333,\n",
      "    'temp_net_nodes': 568}\n"
     ]
    },
    {
     "name": "stderr",
     "output_type": "stream",
     "text": [
      "100%|██████████| 24039/24039 [00:21<00:00, 1107.00it/s]\n",
      "100%|██████████| 24039/24039 [00:21<00:00, 1109.25it/s]\n"
     ]
    },
    {
     "name": "stdout",
     "output_type": "stream",
     "text": [
      "{   'delta': 922.5,\n",
      "    'device': 'cuda',\n",
      "    'event_graph_edges': 54935,\n",
      "    'lift_event_graph_time': 21.74143648147583,\n",
      "    'max_order': 4,\n",
      "    'max_order_edges': 1008,\n",
      "    'max_order_nodes': 1122,\n",
      "    'mo_time': 22.65464735031128,\n",
      "    'temp_net_edges': 24333,\n",
      "    'temp_net_events': 24333,\n",
      "    'temp_net_nodes': 568}\n"
     ]
    },
    {
     "name": "stderr",
     "output_type": "stream",
     "text": [
      "100%|██████████| 24039/24039 [00:22<00:00, 1091.36it/s]\n",
      "100%|██████████| 24039/24039 [00:21<00:00, 1142.30it/s]\n"
     ]
    },
    {
     "name": "stdout",
     "output_type": "stream",
     "text": [
      "{   'delta': 922.5,\n",
      "    'device': 'cuda',\n",
      "    'event_graph_edges': 54935,\n",
      "    'lift_event_graph_time': 22.076518774032593,\n",
      "    'max_order': 5,\n",
      "    'max_order_edges': 878,\n",
      "    'max_order_nodes': 1008,\n",
      "    'mo_time': 22.64402413368225,\n",
      "    'temp_net_edges': 24333,\n",
      "    'temp_net_events': 24333,\n",
      "    'temp_net_nodes': 568}\n"
     ]
    },
    {
     "name": "stderr",
     "output_type": "stream",
     "text": [
      "100%|██████████| 24039/24039 [00:22<00:00, 1059.94it/s]\n",
      "100%|██████████| 24039/24039 [00:26<00:00, 896.10it/s] \n"
     ]
    },
    {
     "name": "stdout",
     "output_type": "stream",
     "text": [
      "{   'delta': 1815.0,\n",
      "    'device': 'cuda',\n",
      "    'event_graph_edges': 77345,\n",
      "    'lift_event_graph_time': 22.712382793426514,\n",
      "    'max_order': 2,\n",
      "    'max_order_edges': 1344,\n",
      "    'max_order_nodes': 1303,\n",
      "    'mo_time': 27.22113013267517,\n",
      "    'temp_net_edges': 24333,\n",
      "    'temp_net_events': 24333,\n",
      "    'temp_net_nodes': 568}\n"
     ]
    },
    {
     "name": "stderr",
     "output_type": "stream",
     "text": [
      "100%|██████████| 24039/24039 [00:28<00:00, 844.85it/s]\n",
      "100%|██████████| 24039/24039 [00:27<00:00, 889.93it/s] \n"
     ]
    },
    {
     "name": "stdout",
     "output_type": "stream",
     "text": [
      "{   'delta': 1815.0,\n",
      "    'device': 'cuda',\n",
      "    'event_graph_edges': 77345,\n",
      "    'lift_event_graph_time': 28.49084734916687,\n",
      "    'max_order': 3,\n",
      "    'max_order_edges': 1306,\n",
      "    'max_order_nodes': 1344,\n",
      "    'mo_time': 27.783222198486328,\n",
      "    'temp_net_edges': 24333,\n",
      "    'temp_net_events': 24333,\n",
      "    'temp_net_nodes': 568}\n"
     ]
    },
    {
     "name": "stderr",
     "output_type": "stream",
     "text": [
      "100%|██████████| 24039/24039 [00:23<00:00, 1003.20it/s]\n",
      "100%|██████████| 24039/24039 [00:24<00:00, 966.13it/s] \n"
     ]
    },
    {
     "name": "stdout",
     "output_type": "stream",
     "text": [
      "{   'delta': 1815.0,\n",
      "    'device': 'cuda',\n",
      "    'event_graph_edges': 77345,\n",
      "    'lift_event_graph_time': 24.00903582572937,\n",
      "    'max_order': 4,\n",
      "    'max_order_edges': 1279,\n",
      "    'max_order_nodes': 1306,\n",
      "    'mo_time': 26.02214217185974,\n",
      "    'temp_net_edges': 24333,\n",
      "    'temp_net_events': 24333,\n",
      "    'temp_net_nodes': 568}\n"
     ]
    },
    {
     "name": "stderr",
     "output_type": "stream",
     "text": [
      "100%|██████████| 24039/24039 [00:23<00:00, 1032.85it/s]\n",
      "100%|██████████| 24039/24039 [00:21<00:00, 1111.71it/s]\n"
     ]
    },
    {
     "name": "stdout",
     "output_type": "stream",
     "text": [
      "{   'delta': 1815.0,\n",
      "    'device': 'cuda',\n",
      "    'event_graph_edges': 77345,\n",
      "    'lift_event_graph_time': 23.30103063583374,\n",
      "    'max_order': 5,\n",
      "    'max_order_edges': 1232,\n",
      "    'max_order_nodes': 1279,\n",
      "    'mo_time': 32.56914210319519,\n",
      "    'temp_net_edges': 24333,\n",
      "    'temp_net_events': 24333,\n",
      "    'temp_net_nodes': 568}\n"
     ]
    },
    {
     "name": "stderr",
     "output_type": "stream",
     "text": [
      "100%|██████████| 24039/24039 [00:21<00:00, 1102.31it/s]\n",
      "100%|██████████| 24039/24039 [00:18<00:00, 1283.34it/s]\n"
     ]
    },
    {
     "name": "stdout",
     "output_type": "stream",
     "text": [
      "{   'delta': 2707.5,\n",
      "    'device': 'cuda',\n",
      "    'event_graph_edges': 92566,\n",
      "    'lift_event_graph_time': 21.834106922149658,\n",
      "    'max_order': 2,\n",
      "    'max_order_edges': 1408,\n",
      "    'max_order_nodes': 1303,\n",
      "    'mo_time': 19.122129917144775,\n",
      "    'temp_net_edges': 24333,\n",
      "    'temp_net_events': 24333,\n",
      "    'temp_net_nodes': 568}\n"
     ]
    },
    {
     "name": "stderr",
     "output_type": "stream",
     "text": [
      "100%|██████████| 24039/24039 [00:17<00:00, 1371.76it/s]\n",
      "100%|██████████| 24039/24039 [00:23<00:00, 1042.82it/s]\n"
     ]
    },
    {
     "name": "stdout",
     "output_type": "stream",
     "text": [
      "{   'delta': 2707.5,\n",
      "    'device': 'cuda',\n",
      "    'event_graph_edges': 92566,\n",
      "    'lift_event_graph_time': 17.55621361732483,\n",
      "    'max_order': 3,\n",
      "    'max_order_edges': 1420,\n",
      "    'max_order_nodes': 1408,\n",
      "    'mo_time': 23.811742305755615,\n",
      "    'temp_net_edges': 24333,\n",
      "    'temp_net_events': 24333,\n",
      "    'temp_net_nodes': 568}\n"
     ]
    },
    {
     "name": "stderr",
     "output_type": "stream",
     "text": [
      "100%|██████████| 24039/24039 [00:22<00:00, 1078.05it/s]\n",
      "100%|██████████| 24039/24039 [00:22<00:00, 1062.19it/s]\n"
     ]
    },
    {
     "name": "stdout",
     "output_type": "stream",
     "text": [
      "{   'delta': 2707.5,\n",
      "    'device': 'cuda',\n",
      "    'event_graph_edges': 92566,\n",
      "    'lift_event_graph_time': 22.32985234260559,\n",
      "    'max_order': 4,\n",
      "    'max_order_edges': 1448,\n",
      "    'max_order_nodes': 1420,\n",
      "    'mo_time': 23.88112759590149,\n",
      "    'temp_net_edges': 24333,\n",
      "    'temp_net_events': 24333,\n",
      "    'temp_net_nodes': 568}\n"
     ]
    },
    {
     "name": "stderr",
     "output_type": "stream",
     "text": [
      "100%|██████████| 24039/24039 [00:25<00:00, 950.98it/s] \n",
      "100%|██████████| 24039/24039 [00:24<00:00, 976.45it/s] \n"
     ]
    },
    {
     "name": "stdout",
     "output_type": "stream",
     "text": [
      "{   'delta': 2707.5,\n",
      "    'device': 'cuda',\n",
      "    'event_graph_edges': 92566,\n",
      "    'lift_event_graph_time': 25.302610397338867,\n",
      "    'max_order': 5,\n",
      "    'max_order_edges': 1452,\n",
      "    'max_order_nodes': 1448,\n",
      "    'mo_time': 58.79792809486389,\n",
      "    'temp_net_edges': 24333,\n",
      "    'temp_net_events': 24333,\n",
      "    'temp_net_nodes': 568}\n"
     ]
    },
    {
     "name": "stderr",
     "output_type": "stream",
     "text": [
      "100%|██████████| 24039/24039 [00:21<00:00, 1140.34it/s]\n",
      "100%|██████████| 24039/24039 [00:16<00:00, 1482.82it/s]\n"
     ]
    },
    {
     "name": "stdout",
     "output_type": "stream",
     "text": [
      "{   'delta': 3600.0,\n",
      "    'device': 'cuda',\n",
      "    'event_graph_edges': 105280,\n",
      "    'lift_event_graph_time': 21.1067316532135,\n",
      "    'max_order': 2,\n",
      "    'max_order_edges': 1453,\n",
      "    'max_order_nodes': 1303,\n",
      "    'mo_time': 16.5167076587677,\n",
      "    'temp_net_edges': 24333,\n",
      "    'temp_net_events': 24333,\n",
      "    'temp_net_nodes': 568}\n"
     ]
    },
    {
     "name": "stderr",
     "output_type": "stream",
     "text": [
      "100%|██████████| 24039/24039 [00:15<00:00, 1506.81it/s]\n",
      "100%|██████████| 24039/24039 [00:18<00:00, 1323.43it/s]\n"
     ]
    },
    {
     "name": "stdout",
     "output_type": "stream",
     "text": [
      "{   'delta': 3600.0,\n",
      "    'device': 'cuda',\n",
      "    'event_graph_edges': 105280,\n",
      "    'lift_event_graph_time': 15.98039698600769,\n",
      "    'max_order': 3,\n",
      "    'max_order_edges': 1506,\n",
      "    'max_order_nodes': 1453,\n",
      "    'mo_time': 18.9002103805542,\n",
      "    'temp_net_edges': 24333,\n",
      "    'temp_net_events': 24333,\n",
      "    'temp_net_nodes': 568}\n"
     ]
    },
    {
     "name": "stderr",
     "output_type": "stream",
     "text": [
      "100%|██████████| 24039/24039 [00:16<00:00, 1448.36it/s]\n",
      "100%|██████████| 24039/24039 [00:16<00:00, 1452.72it/s]\n"
     ]
    },
    {
     "name": "stdout",
     "output_type": "stream",
     "text": [
      "{   'delta': 3600.0,\n",
      "    'device': 'cuda',\n",
      "    'event_graph_edges': 105280,\n",
      "    'lift_event_graph_time': 16.622321605682373,\n",
      "    'max_order': 4,\n",
      "    'max_order_edges': 1594,\n",
      "    'max_order_nodes': 1506,\n",
      "    'mo_time': 17.679415464401245,\n",
      "    'temp_net_edges': 24333,\n",
      "    'temp_net_events': 24333,\n",
      "    'temp_net_nodes': 568}\n"
     ]
    },
    {
     "name": "stderr",
     "output_type": "stream",
     "text": [
      "100%|██████████| 24039/24039 [00:16<00:00, 1473.71it/s]\n",
      "100%|██████████| 24039/24039 [00:15<00:00, 1547.80it/s]\n"
     ]
    },
    {
     "name": "stdout",
     "output_type": "stream",
     "text": [
      "{   'delta': 3600.0,\n",
      "    'device': 'cuda',\n",
      "    'event_graph_edges': 105280,\n",
      "    'lift_event_graph_time': 16.335521936416626,\n",
      "    'max_order': 5,\n",
      "    'max_order_edges': 1674,\n",
      "    'max_order_nodes': 1594,\n",
      "    'mo_time': 126.71205115318298,\n",
      "    'temp_net_edges': 24333,\n",
      "    'temp_net_events': 24333,\n",
      "    'temp_net_nodes': 568}\n"
     ]
    },
    {
     "name": "stderr",
     "output_type": "stream",
     "text": [
      "100%|██████████| 24039/24039 [00:08<00:00, 2870.65it/s]\n",
      "100%|██████████| 24039/24039 [00:08<00:00, 2878.70it/s]\n"
     ]
    },
    {
     "name": "stdout",
     "output_type": "stream",
     "text": [
      "{   'delta': 30.0,\n",
      "    'device': 'cpu',\n",
      "    'event_graph_edges': 4394,\n",
      "    'lift_event_graph_time': 8.384625434875488,\n",
      "    'max_order': 2,\n",
      "    'max_order_edges': 557,\n",
      "    'max_order_nodes': 1303,\n",
      "    'mo_time': 8.44395112991333,\n",
      "    'temp_net_edges': 24333,\n",
      "    'temp_net_events': 24333,\n",
      "    'temp_net_nodes': 568}\n"
     ]
    },
    {
     "name": "stderr",
     "output_type": "stream",
     "text": [
      "100%|██████████| 24039/24039 [00:08<00:00, 2934.42it/s]\n",
      "100%|██████████| 24039/24039 [00:08<00:00, 2889.33it/s]\n"
     ]
    },
    {
     "name": "stdout",
     "output_type": "stream",
     "text": [
      "{   'delta': 30.0,\n",
      "    'device': 'cpu',\n",
      "    'event_graph_edges': 4394,\n",
      "    'lift_event_graph_time': 8.201921463012695,\n",
      "    'max_order': 3,\n",
      "    'max_order_edges': 229,\n",
      "    'max_order_nodes': 557,\n",
      "    'mo_time': 8.436858654022217,\n",
      "    'temp_net_edges': 24333,\n",
      "    'temp_net_events': 24333,\n",
      "    'temp_net_nodes': 568}\n"
     ]
    },
    {
     "name": "stderr",
     "output_type": "stream",
     "text": [
      "100%|██████████| 24039/24039 [00:08<00:00, 2906.52it/s]\n",
      "100%|██████████| 24039/24039 [00:08<00:00, 2908.75it/s]\n"
     ]
    },
    {
     "name": "stdout",
     "output_type": "stream",
     "text": [
      "{   'delta': 30.0,\n",
      "    'device': 'cpu',\n",
      "    'event_graph_edges': 4394,\n",
      "    'lift_event_graph_time': 8.282766819000244,\n",
      "    'max_order': 4,\n",
      "    'max_order_edges': 110,\n",
      "    'max_order_nodes': 229,\n",
      "    'mo_time': 8.383979320526123,\n",
      "    'temp_net_edges': 24333,\n",
      "    'temp_net_events': 24333,\n",
      "    'temp_net_nodes': 568}\n"
     ]
    },
    {
     "name": "stderr",
     "output_type": "stream",
     "text": [
      "100%|██████████| 24039/24039 [00:08<00:00, 2896.13it/s]\n",
      "100%|██████████| 24039/24039 [00:08<00:00, 2940.09it/s]\n"
     ]
    },
    {
     "name": "stdout",
     "output_type": "stream",
     "text": [
      "{   'delta': 30.0,\n",
      "    'device': 'cpu',\n",
      "    'event_graph_edges': 4394,\n",
      "    'lift_event_graph_time': 8.31244707107544,\n",
      "    'max_order': 5,\n",
      "    'max_order_edges': 61,\n",
      "    'max_order_nodes': 110,\n",
      "    'mo_time': 8.297135353088379,\n",
      "    'temp_net_edges': 24333,\n",
      "    'temp_net_events': 24333,\n",
      "    'temp_net_nodes': 568}\n"
     ]
    },
    {
     "name": "stderr",
     "output_type": "stream",
     "text": [
      "100%|██████████| 24039/24039 [00:09<00:00, 2424.21it/s]\n",
      "100%|██████████| 24039/24039 [00:10<00:00, 2379.18it/s]\n"
     ]
    },
    {
     "name": "stdout",
     "output_type": "stream",
     "text": [
      "{   'delta': 922.5,\n",
      "    'device': 'cpu',\n",
      "    'event_graph_edges': 54935,\n",
      "    'lift_event_graph_time': 9.95227837562561,\n",
      "    'max_order': 2,\n",
      "    'max_order_edges': 1236,\n",
      "    'max_order_nodes': 1303,\n",
      "    'mo_time': 10.21712613105774,\n",
      "    'temp_net_edges': 24333,\n",
      "    'temp_net_events': 24333,\n",
      "    'temp_net_nodes': 568}\n"
     ]
    },
    {
     "name": "stderr",
     "output_type": "stream",
     "text": [
      "100%|██████████| 24039/24039 [00:10<00:00, 2373.41it/s]\n",
      "100%|██████████| 24039/24039 [00:10<00:00, 2403.32it/s]\n"
     ]
    },
    {
     "name": "stdout",
     "output_type": "stream",
     "text": [
      "{   'delta': 922.5,\n",
      "    'device': 'cpu',\n",
      "    'event_graph_edges': 54935,\n",
      "    'lift_event_graph_time': 10.163817644119263,\n",
      "    'max_order': 3,\n",
      "    'max_order_edges': 1122,\n",
      "    'max_order_nodes': 1236,\n",
      "    'mo_time': 10.227073669433594,\n",
      "    'temp_net_edges': 24333,\n",
      "    'temp_net_events': 24333,\n",
      "    'temp_net_nodes': 568}\n"
     ]
    },
    {
     "name": "stderr",
     "output_type": "stream",
     "text": [
      "100%|██████████| 24039/24039 [00:09<00:00, 2415.48it/s]\n",
      "100%|██████████| 24039/24039 [00:10<00:00, 2388.56it/s]\n"
     ]
    },
    {
     "name": "stdout",
     "output_type": "stream",
     "text": [
      "{   'delta': 922.5,\n",
      "    'device': 'cpu',\n",
      "    'event_graph_edges': 54935,\n",
      "    'lift_event_graph_time': 9.988727569580078,\n",
      "    'max_order': 4,\n",
      "    'max_order_edges': 1008,\n",
      "    'max_order_nodes': 1122,\n",
      "    'mo_time': 10.93671178817749,\n",
      "    'temp_net_edges': 24333,\n",
      "    'temp_net_events': 24333,\n",
      "    'temp_net_nodes': 568}\n"
     ]
    },
    {
     "name": "stderr",
     "output_type": "stream",
     "text": [
      "100%|██████████| 24039/24039 [00:09<00:00, 2404.24it/s]\n",
      "100%|██████████| 24039/24039 [00:10<00:00, 2394.89it/s]\n"
     ]
    },
    {
     "name": "stdout",
     "output_type": "stream",
     "text": [
      "{   'delta': 922.5,\n",
      "    'device': 'cpu',\n",
      "    'event_graph_edges': 54935,\n",
      "    'lift_event_graph_time': 10.032788515090942,\n",
      "    'max_order': 5,\n",
      "    'max_order_edges': 878,\n",
      "    'max_order_nodes': 1008,\n",
      "    'mo_time': 16.719266414642334,\n",
      "    'temp_net_edges': 24333,\n",
      "    'temp_net_events': 24333,\n",
      "    'temp_net_nodes': 568}\n"
     ]
    },
    {
     "name": "stderr",
     "output_type": "stream",
     "text": [
      "100%|██████████| 24039/24039 [00:10<00:00, 2240.81it/s]\n",
      "100%|██████████| 24039/24039 [00:10<00:00, 2338.14it/s]\n"
     ]
    },
    {
     "name": "stdout",
     "output_type": "stream",
     "text": [
      "{   'delta': 1815.0,\n",
      "    'device': 'cpu',\n",
      "    'event_graph_edges': 77345,\n",
      "    'lift_event_graph_time': 10.765197515487671,\n",
      "    'max_order': 2,\n",
      "    'max_order_edges': 1344,\n",
      "    'max_order_nodes': 1303,\n",
      "    'mo_time': 10.433187007904053,\n",
      "    'temp_net_edges': 24333,\n",
      "    'temp_net_events': 24333,\n",
      "    'temp_net_nodes': 568}\n"
     ]
    },
    {
     "name": "stderr",
     "output_type": "stream",
     "text": [
      "100%|██████████| 24039/24039 [00:10<00:00, 2329.00it/s]\n",
      "100%|██████████| 24039/24039 [00:10<00:00, 2352.14it/s]\n"
     ]
    },
    {
     "name": "stdout",
     "output_type": "stream",
     "text": [
      "{   'delta': 1815.0,\n",
      "    'device': 'cpu',\n",
      "    'event_graph_edges': 77345,\n",
      "    'lift_event_graph_time': 10.362721920013428,\n",
      "    'max_order': 3,\n",
      "    'max_order_edges': 1306,\n",
      "    'max_order_nodes': 1344,\n",
      "    'mo_time': 10.513421058654785,\n",
      "    'temp_net_edges': 24333,\n",
      "    'temp_net_events': 24333,\n",
      "    'temp_net_nodes': 568}\n"
     ]
    },
    {
     "name": "stderr",
     "output_type": "stream",
     "text": [
      "100%|██████████| 24039/24039 [00:10<00:00, 2353.53it/s]\n",
      "100%|██████████| 24039/24039 [00:10<00:00, 2286.25it/s]\n"
     ]
    },
    {
     "name": "stdout",
     "output_type": "stream",
     "text": [
      "{   'delta': 1815.0,\n",
      "    'device': 'cpu',\n",
      "    'event_graph_edges': 77345,\n",
      "    'lift_event_graph_time': 10.253392696380615,\n",
      "    'max_order': 4,\n",
      "    'max_order_edges': 1279,\n",
      "    'max_order_nodes': 1306,\n",
      "    'mo_time': 12.241335153579712,\n",
      "    'temp_net_edges': 24333,\n",
      "    'temp_net_events': 24333,\n",
      "    'temp_net_nodes': 568}\n"
     ]
    },
    {
     "name": "stderr",
     "output_type": "stream",
     "text": [
      "100%|██████████| 24039/24039 [00:10<00:00, 2351.43it/s]\n",
      "100%|██████████| 24039/24039 [00:10<00:00, 2389.42it/s]\n"
     ]
    },
    {
     "name": "stdout",
     "output_type": "stream",
     "text": [
      "{   'delta': 1815.0,\n",
      "    'device': 'cpu',\n",
      "    'event_graph_edges': 77345,\n",
      "    'lift_event_graph_time': 10.25893259048462,\n",
      "    'max_order': 5,\n",
      "    'max_order_edges': 1232,\n",
      "    'max_order_nodes': 1279,\n",
      "    'mo_time': 24.42807126045227,\n",
      "    'temp_net_edges': 24333,\n",
      "    'temp_net_events': 24333,\n",
      "    'temp_net_nodes': 568}\n"
     ]
    },
    {
     "name": "stderr",
     "output_type": "stream",
     "text": [
      "100%|██████████| 24039/24039 [00:11<00:00, 2166.44it/s]\n",
      "100%|██████████| 24039/24039 [00:10<00:00, 2259.16it/s]\n"
     ]
    },
    {
     "name": "stdout",
     "output_type": "stream",
     "text": [
      "{   'delta': 2707.5,\n",
      "    'device': 'cpu',\n",
      "    'event_graph_edges': 92566,\n",
      "    'lift_event_graph_time': 11.133711338043213,\n",
      "    'max_order': 2,\n",
      "    'max_order_edges': 1408,\n",
      "    'max_order_nodes': 1303,\n",
      "    'mo_time': 10.760009765625,\n",
      "    'temp_net_edges': 24333,\n",
      "    'temp_net_events': 24333,\n",
      "    'temp_net_nodes': 568}\n"
     ]
    },
    {
     "name": "stderr",
     "output_type": "stream",
     "text": [
      "100%|██████████| 24039/24039 [00:10<00:00, 2304.09it/s]\n",
      "100%|██████████| 24039/24039 [00:10<00:00, 2265.84it/s]\n"
     ]
    },
    {
     "name": "stdout",
     "output_type": "stream",
     "text": [
      "{   'delta': 2707.5,\n",
      "    'device': 'cpu',\n",
      "    'event_graph_edges': 92566,\n",
      "    'lift_event_graph_time': 10.470611095428467,\n",
      "    'max_order': 3,\n",
      "    'max_order_edges': 1420,\n",
      "    'max_order_nodes': 1408,\n",
      "    'mo_time': 10.977295637130737,\n",
      "    'temp_net_edges': 24333,\n",
      "    'temp_net_events': 24333,\n",
      "    'temp_net_nodes': 568}\n"
     ]
    },
    {
     "name": "stderr",
     "output_type": "stream",
     "text": [
      "100%|██████████| 24039/24039 [00:10<00:00, 2313.20it/s]\n",
      "100%|██████████| 24039/24039 [00:10<00:00, 2345.28it/s]\n"
     ]
    },
    {
     "name": "stdout",
     "output_type": "stream",
     "text": [
      "{   'delta': 2707.5,\n",
      "    'device': 'cpu',\n",
      "    'event_graph_edges': 92566,\n",
      "    'lift_event_graph_time': 10.43064832687378,\n",
      "    'max_order': 4,\n",
      "    'max_order_edges': 1448,\n",
      "    'max_order_nodes': 1420,\n",
      "    'mo_time': 12.300642490386963,\n",
      "    'temp_net_edges': 24333,\n",
      "    'temp_net_events': 24333,\n",
      "    'temp_net_nodes': 568}\n"
     ]
    },
    {
     "name": "stderr",
     "output_type": "stream",
     "text": [
      "100%|██████████| 24039/24039 [00:10<00:00, 2258.72it/s]\n",
      "100%|██████████| 24039/24039 [00:10<00:00, 2333.72it/s]\n"
     ]
    },
    {
     "name": "stdout",
     "output_type": "stream",
     "text": [
      "{   'delta': 2707.5,\n",
      "    'device': 'cpu',\n",
      "    'event_graph_edges': 92566,\n",
      "    'lift_event_graph_time': 10.682463884353638,\n",
      "    'max_order': 5,\n",
      "    'max_order_edges': 1452,\n",
      "    'max_order_nodes': 1448,\n",
      "    'mo_time': 36.225979804992676,\n",
      "    'temp_net_edges': 24333,\n",
      "    'temp_net_events': 24333,\n",
      "    'temp_net_nodes': 568}\n"
     ]
    },
    {
     "name": "stderr",
     "output_type": "stream",
     "text": [
      "100%|██████████| 24039/24039 [00:12<00:00, 1882.08it/s]\n",
      "100%|██████████| 24039/24039 [00:11<00:00, 2125.78it/s]\n"
     ]
    },
    {
     "name": "stdout",
     "output_type": "stream",
     "text": [
      "{   'delta': 3600.0,\n",
      "    'device': 'cpu',\n",
      "    'event_graph_edges': 105280,\n",
      "    'lift_event_graph_time': 12.819502115249634,\n",
      "    'max_order': 2,\n",
      "    'max_order_edges': 1453,\n",
      "    'max_order_nodes': 1303,\n",
      "    'mo_time': 11.431120872497559,\n",
      "    'temp_net_edges': 24333,\n",
      "    'temp_net_events': 24333,\n",
      "    'temp_net_nodes': 568}\n"
     ]
    },
    {
     "name": "stderr",
     "output_type": "stream",
     "text": [
      "100%|██████████| 24039/24039 [00:10<00:00, 2244.69it/s]\n",
      "100%|██████████| 24039/24039 [00:10<00:00, 2262.04it/s]\n"
     ]
    },
    {
     "name": "stdout",
     "output_type": "stream",
     "text": [
      "{   'delta': 3600.0,\n",
      "    'device': 'cpu',\n",
      "    'event_graph_edges': 105280,\n",
      "    'lift_event_graph_time': 10.74588942527771,\n",
      "    'max_order': 3,\n",
      "    'max_order_edges': 1506,\n",
      "    'max_order_nodes': 1453,\n",
      "    'mo_time': 10.993196725845337,\n",
      "    'temp_net_edges': 24333,\n",
      "    'temp_net_events': 24333,\n",
      "    'temp_net_nodes': 568}\n"
     ]
    },
    {
     "name": "stderr",
     "output_type": "stream",
     "text": [
      "100%|██████████| 24039/24039 [00:10<00:00, 2252.99it/s]\n",
      "100%|██████████| 24039/24039 [00:10<00:00, 2266.47it/s]\n"
     ]
    },
    {
     "name": "stdout",
     "output_type": "stream",
     "text": [
      "{   'delta': 3600.0,\n",
      "    'device': 'cpu',\n",
      "    'event_graph_edges': 105280,\n",
      "    'lift_event_graph_time': 10.709041357040405,\n",
      "    'max_order': 4,\n",
      "    'max_order_edges': 1594,\n",
      "    'max_order_nodes': 1506,\n",
      "    'mo_time': 13.24429202079773,\n",
      "    'temp_net_edges': 24333,\n",
      "    'temp_net_events': 24333,\n",
      "    'temp_net_nodes': 568}\n"
     ]
    },
    {
     "name": "stderr",
     "output_type": "stream",
     "text": [
      "100%|██████████| 24039/24039 [00:10<00:00, 2223.72it/s]\n",
      "100%|██████████| 24039/24039 [00:10<00:00, 2248.93it/s]\n"
     ]
    },
    {
     "name": "stdout",
     "output_type": "stream",
     "text": [
      "{   'delta': 3600.0,\n",
      "    'device': 'cpu',\n",
      "    'event_graph_edges': 105280,\n",
      "    'lift_event_graph_time': 10.85075306892395,\n",
      "    'max_order': 5,\n",
      "    'max_order_edges': 1674,\n",
      "    'max_order_nodes': 1594,\n",
      "    'mo_time': 63.68161463737488,\n",
      "    'temp_net_edges': 24333,\n",
      "    'temp_net_events': 24333,\n",
      "    'temp_net_nodes': 568}\n"
     ]
    }
   ],
   "source": [
    "results = defaultdict(lambda: defaultdict())\n",
    "exp = {}\n",
    "\n",
    "g = pp.io.read_netzschleuder_graph('copenhagen', 'sms', time_attr='timestamp')\n",
    "print(g)\n",
    "for d in ['cuda', 'cpu']:\n",
    "    exp['device'] = d\n",
    "    for delta in np.linspace(30, 3600, 5):\n",
    "        exp['delta'] = delta\n",
    "        for k in range(2, 6):\n",
    "            exp['max_order'] = k\n",
    "            try:\n",
    "                res = test_mo_scalability(g, exp)\n",
    "                printer.pprint(res)\n",
    "                results[delta][k] = res\n",
    "            except Exception as e:\n",
    "                print(e)\n",
    "\n",
    "with open('results_copenhagen.json', 'w') as f:\n",
    "    json.dump(results, f)"
   ]
  },
  {
   "cell_type": "code",
   "execution_count": 4,
   "metadata": {},
   "outputs": [
    {
     "name": "stdout",
     "output_type": "stream",
     "text": [
      "Mapping node attributes based on node indices in column `index`\n",
      "Temporal Graph with 96 nodes, 5078 unique edges and 2172808 events in [1095183104.0, 1115253760.0]\n",
      "\n",
      "Node attributes\n",
      "\tnode__pos\t\t<class 'numpy.ndarray'>\n",
      "\n",
      "Edge attributes\n",
      "\ttime\t\t<class 'torch.Tensor'> -> torch.Size([2172808])\n",
      "\tedge_index\t\t<class 'torch_geometric.edge_index.EdgeIndex'>\n",
      "\n",
      "Graph attributes\n",
      "\tanalyses_edge_properties\t\t<class 'list'>\n",
      "\tanalyses_num_edges\t\t<class 'int'>\n",
      "\tanalyses_degree_assortativity\t\t<class 'float'>\n",
      "\tanalyses_mixing_time\t\t<class 'float'>\n",
      "\tanalyses_diameter\t\t<class 'int'>\n",
      "\tanalyses_largest_component_fraction\t\t<class 'float'>\n",
      "\tanalyses_is_directed\t\t<class 'bool'>\n",
      "\tanalyses_knn_proj_2\t\t<class 'float'>\n",
      "\tanalyses_num_vertices\t\t<class 'int'>\n",
      "\tanalyses_vertex_properties\t\t<class 'list'>\n",
      "\tanalyses_edge_reciprocity\t\t<class 'float'>\n",
      "\tanalyses_is_bipartite\t\t<class 'bool'>\n",
      "\tanalyses_knn_proj_1\t\t<class 'float'>\n",
      "\tanalyses_transition_gap\t\t<class 'float'>\n",
      "\tanalyses_average_degree\t\t<class 'float'>\n",
      "\tanalyses_hashimoto_radius\t\t<class 'float'>\n",
      "\tanalyses_degree_std_dev\t\t<class 'float'>\n",
      "\tanalyses_global_clustering\t\t<class 'float'>\n",
      "\n"
     ]
    },
    {
     "name": "stderr",
     "output_type": "stream",
     "text": [
      "100%|██████████| 33452/33452 [02:05<00:00, 267.26it/s]\n"
     ]
    },
    {
     "name": "stdout",
     "output_type": "stream",
     "text": [
      "torch.cat(): expected a non-empty list of Tensors\n"
     ]
    },
    {
     "name": "stderr",
     "output_type": "stream",
     "text": [
      "100%|██████████| 33452/33452 [02:04<00:00, 268.49it/s]\n"
     ]
    },
    {
     "name": "stdout",
     "output_type": "stream",
     "text": [
      "torch.cat(): expected a non-empty list of Tensors\n"
     ]
    },
    {
     "name": "stderr",
     "output_type": "stream",
     "text": [
      "100%|██████████| 33452/33452 [02:04<00:00, 268.28it/s]\n"
     ]
    },
    {
     "name": "stdout",
     "output_type": "stream",
     "text": [
      "torch.cat(): expected a non-empty list of Tensors\n"
     ]
    },
    {
     "name": "stderr",
     "output_type": "stream",
     "text": [
      "100%|██████████| 33452/33452 [02:03<00:00, 270.22it/s]\n"
     ]
    },
    {
     "name": "stdout",
     "output_type": "stream",
     "text": [
      "torch.cat(): expected a non-empty list of Tensors\n"
     ]
    },
    {
     "name": "stderr",
     "output_type": "stream",
     "text": [
      "100%|██████████| 33452/33452 [03:37<00:00, 153.98it/s]\n",
      "100%|██████████| 33452/33452 [03:35<00:00, 155.29it/s]\n"
     ]
    },
    {
     "name": "stdout",
     "output_type": "stream",
     "text": [
      "{   'delta': 1125.0,\n",
      "    'device': 'cuda',\n",
      "    'event_graph_edges': 55088257,\n",
      "    'lift_event_graph_time': 217.30356216430664,\n",
      "    'max_order': 2,\n",
      "    'max_order_edges': 68938,\n",
      "    'max_order_nodes': 5078,\n",
      "    'mo_time': 243.20855259895325,\n",
      "    'temp_net_edges': 2172808,\n",
      "    'temp_net_events': 2172808,\n",
      "    'temp_net_nodes': 96}\n"
     ]
    },
    {
     "name": "stderr",
     "output_type": "stream",
     "text": [
      "100%|██████████| 33452/33452 [03:36<00:00, 154.75it/s]\n",
      "100%|██████████| 33452/33452 [03:34<00:00, 155.62it/s]\n"
     ]
    },
    {
     "name": "stdout",
     "output_type": "stream",
     "text": [
      "CUDA out of memory. Tried to allocate 13.03 GiB. GPU 0 has a total capacty of 4.00 GiB of which 0 bytes is free. Including non-PyTorch memory, this process has 17179869184.00 GiB memory in use. Of the allocated memory 16.23 GiB is allocated by PyTorch, and 576.01 MiB is reserved by PyTorch but unallocated. If reserved but unallocated memory is large try setting max_split_size_mb to avoid fragmentation.  See documentation for Memory Management and PYTORCH_CUDA_ALLOC_CONF\n"
     ]
    },
    {
     "name": "stderr",
     "output_type": "stream",
     "text": [
      "100%|██████████| 33452/33452 [04:02<00:00, 138.14it/s]\n",
      "100%|██████████| 33452/33452 [04:04<00:00, 137.04it/s]\n"
     ]
    },
    {
     "name": "stdout",
     "output_type": "stream",
     "text": [
      "CUDA out of memory. Tried to allocate 13.03 GiB. GPU 0 has a total capacty of 4.00 GiB of which 0 bytes is free. Including non-PyTorch memory, this process has 17179869184.00 GiB memory in use. Of the allocated memory 16.23 GiB is allocated by PyTorch, and 576.01 MiB is reserved by PyTorch but unallocated. If reserved but unallocated memory is large try setting max_split_size_mb to avoid fragmentation.  See documentation for Memory Management and PYTORCH_CUDA_ALLOC_CONF\n"
     ]
    },
    {
     "name": "stderr",
     "output_type": "stream",
     "text": [
      "100%|██████████| 33452/33452 [04:01<00:00, 138.29it/s]\n",
      "100%|██████████| 33452/33452 [04:04<00:00, 136.87it/s]\n"
     ]
    },
    {
     "name": "stdout",
     "output_type": "stream",
     "text": [
      "CUDA out of memory. Tried to allocate 13.03 GiB. GPU 0 has a total capacty of 4.00 GiB of which 0 bytes is free. Including non-PyTorch memory, this process has 17179869184.00 GiB memory in use. Of the allocated memory 16.23 GiB is allocated by PyTorch, and 576.01 MiB is reserved by PyTorch but unallocated. If reserved but unallocated memory is large try setting max_split_size_mb to avoid fragmentation.  See documentation for Memory Management and PYTORCH_CUDA_ALLOC_CONF\n"
     ]
    },
    {
     "name": "stderr",
     "output_type": "stream",
     "text": [
      "100%|██████████| 33452/33452 [04:10<00:00, 133.29it/s]\n",
      "100%|██████████| 33452/33452 [04:10<00:00, 133.48it/s]\n"
     ]
    },
    {
     "name": "stdout",
     "output_type": "stream",
     "text": [
      "{   'delta': 1950.0,\n",
      "    'device': 'cuda',\n",
      "    'event_graph_edges': 96946987,\n",
      "    'lift_event_graph_time': 251.03341007232666,\n",
      "    'max_order': 2,\n",
      "    'max_order_edges': 74773,\n",
      "    'max_order_nodes': 5078,\n",
      "    'mo_time': 281.3313329219818,\n",
      "    'temp_net_edges': 2172808,\n",
      "    'temp_net_events': 2172808,\n",
      "    'temp_net_nodes': 96}\n"
     ]
    },
    {
     "name": "stderr",
     "output_type": "stream",
     "text": [
      "100%|██████████| 33452/33452 [04:10<00:00, 133.66it/s]\n",
      "100%|██████████| 33452/33452 [04:11<00:00, 133.02it/s]\n"
     ]
    },
    {
     "name": "stdout",
     "output_type": "stream",
     "text": [
      "CUDA out of memory. Tried to allocate 41.73 GiB. GPU 0 has a total capacty of 4.00 GiB of which 0 bytes is free. Including non-PyTorch memory, this process has 17179869184.00 GiB memory in use. Of the allocated memory 4.80 GiB is allocated by PyTorch, and 11.64 GiB is reserved by PyTorch but unallocated. If reserved but unallocated memory is large try setting max_split_size_mb to avoid fragmentation.  See documentation for Memory Management and PYTORCH_CUDA_ALLOC_CONF\n"
     ]
    },
    {
     "name": "stderr",
     "output_type": "stream",
     "text": [
      "100%|██████████| 33452/33452 [40:51<00:00, 13.65it/s]  \n",
      "100%|██████████| 33452/33452 [49:33<00:00, 11.25it/s]  \n"
     ]
    },
    {
     "name": "stdout",
     "output_type": "stream",
     "text": [
      "CUDA out of memory. Tried to allocate 41.73 GiB. GPU 0 has a total capacty of 4.00 GiB of which 0 bytes is free. Including non-PyTorch memory, this process has 17179869184.00 GiB memory in use. Of the allocated memory 4.80 GiB is allocated by PyTorch, and 11.64 GiB is reserved by PyTorch but unallocated. If reserved but unallocated memory is large try setting max_split_size_mb to avoid fragmentation.  See documentation for Memory Management and PYTORCH_CUDA_ALLOC_CONF\n"
     ]
    },
    {
     "name": "stderr",
     "output_type": "stream",
     "text": [
      "100%|██████████| 33452/33452 [40:54<00:00, 13.63it/s]  \n",
      "100%|██████████| 33452/33452 [49:35<00:00, 11.24it/s]  \n"
     ]
    },
    {
     "name": "stdout",
     "output_type": "stream",
     "text": [
      "CUDA out of memory. Tried to allocate 41.73 GiB. GPU 0 has a total capacty of 4.00 GiB of which 0 bytes is free. Including non-PyTorch memory, this process has 17179869184.00 GiB memory in use. Of the allocated memory 4.80 GiB is allocated by PyTorch, and 11.64 GiB is reserved by PyTorch but unallocated. If reserved but unallocated memory is large try setting max_split_size_mb to avoid fragmentation.  See documentation for Memory Management and PYTORCH_CUDA_ALLOC_CONF\n"
     ]
    },
    {
     "name": "stderr",
     "output_type": "stream",
     "text": [
      "100%|██████████| 33452/33452 [51:22<00:00, 10.85it/s]  \n",
      "100%|██████████| 33452/33452 [53:05<00:00, 10.50it/s]  \n"
     ]
    },
    {
     "name": "stdout",
     "output_type": "stream",
     "text": [
      "{   'delta': 2775.0,\n",
      "    'device': 'cuda',\n",
      "    'event_graph_edges': 124683153,\n",
      "    'lift_event_graph_time': 3082.5759828090668,\n",
      "    'max_order': 2,\n",
      "    'max_order_edges': 77875,\n",
      "    'max_order_nodes': 5078,\n",
      "    'mo_time': 3224.959701538086,\n",
      "    'temp_net_edges': 2172808,\n",
      "    'temp_net_events': 2172808,\n",
      "    'temp_net_nodes': 96}\n"
     ]
    },
    {
     "name": "stderr",
     "output_type": "stream",
     "text": [
      "100%|██████████| 33452/33452 [50:31<00:00, 11.03it/s]  \n",
      " 44%|████▎     | 14586/33452 [22:45<29:25, 10.68it/s]  \n"
     ]
    },
    {
     "ename": "KeyboardInterrupt",
     "evalue": "",
     "output_type": "error",
     "traceback": [
      "\u001b[0;31m---------------------------------------------------------------------------\u001b[0m",
      "\u001b[0;31mKeyboardInterrupt\u001b[0m                         Traceback (most recent call last)",
      "Cell \u001b[0;32mIn[4], line 13\u001b[0m\n\u001b[1;32m     11\u001b[0m exp[\u001b[38;5;124m'\u001b[39m\u001b[38;5;124mmax_order\u001b[39m\u001b[38;5;124m'\u001b[39m] \u001b[38;5;241m=\u001b[39m k\n\u001b[1;32m     12\u001b[0m \u001b[38;5;28;01mtry\u001b[39;00m:\n\u001b[0;32m---> 13\u001b[0m     res \u001b[38;5;241m=\u001b[39m \u001b[43mtest_mo_scalability\u001b[49m\u001b[43m(\u001b[49m\u001b[43mg\u001b[49m\u001b[43m,\u001b[49m\u001b[43m \u001b[49m\u001b[43mexp\u001b[49m\u001b[43m)\u001b[49m\n\u001b[1;32m     14\u001b[0m     printer\u001b[38;5;241m.\u001b[39mpprint(res)\n\u001b[1;32m     15\u001b[0m     results_rm[delta][k] \u001b[38;5;241m=\u001b[39m res\n",
      "Cell \u001b[0;32mIn[2], line 16\u001b[0m, in \u001b[0;36mtest_mo_scalability\u001b[0;34m(g, exp)\u001b[0m\n\u001b[1;32m     13\u001b[0m res[\u001b[38;5;124m'\u001b[39m\u001b[38;5;124mevent_graph_edges\u001b[39m\u001b[38;5;124m'\u001b[39m] \u001b[38;5;241m=\u001b[39m eg\u001b[38;5;241m.\u001b[39msize(\u001b[38;5;241m1\u001b[39m)\n\u001b[1;32m     15\u001b[0m start_time \u001b[38;5;241m=\u001b[39m time\u001b[38;5;241m.\u001b[39mtime()\n\u001b[0;32m---> 16\u001b[0m m \u001b[38;5;241m=\u001b[39m \u001b[43mpp\u001b[49m\u001b[38;5;241;43m.\u001b[39;49m\u001b[43mMultiOrderModel\u001b[49m\u001b[38;5;241;43m.\u001b[39;49m\u001b[43mfrom_temporal_graph\u001b[49m\u001b[43m(\u001b[49m\u001b[43mg\u001b[49m\u001b[43m,\u001b[49m\u001b[43m \u001b[49m\u001b[43mdelta\u001b[49m\u001b[38;5;241;43m=\u001b[39;49m\u001b[43mexp\u001b[49m\u001b[43m[\u001b[49m\u001b[38;5;124;43m'\u001b[39;49m\u001b[38;5;124;43mdelta\u001b[39;49m\u001b[38;5;124;43m'\u001b[39;49m\u001b[43m]\u001b[49m\u001b[43m,\u001b[49m\u001b[43m \u001b[49m\u001b[43mmax_order\u001b[49m\u001b[38;5;241;43m=\u001b[39;49m\u001b[43mexp\u001b[49m\u001b[43m[\u001b[49m\u001b[38;5;124;43m'\u001b[39;49m\u001b[38;5;124;43mmax_order\u001b[39;49m\u001b[38;5;124;43m'\u001b[39;49m\u001b[43m]\u001b[49m\u001b[43m)\u001b[49m\n\u001b[1;32m     17\u001b[0m res[\u001b[38;5;124m'\u001b[39m\u001b[38;5;124mmo_time\u001b[39m\u001b[38;5;124m'\u001b[39m] \u001b[38;5;241m=\u001b[39m time\u001b[38;5;241m.\u001b[39mtime() \u001b[38;5;241m-\u001b[39m start_time\n\u001b[1;32m     18\u001b[0m res[\u001b[38;5;124m'\u001b[39m\u001b[38;5;124mmax_order_nodes\u001b[39m\u001b[38;5;124m'\u001b[39m] \u001b[38;5;241m=\u001b[39m m\u001b[38;5;241m.\u001b[39mlayers[exp[\u001b[38;5;124m'\u001b[39m\u001b[38;5;124mmax_order\u001b[39m\u001b[38;5;124m'\u001b[39m]]\u001b[38;5;241m.\u001b[39mN\n",
      "File \u001b[0;32m/workspaces/pathpyG/src/pathpyG/core/multi_order_model.py:108\u001b[0m, in \u001b[0;36mMultiOrderModel.from_temporal_graph\u001b[0;34m(g, delta, max_order, weight, cached)\u001b[0m\n\u001b[1;32m    106\u001b[0m \u001b[38;5;28;01mif\u001b[39;00m max_order \u001b[38;5;241m>\u001b[39m \u001b[38;5;241m1\u001b[39m:\n\u001b[1;32m    107\u001b[0m     node_sequence \u001b[38;5;241m=\u001b[39m torch\u001b[38;5;241m.\u001b[39mcat([node_sequence[edge_index[\u001b[38;5;241m0\u001b[39m]], node_sequence[edge_index[\u001b[38;5;241m1\u001b[39m]][:, \u001b[38;5;241m-\u001b[39m\u001b[38;5;241m1\u001b[39m:]], dim\u001b[38;5;241m=\u001b[39m\u001b[38;5;241m1\u001b[39m)\n\u001b[0;32m--> 108\u001b[0m     edge_index \u001b[38;5;241m=\u001b[39m \u001b[43mlift_order_temporal\u001b[49m\u001b[43m(\u001b[49m\u001b[43mg\u001b[49m\u001b[43m,\u001b[49m\u001b[43m \u001b[49m\u001b[43mdelta\u001b[49m\u001b[43m)\u001b[49m\n\u001b[1;32m    109\u001b[0m     edge_weight \u001b[38;5;241m=\u001b[39m aggregate_node_attributes(edge_index, edge_weight, \u001b[38;5;124m\"\u001b[39m\u001b[38;5;124msrc\u001b[39m\u001b[38;5;124m\"\u001b[39m)\n\u001b[1;32m    111\u001b[0m     \u001b[38;5;66;03m# Aggregate\u001b[39;00m\n",
      "File \u001b[0;32m/workspaces/pathpyG/src/pathpyG/algorithms/temporal.py:39\u001b[0m, in \u001b[0;36mlift_order_temporal\u001b[0;34m(g, delta)\u001b[0m\n\u001b[1;32m     36\u001b[0m dst_node_mask \u001b[38;5;241m=\u001b[39m torch\u001b[38;5;241m.\u001b[39misin(edge_index[\u001b[38;5;241m0\u001b[39m], edge_index[\u001b[38;5;241m1\u001b[39m, src_edge_idx])\n\u001b[1;32m     37\u001b[0m dst_edge_idx \u001b[38;5;241m=\u001b[39m indices[dst_time_mask \u001b[38;5;241m&\u001b[39m dst_node_mask]\n\u001b[0;32m---> 39\u001b[0m \u001b[38;5;28;01mif\u001b[39;00m \u001b[43mdst_edge_idx\u001b[49m\u001b[38;5;241;43m.\u001b[39;49m\u001b[43msize\u001b[49m\u001b[43m(\u001b[49m\u001b[38;5;241;43m0\u001b[39;49m\u001b[43m)\u001b[49m \u001b[38;5;241m>\u001b[39m \u001b[38;5;241m0\u001b[39m \u001b[38;5;129;01mand\u001b[39;00m src_edge_idx\u001b[38;5;241m.\u001b[39msize(\u001b[38;5;241m0\u001b[39m) \u001b[38;5;241m>\u001b[39m \u001b[38;5;241m0\u001b[39m:\n\u001b[1;32m     40\u001b[0m \n\u001b[1;32m     41\u001b[0m     \u001b[38;5;66;03m# compute second-order edges between src and dst idx for all edges where dst in src_edges matches src in dst_edges\u001b[39;00m\n\u001b[1;32m     42\u001b[0m     x \u001b[38;5;241m=\u001b[39m torch\u001b[38;5;241m.\u001b[39mcartesian_prod(src_edge_idx, dst_edge_idx)\u001b[38;5;241m.\u001b[39mt()\n\u001b[1;32m     43\u001b[0m     \u001b[38;5;66;03m# print(x.size(1))\u001b[39;00m\n",
      "\u001b[0;31mKeyboardInterrupt\u001b[0m: "
     ]
    }
   ],
   "source": [
    "results_rm = defaultdict(lambda: defaultdict())\n",
    "exp = {}\n",
    "\n",
    "g = pp.io.read_netzschleuder_graph('reality_mining', time_attr='time')\n",
    "print(g)\n",
    "for d in ['cuda', 'cpu']:\n",
    "    exp['device'] = d\n",
    "    for delta in np.linspace(300, 3600, 5):\n",
    "        exp['delta'] = delta\n",
    "        for k in range(2, 6):\n",
    "            exp['max_order'] = k\n",
    "            try:\n",
    "                res = test_mo_scalability(g, exp)\n",
    "                printer.pprint(res)\n",
    "                results_rm[delta][k] = res\n",
    "            except Exception as e:\n",
    "                print(e)\n",
    "\n",
    "            with open('results_rm_realitymining.json', 'w') as f:\n",
    "                json.dump(results_rm, f)"
   ]
  },
  {
   "cell_type": "code",
   "execution_count": null,
   "metadata": {},
   "outputs": [
    {
     "data": {
      "text/plain": [
       "<Axes: >"
      ]
     },
     "execution_count": 58,
     "metadata": {},
     "output_type": "execute_result"
    },
    {
     "data": {
      "image/png": "[encoded data removed]",
      "text/plain": [
       "<Figure size 640x480 with 1 Axes>"
      ]
     },
     "metadata": {},
     "output_type": "display_data"
    }
   ],
   "source": [
    "order = [] \n",
    "eg_time = []\n",
    "mo_time = []\n",
    "delta = 3600.\n",
    "\n",
    "for k in results[delta]:\n",
    "    order.append(k)\n",
    "    eg_time.append(results[delta][k]['lift_event_graph_time'])\n",
    "    mo_time.append(results[delta][k]['mo_time']-results[delta][k]['lift_event_graph_time'])\n",
    "sns.lineplot(x=order, y=eg_time, label='event graph')\n",
    "sns.lineplot(x=order, y=mo_time, label='order lifting')"
   ]
  }
 ],
 "metadata": {
  "kernelspec": {
   "display_name": "base",
   "language": "python",
   "name": "python3"
  },
  "language_info": {
   "codemirror_mode": {
    "name": "ipython",
    "version": 3
   },
   "file_extension": ".py",
   "mimetype": "text/x-python",
   "name": "python",
   "nbconvert_exporter": "python",
   "pygments_lexer": "ipython3",
   "version": "3.10.13"
  }
 },
 "nbformat": 4,
 "nbformat_minor": 2
}
