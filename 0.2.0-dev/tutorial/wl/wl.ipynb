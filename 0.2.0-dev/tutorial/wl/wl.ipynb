{
 "cells": [
  {
   "cell_type": "code",
   "execution_count": 1,
   "metadata": {},
   "outputs": [],
   "source": [
    "import pathpyG as pp\n",
    "import torch\n",
    "from torch_geometric import EdgeIndex"
   ]
  },
  {
   "cell_type": "code",
   "execution_count": 2,
   "metadata": {},
   "outputs": [
    {
     "name": "stdout",
     "output_type": "stream",
     "text": [
      "EdgeIndex([[0, 1, 1],\n",
      "           [1, 2, 3]], sparse_size=(4, 4), nnz=3, sort_order=row)\n",
      "EdgeIndex([[0, 1, 1],\n",
      "           [1, 2, 3]], sparse_size=(4, 4), nnz=3, sort_order=row)\n",
      "EdgeIndex([[0, 0, 1, 1, 1, 1],\n",
      "           [1, 1, 2, 3, 2, 3]], sparse_size=(4, 4), nnz=6, sort_order=row)\n",
      "Directed graph with 4 nodes and 6 edges\n",
      "\n",
      "Graph attributes\n",
      "\tnum_nodes\t\t<class 'int'>\n",
      "\n"
     ]
    }
   ],
   "source": [
    "g1 = pp.Graph.from_edge_index(torch.tensor([[0,1,1],[1,2,3]]), mapping=pp.IndexMap(['a', 'b', 'c', 'd']))\n",
    "print(g1.data.edge_index)\n",
    "g2 = pp.Graph.from_edge_index(torch.tensor([[0,1,1],[1,2,3]]), mapping=pp.IndexMap(['a', 'b', 'c', 'd']))\n",
    "print(g2.data.edge_index)\n",
    "g = g1 + g2\n",
    "print(g.data.edge_index)\n",
    "print(g)"
   ]
  },
  {
   "cell_type": "code",
   "execution_count": 3,
   "metadata": {},
   "outputs": [
    {
     "name": "stdout",
     "output_type": "stream",
     "text": [
      "EdgeIndex([[0, 1, 1],\n",
      "           [1, 2, 3]], sparse_size=(4, 4), nnz=3, sort_order=row)\n",
      "EdgeIndex([[0, 1, 1],\n",
      "           [1, 2, 3]], sparse_size=(4, 4), nnz=3, sort_order=row)\n",
      "EdgeIndex([[0, 1, 1, 4, 5, 5],\n",
      "           [1, 2, 3, 5, 6, 7]], sparse_size=(8, 8), nnz=6, sort_order=row)\n",
      "Directed graph with 8 nodes and 6 edges\n",
      "\n",
      "Graph attributes\n",
      "\tnum_nodes\t\t<class 'int'>\n",
      "\n"
     ]
    }
   ],
   "source": [
    "g1 = pp.Graph.from_edge_index(torch.tensor([[0,1,1],[1,2,3]]), mapping=pp.IndexMap(['a', 'b', 'c', 'd']))\n",
    "print(g1.data.edge_index)\n",
    "g2 = pp.Graph.from_edge_index(torch.tensor([[0,1,1],[1,2,3]]), mapping=pp.IndexMap(['e', 'f', 'g', 'h']))\n",
    "print(g2.data.edge_index)\n",
    "g = g1 + g2\n",
    "print(g.data.edge_index)\n",
    "print(g)"
   ]
  },
  {
   "cell_type": "code",
   "execution_count": 4,
   "metadata": {},
   "outputs": [
    {
     "name": "stdout",
     "output_type": "stream",
     "text": [
      "EdgeIndex([[0, 1, 1],\n",
      "           [1, 2, 3]], sparse_size=(4, 4), nnz=3, sort_order=row)\n",
      "EdgeIndex([[0, 1, 1],\n",
      "           [1, 2, 3]], sparse_size=(4, 4), nnz=3, sort_order=row)\n",
      "EdgeIndex([[0, 0, 1, 1, 1, 1],\n",
      "           [1, 1, 2, 3, 4, 5]], sparse_size=(6, 6), nnz=6, sort_order=row)\n",
      "Directed graph with 6 nodes and 6 edges\n",
      "\n",
      "Graph attributes\n",
      "\tnum_nodes\t\t<class 'int'>\n",
      "\n"
     ]
    }
   ],
   "source": [
    "g1 = pp.Graph.from_edge_index(torch.tensor([[0,1,1],[1,2,3]]), mapping=pp.IndexMap(['a', 'b', 'c', 'd']))\n",
    "print(g1.data.edge_index)\n",
    "g2 = pp.Graph.from_edge_index(torch.tensor([[0,1,1],[1,2,3]]), mapping=pp.IndexMap(['a', 'b', 'g', 'h']))\n",
    "print(g2.data.edge_index)\n",
    "g = g1 + g2\n",
    "print(g.data.edge_index)\n",
    "print(g)"
   ]
  },
  {
   "cell_type": "code",
   "execution_count": 7,
   "metadata": {},
   "outputs": [],
   "source": [
    "def num_labels(d):\n",
    "    return len(set(d.values()))"
   ]
  },
  {
   "cell_type": "code",
   "execution_count": 35,
   "metadata": {},
   "outputs": [],
   "source": [
    "from typing import Tuple, List"
   ]
  },
  {
   "cell_type": "code",
   "execution_count": 45,
   "metadata": {},
   "outputs": [],
   "source": [
    "def WL_test(g1: pp.Graph, g2: pp.Graph) -> Tuple[bool, List[str], List[str]]:\n",
    "    \"\"\"Run Weisfeiler-Leman test on two graphs\"\"\"\n",
    "    if g1.mapping is None or g2.mapping is None:\n",
    "        raise Exception('Graphs must contain IndexMap that assigns node IDs')\n",
    "    if len(set(g1.mapping.node_ids).intersection(g2.mapping.node_ids)) > 0:\n",
    "        raise Exception('node identifiers of graphs must not overlap')\n",
    "    g_combined = g1 + g2\n",
    "    # initialize labels of all ndoes to zero\n",
    "    fingerprint = { v:'0' for v in g_combined.nodes }\n",
    "    labels = {} \n",
    "    label_count = 1\n",
    "    stop = False\n",
    "    while not stop:\n",
    "        new_fingerprint = {} \n",
    "        for node in g_combined.nodes:\n",
    "            # create new label based on own label and sorted labels of all neighbors\n",
    "            n_label = [fingerprint[x] for x in g_combined.successors(node)]\n",
    "            n_label.sort()\n",
    "            label = str(fingerprint[node]) + str(n_label)\n",
    "            # previously unknown label\n",
    "            if label not in labels:\n",
    "                # create a new label based on next consecutive number\n",
    "                labels[label] = label_count\n",
    "                label_count += 1 \n",
    "            new_fingerprint[node] = labels[label]        \n",
    "        if len(set(fingerprint.values())) == len(set(new_fingerprint.values())):\n",
    "            # we processed all nodes in both graphs without encountering a new label, so we stop\n",
    "            stop = True\n",
    "        else:\n",
    "            # update fingerprint and continue\n",
    "            fingerprint = new_fingerprint.copy()\n",
    "    fingerprint_1 = [fingerprint[v] for v in g1.nodes]\n",
    "    fingerprint_1.sort()\n",
    "    fingerprint_2 = [fingerprint[v] for v in g2.nodes]\n",
    "    fingerprint_2.sort()\n",
    "    if fingerprint_1 == fingerprint_2:\n",
    "        return True, fingerprint_1, fingerprint_2\n",
    "    return False, fingerprint_1, fingerprint_2"
   ]
  },
  {
   "cell_type": "code",
   "execution_count": 46,
   "metadata": {},
   "outputs": [
    {
     "data": {
      "text/plain": [
       "(True, [3, 4, 5], [3, 4, 5])"
      ]
     },
     "execution_count": 46,
     "metadata": {},
     "output_type": "execute_result"
    }
   ],
   "source": [
    "g1 = pp.Graph.from_edge_list([('a', 'b'), ('b', 'c')])\n",
    "g2 = pp.Graph.from_edge_list([('y', 'z'), ('x', 'y')])\n",
    "WL_test(g1, g2)"
   ]
  },
  {
   "cell_type": "code",
   "execution_count": 26,
   "metadata": {},
   "outputs": [
    {
     "data": {
      "text/plain": [
       "2"
      ]
     },
     "execution_count": 26,
     "metadata": {},
     "output_type": "execute_result"
    }
   ],
   "source": [
    "d = {'a': 0, 'b': 1, 'c': 0}\n",
    "num_labels(d)"
   ]
  },
  {
   "cell_type": "code",
   "execution_count": null,
   "metadata": {},
   "outputs": [],
   "source": []
  }
 ],
 "metadata": {
  "kernelspec": {
   "display_name": "base",
   "language": "python",
   "name": "python3"
  },
  "language_info": {
   "codemirror_mode": {
    "name": "ipython",
    "version": 3
   },
   "file_extension": ".py",
   "mimetype": "text/x-python",
   "name": "python",
   "nbconvert_exporter": "python",
   "pygments_lexer": "ipython3",
   "version": "3.10.13"
  }
 },
 "nbformat": 4,
 "nbformat_minor": 2
}
