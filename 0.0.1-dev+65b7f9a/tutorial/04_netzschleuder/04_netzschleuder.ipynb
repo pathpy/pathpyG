{
 "cells": [
  {
   "cell_type": "code",
   "execution_count": 1,
   "metadata": {},
   "outputs": [],
   "source": [
    "import numpy as np\n",
    "from matplotlib import pyplot as plt\n",
    "\n",
    "from sklearn import metrics\n",
    "from sklearn.decomposition import TruncatedSVD\n",
    "\n",
    "import torch\n",
    "from torch.nn import Linear, ReLU, Sigmoid, Parameter\n",
    "\n",
    "import torch_geometric\n",
    "from torch_geometric.nn import Sequential, GCNConv, SimpleConv, MessagePassing\n",
    "\n",
    "import pathpyG as pp\n",
    "\n",
    "pp.config['torch']['device'] = 'cpu'"
   ]
  },
  {
   "cell_type": "markdown",
   "metadata": {},
   "source": [
    "We can read networks from the netzschleuder database:"
   ]
  },
  {
   "cell_type": "code",
   "execution_count": 2,
   "metadata": {},
   "outputs": [
    {
     "name": "stdout",
     "output_type": "stream",
     "text": [
      "[['1000 Years for Revenge'], ['Bush vs. the Beltway'], [\"Charlie Wilson's War\"], ['Losing Bin Laden'], ['Sleeping With the Devil'], ['The Man Who Warned America'], ['Why America Slept'], ['Ghost Wars'], ['A National Party No More'], ['Bush Country'], ['Dereliction of Duty'], ['Legacy'], ['Off with Their Heads'], ['Persecution'], [\"Rumsfeld's War\"], ['Breakdown'], ['Betrayal'], ['Shut Up and Sing'], ['Meant To Be'], ['The Right Man'], ['Ten Minutes from Normal'], [\"Hillary's Scheme\"], ['The French Betrayal of America'], ['Tales from the Left Coast'], ['Hating America'], ['The Third Terrorist'], ['Endgame'], ['Spin Sisters'], [\"All the Shah's Men\"], ['Dangerous Dimplomacy'], ['The Price of Loyalty'], ['House of Bush, House of Saud'], ['The Death of Right and Wrong'], ['Useful Idiots'], [\"The O'Reilly Factor\"], ['Let Freedom Ring'], ['Those Who Trespass'], ['Bias'], ['Slander'], ['The Savage Nation'], ['Deliver Us from Evil'], ['Give Me a Break'], ['The Enemy Within'], ['The Real America'], [\"Who's Looking Out for You?\"], ['The Official Handbook Vast Right Wing Conspiracy'], ['Power Plays'], ['Arrogance'], ['The Perfect Wife'], ['The Bushes'], ['Things Worth Fighting For'], ['Surprise, Security, the American Experience'], ['Allies'], ['Why Courage Matters'], ['Hollywood Interrupted'], ['Fighting Back'], ['We Will Prevail'], ['The Faith of George W Bush'], ['Rise of the Vulcans'], ['Downsize This!'], ['Stupid White Men'], ['Rush Limbaugh Is a Big Fat Idiot'], ['The Best Democracy Money Can Buy'], ['The Culture of Fear'], ['America Unbound'], ['The Choice'], ['The Great Unraveling'], ['Rogue Nation'], ['Soft Power'], ['Colossus'], ['The Sorrows of Empire'], ['Against All Enemies'], ['American Dynasty'], ['Big Lies'], ['The Lies of George W. Bush'], ['Worse Than Watergate'], ['Plan of Attack'], ['Bush at War'], ['The New Pearl Harbor'], ['Bushwomen'], ['The Bubble of American Supremacy'], ['Living History'], ['The Politics of Truth'], ['Fanatics and Fools'], ['Bushwhacked'], ['Disarming Iraq'], ['Lies and the Lying Liars Who Tell Them'], [\"MoveOn's 50 Ways to Love Your Country\"], ['The Buying of the President 2004'], ['Perfectly Legal'], ['Hegemony or Survival'], ['The Exception to the Rulers'], ['Freethinkers'], ['Had Enough?'], [\"It's Still the Economy, Stupid!\"], [\"We're Right They're Wrong\"], ['What Liberal Media?'], ['The Clinton Wars'], ['Weapons of Mass Deception'], [\"Dude, Where's My Country?\"], ['Thieves in High Places'], ['Shrub'], ['Buck Up Suck Up'], ['The Future of Freedom'], ['Empire']]\n",
      "[['n'], ['c'], ['c'], ['c'], ['n'], ['c'], ['n'], ['n'], ['c'], ['c'], ['c'], ['c'], ['c'], ['c'], ['c'], ['c'], ['c'], ['c'], ['n'], ['c'], ['c'], ['c'], ['c'], ['c'], ['c'], ['c'], ['c'], ['c'], ['n'], ['c'], ['l'], ['l'], ['c'], ['c'], ['c'], ['c'], ['c'], ['c'], ['c'], ['c'], ['c'], ['c'], ['c'], ['c'], ['c'], ['c'], ['n'], ['c'], ['n'], ['c'], ['c'], ['n'], ['c'], ['c'], ['c'], ['c'], ['c'], ['c'], ['c'], ['l'], ['l'], ['l'], ['l'], ['l'], ['l'], ['l'], ['l'], ['l'], ['l'], ['n'], ['l'], ['l'], ['l'], ['l'], ['l'], ['l'], ['n'], ['c'], ['l'], ['l'], ['l'], ['l'], ['l'], ['l'], ['l'], ['l'], ['l'], ['l'], ['l'], ['l'], ['l'], ['l'], ['l'], ['l'], ['l'], ['l'], ['l'], ['l'], ['l'], ['l'], ['l'], ['l'], ['l'], ['n'], ['n']]\n",
      "[[array([-17.19886344,  -0.70297288])], [array([-17.15006302,  -0.58652376])], [array([-17.34341253,  -0.79697238])], [array([-16.88916057,  -0.71486095])], [array([-17.19819119,  -1.02559267])], [array([-17.19409486,  -0.78877977])], [array([-17.06568114,  -0.75397796])], [array([-17.28572854,  -1.01545919])], [array([-16.69897946,  -0.80151089])], [array([-16.89461901,  -0.93377266])], [array([-16.74550504,  -0.61701191])], [array([-16.82897729,  -0.82445395])], [array([-16.73398637,  -0.73218608])], [array([-16.67651993,  -0.90199951])], [array([-17.02363215,  -0.86214593])], [array([-16.77964354,  -0.46152889])], [array([-16.87536022,  -0.4017172 ])], [array([-16.80457324,  -0.69652654])], [array([-16.9968776 ,  -0.54347881])], [array([-16.94414081,  -0.85612378])], [array([-16.84891061,  -1.02553644])], [array([-16.80442656,  -0.5692747 ])], [array([-16.95746641,  -0.76824512])], [array([-16.67234612,  -0.61020078])], [array([-16.76512092,  -0.94975198])], [array([-16.98699088,  -0.66507893])], [array([-16.82090625,  -0.90282771])], [array([-16.66949917,  -0.7329075 ])], [array([-17.17957395,  -1.30568797])], [array([-16.98130827,  -0.96154998])], [array([-17.34571234,  -1.38025355])], [array([-17.27187231,  -1.31937345])], [array([-16.59469852,  -0.65784009])], [array([-16.60177446,  -0.55714549])], [array([-16.33054447,  -0.57872764])], [array([-16.46925813,  -0.71775988])], [array([-16.38949388,  -0.76738509])], [array([-16.47686036,  -0.58318539])], [array([-16.51522405,  -0.50159666])], [array([-16.51256871,  -0.6511121 ])], [array([-16.71872769,  -0.8533221 ])], [array([-16.58061143,  -0.88721513])], [array([-16.46471829,  -0.89353274])], [array([-16.49926182,  -0.98985162])], [array([-16.50625533,  -0.82223169])], [array([-16.66166174,  -0.98636931])], [array([-16.65799229,  -1.10902562])], [array([-16.62526571,  -0.81681329])], [array([-16.87838679,  -1.21554029])], [array([-17.06326694,  -1.21622498])], [array([-17.07250453,  -0.99873679])], [array([-17.33667699,  -0.92818759])], [array([-17.19929104,  -0.91715039])], [array([-16.92701504,  -1.11703044])], [array([-16.55489912,  -0.74487924])], [array([-16.89517978,  -0.55262783])], [array([-16.73325377,  -1.06112964])], [array([-16.77159333,  -1.18712698])], [array([-17.32343856,  -1.08077802])], [array([-17.27009555,  -2.0343519 ])], [array([-17.43584405,  -1.92156893])], [array([-17.12489661,  -1.9245261 ])], [array([-17.3325254 ,  -1.92007995])], [array([-17.39769496,  -2.05712616])], [array([-17.44787073,  -1.11022713])], [array([-17.52788712,  -1.0280594 ])], [array([-17.42260819,  -1.49330782])], [array([-17.63950426,  -1.21765962])], [array([-17.57553373,  -1.12524322])], [array([-17.56307974,  -0.93440459])], [array([-17.3824684 ,  -1.29819407])], [array([-17.45035455,  -1.35371234])], [array([-17.36995384,  -1.46008353])], [array([-17.32456632,  -1.59400403])], [array([-17.37388215,  -1.54436973])], [array([-17.41478943,  -1.41742161])], [array([-17.22910013,  -1.40108468])], [array([-17.2354389 ,  -1.19485933])], [array([-17.53110849,  -1.3432861 ])], [array([-17.49717345,  -1.50186191])], [array([-17.60623347,  -1.39068421])], [array([-17.62979284,  -1.66977825])], [array([-17.29136224,  -1.46472282])], [array([-17.45110763,  -1.5732831 ])], [array([-17.40123012,  -1.64593941])], [array([-17.44150839,  -1.20595207])], [array([-17.35981018,  -1.68881312])], [array([-17.45589296,  -1.72221542])], [array([-17.59191971,  -1.57749944])], [array([-17.52305336,  -1.64691289])], [array([-17.2387794 ,  -1.57429387])], [array([-17.22094356,  -1.50668702])], [array([-17.61828905,  -1.49395895])], [array([-17.14758537,  -1.5902997 ])], [array([-17.12105165,  -1.71168764])], [array([-17.00353598,  -1.73469803])], [array([-17.3899796 ,  -1.79197318])], [array([-17.53832979,  -1.76267013])], [array([-17.21439386,  -1.71529507])], [array([-17.31342029,  -1.76286936])], [array([-17.29210982,  -1.68747872])], [array([-17.21497706,  -1.84137315])], [array([-16.88308151,  -1.50951598])], [array([-17.89516493,  -1.13774036])], [array([-17.78915146,  -1.02198536])]]\n",
      "Graph with 105 nodes and 441 edges\n",
      "\n",
      "Node attributes\n",
      "\tnode_ohe\t\t<class 'torch.Tensor'> -> torch.Size([105, 105])\n",
      "\tnode__pos\t\t<class 'list'>\n",
      "\tnode_label\t\t<class 'list'>\n",
      "\tnode_value\t\t<class 'list'>\n",
      "\n",
      "Graph attributes\n",
      "\tname\t\t<class 'str'>\n",
      "\tnode_id\t\t<class 'list'>\n",
      "\tdescription\t\t<class 'str'>\n",
      "\tcitation\t\t<class 'str'>\n",
      "\turl\t\t<class 'str'>\n",
      "\ttags\t\t<class 'list'>\n",
      "\tdirected\t\t<class 'float'>\n",
      "\n"
     ]
    },
    {
     "name": "stderr",
     "output_type": "stream",
     "text": [
      "/opt/conda/lib/python3.10/site-packages/torch_geometric/data/storage.py:304: UserWarning: Unable to accurately infer 'num_nodes' from the attribute set '{'name', 'edge_index', 'node_id', 'description', 'node__pos', 'node_label', 'node_value', 'citation', 'url', 'tags', 'directed'}'. Please explicitly set 'num_nodes' as an attribute of 'data' to suppress this warning\n",
      "  warnings.warn(\n"
     ]
    }
   ],
   "source": [
    "g = pp.io.read_netzschleuder_network('polbooks')\n",
    "g.add_node_ohe('node_ohe')\n",
    "print(g)"
   ]
  },
  {
   "cell_type": "code",
   "execution_count": 3,
   "metadata": {},
   "outputs": [
    {
     "name": "stdout",
     "output_type": "stream",
     "text": [
      "Graph with 34 nodes and 77 edges\n",
      "\n",
      "Node attributes\n",
      "\tnode__pos\t\t<class 'torch.Tensor'> -> torch.Size([34, 1, 2])\n",
      "\tnode_ohe\t\t<class 'torch.Tensor'> -> torch.Size([34, 34])\n",
      "\tnode_name\t\t<class 'torch.Tensor'> -> torch.Size([34, 1])\n",
      "\tnode_groups\t\t<class 'torch.Tensor'> -> torch.Size([34, 1])\n",
      "\n",
      "Graph attributes\n",
      "\tnode_id\t\t<class 'list'>\n",
      "\turl\t\t<class 'str'>\n",
      "\tdescription\t\t<class 'str'>\n",
      "\ttags\t\t<class 'list'>\n",
      "\tcitation\t\t<class 'str'>\n",
      "\tname\t\t<class 'str'>\n",
      "\n"
     ]
    }
   ],
   "source": [
    "g = pp.io.read_netzschleuder_network('karate', '77')\n",
    "g.add_node_ohe('node_ohe')\n",
    "print(g)"
   ]
  },
  {
   "cell_type": "code",
   "execution_count": 4,
   "metadata": {},
   "outputs": [
    {
     "name": "stdout",
     "output_type": "stream",
     "text": [
      "tensor([[1.],\n",
      "        [1.],\n",
      "        [1.],\n",
      "        [1.],\n",
      "        [1.],\n",
      "        [1.],\n",
      "        [1.],\n",
      "        [1.],\n",
      "        [1.],\n",
      "        [2.],\n",
      "        [1.],\n",
      "        [1.],\n",
      "        [1.],\n",
      "        [1.],\n",
      "        [2.],\n",
      "        [2.],\n",
      "        [1.],\n",
      "        [1.],\n",
      "        [2.],\n",
      "        [1.],\n",
      "        [2.],\n",
      "        [1.],\n",
      "        [2.],\n",
      "        [2.],\n",
      "        [2.],\n",
      "        [2.],\n",
      "        [2.],\n",
      "        [2.],\n",
      "        [2.],\n",
      "        [2.],\n",
      "        [2.],\n",
      "        [2.],\n",
      "        [2.],\n",
      "        [2.]], device='cuda:0')\n"
     ]
    }
   ],
   "source": [
    "print(g['node_groups'])"
   ]
  },
  {
   "cell_type": "markdown",
   "metadata": {},
   "source": [
    "Let us shift this to values 0 and 1: "
   ]
  },
  {
   "cell_type": "code",
   "execution_count": 5,
   "metadata": {},
   "outputs": [],
   "source": [
    "g['node_groups'] -= 1"
   ]
  },
  {
   "cell_type": "code",
   "execution_count": 6,
   "metadata": {},
   "outputs": [
    {
     "name": "stdout",
     "output_type": "stream",
     "text": [
      "tensor([[0.],\n",
      "        [0.],\n",
      "        [0.],\n",
      "        [0.],\n",
      "        [0.],\n",
      "        [0.],\n",
      "        [0.],\n",
      "        [0.],\n",
      "        [0.],\n",
      "        [1.],\n",
      "        [0.],\n",
      "        [0.],\n",
      "        [0.],\n",
      "        [0.],\n",
      "        [1.],\n",
      "        [1.],\n",
      "        [0.],\n",
      "        [0.],\n",
      "        [1.],\n",
      "        [0.],\n",
      "        [1.],\n",
      "        [0.],\n",
      "        [1.],\n",
      "        [1.],\n",
      "        [1.],\n",
      "        [1.],\n",
      "        [1.],\n",
      "        [1.],\n",
      "        [1.],\n",
      "        [1.],\n",
      "        [1.],\n",
      "        [1.],\n",
      "        [1.],\n",
      "        [1.]], device='cuda:0')\n"
     ]
    }
   ],
   "source": [
    "print(g['node_groups'])"
   ]
  },
  {
   "cell_type": "code",
   "execution_count": 7,
   "metadata": {},
   "outputs": [
    {
     "name": "stdout",
     "output_type": "stream",
     "text": [
      "Data(edge_index=[2, 77], node_id=[0], node_name=[34, 1], node_groups=[34, 1], node__pos=[34, 1, 2], name='karate (77)', description='Network of friendships among members of a university karate club. Includes metadata for faction membership after a social partition. Note: there are two versions of this network, one with 77 edges and one with 78, due to an ambiguous typo in the original study. (The most commonly used is the one with 78 edges.)[^icon]\n",
      "[^icon]: Description obtained from the [ICON](https://icon.colorado.edu) project.', citation='['W. W. Zachary, \"An information flow model for conflict and fission in small groups.\" Journal of Anthropological Research 33, 452-473 (1977)., https://doi.org/10.1086/jar.33.4.3629752']', url='https://aaronclauset.github.io/datacode.htm', tags=[3], node_ohe=[34, 34])\n"
     ]
    }
   ],
   "source": [
    "print(g.data)"
   ]
  },
  {
   "cell_type": "code",
   "execution_count": 8,
   "metadata": {},
   "outputs": [],
   "source": [
    "data = g.data\n",
    "data['x'] = data['node_ohe']\n",
    "data['y'] = data['node_groups']"
   ]
  },
  {
   "cell_type": "markdown",
   "metadata": {},
   "source": [
    "We can now apply a GCN to the Karate club network:"
   ]
  },
  {
   "cell_type": "code",
   "execution_count": 9,
   "metadata": {},
   "outputs": [
    {
     "name": "stdout",
     "output_type": "stream",
     "text": [
      "[Parameter containing:\n",
      "tensor([0., 0., 0., 0., 0., 0., 0., 0.], device='cuda:0', requires_grad=True), Parameter containing:\n",
      "tensor([[ 5.2972e-02,  5.5052e-02,  2.2270e-01, -2.1538e-01,  7.3240e-03,\n",
      "         -2.0267e-01,  1.2038e-01,  1.9506e-01, -3.0519e-01, -3.4871e-01,\n",
      "         -2.1621e-01,  2.6858e-01, -1.1505e-01,  2.2457e-01,  3.0913e-01,\n",
      "          1.8675e-01, -3.7361e-01,  2.0620e-01, -2.8461e-01,  2.3136e-01,\n",
      "          2.7408e-02,  1.6246e-01, -1.8339e-01, -2.3229e-01, -4.2514e-03,\n",
      "          2.4813e-01, -2.7760e-01,  1.6913e-02, -3.4921e-01,  1.7063e-03,\n",
      "          3.3625e-01, -8.0512e-02, -2.3633e-01,  2.0594e-01],\n",
      "        [-7.9631e-02, -3.4620e-01, -1.5189e-01,  1.0690e-01, -1.1215e-01,\n",
      "          3.2513e-01,  3.4603e-01,  2.2471e-01,  9.3077e-02, -8.7025e-02,\n",
      "         -2.3602e-01,  6.3855e-02,  1.4467e-01, -1.9885e-02,  2.5529e-02,\n",
      "         -2.0357e-01, -2.5089e-01, -2.8627e-01,  6.2556e-02,  2.3615e-01,\n",
      "         -1.4407e-01,  3.2731e-01, -3.0082e-01, -1.9352e-01,  3.6046e-02,\n",
      "         -1.2166e-01, -1.1870e-01,  3.7451e-01, -5.9613e-02, -1.8667e-01,\n",
      "          6.4666e-02, -1.8631e-01,  2.2657e-01, -3.7576e-01],\n",
      "        [-2.2159e-01,  1.6257e-01, -1.3440e-01, -3.1383e-01,  6.9310e-02,\n",
      "          2.4266e-01,  4.1668e-03,  2.0309e-01, -1.7470e-01,  3.3261e-01,\n",
      "          1.8731e-01, -1.2921e-01,  2.7547e-01,  3.1078e-02,  3.6026e-01,\n",
      "         -2.6069e-01, -3.3530e-01, -3.6141e-01,  3.1316e-01,  5.0109e-02,\n",
      "          5.8274e-03, -1.0125e-02, -3.8732e-02, -2.5341e-01,  2.5419e-01,\n",
      "          3.1919e-01,  2.2315e-01,  2.3795e-01, -2.3856e-01,  1.2509e-01,\n",
      "          5.3596e-02,  2.4938e-01,  2.6653e-01,  3.4475e-01],\n",
      "        [-7.7238e-02,  1.8029e-01, -2.7072e-01,  2.4538e-01,  5.0780e-02,\n",
      "         -1.2889e-01, -1.7505e-01, -1.0600e-01,  2.4119e-01,  2.8121e-01,\n",
      "         -3.2210e-01,  8.5204e-02,  2.3007e-01,  7.9479e-02, -1.1863e-01,\n",
      "          9.9624e-02, -2.0626e-01, -1.3591e-01, -4.5974e-02, -2.6033e-01,\n",
      "          1.3963e-01, -2.9039e-01,  1.0656e-01, -1.8976e-01, -3.5023e-02,\n",
      "          6.3824e-02, -1.0221e-01,  2.4564e-01, -3.5335e-01,  3.4067e-01,\n",
      "         -2.5122e-01,  2.0742e-02,  2.4436e-01, -5.6380e-02],\n",
      "        [ 6.7386e-02,  6.1462e-03, -1.2533e-01, -2.9895e-01,  3.7556e-01,\n",
      "         -2.5755e-01, -6.7110e-02,  3.4848e-01,  2.6946e-01,  2.2733e-01,\n",
      "          2.9700e-01,  1.2175e-01,  1.7005e-01,  1.4849e-01, -2.2668e-01,\n",
      "         -2.5272e-01, -3.5030e-01,  1.4634e-01,  8.4697e-02,  3.4429e-01,\n",
      "          2.3460e-01, -1.6351e-01, -1.9430e-01,  2.2334e-01,  2.7074e-01,\n",
      "         -1.9969e-01,  2.6044e-01,  1.7316e-02,  5.6631e-02,  1.5081e-02,\n",
      "          4.0577e-02, -9.2265e-02, -8.5139e-02,  1.7088e-01],\n",
      "        [-2.9997e-01, -2.2734e-01,  2.4398e-01, -6.2476e-02,  9.2898e-02,\n",
      "          4.7947e-02, -2.8744e-01, -3.5879e-01, -4.1384e-02, -2.8579e-01,\n",
      "          3.3649e-01, -5.0521e-02, -3.5520e-01, -7.3751e-02,  2.9434e-01,\n",
      "         -5.6802e-02, -1.3239e-01, -1.6324e-01,  3.1980e-02,  1.6046e-01,\n",
      "         -2.2599e-01,  2.5262e-01, -1.5285e-01, -2.0297e-01,  1.6436e-01,\n",
      "          1.2878e-01,  3.1831e-01,  1.1446e-01, -3.4035e-01, -4.1453e-02,\n",
      "          1.2827e-01, -6.8826e-02,  2.9003e-01,  1.0078e-01],\n",
      "        [ 3.4587e-01,  2.8631e-01, -2.8837e-01,  1.5555e-01, -2.1470e-01,\n",
      "         -3.5661e-01,  5.5539e-02, -3.4639e-01,  2.6210e-01,  2.4338e-01,\n",
      "         -1.5438e-01, -7.4270e-02, -7.9205e-02,  2.4218e-01,  3.2522e-01,\n",
      "         -4.9285e-02,  3.9069e-02,  3.5742e-01,  3.4190e-02,  5.8760e-02,\n",
      "         -1.8344e-01, -2.4623e-01,  3.0557e-01, -1.7918e-01, -3.3252e-01,\n",
      "          1.4047e-01,  1.6596e-01, -4.8764e-02, -1.6766e-01, -1.6335e-01,\n",
      "          8.3689e-02,  3.6885e-01, -2.4932e-02,  1.3087e-01],\n",
      "        [-9.5770e-02, -3.9564e-02,  3.3652e-01,  2.0019e-01, -3.0912e-01,\n",
      "         -1.0044e-01,  1.9533e-01,  6.2857e-03, -2.0333e-01,  1.6245e-01,\n",
      "          2.2123e-05,  4.9945e-02,  2.1983e-02,  1.4195e-01,  3.3704e-01,\n",
      "          1.0123e-01,  1.8395e-01, -7.0908e-02, -9.8956e-02, -3.0000e-01,\n",
      "         -3.3229e-01,  1.2789e-01, -2.0303e-01, -5.5650e-02,  2.8027e-01,\n",
      "         -1.8452e-03,  3.4721e-01, -3.1490e-01,  3.5345e-01, -1.1126e-01,\n",
      "         -2.2031e-01, -2.2131e-01,  2.3051e-01,  3.5995e-01]], device='cuda:0',\n",
      "       requires_grad=True), Parameter containing:\n",
      "tensor([0.], device='cuda:0', requires_grad=True), Parameter containing:\n",
      "tensor([[-0.0609, -0.6176, -0.1732,  0.7731,  0.2638, -0.0780,  0.7813,  0.2188]],\n",
      "       device='cuda:0', requires_grad=True)]\n"
     ]
    }
   ],
   "source": [
    "model = Sequential('node_ohe, edge_index', [\n",
    "    (GCNConv(in_channels=data.num_node_features, out_channels=8), 'node_ohe, edge_index -> node_ohe'),\n",
    "    ReLU(inplace=True),\n",
    "    (GCNConv(in_channels=8, out_channels=1), 'node_ohe, edge_index -> node_ohe'),\n",
    "    Sigmoid(),\n",
    "])\n",
    "model.to(pp.config['torch']['device'])\n",
    "print([p for p in model.parameters()])"
   ]
  },
  {
   "cell_type": "code",
   "execution_count": 10,
   "metadata": {},
   "outputs": [
    {
     "data": {
      "text/plain": [
       "Data(edge_index=[2, 77], node_id=[0], node_name=[34, 1], node_groups=[34, 1], node__pos=[34, 1, 2], name='karate (77)', description='Network of friendships among members of a university karate club. Includes metadata for faction membership after a social partition. Note: there are two versions of this network, one with 77 edges and one with 78, due to an ambiguous typo in the original study. (The most commonly used is the one with 78 edges.)[^icon]\n",
       "[^icon]: Description obtained from the [ICON](https://icon.colorado.edu) project.', citation='['W. W. Zachary, \"An information flow model for conflict and fission in small groups.\" Journal of Anthropological Research 33, 452-473 (1977)., https://doi.org/10.1086/jar.33.4.3629752']', url='https://aaronclauset.github.io/datacode.htm', tags=[3], node_ohe=[34, 34], x=[34, 34], y=[34, 1], train_mask=[34], val_mask=[34], test_mask=[34])"
      ]
     },
     "execution_count": 10,
     "metadata": {},
     "output_type": "execute_result"
    }
   ],
   "source": [
    "transform = torch_geometric.transforms.RandomNodeSplit(split='train_rest', num_val=0.5, num_test=0)\n",
    "transform(data)"
   ]
  },
  {
   "cell_type": "code",
   "execution_count": 11,
   "metadata": {},
   "outputs": [],
   "source": [
    "epochs = 1000\n",
    "\n",
    "optimizer = torch.optim.Adam(model.parameters(), lr=0.01, weight_decay=5e-4)\n",
    "    \n",
    "losses = []\n",
    "\n",
    "model.train()\n",
    "for epoch in range(epochs):\n",
    "    optimizer.zero_grad()\n",
    "    out = model(data.x, data.edge_index)\n",
    "    loss = torch.nn.functional.binary_cross_entropy(out[data.train_mask], data.y[data.train_mask])\n",
    "    loss.backward()\n",
    "    optimizer.step()\n",
    "\n",
    "    losses.append(loss.cpu().detach().numpy())"
   ]
  },
  {
   "cell_type": "code",
   "execution_count": 17,
   "metadata": {},
   "outputs": [
    {
     "data": {
      "image/png": "[encoded data removed]",
      "text/plain": [
       "<Figure size 640x480 with 1 Axes>"
      ]
     },
     "metadata": {},
     "output_type": "display_data"
    }
   ],
   "source": [
    "plt.plot(range(epochs), losses)\n",
    "plt.grid()"
   ]
  },
  {
   "cell_type": "markdown",
   "metadata": {},
   "source": [
    "We evaluate the model in the test set"
   ]
  },
  {
   "cell_type": "code",
   "execution_count": 18,
   "metadata": {},
   "outputs": [
    {
     "data": {
      "text/plain": [
       "1.0"
      ]
     },
     "execution_count": 18,
     "metadata": {},
     "output_type": "execute_result"
    }
   ],
   "source": [
    "model.eval()\n",
    "predicted_groups = model(data.x, data.edge_index).round().long()\n",
    "metrics.adjusted_mutual_info_score(data.y[data.test_mask].squeeze().cpu().numpy(), predicted_groups[data.test_mask].squeeze().cpu().numpy())"
   ]
  },
  {
   "cell_type": "markdown",
   "metadata": {},
   "source": [
    "We visualize node representations learned by the model."
   ]
  },
  {
   "cell_type": "code",
   "execution_count": 19,
   "metadata": {},
   "outputs": [
    {
     "data": {
      "image/png": "[encoded data removed]",
      "text/plain": [
       "<Figure size 640x480 with 1 Axes>"
      ]
     },
     "metadata": {},
     "output_type": "display_data"
    }
   ],
   "source": [
    "# get activations in first-layer\n",
    "embedding = model[0].forward(data.x, data.edge_index)\n",
    "\n",
    "# dimensionality reduction\n",
    "svd = TruncatedSVD()\n",
    "low_dim = svd.fit_transform(embedding.cpu().detach().numpy())\n",
    "\n",
    "# plot with colors corresponding to groups in validation set\n",
    "colors = {}\n",
    "for v in range(g.N):\n",
    "    if data.val_mask[v]:\n",
    "        colors[v] = 'grey'\n",
    "    else:\n",
    "        if data.y[v].item() == 0.0:\n",
    "            colors[v] = 'blue'\n",
    "        else:\n",
    "            colors[v] = 'orange'\n",
    "\n",
    "plt.scatter(low_dim[:,0], low_dim[:,1], c=colors.values());"
   ]
  },
  {
   "cell_type": "code",
   "execution_count": 21,
   "metadata": {},
   "outputs": [
    {
     "name": "stdout",
     "output_type": "stream",
     "text": [
      "tensor([0., 1., 2., 3., 1., 1., 3., 4., 2., 1., 3., 1., 2., 4., 2., 2., 2., 2.,\n",
      "        2., 2., 2., 2., 1., 3., 3., 2., 2., 1., 2., 3., 2., 1., 4., 9.],\n",
      "       device='cuda:0')\n"
     ]
    }
   ],
   "source": [
    "g.data['node_degree'] = torch_geometric.utils.degree(g.data.edge_index[1])\n",
    "print(g.data['node_degree'])"
   ]
  },
  {
   "cell_type": "code",
   "execution_count": 29,
   "metadata": {},
   "outputs": [
    {
     "name": "stdout",
     "output_type": "stream",
     "text": [
      "tensor([[1.],\n",
      "        [1.],\n",
      "        [1.],\n",
      "        [1.],\n",
      "        [1.],\n",
      "        [1.],\n",
      "        [1.],\n",
      "        [1.],\n",
      "        [1.],\n",
      "        [1.],\n",
      "        [1.],\n",
      "        [1.],\n",
      "        [1.],\n",
      "        [1.],\n",
      "        [1.],\n",
      "        [1.],\n",
      "        [1.],\n",
      "        [1.],\n",
      "        [1.],\n",
      "        [1.],\n",
      "        [1.],\n",
      "        [1.],\n",
      "        [1.],\n",
      "        [1.],\n",
      "        [1.],\n",
      "        [1.],\n",
      "        [1.],\n",
      "        [1.],\n",
      "        [1.],\n",
      "        [1.],\n",
      "        [1.],\n",
      "        [1.],\n",
      "        [1.],\n",
      "        [1.]], device='cuda:0')\n"
     ]
    }
   ],
   "source": [
    "data = g.data\n",
    "data['edge_index'] = torch_geometric.utils.to_undirected(data.edge_index).to(pp.config['torch']['device'])\n",
    "data['x'] = torch.tensor([1.0]*34).reshape(34,1).to(pp.config['torch']['device'])\n",
    "data['y'] = torch_geometric.utils.degree(data.edge_index[1]).reshape(34,1).to(pp.config['torch']['device'])\n",
    "print(data['x'])"
   ]
  },
  {
   "cell_type": "code",
   "execution_count": 30,
   "metadata": {},
   "outputs": [],
   "source": [
    "class AggConv(MessagePassing):\n",
    "    def __init__(self, in_channels, out_channels):\n",
    "        super().__init__(aggr='add')  # \"Add\" aggregation (Step 5).\n",
    "        self.lin = Linear(in_channels, out_channels, bias=True)\n",
    "        #self.bias = Parameter(torch.empty(out_channels))\n",
    "\n",
    "        self.reset_parameters()\n",
    "\n",
    "    def reset_parameters(self):\n",
    "        self.lin.reset_parameters()\n",
    "        #self.bias.data.zero_()\n",
    "\n",
    "    def forward(self, x, edge_index):\n",
    "        # x has shape [N, in_channels]\n",
    "        # edge_index has shape [2, E]\n",
    "\n",
    "        # Step 1: Linearly transform node feature matrix.\n",
    "        x = self.lin(x)\n",
    "\n",
    "        # Step 2: Start propagating messages.\n",
    "        out = self.propagate(edge_index, x=x)\n",
    "\n",
    "        # Step 6: Apply a final bias vector.\n",
    "       # out += self.bias\n",
    "\n",
    "        return out\n",
    "\n",
    "    def message(self, x_j):\n",
    "        return x_j"
   ]
  },
  {
   "cell_type": "code",
   "execution_count": 44,
   "metadata": {},
   "outputs": [
    {
     "name": "stdout",
     "output_type": "stream",
     "text": [
      "[Parameter containing:\n",
      "tensor([[0.6534]], requires_grad=True), Parameter containing:\n",
      "tensor([0.0366], requires_grad=True)]\n"
     ]
    }
   ],
   "source": [
    "model = Sequential('node_degree, edge_index', [\n",
    "    (AggConv(in_channels=data.num_node_features, out_channels=1), 'node_degree, edge_index -> node_degree')\n",
    "])\n",
    "print([p for p in model.parameters()])"
   ]
  },
  {
   "cell_type": "code",
   "execution_count": 45,
   "metadata": {},
   "outputs": [
    {
     "data": {
      "text/plain": [
       "Sequential(\n",
       "  (0): AggConv()\n",
       ")"
      ]
     },
     "execution_count": 45,
     "metadata": {},
     "output_type": "execute_result"
    }
   ],
   "source": [
    "transform = torch_geometric.transforms.RandomNodeSplit(split='train_rest', num_val=0.5, num_test=0)\n",
    "transform(data)\n",
    "\n",
    "model.to(pp.config['torch']['device'])"
   ]
  },
  {
   "cell_type": "code",
   "execution_count": 46,
   "metadata": {},
   "outputs": [
    {
     "name": "stdout",
     "output_type": "stream",
     "text": [
      "[Parameter containing:\n",
      "tensor([[0.8081]], device='cuda:0', requires_grad=True), Parameter containing:\n",
      "tensor([0.1916], device='cuda:0', requires_grad=True)]\n"
     ]
    }
   ],
   "source": [
    "epochs = 1000\n",
    "\n",
    "optimizer = torch.optim.Adam(model.parameters(), lr=0.005, weight_decay=5e-4)\n",
    "losses = []\n",
    "\n",
    "model.train()\n",
    "for epoch in range(epochs):\n",
    "    optimizer.zero_grad()\n",
    "    out = model(data.x, data.edge_index)\n",
    "    loss = torch.nn.functional.l1_loss(out[data.train_mask], data.y[data.train_mask])\n",
    "    loss.backward()\n",
    "    optimizer.step()\n",
    "\n",
    "    losses.append(loss.cpu().detach().numpy())\n",
    "\n",
    "print([p for p in model.parameters()])"
   ]
  },
  {
   "cell_type": "code",
   "execution_count": 47,
   "metadata": {},
   "outputs": [
    {
     "data": {
      "image/png": "[encoded data removed]",
      "text/plain": [
       "<Figure size 640x480 with 1 Axes>"
      ]
     },
     "metadata": {},
     "output_type": "display_data"
    }
   ],
   "source": [
    "plt.plot(range(epochs), losses)\n",
    "plt.grid()"
   ]
  },
  {
   "cell_type": "code",
   "execution_count": 48,
   "metadata": {},
   "outputs": [
    {
     "data": {
      "text/plain": [
       "0.0010500374"
      ]
     },
     "execution_count": 48,
     "metadata": {},
     "output_type": "execute_result"
    }
   ],
   "source": [
    "model.eval()\n",
    "predicted_degrees = model(data.x, data.edge_index).detach()\n",
    "metrics.mean_absolute_error(data.y[data.val_mask].squeeze().cpu().numpy(), predicted_degrees[data.val_mask].squeeze().cpu().numpy())"
   ]
  },
  {
   "cell_type": "code",
   "execution_count": 49,
   "metadata": {},
   "outputs": [
    {
     "data": {
      "text/plain": [
       "tensor([[15.9957],\n",
       "        [ 8.9976],\n",
       "        [ 9.9973],\n",
       "        [ 5.9984],\n",
       "        [ 2.9992],\n",
       "        [ 3.9989],\n",
       "        [ 3.9989],\n",
       "        [ 3.9989],\n",
       "        [ 4.9987],\n",
       "        [ 1.9995],\n",
       "        [ 2.9992],\n",
       "        [ 0.9997],\n",
       "        [ 1.9995],\n",
       "        [ 4.9987],\n",
       "        [ 1.9995],\n",
       "        [ 1.9995],\n",
       "        [ 1.9995],\n",
       "        [ 1.9995],\n",
       "        [ 1.9995],\n",
       "        [ 2.9992],\n",
       "        [ 1.9995],\n",
       "        [ 1.9995],\n",
       "        [ 0.9997],\n",
       "        [ 4.9987],\n",
       "        [ 2.9992],\n",
       "        [ 2.9992],\n",
       "        [ 1.9995],\n",
       "        [ 3.9989],\n",
       "        [ 2.9992],\n",
       "        [ 3.9989],\n",
       "        [ 3.9989],\n",
       "        [ 5.9984],\n",
       "        [11.9968],\n",
       "        [15.9957]], device='cuda:0', grad_fn=<ScatterAddBackward0>)"
      ]
     },
     "execution_count": 49,
     "metadata": {},
     "output_type": "execute_result"
    }
   ],
   "source": [
    "model(data.x, data.edge_index)"
   ]
  },
  {
   "cell_type": "code",
   "execution_count": 50,
   "metadata": {},
   "outputs": [
    {
     "data": {
      "text/plain": [
       "tensor([[16.],\n",
       "        [ 9.],\n",
       "        [10.],\n",
       "        [ 6.],\n",
       "        [ 3.],\n",
       "        [ 4.],\n",
       "        [ 4.],\n",
       "        [ 4.],\n",
       "        [ 5.],\n",
       "        [ 2.],\n",
       "        [ 3.],\n",
       "        [ 1.],\n",
       "        [ 2.],\n",
       "        [ 5.],\n",
       "        [ 2.],\n",
       "        [ 2.],\n",
       "        [ 2.],\n",
       "        [ 2.],\n",
       "        [ 2.],\n",
       "        [ 3.],\n",
       "        [ 2.],\n",
       "        [ 2.],\n",
       "        [ 1.],\n",
       "        [ 5.],\n",
       "        [ 3.],\n",
       "        [ 3.],\n",
       "        [ 2.],\n",
       "        [ 4.],\n",
       "        [ 3.],\n",
       "        [ 4.],\n",
       "        [ 4.],\n",
       "        [ 6.],\n",
       "        [12.],\n",
       "        [16.]], device='cuda:0')"
      ]
     },
     "execution_count": 50,
     "metadata": {},
     "output_type": "execute_result"
    }
   ],
   "source": [
    "data.y"
   ]
  }
 ],
 "metadata": {
  "kernelspec": {
   "display_name": "base",
   "language": "python",
   "name": "python3"
  },
  "language_info": {
   "codemirror_mode": {
    "name": "ipython",
    "version": 3
   },
   "file_extension": ".py",
   "mimetype": "text/x-python",
   "name": "python",
   "nbconvert_exporter": "python",
   "pygments_lexer": "ipython3",
   "version": "3.10.11"
  },
  "orig_nbformat": 4
 },
 "nbformat": 4,
 "nbformat_minor": 2
}
