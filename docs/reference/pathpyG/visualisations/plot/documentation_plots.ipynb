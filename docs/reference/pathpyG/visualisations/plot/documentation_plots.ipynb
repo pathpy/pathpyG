{
 "cells": [
  {
   "cell_type": "code",
   "execution_count": null,
   "id": "9d7f85a4",
   "metadata": {},
   "outputs": [],
   "source": [
    "import pathpyG as pp\n",
    "\n",
    "# Example temporal network data\n",
    "tedges = [\n",
    "    (\"a\", \"b\", 1),\n",
    "    (\"a\", \"b\", 2),\n",
    "    (\"b\", \"a\", 3),\n",
    "    (\"b\", \"c\", 3),\n",
    "    (\"d\", \"c\", 4),\n",
    "    (\"a\", \"b\", 4),\n",
    "    (\"c\", \"b\", 4),\n",
    "    (\"c\", \"d\", 5),\n",
    "    (\"b\", \"a\", 5),\n",
    "    (\"c\", \"b\", 6),\n",
    "]\n",
    "t = pp.TemporalGraph.from_edge_list(tedges)\n",
    "\n",
    "# Create temporal plot and display inline\n",
    "pp.plot(t, filename=\"d3js_temporal.html\")"
   ]
  },
  {
   "cell_type": "code",
   "execution_count": null,
   "id": "011e3cc1",
   "metadata": {},
   "outputs": [],
   "source": [
    "import pathpyG as pp\n",
    "\n",
    "# Example network data\n",
    "edges = [\n",
    "    (\"a\", \"b\"),\n",
    "    (\"a\", \"c\"),\n",
    "    (\"b\", \"c\"),\n",
    "    (\"c\", \"d\"),\n",
    "    (\"d\", \"e\"),\n",
    "    (\"e\", \"a\"),\n",
    "]\n",
    "g = pp.Graph.from_edge_list(edges)\n",
    "pp.plot(g, filename=\"d3js_static.html\")"
   ]
  },
  {
   "cell_type": "code",
   "execution_count": null,
   "id": "639acb38",
   "metadata": {},
   "outputs": [],
   "source": [
    "import torch\n",
    "import pathpyG as pp\n",
    "\n",
    "# Example undirected network data\n",
    "edge_index = torch.tensor([[0, 1, 3, 3], [1, 2, 1, 0]])\n",
    "g = pp.Graph.from_edge_index(edge_index).to_undirected()\n",
    "\n",
    "# Create static plot and display inline\n",
    "pp.plot(g, backend=\"matplotlib\", filename=\"matplotlib_undirected.png\")"
   ]
  },
  {
   "cell_type": "code",
   "execution_count": null,
   "id": "e9b55019",
   "metadata": {},
   "outputs": [],
   "source": [
    "import torch\n",
    "import pathpyG as pp\n",
    "\n",
    "# Example network data\n",
    "edges = [\n",
    "    (\"a\", \"b\"),\n",
    "    (\"a\", \"c\"),\n",
    "    (\"b\", \"d\"),\n",
    "    (\"c\", \"d\"),\n",
    "    (\"d\", \"a\"),\n",
    "]\n",
    "g = pp.Graph.from_edge_list(edges)\n",
    "\n",
    "# Add properties as attributes to the graph\n",
    "g.data[\"node_size\"] = torch.tensor([10, 15, 20, 15])\n",
    "g.data[\"edge_color\"] = torch.tensor([0, 1, 2, 1, 0])\n",
    "g.data[\"node_opacity\"] = torch.zeros(g.n)\n",
    "\n",
    "# Create static plot with custom settings and display inline\n",
    "pp.plot(\n",
    "    g,\n",
    "    backend=\"tikz\",\n",
    "    node_color={\"a\": \"red\", \"b\": \"#00FF00\"},\n",
    "    edge_opacity={(\"a\", \"b\"): 0.1, (\"a\", \"c\"): 0.5, (\"b\", \"d\"): 1.0},\n",
    "    node_opacity=1.0,  # override graph attribute\n",
    "    edge_size=torch.tensor([1, 2, 3, 2, 1]),\n",
    "    filename=\"tikz_custom_properties.svg\"\n",
    ")"
   ]
  },
  {
   "cell_type": "code",
   "execution_count": null,
   "id": "bd65a329",
   "metadata": {},
   "outputs": [],
   "source": [
    "import torch\n",
    "import pathpyG as pp\n",
    "\n",
    "# Example network data\n",
    "edges = [\n",
    "    (\"b\", \"a\"),\n",
    "    (\"c\", \"a\"),\n",
    "]\n",
    "mapping = pp.IndexMap([\"a\", \"b\", \"c\", \"d\"])\n",
    "g = pp.Graph.from_edge_list(edges, mapping=mapping)\n",
    "g.data[\"node_size\"] = torch.tensor([25]*4)\n",
    "pp.plot(\n",
    "    g,\n",
    "    node_size={\"d\": 50},\n",
    "    edge_size=5,\n",
    "    node_image={\n",
    "        \"a\": \"https://avatars.githubusercontent.com/u/52822508?s=48&v=4\",\n",
    "        \"b\": \"https://raw.githubusercontent.com/pyg-team/pyg_sphinx_theme/master/pyg_sphinx_theme/static/img/pyg_logo.png\",\n",
    "        \"c\": \"https://pytorch-geometric.readthedocs.io/en/latest/_static/img/pytorch_logo.svg\",\n",
    "        \"d\": \"/workspaces/pathpyG/docs/img/pathpy_logo_new.png\",\n",
    "    },\n",
    "    show_labels=False,\n",
    "    filename=\"d3js_custom_node_images.html\",\n",
    ")"
   ]
  },
  {
   "cell_type": "code",
   "execution_count": null,
   "id": "b31fb5a7",
   "metadata": {},
   "outputs": [],
   "source": [
    "import torch\n",
    "import numpy as np\n",
    "import pathpyG as pp\n",
    "\n",
    "# Example temporal network data\n",
    "tedges = [\n",
    "    (\"a\", \"b\", 1),\n",
    "    (\"a\", \"b\", 2),\n",
    "    (\"b\", \"a\", 3),\n",
    "    (\"b\", \"c\", 3),\n",
    "]\n",
    "t = pp.TemporalGraph.from_edge_list(tedges)\n",
    "t.data[\"node_size\"] = torch.tensor([15, 8, 19])\n",
    "t.data[\"node_color\"] = np.array([\"blue\", \"green\", \"orange\"])\n",
    "t.data[\"edge_color\"] = torch.tensor([0, 1, 2, 1])\n",
    "\n",
    "# Create temporal plot and display inline\n",
    "pp.plot(\n",
    "    t,\n",
    "    backend=\"manim\",\n",
    "    node_opacity=0.5,\n",
    "    edge_size={(\"a\", \"b\", 1): 10, (\"a\", \"b\", 2): 1},\n",
    "    node_color={(\"b\", 2): \"red\", \"a\": \"purple\"}, # node_color for node 'a' is set to 'purple' from the start\n",
    "    filename=\"manim_custom_properties.gif\"\n",
    ")"
   ]
  },
  {
   "cell_type": "markdown",
   "id": "324fc97c",
   "metadata": {},
   "source": [
    "## Layouts"
   ]
  },
  {
   "cell_type": "code",
   "execution_count": null,
   "id": "90d4b5cf",
   "metadata": {},
   "outputs": [],
   "source": [
    "import pathpyG as pp\n",
    "from torch_geometric import seed_everything\n",
    "seed_everything(42)\n",
    "\n",
    "g = pp.algorithms.generative_models.watts_strogatz(30, 2, 0.25)\n",
    "pp.plot(g, backend=\"tikz\", layout=\"random\", filename=\"tikz_random_layout.svg\")"
   ]
  },
  {
   "cell_type": "code",
   "execution_count": null,
   "id": "11b1d2fd",
   "metadata": {},
   "outputs": [],
   "source": [
    "import pathpyG as pp\n",
    "from torch_geometric import seed_everything\n",
    "seed_everything(42)\n",
    "\n",
    "g = pp.algorithms.generative_models.watts_strogatz(30, 2, 0.25)\n",
    "pp.plot(g, backend=\"tikz\", layout=\"circle\", filename=\"tikz_circle_layout.svg\")"
   ]
  },
  {
   "cell_type": "code",
   "execution_count": null,
   "id": "fa396cc5",
   "metadata": {},
   "outputs": [],
   "source": [
    "import pathpyG as pp\n",
    "from torch_geometric import seed_everything\n",
    "seed_everything(42)\n",
    "\n",
    "g = pp.algorithms.generative_models.watts_strogatz(30, 2, 0.25)\n",
    "pp.plot(g, backend=\"tikz\", layout=\"shell\", filename=\"tikz_shell_layout.svg\")"
   ]
  },
  {
   "cell_type": "code",
   "execution_count": null,
   "id": "9f8031bb",
   "metadata": {},
   "outputs": [],
   "source": [
    "import pathpyG as pp\n",
    "from torch_geometric import seed_everything\n",
    "seed_everything(42)\n",
    "\n",
    "g = pp.algorithms.generative_models.watts_strogatz(30, 2, 0.25)\n",
    "pp.plot(g, backend=\"tikz\", layout=\"spectral\", filename=\"tikz_spectral_layout.svg\")"
   ]
  },
  {
   "cell_type": "code",
   "execution_count": null,
   "id": "49f57f41",
   "metadata": {},
   "outputs": [],
   "source": [
    "import pathpyG as pp\n",
    "from torch_geometric import seed_everything\n",
    "seed_everything(42)\n",
    "\n",
    "g = pp.algorithms.generative_models.watts_strogatz(30, 2, 0.25)\n",
    "pp.plot(g, backend=\"tikz\", layout=\"kk\", filename=\"tikz_kk_layout.svg\")"
   ]
  },
  {
   "cell_type": "code",
   "execution_count": null,
   "id": "2ab50ca7",
   "metadata": {},
   "outputs": [],
   "source": [
    "import pathpyG as pp\n",
    "from torch_geometric import seed_everything\n",
    "seed_everything(42)\n",
    "\n",
    "g = pp.algorithms.generative_models.watts_strogatz(30, 2, 0.25)\n",
    "pp.plot(g, backend=\"tikz\", layout=\"spring\", filename=\"tikz_spring_layout.svg\")"
   ]
  },
  {
   "cell_type": "code",
   "execution_count": null,
   "id": "07bbd250",
   "metadata": {},
   "outputs": [],
   "source": [
    "import pathpyG as pp\n",
    "from torch_geometric import seed_everything\n",
    "seed_everything(42)\n",
    "\n",
    "g = pp.algorithms.generative_models.watts_strogatz(30, 2, 0.25)\n",
    "pp.plot(g, backend=\"tikz\", layout=\"fa2\", filename=\"tikz_fa2_layout.svg\")"
   ]
  },
  {
   "cell_type": "code",
   "execution_count": null,
   "id": "e3a120f7",
   "metadata": {},
   "outputs": [],
   "source": [
    "import pathpyG as pp\n",
    "from torch_geometric import seed_everything\n",
    "seed_everything(42)\n",
    "\n",
    "g = pp.algorithms.generative_models.watts_strogatz(30, 2, 0.25)\n",
    "pp.plot(g, backend=\"tikz\", layout=\"grid\", filename=\"tikz_grid_layout.svg\")"
   ]
  },
  {
   "cell_type": "code",
   "execution_count": null,
   "id": "1d774139",
   "metadata": {},
   "outputs": [],
   "source": [
    "import pathpyG as pp\n",
    "\n",
    "g = pp.Graph.from_edge_list([(\"a\", \"b\"), (\"a\", \"c\"), (\"b\", \"d\"), (\"c\", \"d\"), (\"d\", \"a\")])\n",
    "# Provide custom x and y coordinates for a layout\n",
    "layout = {\n",
    "    \"a\": (0, 0),\n",
    "    \"b\": (1, 0),\n",
    "    \"c\": (0, 1),\n",
    "    \"d\": (1, 1)\n",
    "}\n",
    "pp.plot(g, backend=\"tikz\", layout=layout, filename=\"tikz_layout.svg\")"
   ]
  },
  {
   "cell_type": "code",
   "execution_count": null,
   "id": "0780f52c",
   "metadata": {},
   "outputs": [],
   "source": [
    "import pathpyG as pp\n",
    "\n",
    "# Example temporal network data\n",
    "tedges = [\n",
    "    (\"a\", \"b\", 1),\n",
    "    (\"a\", \"b\", 2),\n",
    "    (\"b\", \"a\", 3),\n",
    "    (\"b\", \"c\", 3),\n",
    "    (\"d\", \"c\", 4),\n",
    "    (\"a\", \"b\", 4),\n",
    "    (\"c\", \"b\", 4),\n",
    "    (\"c\", \"d\", 5),\n",
    "    (\"b\", \"a\", 5),\n",
    "    (\"c\", \"b\", 6),\n",
    "]\n",
    "t = pp.TemporalGraph.from_edge_list(tedges)\n",
    "\n",
    "# Create temporal plot and display inline\n",
    "pp.plot(t, backend=\"manim\", layout_window_size=2, layout=\"fa2\", filename=\"manim_temporal_fa2.gif\")"
   ]
  },
  {
   "cell_type": "code",
   "execution_count": 3,
   "id": "69983370",
   "metadata": {},
   "outputs": [
    {
     "data": {
      "text/plain": [
       "<pathpyG.visualisations._d3js.backend.D3jsBackend at 0x7f2e583ee050>"
      ]
     },
     "execution_count": 3,
     "metadata": {},
     "output_type": "execute_result"
    }
   ],
   "source": [
    "import pathpyG as pp\n",
    "\n",
    "# Example network data\n",
    "g = pp.Graph.from_edge_list([(\"a\", \"b\"), (\"a\", \"c\")])\n",
    "\n",
    "# Create network plot and display inline\n",
    "pp.plot(g, node={\"opacity\": 0.2}, filename=\"d3js_node_opacity.html\")"
   ]
  },
  {
   "cell_type": "code",
   "execution_count": null,
   "id": "e262e2ad",
   "metadata": {},
   "outputs": [],
   "source": []
  }
 ],
 "metadata": {
  "kernelspec": {
   "display_name": "pathpyg",
   "language": "python",
   "name": "python3"
  },
  "language_info": {
   "codemirror_mode": {
    "name": "ipython",
    "version": 3
   },
   "file_extension": ".py",
   "mimetype": "text/x-python",
   "name": "python",
   "nbconvert_exporter": "python",
   "pygments_lexer": "ipython3",
   "version": "3.10.18"
  }
 },
 "nbformat": 4,
 "nbformat_minor": 5
}
