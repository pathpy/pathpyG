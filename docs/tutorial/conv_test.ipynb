{
 "cells": [
  {
   "cell_type": "code",
   "execution_count": 1,
   "metadata": {},
   "outputs": [],
   "source": [
    "import pathpyG as pp\n",
    "import torch \n",
    "import torch_geometric"
   ]
  },
  {
   "cell_type": "code",
   "execution_count": 2,
   "metadata": {},
   "outputs": [
    {
     "name": "stdout",
     "output_type": "stream",
     "text": [
      "a -> 0\n",
      "c -> 1\n",
      "b -> 2\n",
      "d -> 3\n",
      "e -> 4\n",
      "\n"
     ]
    },
    {
     "data": {
      "text/html": [
       "<style>\n",
       "svg circle.node {\n",
       "  fill: #3b5998;\n",
       "  stroke: #1b3978;\n",
       "  stroke-width: 2.5px;\n",
       "  r: 15px;\n",
       "  opacity: 1;\n",
       "}\n",
       "\n",
       ".link {\n",
       "  stroke: #969595;\n",
       "  stroke-opacity: .75;\n",
       "  stroke-width: 2.5px;\n",
       "}\n",
       "\n",
       ".arrow {\n",
       "  fill: #969595;\n",
       "}\n",
       "\n",
       "\n",
       ".label-text {\n",
       "    fill: #969595;\n",
       "    font-size: 16px;\n",
       "    font-family: sans-serif;\n",
       "}\n",
       "\n",
       "</style>\n",
       "\n",
       "<div id = \"xe7b98e65ffa342b3a55ad77108919df4\"> </div>\n",
       "<script charset=\"utf-8\" src=\"https://d3js.org/d3.v5.min.js\"></script>\n",
       "<script charset=\"utf-8\">\n",
       "// Load via requireJS if available (jupyter notebook environment)\n",
       "try {\n",
       "    // Problem: require.config will raise an exception when called for the second time \n",
       "    require.config({\n",
       "        paths: {\n",
       "            d3: \"https://d3js.org/d3.v5.min.js\".replace(\".js\", \"\")\n",
       "        }\n",
       "    });\n",
       "    console.log(\"OKAY: requireJS was detected.\");\n",
       "}\n",
       "catch(err){\n",
       "    // a reference error indicates that requireJS does not exist. \n",
       "    // other errors may occur due to multiple calls to config\n",
       "    if (err instanceof ReferenceError){\n",
       "        console.log(\"WARNING: NO requireJS was detected!\");\n",
       "\n",
       "        // Helper function that waits for d3js to be loaded\n",
       "        require = function require(symbols, callback) {\n",
       "            var ms = 10;\n",
       "            window.setTimeout(function(t) {\n",
       "                if (window[symbols[0]])\n",
       "                    callback(window[symbols[0]]);\n",
       "                else \n",
       "                    window.setTimeout(arguments.callee, ms);\n",
       "            }, ms);\n",
       "        }\n",
       "    }\n",
       "};\n",
       "require(['d3'], function(d3){ //START\n",
       "const data = {\"edges\": [{\"uid\": \"a-c\", \"source\": \"a\", \"target\": \"c\", \"color\": \"gray\", \"weight\": 1}, {\"uid\": \"c-d\", \"source\": \"c\", \"target\": \"d\", \"color\": \"gray\", \"weight\": 1}, {\"uid\": \"c-e\", \"source\": \"c\", \"target\": \"e\", \"color\": \"gray\", \"weight\": 1}, {\"uid\": \"b-c\", \"source\": \"b\", \"target\": \"c\", \"color\": \"gray\", \"weight\": 1}], \"nodes\": [{\"uid\": \"a\"}, {\"uid\": \"c\"}, {\"uid\": \"b\"}, {\"uid\": \"d\"}, {\"uid\": \"e\"}]}\n",
       "const config = {\"edge_color\": \"gray\", \"directed\": true, \"curved\": true, \"selector\": \"#xe7b98e65ffa342b3a55ad77108919df4\"}\n",
       "console.log(\"Static Network Template\");\n",
       "/* Resources\n",
       "   https://bl.ocks.org/mapio/53fed7d84cd1812d6a6639ed7aa83868\n",
       "   https://codepen.io/smlo/pen/JdMOej\n",
       "*/\n",
       "\n",
       "// variables from the config file\n",
       "const selector = config.selector;\n",
       "const width = config.width || 800;\n",
       "const height = config.height || 600;\n",
       "const charge_distance = config.charge_distance || 400;\n",
       "const charge_force = config.charge_force || -3000;\n",
       "const curved = config.curved || false;\n",
       "const directed = config.directed || false;\n",
       "// const weight = false;\n",
       "\n",
       "/* Create a svg element to display the network */\n",
       "var svg = d3.select(selector)\n",
       "    .append('svg')\n",
       "    .attr('width', width)\n",
       "    .attr('height', height)\n",
       "\n",
       "// add container to store the elements\n",
       "var container = svg.append(\"g\");\n",
       "\n",
       "/*Add zoom function to the container */\n",
       "svg.call(\n",
       "    d3.zoom()\n",
       "        .scaleExtent([.1, 4])\n",
       "        .on(\"zoom\", function() { container.attr(\"transform\", d3.event.transform); })\n",
       ");\n",
       "\n",
       "\n",
       "/*Load nodes and links from the data */\n",
       "var nodes = data.nodes\n",
       "var links = data.edges\n",
       "\n",
       "/*Create arrow head with same color as the edge */\n",
       "function marker (color) {\n",
       "       var reference;\n",
       "       svg.append(\"svg:defs\").selectAll(\"marker\")\n",
       "          .data([reference])\n",
       "          .enter().append(\"svg:marker\")\n",
       "          .attr(\"id\", \"arrow\"+color)\n",
       "          .attr(\"viewBox\", \"0 -5 10 10\")\n",
       "          .attr(\"refX\", 10)\n",
       "          .attr(\"refY\", -0)\n",
       "          .attr(\"markerWidth\", 6)\n",
       "          .attr(\"markerHeight\", 6)\n",
       "          .attr(\"orient\", \"auto\")\n",
       "          .append(\"svg:path\")\n",
       "          .attr('class','.arrow')\n",
       "          .attr(\"d\", \"M0,-5L10,0L0,5\")\n",
       "          .style('opacity',1)\n",
       "          .style(\"fill\", color);\n",
       "       return \"url(#\" + \"arrow\"+color + \")\";\n",
       "     };\n",
       "\n",
       "/*Link creation template */\n",
       "var link = container.append(\"g\").attr(\"class\", \"links\")\n",
       "    .selectAll(\".link\")\n",
       "    .data(links)\n",
       "    .enter()\n",
       "    .append(\"path\")\n",
       "    .attr(\"class\", \"link\")\n",
       "    .style(\"stroke\", function(d) { return d.color; })\n",
       "    .style(\"stroke-opacity\", function(d) { return d.opacity; })\n",
       "    .style(\"stroke-width\", function(d){  return d.size })\n",
       "    .style(\"fill\",\"none\")\n",
       "    .attr(\"marker-end\", function (d) {if(directed){return marker(d.color)}else{return null}; });\n",
       "\n",
       "    //.attr(\"marker-end\", function (d) { return marker(d.color); });\n",
       "    //.attr(\"marker-end\", \"url(#arrow)\");\n",
       "\n",
       "/*Node creation template */\n",
       "var node = container.append(\"g\").attr(\"class\", \"nodes\")\n",
       "    .selectAll(\"circle.node\")\n",
       "    .data(nodes)\n",
       "    .enter().append(\"circle\")\n",
       "    .attr(\"class\", \"node\")\n",
       "    .attr(\"x\", function(d) { return d.x; })\n",
       "    .attr(\"y\", function(d) { return d.y; })\n",
       "    .style(\"r\", function(d){  return d.size+\"px\"; })\n",
       "    .style(\"fill\", function(d) { return d.color; })\n",
       "    .style(\"opacity\", function(d) { return d.opacity; });\n",
       "\n",
       "/*Label creation template */\n",
       "var text = container.append(\"g\").attr(\"class\",\"labels\")\n",
       "    .selectAll(\"g\")\n",
       "    .data(nodes)\n",
       "    .enter().append(\"g\")\n",
       "\n",
       "text.append(\"text\")\n",
       "    .attr(\"class\", \"label-text\")\n",
       "    .attr(\"x\", function(d) {\n",
       "        var r = (d.size === undefined) ? 15 : d.size;\n",
       "        return 5 + r; })\n",
       "    .attr(\"dy\", \".31em\")\n",
       "    .text(function(d) { return d.label; });\n",
       "\n",
       "/*Scale weight for d3js */\n",
       "var weightScale = d3.scaleLinear()\n",
       "    .domain(d3.extent(links, function (d) { return d.weight }))\n",
       "    .range([.1, 1]);\n",
       "\n",
       "/*Simulation of the forces*/\n",
       "var simulation = d3.forceSimulation(nodes)\n",
       "    .force(\"links\", d3.forceLink(links)\n",
       "           .id(function(d) {return d.uid; })\n",
       "           .distance(50)\n",
       "           .strength(function(d){return weightScale(d.weight);})\n",
       "          )\n",
       "    .force(\"charge\", d3.forceManyBody()\n",
       "           .strength(charge_force)\n",
       "           .distanceMax(charge_distance)\n",
       "          )\n",
       "    .force(\"center\", d3.forceCenter(width / 2, height / 2))\n",
       "    .on(\"tick\", ticked);\n",
       "\n",
       "/*Update of the node and edge objects*/\n",
       "function ticked() {\n",
       "    node.call(updateNode);\n",
       "    link.call(updateLink);\n",
       "    text.call(updateText);\n",
       "};\n",
       "\n",
       "/*Update link positions */\n",
       "function updateLink(link) {\n",
       "    // link\n",
       "    //     .attr(\"x1\", function(d) { return d.source.x; })\n",
       "    //     .attr(\"y1\", function(d) { return d.source.y; })\n",
       "    //     .attr(\"x2\", function(d) { return d.target.x; })\n",
       "    //     .attr(\"y2\", function(d) { return d.target.y; });\n",
       "\n",
       "\n",
       "    link.attr(\"d\", function(d) {\n",
       "        var dx = d.target.x - d.source.x,\n",
       "            dy = d.target.y - d.source.y,\n",
       "            dr = Math.sqrt(dx * dx + dy * dy);\n",
       "        if(!curved)dr=0;\n",
       "        return \"M\" +\n",
       "            d.source.x + \",\" +\n",
       "            d.source.y + \"A\" +\n",
       "            dr + \",\" + dr + \" 0 0,1 \" +\n",
       "            d.target.x + \",\" +\n",
       "            d.target.y;\n",
       "    });\n",
       "\n",
       "    // recalculate and back off the distance\n",
       "    link.attr(\"d\", function (d, i) {\n",
       "        var pl = this.getTotalLength();\n",
       "        var r = (d.target.size === undefined) ? 15 : d.target.size;\n",
       "        var m = this.getPointAtLength(pl - r);\n",
       "        var dx = d.target.x - d.source.x,\n",
       "            dy = d.target.y - d.source.y,\n",
       "            dr = Math.sqrt(dx * dx + dy * dy);\n",
       "        if(!curved)dr=0;\n",
       "        var result = \"M\" + d.source.x + \",\" + d.source.y + \"A\" + dr + \",\" + dr + \" 0 0,1 \" + m.x + \",\" + m.y;\n",
       "        return result;\n",
       "    });\n",
       "};\n",
       "\n",
       "\n",
       "/*Update node positions */\n",
       "function updateNode(node) {\n",
       "    node.attr(\"transform\", function(d) {\n",
       "        return \"translate(\" + d.x + \",\" + d.y + \")\";\n",
       "    });\n",
       "    // node\n",
       "    //     .attr(\"cx\", function(d) { return d.x; })\n",
       "    //     .attr(\"cy\", function(d) { return d.y; });\n",
       "};\n",
       "\n",
       "/*Update text positions */\n",
       "function updateText(text) {\n",
       "    text.attr(\"transform\", function(d) {\n",
       "        return \"translate(\" + d.x + \",\" + d.y + \")\";\n",
       "    });\n",
       "};\n",
       "\n",
       "/*Add drag functionality to the node objects*/\n",
       "node.call(\n",
       "    d3.drag()\n",
       "        .on(\"start\", dragstarted)\n",
       "        .on(\"drag\", dragged)\n",
       "        .on(\"end\", dragended)\n",
       ");\n",
       "\n",
       "function dragstarted(d) {\n",
       "    d3.event.sourceEvent.stopPropagation();\n",
       "    if (!d3.event.active) simulation.alphaTarget(0.3).restart();\n",
       "    d.fx = d.x;\n",
       "    d.fy = d.y;\n",
       "};\n",
       "\n",
       "function dragged(d) {\n",
       "    d.fx = d3.event.x;\n",
       "    d.fy = d3.event.y;\n",
       "};\n",
       "\n",
       "function dragended(d) {\n",
       "    if (!d3.event.active) simulation.alphaTarget(0);\n",
       "    d.fx = null;\n",
       "    d.fy = null;\n",
       "};\n",
       "\n",
       "}); //END\n",
       "\n",
       "</script>"
      ]
     },
     "metadata": {},
     "output_type": "display_data"
    },
    {
     "data": {
      "text/plain": [
       "<pathpyG.visualisations.network_plots.StaticNetworkPlot at 0x7f13ab95e590>"
      ]
     },
     "execution_count": 2,
     "metadata": {},
     "output_type": "execute_result"
    }
   ],
   "source": [
    "g = pp.Graph.from_edge_list([('a', 'c'), ('b', 'c'), ('c', 'd'), ('c', 'e')])\n",
    "print(g.mapping)\n",
    "pp.plot(g, edge_color='gray')"
   ]
  },
  {
   "cell_type": "code",
   "execution_count": 3,
   "metadata": {},
   "outputs": [],
   "source": [
    "pp.config['torch']['device'] = 'cuda'"
   ]
  },
  {
   "cell_type": "code",
   "execution_count": 4,
   "metadata": {},
   "outputs": [
    {
     "name": "stdout",
     "output_type": "stream",
     "text": [
      "tensor([[[ 0,  1, -1],\n",
      "         [ 1,  3, -1]],\n",
      "\n",
      "        [[ 2,  1,  4],\n",
      "         [ 1,  4,  2]],\n",
      "\n",
      "        [[ 0,  1, -1],\n",
      "         [ 1,  3, -1]],\n",
      "\n",
      "        [[ 2,  1,  4],\n",
      "         [ 1,  4,  2]],\n",
      "\n",
      "        [[ 0,  1, -1],\n",
      "         [ 1,  3, -1]],\n",
      "\n",
      "        [[ 2,  1,  4],\n",
      "         [ 1,  4,  2]],\n",
      "\n",
      "        [[ 0,  1, -1],\n",
      "         [ 1,  3, -1]],\n",
      "\n",
      "        [[ 2,  1,  4],\n",
      "         [ 1,  4,  2]],\n",
      "\n",
      "        [[ 0,  1, -1],\n",
      "         [ 1,  3, -1]],\n",
      "\n",
      "        [[ 2,  1,  4],\n",
      "         [ 1,  4,  2]]], device='cuda:0')\n",
      "tensor([[1],\n",
      "        [3],\n",
      "        [1],\n",
      "        [3],\n",
      "        [1],\n",
      "        [3],\n",
      "        [1],\n",
      "        [3],\n",
      "        [1],\n",
      "        [3]], device='cuda:0')\n"
     ]
    },
    {
     "name": "stderr",
     "output_type": "stream",
     "text": [
      "/tmp/ipykernel_7220/2462390652.py:4: UserWarning: The PyTorch API of nested tensors is in prototype stage and will change in the near future. (Triggered internally at ../aten/src/ATen/NestedTensorImpl.cpp:178.)\n",
      "  paths = torch.nested.nested_tensor([[[0,1], [1,3]], [[2,1,4],[1,4,2]]], device=pp.config['torch']['device']).to_padded_tensor(padding=-1)\n"
     ]
    }
   ],
   "source": [
    "n = 5\n",
    "k = 2\n",
    "\n",
    "paths = torch.nested.nested_tensor([[[0,1], [1,3]], [[2,1,4],[1,4,2]]], device=pp.config['torch']['device']).to_padded_tensor(padding=-1)\n",
    "counts = torch.tensor([[1], [3]], device=pp.config['torch']['device'])\n",
    "paths = paths.repeat(n, 1, 1)\n",
    "counts = counts.repeat(n, 1).long()\n",
    "print(paths)\n",
    "print(counts)"
   ]
  },
  {
   "cell_type": "code",
   "execution_count": 5,
   "metadata": {},
   "outputs": [
    {
     "name": "stdout",
     "output_type": "stream",
     "text": [
      "tensor([[[[ 0,  1],\n",
      "          [ 1, -1]],\n",
      "\n",
      "         [[ 1,  3],\n",
      "          [ 3, -1]]],\n",
      "\n",
      "\n",
      "        [[[ 2,  1],\n",
      "          [ 1,  4]],\n",
      "\n",
      "         [[ 1,  4],\n",
      "          [ 4,  2]]],\n",
      "\n",
      "\n",
      "        [[[ 0,  1],\n",
      "          [ 1, -1]],\n",
      "\n",
      "         [[ 1,  3],\n",
      "          [ 3, -1]]],\n",
      "\n",
      "\n",
      "        [[[ 2,  1],\n",
      "          [ 1,  4]],\n",
      "\n",
      "         [[ 1,  4],\n",
      "          [ 4,  2]]],\n",
      "\n",
      "\n",
      "        [[[ 0,  1],\n",
      "          [ 1, -1]],\n",
      "\n",
      "         [[ 1,  3],\n",
      "          [ 3, -1]]],\n",
      "\n",
      "\n",
      "        [[[ 2,  1],\n",
      "          [ 1,  4]],\n",
      "\n",
      "         [[ 1,  4],\n",
      "          [ 4,  2]]],\n",
      "\n",
      "\n",
      "        [[[ 0,  1],\n",
      "          [ 1, -1]],\n",
      "\n",
      "         [[ 1,  3],\n",
      "          [ 3, -1]]],\n",
      "\n",
      "\n",
      "        [[[ 2,  1],\n",
      "          [ 1,  4]],\n",
      "\n",
      "         [[ 1,  4],\n",
      "          [ 4,  2]]],\n",
      "\n",
      "\n",
      "        [[[ 0,  1],\n",
      "          [ 1, -1]],\n",
      "\n",
      "         [[ 1,  3],\n",
      "          [ 3, -1]]],\n",
      "\n",
      "\n",
      "        [[[ 2,  1],\n",
      "          [ 1,  4]],\n",
      "\n",
      "         [[ 1,  4],\n",
      "          [ 4,  2]]]], device='cuda:0')\n",
      "tensor([1, 3, 1, 3, 1, 3, 1, 3, 1, 3], device='cuda:0')\n"
     ]
    }
   ],
   "source": [
    "x = paths.unfold(2, k, 1)\n",
    "print(x)\n",
    "\n",
    "w = counts.unfold(1,1,1).squeeze()\n",
    "# w contains the counts of all higher-order edges (which possibly occur multiple times)\n",
    "print(w)"
   ]
  },
  {
   "cell_type": "code",
   "execution_count": 6,
   "metadata": {},
   "outputs": [
    {
     "name": "stdout",
     "output_type": "stream",
     "text": [
      "tensor([[[[ 0,  1],\n",
      "          [ 1, -1]],\n",
      "\n",
      "         [[ 1,  3],\n",
      "          [ 3, -1]]],\n",
      "\n",
      "\n",
      "        [[[ 2,  1],\n",
      "          [ 1,  4]],\n",
      "\n",
      "         [[ 1,  4],\n",
      "          [ 4,  2]]]], device='cuda:0')\n",
      "tensor([0, 1, 0, 1, 0, 1, 0, 1, 0, 1], device='cuda:0')\n",
      "tensor([ 5, 15], device='cuda:0')\n"
     ]
    }
   ],
   "source": [
    "ho_edge_index, inverse = x.unique(dim=0, return_inverse=True)\n",
    "print(ho_edge_index)\n",
    "\n",
    "# returns a list telling where elements in the input ended up in the unique output\n",
    "print(inverse)\n",
    "\n",
    "# weights of the two unique higher-order edges should be N and 3*N\n",
    "# weights of k-th element in output = sum of all w at indices where inverse is k\n",
    "weights = torch.zeros(ho_edge_index.size()[0], device=pp.config['torch']['device'], dtype=torch.long).index_add(0, inverse, w)\n",
    "print(weights)"
   ]
  },
  {
   "cell_type": "code",
   "execution_count": 7,
   "metadata": {},
   "outputs": [
    {
     "name": "stdout",
     "output_type": "stream",
     "text": [
      "tensor([[[[False, False],\n",
      "          [False,  True]],\n",
      "\n",
      "         [[False, False],\n",
      "          [False,  True]]],\n",
      "\n",
      "\n",
      "        [[[False, False],\n",
      "          [False, False]],\n",
      "\n",
      "         [[False, False],\n",
      "          [False, False]]]], device='cuda:0')\n",
      "tensor([[0, 0, 1, 1],\n",
      "        [0, 1, 1, 1]], device='cuda:0')\n"
     ]
    }
   ],
   "source": [
    "# For a padded tensors, we must remove all HO-edges (and counts) where -1 occurs as a node\n",
    "\n",
    "# get indices of all tensor elements that contain padded value\n",
    "unpad = ho_edge_index < 0\n",
    "print(unpad)\n",
    "indices = unpad.nonzero()\n",
    "print(indices)"
   ]
  },
  {
   "cell_type": "code",
   "execution_count": 8,
   "metadata": {},
   "outputs": [
    {
     "data": {
      "text/plain": [
       "tensor([0, 0], device='cuda:0')"
      ]
     },
     "execution_count": 8,
     "metadata": {},
     "output_type": "execute_result"
    }
   ],
   "source": [
    "indices[:,0]"
   ]
  },
  {
   "cell_type": "code",
   "execution_count": 9,
   "metadata": {},
   "outputs": [
    {
     "data": {
      "text/plain": [
       "tensor([1, 1], device='cuda:0')"
      ]
     },
     "execution_count": 9,
     "metadata": {},
     "output_type": "execute_result"
    }
   ],
   "source": [
    "indices[:,2]"
   ]
  },
  {
   "cell_type": "markdown",
   "metadata": {},
   "source": [
    "we have negative entries at the two indices in dim=0 and dim=2 above, so the remaining three edges with non-negative nodes are the following "
   ]
  },
  {
   "cell_type": "code",
   "execution_count": 64,
   "metadata": {},
   "outputs": [
    {
     "ename": "RuntimeError",
     "evalue": "CUDA error: device-side assert triggered\nCUDA kernel errors might be asynchronously reported at some other API call, so the stacktrace below might be incorrect.\nFor debugging consider passing CUDA_LAUNCH_BLOCKING=1.\nCompile with `TORCH_USE_CUDA_DSA` to enable device-side assertions.\n",
     "output_type": "error",
     "traceback": [
      "\u001b[0;31m---------------------------------------------------------------------------\u001b[0m",
      "\u001b[0;31mRuntimeError\u001b[0m                              Traceback (most recent call last)",
      "File \u001b[0;32m/opt/conda/lib/python3.10/site-packages/IPython/core/formatters.py:708\u001b[0m, in \u001b[0;36mPlainTextFormatter.__call__\u001b[0;34m(self, obj)\u001b[0m\n\u001b[1;32m    701\u001b[0m stream \u001b[38;5;241m=\u001b[39m StringIO()\n\u001b[1;32m    702\u001b[0m printer \u001b[38;5;241m=\u001b[39m pretty\u001b[38;5;241m.\u001b[39mRepresentationPrinter(stream, \u001b[38;5;28mself\u001b[39m\u001b[38;5;241m.\u001b[39mverbose,\n\u001b[1;32m    703\u001b[0m     \u001b[38;5;28mself\u001b[39m\u001b[38;5;241m.\u001b[39mmax_width, \u001b[38;5;28mself\u001b[39m\u001b[38;5;241m.\u001b[39mnewline,\n\u001b[1;32m    704\u001b[0m     max_seq_length\u001b[38;5;241m=\u001b[39m\u001b[38;5;28mself\u001b[39m\u001b[38;5;241m.\u001b[39mmax_seq_length,\n\u001b[1;32m    705\u001b[0m     singleton_pprinters\u001b[38;5;241m=\u001b[39m\u001b[38;5;28mself\u001b[39m\u001b[38;5;241m.\u001b[39msingleton_printers,\n\u001b[1;32m    706\u001b[0m     type_pprinters\u001b[38;5;241m=\u001b[39m\u001b[38;5;28mself\u001b[39m\u001b[38;5;241m.\u001b[39mtype_printers,\n\u001b[1;32m    707\u001b[0m     deferred_pprinters\u001b[38;5;241m=\u001b[39m\u001b[38;5;28mself\u001b[39m\u001b[38;5;241m.\u001b[39mdeferred_printers)\n\u001b[0;32m--> 708\u001b[0m \u001b[43mprinter\u001b[49m\u001b[38;5;241;43m.\u001b[39;49m\u001b[43mpretty\u001b[49m\u001b[43m(\u001b[49m\u001b[43mobj\u001b[49m\u001b[43m)\u001b[49m\n\u001b[1;32m    709\u001b[0m printer\u001b[38;5;241m.\u001b[39mflush()\n\u001b[1;32m    710\u001b[0m \u001b[38;5;28;01mreturn\u001b[39;00m stream\u001b[38;5;241m.\u001b[39mgetvalue()\n",
      "File \u001b[0;32m/opt/conda/lib/python3.10/site-packages/IPython/lib/pretty.py:410\u001b[0m, in \u001b[0;36mRepresentationPrinter.pretty\u001b[0;34m(self, obj)\u001b[0m\n\u001b[1;32m    407\u001b[0m                         \u001b[38;5;28;01mreturn\u001b[39;00m meth(obj, \u001b[38;5;28mself\u001b[39m, cycle)\n\u001b[1;32m    408\u001b[0m                 \u001b[38;5;28;01mif\u001b[39;00m \u001b[38;5;28mcls\u001b[39m \u001b[38;5;129;01mis\u001b[39;00m \u001b[38;5;129;01mnot\u001b[39;00m \u001b[38;5;28mobject\u001b[39m \\\n\u001b[1;32m    409\u001b[0m                         \u001b[38;5;129;01mand\u001b[39;00m \u001b[38;5;28mcallable\u001b[39m(\u001b[38;5;28mcls\u001b[39m\u001b[38;5;241m.\u001b[39m\u001b[38;5;18m__dict__\u001b[39m\u001b[38;5;241m.\u001b[39mget(\u001b[38;5;124m'\u001b[39m\u001b[38;5;124m__repr__\u001b[39m\u001b[38;5;124m'\u001b[39m)):\n\u001b[0;32m--> 410\u001b[0m                     \u001b[38;5;28;01mreturn\u001b[39;00m \u001b[43m_repr_pprint\u001b[49m\u001b[43m(\u001b[49m\u001b[43mobj\u001b[49m\u001b[43m,\u001b[49m\u001b[43m \u001b[49m\u001b[38;5;28;43mself\u001b[39;49m\u001b[43m,\u001b[49m\u001b[43m \u001b[49m\u001b[43mcycle\u001b[49m\u001b[43m)\u001b[49m\n\u001b[1;32m    412\u001b[0m     \u001b[38;5;28;01mreturn\u001b[39;00m _default_pprint(obj, \u001b[38;5;28mself\u001b[39m, cycle)\n\u001b[1;32m    413\u001b[0m \u001b[38;5;28;01mfinally\u001b[39;00m:\n",
      "File \u001b[0;32m/opt/conda/lib/python3.10/site-packages/IPython/lib/pretty.py:778\u001b[0m, in \u001b[0;36m_repr_pprint\u001b[0;34m(obj, p, cycle)\u001b[0m\n\u001b[1;32m    776\u001b[0m \u001b[38;5;250m\u001b[39m\u001b[38;5;124;03m\"\"\"A pprint that just redirects to the normal repr function.\"\"\"\u001b[39;00m\n\u001b[1;32m    777\u001b[0m \u001b[38;5;66;03m# Find newlines and replace them with p.break_()\u001b[39;00m\n\u001b[0;32m--> 778\u001b[0m output \u001b[38;5;241m=\u001b[39m \u001b[38;5;28;43mrepr\u001b[39;49m\u001b[43m(\u001b[49m\u001b[43mobj\u001b[49m\u001b[43m)\u001b[49m\n\u001b[1;32m    779\u001b[0m lines \u001b[38;5;241m=\u001b[39m output\u001b[38;5;241m.\u001b[39msplitlines()\n\u001b[1;32m    780\u001b[0m \u001b[38;5;28;01mwith\u001b[39;00m p\u001b[38;5;241m.\u001b[39mgroup():\n",
      "File \u001b[0;32m/opt/conda/lib/python3.10/site-packages/torch/_tensor.py:431\u001b[0m, in \u001b[0;36mTensor.__repr__\u001b[0;34m(self, tensor_contents)\u001b[0m\n\u001b[1;32m    427\u001b[0m     \u001b[38;5;28;01mreturn\u001b[39;00m handle_torch_function(\n\u001b[1;32m    428\u001b[0m         Tensor\u001b[38;5;241m.\u001b[39m\u001b[38;5;21m__repr__\u001b[39m, (\u001b[38;5;28mself\u001b[39m,), \u001b[38;5;28mself\u001b[39m, tensor_contents\u001b[38;5;241m=\u001b[39mtensor_contents\n\u001b[1;32m    429\u001b[0m     )\n\u001b[1;32m    430\u001b[0m \u001b[38;5;66;03m# All strings are unicode in Python 3.\u001b[39;00m\n\u001b[0;32m--> 431\u001b[0m \u001b[38;5;28;01mreturn\u001b[39;00m \u001b[43mtorch\u001b[49m\u001b[38;5;241;43m.\u001b[39;49m\u001b[43m_tensor_str\u001b[49m\u001b[38;5;241;43m.\u001b[39;49m\u001b[43m_str\u001b[49m\u001b[43m(\u001b[49m\u001b[38;5;28;43mself\u001b[39;49m\u001b[43m,\u001b[49m\u001b[43m \u001b[49m\u001b[43mtensor_contents\u001b[49m\u001b[38;5;241;43m=\u001b[39;49m\u001b[43mtensor_contents\u001b[49m\u001b[43m)\u001b[49m\n",
      "File \u001b[0;32m/opt/conda/lib/python3.10/site-packages/torch/_tensor_str.py:664\u001b[0m, in \u001b[0;36m_str\u001b[0;34m(self, tensor_contents)\u001b[0m\n\u001b[1;32m    662\u001b[0m \u001b[38;5;28;01mwith\u001b[39;00m torch\u001b[38;5;241m.\u001b[39mno_grad(), torch\u001b[38;5;241m.\u001b[39mutils\u001b[38;5;241m.\u001b[39m_python_dispatch\u001b[38;5;241m.\u001b[39m_disable_current_modes():\n\u001b[1;32m    663\u001b[0m     guard \u001b[38;5;241m=\u001b[39m torch\u001b[38;5;241m.\u001b[39m_C\u001b[38;5;241m.\u001b[39m_DisableFuncTorch()\n\u001b[0;32m--> 664\u001b[0m     \u001b[38;5;28;01mreturn\u001b[39;00m \u001b[43m_str_intern\u001b[49m\u001b[43m(\u001b[49m\u001b[38;5;28;43mself\u001b[39;49m\u001b[43m,\u001b[49m\u001b[43m \u001b[49m\u001b[43mtensor_contents\u001b[49m\u001b[38;5;241;43m=\u001b[39;49m\u001b[43mtensor_contents\u001b[49m\u001b[43m)\u001b[49m\n",
      "File \u001b[0;32m/opt/conda/lib/python3.10/site-packages/torch/_tensor_str.py:595\u001b[0m, in \u001b[0;36m_str_intern\u001b[0;34m(inp, tensor_contents)\u001b[0m\n\u001b[1;32m    593\u001b[0m                     tensor_str \u001b[38;5;241m=\u001b[39m _tensor_str(\u001b[38;5;28mself\u001b[39m\u001b[38;5;241m.\u001b[39mto_dense(), indent)\n\u001b[1;32m    594\u001b[0m                 \u001b[38;5;28;01melse\u001b[39;00m:\n\u001b[0;32m--> 595\u001b[0m                     tensor_str \u001b[38;5;241m=\u001b[39m \u001b[43m_tensor_str\u001b[49m\u001b[43m(\u001b[49m\u001b[38;5;28;43mself\u001b[39;49m\u001b[43m,\u001b[49m\u001b[43m \u001b[49m\u001b[43mindent\u001b[49m\u001b[43m)\u001b[49m\n\u001b[1;32m    597\u001b[0m \u001b[38;5;28;01mif\u001b[39;00m \u001b[38;5;28mself\u001b[39m\u001b[38;5;241m.\u001b[39mlayout \u001b[38;5;241m!=\u001b[39m torch\u001b[38;5;241m.\u001b[39mstrided:\n\u001b[1;32m    598\u001b[0m     suffixes\u001b[38;5;241m.\u001b[39mappend(\u001b[38;5;124m\"\u001b[39m\u001b[38;5;124mlayout=\u001b[39m\u001b[38;5;124m\"\u001b[39m \u001b[38;5;241m+\u001b[39m \u001b[38;5;28mstr\u001b[39m(\u001b[38;5;28mself\u001b[39m\u001b[38;5;241m.\u001b[39mlayout))\n",
      "File \u001b[0;32m/opt/conda/lib/python3.10/site-packages/torch/_tensor_str.py:347\u001b[0m, in \u001b[0;36m_tensor_str\u001b[0;34m(self, indent)\u001b[0m\n\u001b[1;32m    343\u001b[0m     \u001b[38;5;28;01mreturn\u001b[39;00m _tensor_str_with_formatter(\n\u001b[1;32m    344\u001b[0m         \u001b[38;5;28mself\u001b[39m, indent, summarize, real_formatter, imag_formatter\n\u001b[1;32m    345\u001b[0m     )\n\u001b[1;32m    346\u001b[0m \u001b[38;5;28;01melse\u001b[39;00m:\n\u001b[0;32m--> 347\u001b[0m     formatter \u001b[38;5;241m=\u001b[39m \u001b[43m_Formatter\u001b[49m\u001b[43m(\u001b[49m\u001b[43mget_summarized_data\u001b[49m\u001b[43m(\u001b[49m\u001b[38;5;28;43mself\u001b[39;49m\u001b[43m)\u001b[49m\u001b[43m \u001b[49m\u001b[38;5;28;43;01mif\u001b[39;49;00m\u001b[43m \u001b[49m\u001b[43msummarize\u001b[49m\u001b[43m \u001b[49m\u001b[38;5;28;43;01melse\u001b[39;49;00m\u001b[43m \u001b[49m\u001b[38;5;28;43mself\u001b[39;49m\u001b[43m)\u001b[49m\n\u001b[1;32m    348\u001b[0m     \u001b[38;5;28;01mreturn\u001b[39;00m _tensor_str_with_formatter(\u001b[38;5;28mself\u001b[39m, indent, summarize, formatter)\n",
      "File \u001b[0;32m/opt/conda/lib/python3.10/site-packages/torch/_tensor_str.py:129\u001b[0m, in \u001b[0;36m_Formatter.__init__\u001b[0;34m(self, tensor)\u001b[0m\n\u001b[1;32m    126\u001b[0m \u001b[38;5;28mself\u001b[39m\u001b[38;5;241m.\u001b[39mmax_width \u001b[38;5;241m=\u001b[39m \u001b[38;5;241m1\u001b[39m\n\u001b[1;32m    128\u001b[0m \u001b[38;5;28;01mwith\u001b[39;00m torch\u001b[38;5;241m.\u001b[39mno_grad():\n\u001b[0;32m--> 129\u001b[0m     tensor_view \u001b[38;5;241m=\u001b[39m \u001b[43mtensor\u001b[49m\u001b[38;5;241;43m.\u001b[39;49m\u001b[43mreshape\u001b[49m\u001b[43m(\u001b[49m\u001b[38;5;241;43m-\u001b[39;49m\u001b[38;5;241;43m1\u001b[39;49m\u001b[43m)\u001b[49m\n\u001b[1;32m    131\u001b[0m \u001b[38;5;28;01mif\u001b[39;00m \u001b[38;5;129;01mnot\u001b[39;00m \u001b[38;5;28mself\u001b[39m\u001b[38;5;241m.\u001b[39mfloating_dtype:\n\u001b[1;32m    132\u001b[0m     \u001b[38;5;28;01mfor\u001b[39;00m value \u001b[38;5;129;01min\u001b[39;00m tensor_view:\n",
      "\u001b[0;31mRuntimeError\u001b[0m: CUDA error: device-side assert triggered\nCUDA kernel errors might be asynchronously reported at some other API call, so the stacktrace below might be incorrect.\nFor debugging consider passing CUDA_LAUNCH_BLOCKING=1.\nCompile with `TORCH_USE_CUDA_DSA` to enable device-side assertions.\n"
     ]
    }
   ],
   "source": [
    "ho_edge_index[0,:,0,:]"
   ]
  },
  {
   "cell_type": "code",
   "execution_count": 58,
   "metadata": {},
   "outputs": [
    {
     "data": {
      "text/plain": [
       "tensor([[2, 1],\n",
       "        [1, 4]], device='cuda:0')"
      ]
     },
     "execution_count": 58,
     "metadata": {},
     "output_type": "execute_result"
    }
   ],
   "source": [
    "ho_edge_index[1,:,0,:]"
   ]
  },
  {
   "cell_type": "code",
   "execution_count": 60,
   "metadata": {},
   "outputs": [
    {
     "data": {
      "text/plain": [
       "tensor([[1, 4],\n",
       "        [4, 2]], device='cuda:0')"
      ]
     },
     "execution_count": 60,
     "metadata": {},
     "output_type": "execute_result"
    }
   ],
   "source": [
    "ho_edge_index[1,:,1,:]"
   ]
  },
  {
   "cell_type": "code",
   "execution_count": 47,
   "metadata": {},
   "outputs": [
    {
     "ename": "RuntimeError",
     "evalue": "The size of tensor a (2) must match the size of tensor b (4) at non-singleton dimension 1",
     "output_type": "error",
     "traceback": [
      "\u001b[0;31m---------------------------------------------------------------------------\u001b[0m",
      "\u001b[0;31mRuntimeError\u001b[0m                              Traceback (most recent call last)",
      "Cell \u001b[0;32mIn[47], line 4\u001b[0m\n\u001b[1;32m      2\u001b[0m idx \u001b[38;5;241m=\u001b[39m torch\u001b[38;5;241m.\u001b[39marange(ho_edge_index\u001b[38;5;241m.\u001b[39msize()[\u001b[38;5;241m0\u001b[39m], device\u001b[38;5;241m=\u001b[39mpp\u001b[38;5;241m.\u001b[39mconfig[\u001b[38;5;124m'\u001b[39m\u001b[38;5;124mtorch\u001b[39m\u001b[38;5;124m'\u001b[39m][\u001b[38;5;124m'\u001b[39m\u001b[38;5;124mdevice\u001b[39m\u001b[38;5;124m'\u001b[39m])\n\u001b[1;32m      3\u001b[0m \u001b[38;5;28;01mif\u001b[39;00m indices\u001b[38;5;241m.\u001b[39msize()[\u001b[38;5;241m0\u001b[39m]\u001b[38;5;241m>\u001b[39m\u001b[38;5;241m0\u001b[39m:    \n\u001b[0;32m----> 4\u001b[0m     idx \u001b[38;5;241m=\u001b[39m idx[\u001b[43midx\u001b[49m\u001b[38;5;241;43m!=\u001b[39;49m\u001b[43mindices\u001b[49m]\n\u001b[1;32m      5\u001b[0m \u001b[38;5;28mprint\u001b[39m(idx)\n",
      "\u001b[0;31mRuntimeError\u001b[0m: The size of tensor a (2) must match the size of tensor b (4) at non-singleton dimension 1"
     ]
    }
   ],
   "source": [
    "# TODO: Remove all higher-order edges that contain a -1 (currently we instead remove all *tensors* in dim=0 that contain a -1, i.e. we also remove second-order edges that originate from padded tensors)\n",
    "idx = torch.arange(ho_edge_index.size()[0], device=pp.config['torch']['device'])\n",
    "if indices.size()[0]>0:    \n",
    "    idx = idx[idx!=indices]\n",
    "print(idx)"
   ]
  },
  {
   "cell_type": "code",
   "execution_count": 52,
   "metadata": {},
   "outputs": [
    {
     "data": {
      "text/plain": [
       "tensor([[0, 1],\n",
       "        [1, 3]], device='cuda:0')"
      ]
     },
     "execution_count": 52,
     "metadata": {},
     "output_type": "execute_result"
    }
   ],
   "source": []
  },
  {
   "cell_type": "code",
   "execution_count": 53,
   "metadata": {},
   "outputs": [
    {
     "data": {
      "text/plain": [
       "tensor([[2, 1],\n",
       "        [1, 4]], device='cuda:0')"
      ]
     },
     "execution_count": 53,
     "metadata": {},
     "output_type": "execute_result"
    }
   ],
   "source": []
  },
  {
   "cell_type": "code",
   "execution_count": 9,
   "metadata": {},
   "outputs": [
    {
     "name": "stdout",
     "output_type": "stream",
     "text": [
      "tensor([[[[2, 1],\n",
      "          [1, 4]],\n",
      "\n",
      "         [[1, 4],\n",
      "          [4, 2]]]], device='cuda:0')\n",
      "tensor([15], device='cuda:0')\n"
     ]
    }
   ],
   "source": [
    "ho_edge_index = ho_edge_index[idx]\n",
    "weights = weights[idx]\n",
    "print(ho_edge_index)\n",
    "print(weights)"
   ]
  },
  {
   "cell_type": "code",
   "execution_count": 10,
   "metadata": {},
   "outputs": [
    {
     "name": "stdout",
     "output_type": "stream",
     "text": [
      "PathData with 2 walks and total weight 6\n"
     ]
    }
   ],
   "source": [
    "p = [\n",
    "    torch.tensor([[0,1],                 \n",
    "                 [1,3]], device=pp.config['torch']['device']),\n",
    "    torch.tensor([[2,1,4],\n",
    "                 [1,4,3]], device=pp.config['torch']['device']),\n",
    "\n",
    "]\n",
    "paths = pp.WalkDataNested(p, torch.tensor([1,5], device=pp.config['torch']['device']), mapping = g.mapping)\n",
    "print(paths)"
   ]
  },
  {
   "cell_type": "code",
   "execution_count": 11,
   "metadata": {},
   "outputs": [
    {
     "name": "stdout",
     "output_type": "stream",
     "text": [
      "tensor([[[[2, 1],\n",
      "          [1, 4]],\n",
      "\n",
      "         [[1, 4],\n",
      "          [4, 3]]]], device='cuda:0')\n",
      "tensor([5], device='cuda:0')\n"
     ]
    }
   ],
   "source": [
    "edge_index, weights = paths.edge_index_k_weighted(k=2)\n",
    "print(edge_index)\n",
    "print(weights)"
   ]
  }
 ],
 "metadata": {
  "kernelspec": {
   "display_name": "base",
   "language": "python",
   "name": "python3"
  },
  "language_info": {
   "codemirror_mode": {
    "name": "ipython",
    "version": 3
   },
   "file_extension": ".py",
   "mimetype": "text/x-python",
   "name": "python",
   "nbconvert_exporter": "python",
   "pygments_lexer": "ipython3",
   "version": "3.10.13"
  }
 },
 "nbformat": 4,
 "nbformat_minor": 2
}
