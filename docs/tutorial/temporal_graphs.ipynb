{
 "cells": [
  {
   "cell_type": "markdown",
   "metadata": {},
   "source": [
    "# Temporal Graphs and Path Data\n",
    "\n",
    "## Motivation and Learning Objectives\n",
    "\n",
    "In this tutorial we will introduce the representation of temporal graph data in the `Temporal Graph` class and how such data can be used to calculate time respecting paths.\n"
   ]
  },
  {
   "cell_type": "code",
   "execution_count": 3,
   "metadata": {},
   "outputs": [],
   "source": [
    "import torch\n",
    "from torch_geometric.data import TemporalData\n",
    "from torch_geometric.utils import remove_isolated_nodes\n",
    "import numpy as np\n",
    "import pathpyG as pp\n",
    "\n",
    "pp.config['torch']['device'] = 'cpu'"
   ]
  },
  {
   "cell_type": "code",
   "execution_count": 4,
   "metadata": {},
   "outputs": [
    {
     "name": "stdout",
     "output_type": "stream",
     "text": [
      "9\n",
      "20\n"
     ]
    }
   ],
   "source": [
    "tedges = [('a', 'b', 1), ('b', 'c', 5), ('c', 'd', 9), ('c', 'e', 9),\n",
    "              ('c', 'f', 11), ('f', 'a', 13), ('a', 'g', 18), ('b', 'f', 21),\n",
    "              ('a', 'g', 26), ('c', 'f', 27), ('h', 'f', 27), ('g', 'h', 28),\n",
    "              ('a', 'c', 30), ('a', 'b', 31), ('c', 'h', 32), ('f', 'h', 33),\n",
    "              ('b', 'i', 42), ('i', 'b', 42), ('c', 'i', 47), ('h', 'i', 50)]\n",
    "t = pp.TemporalGraph.from_edge_list(tedges)\n",
    "print(t.N)\n",
    "print(t.M)"
   ]
  },
  {
   "cell_type": "code",
   "execution_count": 5,
   "metadata": {},
   "outputs": [
    {
     "name": "stdout",
     "output_type": "stream",
     "text": [
      "TemporalData(src=[20], dst=[20], t=[20])\n"
     ]
    }
   ],
   "source": [
    "print(t.data)"
   ]
  },
  {
   "cell_type": "code",
   "execution_count": 6,
   "metadata": {},
   "outputs": [
    {
     "name": "stdout",
     "output_type": "stream",
     "text": [
      "TemporalData(src=[4], dst=[4], t=[4])\n"
     ]
    }
   ],
   "source": [
    "td = TemporalData(\n",
    "    src = torch.Tensor([0,1,2,0]),\n",
    "    dst = torch.Tensor([1,2,3,1]), \n",
    "    t = torch.Tensor([0,1,2,3]))\n",
    "print(td)"
   ]
  },
  {
   "cell_type": "code",
   "execution_count": 7,
   "metadata": {},
   "outputs": [],
   "source": [
    "t2 = pp.TemporalGraph(td)"
   ]
  },
  {
   "cell_type": "code",
   "execution_count": 8,
   "metadata": {},
   "outputs": [
    {
     "name": "stdout",
     "output_type": "stream",
     "text": [
      "Temporal Graph with 5 nodes, 4 unique edges and 4 events in [1.0, 9.0]\n",
      "\n",
      "Graph attributes\n",
      "\tdst\t\t<class 'torch.Tensor'> -> torch.Size([4])\n",
      "\tt\t\t<class 'torch.Tensor'> -> torch.Size([4])\n",
      "\tsrc\t\t<class 'torch.Tensor'> -> torch.Size([4])\n",
      "\n",
      "5\n",
      "4\n"
     ]
    },
    {
     "name": "stderr",
     "output_type": "stream",
     "text": [
      "/opt/conda/lib/python3.10/site-packages/torch_geometric/data/storage.py:327: UserWarning: Unable to accurately infer 'num_nodes' from the attribute set '{'dst', 't', 'src'}'. Please explicitly set 'num_nodes' as an attribute of 'data' to suppress this warning\n",
      "  warnings.warn(\n"
     ]
    }
   ],
   "source": [
    "t1 = t.get_window(0,4)\n",
    "print(t1)\n",
    "print(t1.N)\n",
    "print(t1.M)"
   ]
  },
  {
   "cell_type": "code",
   "execution_count": 9,
   "metadata": {},
   "outputs": [
    {
     "name": "stdout",
     "output_type": "stream",
     "text": [
      "Graph with 9 nodes and 20 edges\n",
      "\n",
      "Graph attributes\n",
      "\tnum_nodes\t\t<class 'int'>\n",
      "\n"
     ]
    }
   ],
   "source": [
    "g = t.to_static_graph()\n",
    "print(g)"
   ]
  },
  {
   "cell_type": "code",
   "execution_count": 10,
   "metadata": {},
   "outputs": [
    {
     "name": "stdout",
     "output_type": "stream",
     "text": [
      "Graph with 5 nodes and 4 edges\n",
      "\n",
      "Graph attributes\n",
      "\tnum_nodes\t\t<class 'int'>\n",
      "\n"
     ]
    }
   ],
   "source": [
    "g = t.to_static_graph((1, 10))\n",
    "print(g)"
   ]
  },
  {
   "cell_type": "code",
   "execution_count": 14,
   "metadata": {},
   "outputs": [
    {
     "name": "stdout",
     "output_type": "stream",
     "text": [
      "Time window  (1.0, 11.0)\n",
      "Graph with 5 nodes and 4 edges\n",
      "\n",
      "Graph attributes\n",
      "\tnum_nodes\t\t<class 'int'>\n",
      "\n",
      "tensor([[0, 1, 2, 2],\n",
      "        [1, 2, 3, 4]])\n",
      "---\n",
      "Time window  (11.0, 21.0)\n",
      "Graph with 7 nodes and 3 edges\n",
      "\n",
      "Graph attributes\n",
      "\tnum_nodes\t\t<class 'int'>\n",
      "\n",
      "tensor([[2, 5, 0],\n",
      "        [5, 0, 6]])\n",
      "---\n",
      "Time window  (21.0, 31.0)\n",
      "Graph with 8 nodes and 6 edges\n",
      "\n",
      "Graph attributes\n",
      "\tnum_nodes\t\t<class 'int'>\n",
      "\n",
      "tensor([[1, 0, 7, 2, 6, 0],\n",
      "        [5, 6, 5, 5, 7, 2]])\n",
      "---\n",
      "Time window  (31.0, 41.0)\n",
      "Graph with 8 nodes and 3 edges\n",
      "\n",
      "Graph attributes\n",
      "\tnum_nodes\t\t<class 'int'>\n",
      "\n",
      "tensor([[0, 2, 5],\n",
      "        [1, 7, 7]])\n",
      "---\n",
      "Time window  (41.0, 51.0)\n",
      "Graph with 9 nodes and 4 edges\n",
      "\n",
      "Graph attributes\n",
      "\tnum_nodes\t\t<class 'int'>\n",
      "\n",
      "tensor([[1, 8, 2, 7],\n",
      "        [8, 1, 8, 8]])\n",
      "---\n"
     ]
    }
   ],
   "source": [
    "r = pp.algorithms.RollingTimeWindow(t, 10, 10, return_window=True)\n",
    "for g, w in r:\n",
    "    print('Time window ', w)\n",
    "    print(g)\n",
    "    print(g.data.edge_index)\n",
    "    print('---')"
   ]
  },
  {
   "cell_type": "markdown",
   "metadata": {},
   "source": [
    "## Temporal Graphs"
   ]
  },
  {
   "cell_type": "markdown",
   "metadata": {},
   "source": [
    "Let's start with a simple temporal graph with four nodes `a`,`b`,`c`,`d` and seven timestamped edges `(b,c;2)`,`(a,b;1)`,`(c,d;3)`,`(d,a;4)`,`(b,d;2)`, `(d,a;6)`,`(a,b;7)`. \n",
    "\n",
    "The following code generates this temporal graph from the given edge list."
   ]
  },
  {
   "cell_type": "code",
   "execution_count": 15,
   "metadata": {},
   "outputs": [
    {
     "name": "stdout",
     "output_type": "stream",
     "text": [
      "Temporal Graph with 4 nodes, 5 unique edges and 7 events in [1.0, 7.0]\n",
      "\n",
      "Graph attributes\n",
      "\tdst\t\t<class 'torch.Tensor'> -> torch.Size([7])\n",
      "\tt\t\t<class 'torch.Tensor'> -> torch.Size([7])\n",
      "\tsrc\t\t<class 'torch.Tensor'> -> torch.Size([7])\n",
      "\n"
     ]
    },
    {
     "name": "stderr",
     "output_type": "stream",
     "text": [
      "/opt/conda/lib/python3.10/site-packages/torch_geometric/data/storage.py:327: UserWarning: Unable to accurately infer 'num_nodes' from the attribute set '{'dst', 't', 'src'}'. Please explicitly set 'num_nodes' as an attribute of 'data' to suppress this warning\n",
      "  warnings.warn(\n"
     ]
    }
   ],
   "source": [
    "g = pp.TemporalGraph.from_edge_list([['b', 'c', 2],['a', 'b', 1], ['c', 'd', 3], ['d', 'a', 4], ['b', 'd', 2], ['d', 'a', 6], ['a', 'b', 7]])\n",
    "print(g)"
   ]
  },
  {
   "cell_type": "markdown",
   "metadata": {},
   "source": [
    "We can visualize a temporal graph by using the pathpyG plot function."
   ]
  },
  {
   "cell_type": "code",
   "execution_count": null,
   "metadata": {},
   "outputs": [],
   "source": [
    "pp.plot(g, edge_color='lightgray')"
   ]
  },
  {
   "cell_type": "markdown",
   "metadata": {},
   "source": [
    "Consistent with `pyG` the sources, destinations and timestamps are stored as a `pyG TemporalData` object, which we can access in the following way.\n",
    "\n"
   ]
  },
  {
   "cell_type": "code",
   "execution_count": null,
   "metadata": {},
   "outputs": [],
   "source": [
    "g.data"
   ]
  },
  {
   "cell_type": "code",
   "execution_count": null,
   "metadata": {},
   "outputs": [],
   "source": [
    "print(g.data.t)"
   ]
  },
  {
   "cell_type": "markdown",
   "metadata": {},
   "source": [
    "With the generator functions `edges` and `temporal_edges` we can iterate through the (temporal) edges of this graph."
   ]
  },
  {
   "cell_type": "code",
   "execution_count": null,
   "metadata": {},
   "outputs": [],
   "source": [
    "for v, w in g.edges:\n",
    "    print(v, w)"
   ]
  },
  {
   "cell_type": "code",
   "execution_count": null,
   "metadata": {},
   "outputs": [],
   "source": [
    "for v, w, t in g.temporal_edges:\n",
    "    print(v, w, t)"
   ]
  },
  {
   "cell_type": "markdown",
   "metadata": {},
   "source": [
    "## Reading Temporal Graphs from CSV files"
   ]
  },
  {
   "cell_type": "code",
   "execution_count": 2,
   "metadata": {},
   "outputs": [
    {
     "name": "stdout",
     "output_type": "stream",
     "text": [
      "Temporal Graph with 89 nodes 947 edges and 1911 time-stamped events in [0, 1438]\n",
      "\n",
      "Node attributes\n",
      "\tnode_id\t\t<class 'list'>\n",
      "\n",
      "Graph attributes\n",
      "\tnum_nodes\t\t<class 'int'>\n",
      "\tsrc\t\t<class 'torch.Tensor'> -> torch.Size([1911])\n",
      "\tt\t\t<class 'torch.Tensor'> -> torch.Size([1911])\n",
      "\tdst\t\t<class 'torch.Tensor'> -> torch.Size([1911])\n",
      "\n"
     ]
    }
   ],
   "source": [
    "t = pp.TemporalGraph.from_csv('ants_1_1.tedges')\n",
    "print(t)"
   ]
  },
  {
   "cell_type": "code",
   "execution_count": 6,
   "metadata": {},
   "outputs": [
    {
     "name": "stdout",
     "output_type": "stream",
     "text": [
      "Temporal Graph with 167 nodes 5784 edges and 82927 time-stamped events in [63122700, 64294224]\n",
      "\n",
      "Node attributes\n",
      "\tnode_id\t\t<class 'list'>\n",
      "\n",
      "Graph attributes\n",
      "\tnum_nodes\t\t<class 'int'>\n",
      "\tsrc\t\t<class 'torch.Tensor'> -> torch.Size([82927])\n",
      "\tt\t\t<class 'torch.Tensor'> -> torch.Size([82927])\n",
      "\tdst\t\t<class 'torch.Tensor'> -> torch.Size([82927])\n",
      "\n"
     ]
    }
   ],
   "source": [
    "t = pp.TemporalGraph.from_csv('manufacturing_email.tedges', time_rescale=20)\n",
    "print(t)"
   ]
  },
  {
   "cell_type": "markdown",
   "metadata": {},
   "source": [
    "## Extracting Causal Topologies via Node-Time Event DAGs"
   ]
  },
  {
   "cell_type": "markdown",
   "metadata": {},
   "source": [
    "We are often interested in the time respecting paths of a temporal graph.\n",
    "\n",
    "A time respecting path is defined as a sequence of nodes $v_0,...,v_l$ where the corresponding edges occur in the right time ordering and with a maximum time difference of $\\delta\\in \\N$. "
   ]
  },
  {
   "cell_type": "markdown",
   "metadata": {},
   "source": [
    "In order to extract those paths out of a temporal graph, we have to construct a time-unfolded directed acyclic graph (DAG) that represents the network and captures all causal structures.\n",
    "\n",
    "The nodes of a DAG are node-time-events of the temporal graph, i.e a node `a-t` represents the node `a` at time `t`. \n",
    "\n",
    "Two nodes `a-t` and `b-t'` are connected (with exceptions, see code ) if `a-t` directly influences `b-t'` \n"
   ]
  },
  {
   "cell_type": "code",
   "execution_count": null,
   "metadata": {},
   "outputs": [],
   "source": [
    "dag = pp.algorithms.temporal_graph_to_event_dag(g, delta=1)\n",
    "print(dag)\n",
    "\n",
    "print(dag.mapping)\n",
    "print(dag.data.edge_index)\n",
    "\n",
    "pp.plot(dag, edge_color='lightgray')"
   ]
  },
  {
   "cell_type": "markdown",
   "metadata": {},
   "source": [
    "With the following code, we can extract DAGs with only one single root node, which is not influenced by any other node-time event in the temporal graph."
   ]
  },
  {
   "cell_type": "code",
   "execution_count": null,
   "metadata": {},
   "outputs": [],
   "source": [
    "x = pp.algorithms.extract_causal_trees(dag)\n",
    "print(x)"
   ]
  },
  {
   "cell_type": "markdown",
   "metadata": {},
   "source": [
    "## Higher-Order De Bruijn Graph Models for Causal Paths"
   ]
  },
  {
   "cell_type": "markdown",
   "metadata": {},
   "source": [
    "With the DAG, we can now extract the time-respecting paths in our temporal graph."
   ]
  },
  {
   "cell_type": "code",
   "execution_count": null,
   "metadata": {},
   "outputs": [],
   "source": [
    "paths = pp.PathData.from_temporal_dag(dag)\n",
    "print(paths.paths[0])\n",
    "print(paths.paths[1])\n",
    "print(g.mapping)"
   ]
  },
  {
   "cell_type": "markdown",
   "metadata": {},
   "source": [
    "The path data allows us to construct a Higher-Order De Bruijn Graph model belong to our temporal network."
   ]
  },
  {
   "cell_type": "code",
   "execution_count": null,
   "metadata": {},
   "outputs": [],
   "source": [
    "g2 = pp.HigherOrderGraph(paths, order=2, node_ids=g.mapping.node_ids)\n",
    "pp.plot(g2)"
   ]
  },
  {
   "cell_type": "markdown",
   "metadata": {},
   "source": [
    "In a nutshell, the following shows the steps that are needed to construct a Higher Order Graph. Here we construct our temporal graph from a `pyG TemporalData` by providing the sources, distances and timestamps."
   ]
  },
  {
   "cell_type": "code",
   "execution_count": null,
   "metadata": {},
   "outputs": [],
   "source": [
    "# Create temporal network\n",
    "d = TemporalData(src=[0,2,1,2,0,2,1,2], dst=[2,3,2,4,2,3,2,4], t=[1,2,3,4,5,6,7,8])\n",
    "g = pp.TemporalGraph.from_pyg_data(d, node_ids=['a', 'b', 'c', 'd', 'e'])\n",
    "\n",
    "# Create event DAG and extract path data\n",
    "dag = pp.algorithms.temporal_graph_to_event_dag(g, delta=1)\n",
    "paths = pp.PathData.from_temporal_dag(dag)\n",
    "\n",
    "# Create Higher Order Graph\n",
    "g2 = pp.HigherOrderGraph(paths, order=2, node_ids=g.mapping.node_ids)\n",
    "pp.plot(g2)"
   ]
  },
  {
   "cell_type": "markdown",
   "metadata": {},
   "source": [
    "We can also skip the step of creating an event DAG by just using the following code."
   ]
  },
  {
   "cell_type": "code",
   "execution_count": null,
   "metadata": {},
   "outputs": [],
   "source": [
    "g2 = pp.HigherOrderGraph.from_temporal_graph(g, delta=1, order=2)\n",
    "pp.plot(g2)"
   ]
  }
 ],
 "metadata": {
  "kernelspec": {
   "display_name": "base",
   "language": "python",
   "name": "python3"
  },
  "language_info": {
   "codemirror_mode": {
    "name": "ipython",
    "version": 3
   },
   "file_extension": ".py",
   "mimetype": "text/x-python",
   "name": "python",
   "nbconvert_exporter": "python",
   "pygments_lexer": "ipython3",
   "version": "3.10.13"
  },
  "orig_nbformat": 4
 },
 "nbformat": 4,
 "nbformat_minor": 2
}
