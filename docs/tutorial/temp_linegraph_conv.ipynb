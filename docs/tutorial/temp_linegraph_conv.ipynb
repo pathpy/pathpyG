{
 "cells": [
  {
   "cell_type": "code",
   "execution_count": null,
   "metadata": {},
   "outputs": [],
   "source": [
    "from typing import Optional\n",
    "\n",
    "from tqdm import trange\n",
    "import torch\n",
    "from torch import Tensor\n",
    "from torch_geometric.data import Data\n",
    "from torch_geometric.transforms import LineGraph\n",
    "\n",
    "import pathpyG as pp\n",
    "\n",
    "pp.config['torch']['device'] = 'cuda'"
   ]
  },
  {
   "cell_type": "code",
   "execution_count": null,
   "metadata": {},
   "outputs": [],
   "source": [
    "g = pp.TemporalGraph.from_edge_list([(0,1,0), (1,2,1), (1,3,1), (1,2,4), (2,3,5)])\n",
    "print(g)\n",
    "g = pp.algorithms.temporal_graph_to_event_dag(g, delta=1)"
   ]
  },
  {
   "cell_type": "code",
   "execution_count": 458,
   "metadata": {},
   "outputs": [],
   "source": [
    "def map_higher_order_index(edge_indices, k):\n",
    "    \"\"\"map node indices in k-th order edge index\n",
    "    to corresponding tensor of k first-order nodes\n",
    "    \"\"\" \n",
    "\n",
    "    # we need to reverse the node indices\n",
    "    # to construct an edge_index with k-th order nodes\n",
    "    \n",
    "    ei = edge_indices[k].reshape(2,-1,1)\n",
    "    \n",
    "    j = 0\n",
    "    for i in range(k-1, 0, -1):\n",
    "        src_edge, tgt_edge = ei\n",
    "        src = edge_indices[i][:,src_edge]\n",
    "        tgt = edge_indices[i][:,tgt_edge]\n",
    "        if j == 0:\n",
    "            ei = torch.cat([src, tgt], dim=2)\n",
    "        else:\n",
    "            ei = torch.cat([src[:,:,:j], tgt], dim=2)\n",
    "        j -= 1\n",
    "    return ei\n",
    "\n",
    "def lift_order_dag(dag, k):\n",
    "    d = dag.data\n",
    "    lg = LineGraph()\n",
    "    edge_indices = {}\n",
    "    edge_indices[1] = d.edge_index\n",
    "    for i in range(1, k):\n",
    "        d = lg(d)\n",
    "        edge_indices[i+1] = d.edge_index\n",
    "\n",
    "    # construct k-th-order edge index with dimension (m,2,k)\n",
    "    return map_higher_order_index(edge_indices, k)"
   ]
  },
  {
   "cell_type": "code",
   "execution_count": null,
   "metadata": {},
   "outputs": [],
   "source": [
    "g = pp.TemporalGraph.from_edge_list([(0,1,0), (1,2,1), (1,3,1), (1,2,4), (2,3,5)])\n",
    "dag = pp.algorithms.temporal_graph_to_event_dag(g, delta=1)\n",
    "print(dag)"
   ]
  },
  {
   "cell_type": "code",
   "execution_count": null,
   "metadata": {},
   "outputs": [],
   "source": [
    "# remap node indices and coalesce\n",
    "palette, key = zip(*index_translation.items())\n",
    "key = torch.tensor(key).to(pp.config['torch']['device'])\n",
    "palette = torch.tensor(palette).to(pp.config['torch']['device'])\n",
    "\n",
    "index = torch.bucketize(edge_index.ravel(), palette)\n",
    "remapped = key[index].reshape(edge_index.shape)"
   ]
  },
  {
   "cell_type": "code",
   "execution_count": 460,
   "metadata": {},
   "outputs": [
    {
     "name": "stdout",
     "output_type": "stream",
     "text": [
      "1 EdgeIndex([[0, 1, 1, 2, 3, 4],\n",
      "           [1, 2, 3, 4, 4, 5]], sparse_size=(5, ?), nnz=6, sort_order=row)\n",
      "2 tensor([[0, 0, 1, 2, 3, 4],\n",
      "        [1, 2, 3, 4, 5, 5]])\n",
      "3 tensor([[0, 1, 2, 3],\n",
      "        [2, 3, 4, 5]])\n",
      "4 tensor([[0, 1],\n",
      "        [2, 3]])\n"
     ]
    }
   ],
   "source": [
    "lg = LineGraph()\n",
    "\n",
    "g = pp.Graph.from_edge_list([(0,1), (1,2), (1,3), (2,4), (3,4), (4,5)])\n",
    "\n",
    "edge_indices = {}\n",
    "edge_indices[1] = g.data.edge_index\n",
    "d = lg(g.data)\n",
    "edge_indices[2] = d.edge_index\n",
    "d = lg(d)\n",
    "edge_indices[3] = d.edge_index\n",
    "\n",
    "d = lg(d)\n",
    "edge_indices[4] = d.edge_index\n",
    "\n",
    "print('1', edge_indices[1])\n",
    "print('2', edge_indices[2])\n",
    "print('3', edge_indices[3])\n",
    "print('4', edge_indices[4])\n",
    "\n",
    "# first-order edge index      [[0, 1, 1, 2, 3, 4],\n",
    "#                             [1, 2, 3, 4, 4, 5]]\n",
    "\n",
    "# expected output 2nd order = [[0,1], [0,1], [1,2], [1,3], [3,4]]\n",
    "#                             [[1,2], [1,3], [2,4], [3,4], [4,5]]\n",
    "\n",
    "# expected outout 3rd-order = [[0,1,2], [0,1,3], [1,3,4], [1,2,4]]\n",
    "#                             [[1,2,4], [1,3,4], [3,4,5], [2,4,5]]\n",
    "\n",
    "# expected outout 4th-order = [[0,1,2,4], [0,1,3,4]]\n",
    "#                             [[1,2,4,5], [1,3,4,5]]"
   ]
  },
  {
   "cell_type": "code",
   "execution_count": 464,
   "metadata": {},
   "outputs": [
    {
     "name": "stdout",
     "output_type": "stream",
     "text": [
      "2\n",
      "0\n",
      "1\n",
      "-1\n"
     ]
    },
    {
     "data": {
      "text/plain": [
       "tensor([[[0, 1, 2],\n",
       "         [0, 1, 3],\n",
       "         [1, 2, 4],\n",
       "         [1, 3, 4]],\n",
       "\n",
       "        [[1, 2, 4],\n",
       "         [1, 3, 4],\n",
       "         [2, 4, 5],\n",
       "         [3, 4, 5]]])"
      ]
     },
     "execution_count": 464,
     "metadata": {},
     "output_type": "execute_result"
    }
   ],
   "source": [
    "map_higher_order_index(edge_indices, k=3)"
   ]
  },
  {
   "cell_type": "markdown",
   "metadata": {},
   "source": []
  },
  {
   "cell_type": "markdown",
   "metadata": {},
   "source": [
    "## Mapping 2nd-order edge index"
   ]
  },
  {
   "cell_type": "code",
   "execution_count": 456,
   "metadata": {},
   "outputs": [
    {
     "name": "stdout",
     "output_type": "stream",
     "text": [
      "tensor([[0],\n",
      "        [0],\n",
      "        [1],\n",
      "        [2],\n",
      "        [3],\n",
      "        [4]])\n",
      "tensor([[1],\n",
      "        [2],\n",
      "        [3],\n",
      "        [4],\n",
      "        [5],\n",
      "        [5]])\n"
     ]
    }
   ],
   "source": [
    "src_2, tgt_2 = edge_indices[2].reshape(2,-1,1)\n",
    "print(src_2)\n",
    "print(tgt_2)"
   ]
  },
  {
   "cell_type": "code",
   "execution_count": 457,
   "metadata": {},
   "outputs": [
    {
     "name": "stdout",
     "output_type": "stream",
     "text": [
      "EdgeIndex([[[0],\n",
      "            [0],\n",
      "            [1],\n",
      "            [1],\n",
      "            [2],\n",
      "            [3]],\n",
      "\n",
      "           [[1],\n",
      "            [1],\n",
      "            [2],\n",
      "            [3],\n",
      "            [4],\n",
      "            [4]]], sparse_size=(5, ?), nnz=6)\n",
      "EdgeIndex([[[1],\n",
      "            [1],\n",
      "            [2],\n",
      "            [3],\n",
      "            [4],\n",
      "            [4]],\n",
      "\n",
      "           [[2],\n",
      "            [3],\n",
      "            [4],\n",
      "            [4],\n",
      "            [5],\n",
      "            [5]]], sparse_size=(5, ?), nnz=6)\n",
      "tensor([[[0, 1],\n",
      "         [0, 1],\n",
      "         [1, 2],\n",
      "         [1, 3],\n",
      "         [2, 4],\n",
      "         [3, 4]],\n",
      "\n",
      "        [[1, 2],\n",
      "         [1, 3],\n",
      "         [2, 4],\n",
      "         [3, 4],\n",
      "         [4, 5],\n",
      "         [4, 5]]])\n"
     ]
    }
   ],
   "source": [
    "# take all elements of innermost tensor in src_2 and tgt_2 and concatenate corresponding edges from lower_order edge index\n",
    "src_1 = edge_indices[1][:,src_2]\n",
    "tgt_1 = edge_indices[1][:,tgt_2]\n",
    "print(src_1)\n",
    "print(tgt_1)\n",
    "ei = torch.cat([src_1, tgt_1], dim=2)\n",
    "print(ei)"
   ]
  },
  {
   "cell_type": "markdown",
   "metadata": {},
   "source": [
    "## Mapping third-order edge index:"
   ]
  },
  {
   "cell_type": "code",
   "execution_count": 448,
   "metadata": {},
   "outputs": [
    {
     "name": "stdout",
     "output_type": "stream",
     "text": [
      "tensor([[0],\n",
      "        [1],\n",
      "        [2],\n",
      "        [3]])\n",
      "tensor([[2],\n",
      "        [3],\n",
      "        [4],\n",
      "        [5]])\n"
     ]
    }
   ],
   "source": [
    "src_3, tgt_3 = edge_indices[3].reshape(2,-1,1)\n",
    "print(src_3)\n",
    "print(tgt_3)"
   ]
  },
  {
   "cell_type": "code",
   "execution_count": 449,
   "metadata": {},
   "outputs": [
    {
     "name": "stdout",
     "output_type": "stream",
     "text": [
      "tensor([[[0],\n",
      "         [0],\n",
      "         [1],\n",
      "         [2]],\n",
      "\n",
      "        [[1],\n",
      "         [2],\n",
      "         [3],\n",
      "         [4]]])\n",
      "tensor([[[1],\n",
      "         [2],\n",
      "         [3],\n",
      "         [4]],\n",
      "\n",
      "        [[3],\n",
      "         [4],\n",
      "         [5],\n",
      "         [5]]])\n",
      "tensor([[[0, 1],\n",
      "         [0, 2],\n",
      "         [1, 3],\n",
      "         [2, 4]],\n",
      "\n",
      "        [[1, 3],\n",
      "         [2, 4],\n",
      "         [3, 5],\n",
      "         [4, 5]]])\n"
     ]
    }
   ],
   "source": [
    "# map to edges in 2nd-order network\n",
    "src_2 = edge_indices[2][:,src_3]\n",
    "tgt_2 = edge_indices[2][:,tgt_3]\n",
    "print(src_2)\n",
    "print(tgt_2)\n",
    "ei = torch.cat([src_2[:,:,:], tgt_2[:,:,:]], dim=2)\n",
    "print(ei)"
   ]
  },
  {
   "cell_type": "code",
   "execution_count": 434,
   "metadata": {},
   "outputs": [
    {
     "name": "stdout",
     "output_type": "stream",
     "text": [
      "EdgeIndex([[[0, 1],\n",
      "            [0, 1],\n",
      "            [1, 2],\n",
      "            [1, 3]],\n",
      "\n",
      "           [[1, 2],\n",
      "            [1, 3],\n",
      "            [2, 4],\n",
      "            [3, 4]]], sparse_size=(5, ?), nnz=4)\n",
      "EdgeIndex([[[1, 2],\n",
      "            [1, 3],\n",
      "            [2, 4],\n",
      "            [3, 4]],\n",
      "\n",
      "           [[2, 4],\n",
      "            [3, 4],\n",
      "            [4, 5],\n",
      "            [4, 5]]], sparse_size=(5, ?), nnz=4)\n"
     ]
    },
    {
     "data": {
      "text/plain": [
       "tensor([[[0, 1, 2],\n",
       "         [0, 1, 3],\n",
       "         [1, 2, 4],\n",
       "         [1, 3, 4]],\n",
       "\n",
       "        [[1, 2, 4],\n",
       "         [1, 3, 4],\n",
       "         [2, 4, 5],\n",
       "         [3, 4, 5]]])"
      ]
     },
     "execution_count": 434,
     "metadata": {},
     "output_type": "execute_result"
    }
   ],
   "source": [
    "# map edges in 2nd-order to first-order edge sequence \n",
    "src_2, tgt_2 = ei\n",
    "src_1 = edge_indices[1][:,src_2]\n",
    "tgt_1 = edge_indices[1][:,tgt_2]\n",
    "print(src_1)\n",
    "print(tgt_1)\n",
    "torch.cat([src_1[:,:,:-1], tgt_1[:,:,:]], dim=2)"
   ]
  },
  {
   "cell_type": "markdown",
   "metadata": {},
   "source": [
    "## Mapping fourth-order edge-index"
   ]
  },
  {
   "cell_type": "code",
   "execution_count": 409,
   "metadata": {},
   "outputs": [
    {
     "name": "stdout",
     "output_type": "stream",
     "text": [
      "tensor([[0],\n",
      "        [1]])\n",
      "tensor([[2],\n",
      "        [3]])\n"
     ]
    }
   ],
   "source": [
    "src_4, tgt_4 = edge_indices[4].reshape(2,-1,1)\n",
    "print(src_4)\n",
    "print(tgt_4)"
   ]
  },
  {
   "cell_type": "code",
   "execution_count": 410,
   "metadata": {},
   "outputs": [
    {
     "name": "stdout",
     "output_type": "stream",
     "text": [
      "tensor([[[0],\n",
      "         [1]],\n",
      "\n",
      "        [[2],\n",
      "         [3]]])\n",
      "tensor([[[2],\n",
      "         [3]],\n",
      "\n",
      "        [[4],\n",
      "         [5]]])\n",
      "tensor([[[0, 2],\n",
      "         [1, 3]],\n",
      "\n",
      "        [[2, 4],\n",
      "         [3, 5]]])\n"
     ]
    }
   ],
   "source": [
    "# map to edges in 3rd-order\n",
    "src_3 = edge_indices[3][:,src_4]\n",
    "tgt_3 = edge_indices[3][:,tgt_4]\n",
    "print(src_3)\n",
    "print(tgt_3)\n",
    "\n",
    "ei = torch.cat([src_3, tgt_3], dim=2)\n",
    "print(ei)"
   ]
  },
  {
   "cell_type": "code",
   "execution_count": 390,
   "metadata": {},
   "outputs": [
    {
     "name": "stdout",
     "output_type": "stream",
     "text": [
      "tensor([[[0, 1],\n",
      "         [0, 2]],\n",
      "\n",
      "        [[1, 3],\n",
      "         [2, 4]]])\n",
      "tensor([[[1, 3],\n",
      "         [2, 4]],\n",
      "\n",
      "        [[3, 5],\n",
      "         [4, 5]]])\n",
      "tensor([[[0, 1, 3],\n",
      "         [0, 2, 4]],\n",
      "\n",
      "        [[1, 3, 5],\n",
      "         [2, 4, 5]]])\n"
     ]
    }
   ],
   "source": [
    "# map to edges in 2nd-order\n",
    "src_3, tgt_3 = ei\n",
    "\n",
    "src_2 = edge_indices[2][:,src_3]\n",
    "tgt_2 = edge_indices[2][:,tgt_3]\n",
    "print(src_2)\n",
    "print(tgt_2)\n",
    "\n",
    "ei = torch.cat([src_2[:,:,:-1], tgt_2[:,:,:]], dim=2)\n",
    "print(ei)"
   ]
  },
  {
   "cell_type": "code",
   "execution_count": 391,
   "metadata": {},
   "outputs": [
    {
     "name": "stdout",
     "output_type": "stream",
     "text": [
      "EdgeIndex([[[0, 1, 2],\n",
      "            [0, 1, 3]],\n",
      "\n",
      "           [[1, 2, 4],\n",
      "            [1, 3, 4]]], sparse_size=(5, ?), nnz=2)\n",
      "EdgeIndex([[[1, 2, 4],\n",
      "            [1, 3, 4]],\n",
      "\n",
      "           [[2, 4, 5],\n",
      "            [3, 4, 5]]], sparse_size=(5, ?), nnz=2)\n"
     ]
    },
    {
     "data": {
      "text/plain": [
       "tensor([[[0, 1, 2, 4],\n",
       "         [0, 1, 3, 4]],\n",
       "\n",
       "        [[1, 2, 4, 5],\n",
       "         [1, 3, 4, 5]]])"
      ]
     },
     "execution_count": 391,
     "metadata": {},
     "output_type": "execute_result"
    }
   ],
   "source": [
    "# map edges in 2nd-order to first-order edge sequence \n",
    "src_2, tgt_2 = ei\n",
    "src_1 = edge_indices[1][:,src_2]\n",
    "tgt_1 = edge_indices[1][:,tgt_2]\n",
    "print(src_1)\n",
    "print(tgt_1)\n",
    "torch.cat([src_1[:,:,:-2], tgt_1[:,:,:]], dim=2)"
   ]
  },
  {
   "cell_type": "code",
   "execution_count": 226,
   "metadata": {},
   "outputs": [
    {
     "ename": "RuntimeError",
     "evalue": "t() expects a tensor with <= 2 dimensions, but self is 3D",
     "output_type": "error",
     "traceback": [
      "\u001b[0;31m---------------------------------------------------------------------------\u001b[0m",
      "\u001b[0;31mRuntimeError\u001b[0m                              Traceback (most recent call last)",
      "Cell \u001b[0;32mIn[226], line 1\u001b[0m\n\u001b[0;32m----> 1\u001b[0m \u001b[43mmap_higher_order_index\u001b[49m\u001b[43m(\u001b[49m\u001b[43medge_indices\u001b[49m\u001b[43m,\u001b[49m\u001b[43m \u001b[49m\u001b[43mk\u001b[49m\u001b[38;5;241;43m=\u001b[39;49m\u001b[38;5;241;43m4\u001b[39;49m\u001b[43m)\u001b[49m\n",
      "Cell \u001b[0;32mIn[74], line 21\u001b[0m, in \u001b[0;36mmap_higher_order_index\u001b[0;34m(edge_indices, k)\u001b[0m\n\u001b[1;32m     18\u001b[0m     src_edge \u001b[38;5;241m=\u001b[39m edge_indices[i][:,src_edge]\n\u001b[1;32m     19\u001b[0m     tgt_edge \u001b[38;5;241m=\u001b[39m edge_indices[i][:,tgt_edge]\n\u001b[0;32m---> 21\u001b[0m src_1 \u001b[38;5;241m=\u001b[39m edge_indices[\u001b[38;5;241m1\u001b[39m][:,\u001b[43msrc_edge\u001b[49m\u001b[38;5;241;43m.\u001b[39;49m\u001b[43mt\u001b[49m\u001b[43m(\u001b[49m\u001b[43m)\u001b[49m]\n\u001b[1;32m     22\u001b[0m tgt_1 \u001b[38;5;241m=\u001b[39m edge_indices[\u001b[38;5;241m1\u001b[39m][:,tgt_edge\u001b[38;5;241m.\u001b[39mt()]\n\u001b[1;32m     24\u001b[0m \u001b[38;5;28;01mreturn\u001b[39;00m torch\u001b[38;5;241m.\u001b[39mcat([src_1, tgt_1], dim\u001b[38;5;241m=\u001b[39m\u001b[38;5;241m-\u001b[39m\u001b[38;5;241m1\u001b[39m)\u001b[38;5;241m.\u001b[39munique_consecutive(dim\u001b[38;5;241m=\u001b[39m\u001b[38;5;241m-\u001b[39m\u001b[38;5;241m1\u001b[39m)\n",
      "\u001b[0;31mRuntimeError\u001b[0m: t() expects a tensor with <= 2 dimensions, but self is 3D"
     ]
    }
   ],
   "source": [
    "map_higher_order_index(edge_indices, k=4)"
   ]
  },
  {
   "cell_type": "code",
   "execution_count": 10,
   "metadata": {},
   "outputs": [
    {
     "data": {
      "text/plain": [
       "tensor([[[0, 1],\n",
       "         [0, 1],\n",
       "         [1, 2],\n",
       "         [1, 3]],\n",
       "\n",
       "        [[1, 2],\n",
       "         [1, 3],\n",
       "         [2, 4],\n",
       "         [3, 4]]])"
      ]
     },
     "execution_count": 10,
     "metadata": {},
     "output_type": "execute_result"
    }
   ],
   "source": [
    "g = pp.Graph.from_edge_list([(0,1), (1,2), (1,3), (2,4), (3,4)])\n",
    "lift_order_dag(g, k=2)"
   ]
  },
  {
   "cell_type": "code",
   "execution_count": null,
   "metadata": {},
   "outputs": [],
   "source": [
    "lg = LineGraph()\n",
    "ei = lg(g.data).edge_index\n",
    "edge_map = g.data.edge_index\n",
    "src, tgt = ei\n",
    "\n",
    "print(edge_map)\n",
    "ho_src = edge_map[:,src].t()\n",
    "ho_tgt = edge_map[:,tgt].t()\n",
    "\n",
    "ho_edge_index = torch.stack([ho_src, ho_tgt])\n",
    "print(ho_edge_index)"
   ]
  },
  {
   "cell_type": "code",
   "execution_count": null,
   "metadata": {},
   "outputs": [],
   "source": [
    "edge_map[:,1]"
   ]
  },
  {
   "cell_type": "code",
   "execution_count": null,
   "metadata": {},
   "outputs": [],
   "source": [
    "d = Data(edge_index = ei, num_nodes=5)\n",
    "ei = lg(d)\n",
    "print(ei)"
   ]
  },
  {
   "cell_type": "code",
   "execution_count": null,
   "metadata": {},
   "outputs": [],
   "source": [
    "src_edges = edges.expand(edges.size(0), -1, -1)\n",
    "print(src_edges)"
   ]
  },
  {
   "cell_type": "code",
   "execution_count": null,
   "metadata": {},
   "outputs": [],
   "source": [
    "tgt_edges = edges.expand(edges.size(0), -1, -1)\n",
    "print(tgt_edges)"
   ]
  },
  {
   "cell_type": "code",
   "execution_count": null,
   "metadata": {},
   "outputs": [],
   "source": [
    "tgt_edges[:,:,1]"
   ]
  },
  {
   "cell_type": "code",
   "execution_count": null,
   "metadata": {},
   "outputs": [],
   "source": [
    "mask = (src_edges[:,:,1] == tgt_edges[:,:,0])\n",
    "print(mask)"
   ]
  },
  {
   "cell_type": "code",
   "execution_count": null,
   "metadata": {},
   "outputs": [],
   "source": [
    "w1 = WalkTransform(k=2)\n",
    "out = w1(x, edge_index)\n",
    "print('out k=2', out)"
   ]
  },
  {
   "cell_type": "code",
   "execution_count": null,
   "metadata": {},
   "outputs": [],
   "source": [
    "# Example: \n",
    "\n",
    "# for each edge [i,j] add source [i,j] as many times as out-degree j \n",
    "# and dst [i,j] as many times as in-degree j\n",
    "\n",
    "# For edge 0 -> 1 create node [0, 1] and add src [0,1] to edges twice\n",
    "# For edge 1 -> 2 create node [1,2] and add tgt [1,2] to edges\n",
    "# For edge 1 -> 3 create node [1,3] and add tgt [1,3] to edges\n",
    "torch.cat([walks[0],walks[1]])"
   ]
  },
  {
   "cell_type": "code",
   "execution_count": null,
   "metadata": {},
   "outputs": [],
   "source": []
  },
  {
   "cell_type": "code",
   "execution_count": null,
   "metadata": {},
   "outputs": [],
   "source": []
  },
  {
   "cell_type": "code",
   "execution_count": null,
   "metadata": {},
   "outputs": [],
   "source": [
    "g.data.edge_index"
   ]
  },
  {
   "cell_type": "code",
   "execution_count": null,
   "metadata": {},
   "outputs": [],
   "source": [
    "walks = torch.tensor([[0], [0,1], [1,2], [1,3], [4], [4,5], [5,6]])"
   ]
  },
  {
   "cell_type": "code",
   "execution_count": null,
   "metadata": {},
   "outputs": [],
   "source": [
    "node_idx = torch.tensor(g.data.node_idx).reshape(-1,1)\n",
    "print(node_idx)"
   ]
  },
  {
   "cell_type": "markdown",
   "metadata": {},
   "source": [
    "we have the following paths: \n",
    "\n",
    "0 -> 1 -> 2  \n",
    "0 -> 1 -> 3  \n",
    "1 -> 2 -> 3\n",
    "\n",
    "and thus the following second-order edges: \n",
    "\n",
    "[0, 1] -> [1, 2]  \n",
    "[0, 1] -> [1, 3]  \n",
    "[1, 2] -> [2, 3]"
   ]
  },
  {
   "cell_type": "code",
   "execution_count": null,
   "metadata": {},
   "outputs": [],
   "source": [
    "conv = DeBruijnTransform()"
   ]
  },
  {
   "cell_type": "code",
   "execution_count": null,
   "metadata": {},
   "outputs": [],
   "source": [
    "print(node_idx)"
   ]
  },
  {
   "cell_type": "code",
   "execution_count": null,
   "metadata": {},
   "outputs": [],
   "source": [
    "# first convolution uses first-order edges and node indices to create second-order edge index\n",
    "out = conv(node_idx, g.data.edge_index)\n",
    "# Problem: conv considers edges, rather than paths of length two\n",
    "print(out)"
   ]
  },
  {
   "cell_type": "code",
   "execution_count": null,
   "metadata": {},
   "outputs": [],
   "source": [
    "# second convolution uses second-order edges to create third-order edges\n",
    "out = conv(out, g.data.edge_index)\n",
    "print(out)"
   ]
  },
  {
   "cell_type": "code",
   "execution_count": null,
   "metadata": {},
   "outputs": [],
   "source": []
  }
 ],
 "metadata": {
  "kernelspec": {
   "display_name": "Python 3 (ipykernel)",
   "language": "python",
   "name": "python3"
  },
  "language_info": {
   "codemirror_mode": {
    "name": "ipython",
    "version": 3
   },
   "file_extension": ".py",
   "mimetype": "text/x-python",
   "name": "python",
   "nbconvert_exporter": "python",
   "pygments_lexer": "ipython3",
   "version": "3.10.13"
  }
 },
 "nbformat": 4,
 "nbformat_minor": 4
}
