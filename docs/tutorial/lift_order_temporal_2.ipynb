{
 "cells": [
  {
   "cell_type": "code",
   "execution_count": 1,
   "metadata": {},
   "outputs": [
    {
     "name": "stderr",
     "output_type": "stream",
     "text": [
      "/opt/conda/lib/python3.11/site-packages/_distutils_hack/__init__.py:31: UserWarning: Setuptools is replacing distutils. Support for replacing an already imported distutils is deprecated. In the future, this condition will fail. Register concerns at https://github.com/pypa/setuptools/issues/new?template=distutils-deprecation.yml\n",
      "  warnings.warn(\n"
     ]
    }
   ],
   "source": [
    "from tqdm import tqdm\n",
    "import torch\n",
    "\n",
    "from torch_geometric.utils import degree, cumsum, coalesce, sort_edge_index, subgraph, mask_to_index, k_hop_subgraph\n",
    "\n",
    "import pathpyG as pp\n",
    "from pathpyG import Graph\n",
    "\n",
    "from pathpyG import TemporalGraph"
   ]
  },
  {
   "cell_type": "code",
   "execution_count": 2,
   "metadata": {},
   "outputs": [],
   "source": [
    "def lift_order_temporal(g: TemporalGraph, delta: int = 1):\n",
    "\n",
    "    # first-order edge index\n",
    "    edge_index, timestamps = g.data.edge_index, g.data.time\n",
    "\n",
    "    indices = torch.arange(0, edge_index.size(1), device=g.data.edge_index.device)\n",
    "\n",
    "    unique_t = torch.unique(timestamps, sorted=True)\n",
    "    second_order = []\n",
    "\n",
    "    # lift order: find possible continuations for edges in each time stamp\n",
    "    for i in range(unique_t.size(0)):\n",
    "        t = unique_t[i]\n",
    "\n",
    "        # find indices of all source edges that occur at unique timestamp t\n",
    "        src_time_mask = timestamps == t\n",
    "        src_edge_idx = indices[src_time_mask]\n",
    "\n",
    "        # find indices of all edges that can possibly continue edges occurring at time t for the given delta\n",
    "        dst_time_mask = (timestamps > t) & (timestamps <= t + delta)\n",
    "        dst_node_mask = torch.isin(edge_index[0], edge_index[1, src_edge_idx])\n",
    "        dst_edge_idx = indices[dst_time_mask & dst_node_mask]\n",
    "\n",
    "        if dst_edge_idx.size(0) > 0 and src_edge_idx.size(0) > 0:\n",
    "\n",
    "            # compute second-order edges between src and dst idx for all edges where dst in src_edges matches src in dst_edges\n",
    "            x = torch.cartesian_prod(src_edge_idx, dst_edge_idx).t()\n",
    "            # print(x.size(1))\n",
    "            src_edges = edge_index[:, x[0]]\n",
    "            dst_edges = edge_index[:, x[1]]\n",
    "            ho_edge_index = x[:, src_edges[1, :] == dst_edges[0, :]]\n",
    "            second_order.append(ho_edge_index)\n",
    "\n",
    "    ho_index = torch.cat(second_order, dim=1)\n",
    "    return ho_index"
   ]
  },
  {
   "cell_type": "code",
   "execution_count": 10,
   "metadata": {},
   "outputs": [],
   "source": [
    "def lift_order_temporal_1(g: TemporalGraph, delta: int = 1):\n",
    "\n",
    "    # first-order edge index\n",
    "    edge_index, timestamps = g.data.edge_index, g.data.time\n",
    "\n",
    "    indices = torch.arange(0, edge_index.size(1), device=g.data.edge_index.device)\n",
    "\n",
    "    unique_t = torch.unique(timestamps, sorted=True)\n",
    "    second_order = []\n",
    "\n",
    "    # lift order: find possible continuations for edges in each time stamp\n",
    "    for i in range(unique_t.size(0)):\n",
    "        t = unique_t[i]\n",
    "\n",
    "        # find indices of all source edges that occur at unique timestamp t\n",
    "        src_time_mask = timestamps == t\n",
    "        src_edge_idx = indices[src_time_mask]\n",
    "\n",
    "        # find indices of all edges that can possibly continue edges occurring at time t for the given delta\n",
    "        dst_time_mask = (timestamps > t) & (timestamps <= t + delta)\n",
    "        dst_node_mask = torch.isin(edge_index[0], edge_index[1, src_edge_idx])\n",
    "        dst_edge_idx = indices[dst_time_mask & dst_node_mask]\n",
    "\n",
    "        if dst_edge_idx.size(0) > 0 and src_edge_idx.size(0) > 0:\n",
    "\n",
    "            src_edges = edge_index[:, src_edge_idx]\n",
    "            dst_edges = edge_index[:, dst_edge_idx]\n",
    "            sorted_idx = torch.argsort(dst_edges[0])\n",
    "            dst_edge_idx = dst_edge_idx[sorted_idx]\n",
    "            dst_edges = dst_edges[:, sorted_idx]\n",
    "\n",
    "            outdegree = degree(dst_edges[0], dtype=torch.long, num_nodes=g.n)\n",
    "            outdegree_per_dst = outdegree[src_edges[1]]\n",
    "            # print(outdegree_per_dst)\n",
    "            num_new_edges = outdegree_per_dst.sum()\n",
    "            \n",
    "            ho_edge_srcs = torch.repeat_interleave(outdegree_per_dst)\n",
    "            ptrs = cumsum(outdegree, dim=0)[:-1]\n",
    "            ho_edge_dsts = torch.repeat_interleave(ptrs[src_edges[1]], outdegree_per_dst)\n",
    "            idx_correction = torch.arange(num_new_edges, dtype=torch.long, device=edge_index.device)\n",
    "            idx_correction -= cumsum(outdegree_per_dst, dim=0)[ho_edge_srcs]\n",
    "            ho_edge_dsts += idx_correction\n",
    "            second_order.append(torch.stack([src_edge_idx[ho_edge_srcs], dst_edge_idx[ho_edge_dsts]], dim=0))\n",
    "            \n",
    "\n",
    "    ho_index = torch.cat(second_order, dim=1)\n",
    "    return ho_index"
   ]
  },
  {
   "cell_type": "code",
   "execution_count": 11,
   "metadata": {},
   "outputs": [],
   "source": [
    "def lift_order_temporal_2(g: TemporalGraph, delta: int = 1):\n",
    "\n",
    "    # first-order edge index\n",
    "    edge_index, timestamps = g.data.edge_index, g.data.time\n",
    "\n",
    "    unique_t = torch.unique(timestamps, sorted=True)\n",
    "    second_order = []\n",
    "\n",
    "    # lift order: find possible continuations for edges in each time stamp\n",
    "    for i in range(unique_t.size(0)):\n",
    "        t = unique_t[i]\n",
    "\n",
    "        # find indices of all source edges that occur at unique timestamp t\n",
    "        src_time_mask = timestamps == t\n",
    "        src_edges = edge_index[:, src_time_mask]\n",
    "\n",
    "\n",
    "        second_order.append(...)\n",
    "\n",
    "    ho_index = torch.cat(second_order, dim=1)\n",
    "    return ho_index"
   ]
  },
  {
   "cell_type": "code",
   "execution_count": 12,
   "metadata": {},
   "outputs": [],
   "source": [
    "def long_temporal_graph() -> TemporalGraph:\n",
    "    \"\"\"Return a temporal graph with 20 time-stamped edges.\"\"\"\n",
    "    tedges = [('a', 'b', 1), ('c', 'b', 1), ('c', 'a', 1), ('f', 'c', 1), ('b', 'c', 5), ('a', 'd', 5), ('c', 'd', 9), (\"a\", \"d\", 9), ('c', 'e', 9),\n",
    "              ('c', 'f', 11), ('f', 'a', 13), ('a', 'g', 18), ('b', 'f', 21),\n",
    "              ('a', 'g', 26), ('c', 'f', 27), ('h', 'f', 27), ('g', 'h', 28),\n",
    "              ('a', 'c', 30), ('a', 'b', 31), ('c', 'h', 32), ('f', 'h', 33),\n",
    "              ('b', 'i', 42), ('i', 'b', 42), ('c', 'i', 47), ('h', 'i', 50)]\n",
    "    return TemporalGraph.from_edge_list(tedges)"
   ]
  },
  {
   "cell_type": "code",
   "execution_count": 13,
   "metadata": {},
   "outputs": [],
   "source": [
    "g = long_temporal_graph()"
   ]
  },
  {
   "cell_type": "code",
   "execution_count": 14,
   "metadata": {},
   "outputs": [
    {
     "data": {
      "text/plain": [
       "tensor([[ 0,  1,  2,  2,  3,  3,  3,  4,  4,  4,  9, 10, 11, 13, 14, 15, 17],\n",
       "        [ 4,  4,  5,  7,  6,  8,  9,  6,  8,  9, 10, 11, 16, 16, 20, 20, 19]])"
      ]
     },
     "execution_count": 14,
     "metadata": {},
     "output_type": "execute_result"
    }
   ],
   "source": [
    "lift_order_temporal(g, delta=10)"
   ]
  },
  {
   "cell_type": "code",
   "execution_count": 15,
   "metadata": {},
   "outputs": [
    {
     "name": "stdout",
     "output_type": "stream",
     "text": [
      "2.72 ms ± 90.6 μs per loop (mean ± std. dev. of 7 runs, 100 loops each)\n"
     ]
    }
   ],
   "source": [
    "%timeit lift_order_temporal(g, delta=10)"
   ]
  },
  {
   "cell_type": "code",
   "execution_count": 16,
   "metadata": {},
   "outputs": [
    {
     "name": "stdout",
     "output_type": "stream",
     "text": [
      "5.23 ms ± 289 μs per loop (mean ± std. dev. of 7 runs, 100 loops each)\n"
     ]
    }
   ],
   "source": [
    "%timeit lift_order_temporal_1(g, delta=10)"
   ]
  },
  {
   "cell_type": "code",
   "execution_count": 20,
   "metadata": {},
   "outputs": [
    {
     "data": {
      "text/plain": [
       "True"
      ]
     },
     "execution_count": 20,
     "metadata": {},
     "output_type": "execute_result"
    }
   ],
   "source": [
    "lift_order_res = lift_order_temporal(g, delta=10)\n",
    "lift_order_res_1 = lift_order_temporal_1(g, delta=10)\n",
    "\n",
    "(lift_order_res == lift_order_res_1).all().item()"
   ]
  },
  {
   "cell_type": "code",
   "execution_count": null,
   "metadata": {},
   "outputs": [],
   "source": []
  }
 ],
 "metadata": {
  "kernelspec": {
   "display_name": "base",
   "language": "python",
   "name": "python3"
  },
  "language_info": {
   "codemirror_mode": {
    "name": "ipython",
    "version": 3
   },
   "file_extension": ".py",
   "mimetype": "text/x-python",
   "name": "python",
   "nbconvert_exporter": "python",
   "pygments_lexer": "ipython3",
   "version": "3.11.9"
  }
 },
 "nbformat": 4,
 "nbformat_minor": 2
}
