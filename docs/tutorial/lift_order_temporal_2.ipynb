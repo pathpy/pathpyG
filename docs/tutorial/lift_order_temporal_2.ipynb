{
 "cells": [
  {
   "cell_type": "code",
   "execution_count": 1,
   "metadata": {},
   "outputs": [],
   "source": [
    "from tqdm import tqdm\n",
    "import torch\n",
    "\n",
    "from torch_geometric.utils import degree, cumsum, coalesce, sort_edge_index, subgraph, mask_to_index, k_hop_subgraph\n",
    "\n",
    "import pathpyG as pp\n",
    "from pathpyG import Graph\n",
    "\n",
    "from pathpyG import TemporalGraph"
   ]
  },
  {
   "cell_type": "code",
   "execution_count": 2,
   "metadata": {},
   "outputs": [],
   "source": [
    "def lift_order_temporal(g: TemporalGraph, delta: int = 1):\n",
    "\n",
    "    # first-order edge index\n",
    "    edge_index, timestamps = g.data.edge_index, g.data.time\n",
    "\n",
    "    indices = torch.arange(0, edge_index.size(1), device=g.data.edge_index.device)\n",
    "\n",
    "    unique_t = torch.unique(timestamps, sorted=True)\n",
    "    second_order = []\n",
    "\n",
    "    # lift order: find possible continuations for edges in each time stamp\n",
    "    for i in range(unique_t.size(0)):\n",
    "        t = unique_t[i]\n",
    "\n",
    "        # find indices of all source edges that occur at unique timestamp t\n",
    "        src_time_mask = timestamps == t\n",
    "        src_edge_idx = indices[src_time_mask]\n",
    "\n",
    "        # find indices of all edges that can possibly continue edges occurring at time t for the given delta\n",
    "        dst_time_mask = (timestamps > t) & (timestamps <= t + delta)\n",
    "        dst_node_mask = torch.isin(edge_index[0], edge_index[1, src_edge_idx])\n",
    "        dst_edge_idx = indices[dst_time_mask & dst_node_mask]\n",
    "\n",
    "        if dst_edge_idx.size(0) > 0 and src_edge_idx.size(0) > 0:\n",
    "\n",
    "            # compute second-order edges between src and dst idx for all edges where dst in src_edges matches src in dst_edges\n",
    "            x = torch.cartesian_prod(src_edge_idx, dst_edge_idx).t()\n",
    "            # print(x.size(1))\n",
    "            src_edges = edge_index[:, x[0]]\n",
    "            dst_edges = edge_index[:, x[1]]\n",
    "            ho_edge_index = x[:, src_edges[1, :] == dst_edges[0, :]]\n",
    "            second_order.append(ho_edge_index)\n",
    "\n",
    "    ho_index = torch.cat(second_order, dim=1)\n",
    "    return ho_index"
   ]
  },
  {
   "cell_type": "code",
   "execution_count": null,
   "metadata": {},
   "outputs": [],
   "source": [
    "def lift_order_temporal_1(g: TemporalGraph, delta: int = 1):\n",
    "\n",
    "    # first-order edge index\n",
    "    edge_index, timestamps = g.data.edge_index, g.data.time\n",
    "\n",
    "    indices = torch.arange(0, edge_index.size(1), device=g.data.edge_index.device)\n",
    "\n",
    "    unique_t = torch.unique(timestamps, sorted=True)\n",
    "    second_order = []\n",
    "\n",
    "    # lift order: find possible continuations for edges in each time stamp\n",
    "    for i in range(unique_t.size(0)):\n",
    "        t = unique_t[i]\n",
    "\n",
    "        # find indices of all source edges that occur at unique timestamp t\n",
    "        src_time_mask = timestamps == t\n",
    "        src_edge_idx = indices[src_time_mask]\n",
    "\n",
    "        # find indices of all edges that can possibly continue edges occurring at time t for the given delta\n",
    "        dst_time_mask = (timestamps > t) & (timestamps <= t + delta)\n",
    "        dst_node_mask = torch.isin(edge_index[0], edge_index[1, src_edge_idx])\n",
    "        dst_edge_idx = indices[dst_time_mask & dst_node_mask]\n",
    "\n",
    "        if dst_edge_idx.size(0) > 0 and src_edge_idx.size(0) > 0:\n",
    "\n",
    "            src_edges = edge_index[:, src_edge_idx]\n",
    "            dst_edges = edge_index[:, dst_edge_idx]\n",
    "            sorted_idx = torch.argsort(dst_edges[0])\n",
    "            dst_edge_idx = dst_edge_idx[sorted_idx]\n",
    "            dst_edges = dst_edges[:, sorted_idx]\n",
    "\n",
    "            outdegree = degree(dst_edges[0], dtype=torch.long, num_nodes=g.N)\n",
    "            outdegree_per_dst = outdegree[src_edges[1]]\n",
    "            # print(outdegree_per_dst)\n",
    "            num_new_edges = outdegree_per_dst.sum()\n",
    "            \n",
    "            ho_edge_srcs = torch.repeat_interleave(outdegree_per_dst)\n",
    "            ptrs = cumsum(outdegree, dim=0)[:-1]\n",
    "            ho_edge_dsts = torch.repeat_interleave(ptrs[src_edges[1]], outdegree_per_dst)\n",
    "            idx_correction = torch.arange(num_new_edges, dtype=torch.long, device=edge_index.device)\n",
    "            idx_correction -= cumsum(outdegree_per_dst, dim=0)[ho_edge_srcs]\n",
    "            ho_edge_dsts += idx_correction\n",
    "            second_order.append(torch.stack([src_edge_idx[ho_edge_srcs], dst_edge_idx[ho_edge_dsts]], dim=0))\n",
    "            \n",
    "\n",
    "    ho_index = torch.cat(second_order, dim=1)\n",
    "    return ho_index"
   ]
  },
  {
   "cell_type": "code",
   "execution_count": null,
   "metadata": {},
   "outputs": [],
   "source": [
    "def lift_order_temporal_2(g: TemporalGraph, delta: int = 1):\n",
    "\n",
    "    # first-order edge index\n",
    "    edge_index, timestamps = g.data.edge_index, g.data.time\n",
    "\n",
    "    unique_t = torch.unique(timestamps, sorted=True)\n",
    "    second_order = []\n",
    "\n",
    "    # lift order: find possible continuations for edges in each time stamp\n",
    "    for i in range(unique_t.size(0)):\n",
    "        t = unique_t[i]\n",
    "\n",
    "        # find indices of all source edges that occur at unique timestamp t\n",
    "        src_time_mask = timestamps == t\n",
    "        src_edges = edge_index[:, src_time_mask]\n",
    "\n",
    "\n",
    "        second_order.append(...)\n",
    "\n",
    "    ho_index = torch.cat(second_order, dim=1)\n",
    "    return ho_index"
   ]
  },
  {
   "cell_type": "code",
   "execution_count": 36,
   "metadata": {},
   "outputs": [],
   "source": [
    "def long_temporal_graph() -> TemporalGraph:\n",
    "    \"\"\"Return a temporal graph with 20 time-stamped edges.\"\"\"\n",
    "    tedges = [('a', 'b', 1), ('c', 'b', 1), ('c', 'a', 1), ('f', 'c', 1), ('b', 'c', 5), ('a', 'd', 5), ('c', 'd', 9), (\"a\", \"d\", 9), ('c', 'e', 9),\n",
    "              ('c', 'f', 11), ('f', 'a', 13), ('a', 'g', 18), ('b', 'f', 21),\n",
    "              ('a', 'g', 26), ('c', 'f', 27), ('h', 'f', 27), ('g', 'h', 28),\n",
    "              ('a', 'c', 30), ('a', 'b', 31), ('c', 'h', 32), ('f', 'h', 33),\n",
    "              ('b', 'i', 42), ('i', 'b', 42), ('c', 'i', 47), ('h', 'i', 50)]\n",
    "    return TemporalGraph.from_edge_list(tedges)"
   ]
  },
  {
   "cell_type": "code",
   "execution_count": 37,
   "metadata": {},
   "outputs": [],
   "source": [
    "g = long_temporal_graph()"
   ]
  },
  {
   "cell_type": "code",
   "execution_count": 41,
   "metadata": {},
   "outputs": [],
   "source": [
    "edge_index = g.data.edge_index"
   ]
  },
  {
   "cell_type": "code",
   "execution_count": 42,
   "metadata": {},
   "outputs": [
    {
     "ename": "ValueError",
     "evalue": "Cannot call 'get_csr' since 'EdgeIndex' is not sorted. Please call `EdgeIndex.sort_by(...)` first.",
     "output_type": "error",
     "traceback": [
      "\u001b[0;31m---------------------------------------------------------------------------\u001b[0m",
      "\u001b[0;31mValueError\u001b[0m                                Traceback (most recent call last)",
      "Cell \u001b[0;32mIn[42], line 1\u001b[0m\n\u001b[0;32m----> 1\u001b[0m \u001b[43medge_index\u001b[49m\u001b[43m \u001b[49m\u001b[38;5;241;43m@\u001b[39;49m\u001b[43m \u001b[49m\u001b[43medge_index\u001b[49m\n",
      "File \u001b[0;32m/opt/conda/lib/python3.11/site-packages/torch_geometric/edge_index.py:1215\u001b[0m, in \u001b[0;36mEdgeIndex.__torch_dispatch__\u001b[0;34m(cls, func, types, args, kwargs)\u001b[0m\n\u001b[1;32m   1195\u001b[0m \u001b[38;5;129m@classmethod\u001b[39m\n\u001b[1;32m   1196\u001b[0m \u001b[38;5;28;01mdef\u001b[39;00m \u001b[38;5;21m__torch_dispatch__\u001b[39m(\n\u001b[1;32m   1197\u001b[0m     \u001b[38;5;28mcls\u001b[39m: Type,\n\u001b[0;32m   (...)\u001b[0m\n\u001b[1;32m   1212\u001b[0m     \u001b[38;5;66;03m# To account for this, we hold a number of `HANDLED_FUNCTIONS` that\u001b[39;00m\n\u001b[1;32m   1213\u001b[0m     \u001b[38;5;66;03m# implement specific functions for valid `EdgeIndex` routines.\u001b[39;00m\n\u001b[1;32m   1214\u001b[0m     \u001b[38;5;28;01mif\u001b[39;00m func \u001b[38;5;129;01min\u001b[39;00m HANDLED_FUNCTIONS:\n\u001b[0;32m-> 1215\u001b[0m         \u001b[38;5;28;01mreturn\u001b[39;00m \u001b[43mHANDLED_FUNCTIONS\u001b[49m\u001b[43m[\u001b[49m\u001b[43mfunc\u001b[49m\u001b[43m]\u001b[49m\u001b[43m(\u001b[49m\u001b[38;5;241;43m*\u001b[39;49m\u001b[43margs\u001b[49m\u001b[43m,\u001b[49m\u001b[43m \u001b[49m\u001b[38;5;241;43m*\u001b[39;49m\u001b[38;5;241;43m*\u001b[39;49m\u001b[43m(\u001b[49m\u001b[43mkwargs\u001b[49m\u001b[43m \u001b[49m\u001b[38;5;129;43;01mor\u001b[39;49;00m\u001b[43m \u001b[49m\u001b[43m{\u001b[49m\u001b[43m}\u001b[49m\u001b[43m)\u001b[49m\u001b[43m)\u001b[49m\n\u001b[1;32m   1217\u001b[0m     \u001b[38;5;66;03m# For all other PyTorch functions, we treat them as vanilla tensors.\u001b[39;00m\n\u001b[1;32m   1218\u001b[0m     args \u001b[38;5;241m=\u001b[39m pytree\u001b[38;5;241m.\u001b[39mtree_map_only(EdgeIndex, \u001b[38;5;28;01mlambda\u001b[39;00m x: x\u001b[38;5;241m.\u001b[39m_data, args)\n",
      "File \u001b[0;32m/opt/conda/lib/python3.11/site-packages/torch_geometric/edge_index.py:2036\u001b[0m, in \u001b[0;36m_mm\u001b[0;34m(input, other)\u001b[0m\n\u001b[1;32m   2031\u001b[0m \u001b[38;5;129m@implements\u001b[39m(aten\u001b[38;5;241m.\u001b[39mmm\u001b[38;5;241m.\u001b[39mdefault)\n\u001b[1;32m   2032\u001b[0m \u001b[38;5;28;01mdef\u001b[39;00m \u001b[38;5;21m_mm\u001b[39m(\n\u001b[1;32m   2033\u001b[0m     \u001b[38;5;28minput\u001b[39m: EdgeIndex,\n\u001b[1;32m   2034\u001b[0m     other: Union[Tensor, EdgeIndex],\n\u001b[1;32m   2035\u001b[0m ) \u001b[38;5;241m-\u001b[39m\u001b[38;5;241m>\u001b[39m Union[Tensor, Tuple[EdgeIndex, Tensor]]:\n\u001b[0;32m-> 2036\u001b[0m     \u001b[38;5;28;01mreturn\u001b[39;00m \u001b[43mmatmul\u001b[49m\u001b[43m(\u001b[49m\u001b[38;5;28;43minput\u001b[39;49m\u001b[43m,\u001b[49m\u001b[43m \u001b[49m\u001b[43mother\u001b[49m\u001b[43m)\u001b[49m\n",
      "File \u001b[0;32m/opt/conda/lib/python3.11/site-packages/torch_geometric/edge_index.py:1995\u001b[0m, in \u001b[0;36mmatmul\u001b[0;34m(input, other, input_value, other_value, reduce, transpose)\u001b[0m\n\u001b[1;32m   1993\u001b[0m     sparse_input \u001b[38;5;241m=\u001b[39m \u001b[38;5;28minput\u001b[39m\u001b[38;5;241m.\u001b[39mto_sparse_csc(input_value)\n\u001b[1;32m   1994\u001b[0m \u001b[38;5;28;01melse\u001b[39;00m:\n\u001b[0;32m-> 1995\u001b[0m     sparse_input \u001b[38;5;241m=\u001b[39m \u001b[38;5;28;43minput\u001b[39;49m\u001b[38;5;241;43m.\u001b[39;49m\u001b[43mto_sparse_csr\u001b[49m\u001b[43m(\u001b[49m\u001b[43minput_value\u001b[49m\u001b[43m)\u001b[49m\n\u001b[1;32m   1997\u001b[0m \u001b[38;5;28;01mif\u001b[39;00m transpose:\n\u001b[1;32m   1998\u001b[0m     sparse_input \u001b[38;5;241m=\u001b[39m sparse_input\u001b[38;5;241m.\u001b[39mt()\n",
      "File \u001b[0;32m/opt/conda/lib/python3.11/site-packages/torch_geometric/edge_index.py:857\u001b[0m, in \u001b[0;36mEdgeIndex.to_sparse_csr\u001b[0;34m(self, value)\u001b[0m\n\u001b[1;32m    845\u001b[0m \u001b[38;5;28;01mdef\u001b[39;00m \u001b[38;5;21mto_sparse_csr\u001b[39m(  \u001b[38;5;66;03m# type: ignore\u001b[39;00m\n\u001b[1;32m    846\u001b[0m         \u001b[38;5;28mself\u001b[39m,\n\u001b[1;32m    847\u001b[0m         value: Optional[Tensor] \u001b[38;5;241m=\u001b[39m \u001b[38;5;28;01mNone\u001b[39;00m,\n\u001b[1;32m    848\u001b[0m ) \u001b[38;5;241m-\u001b[39m\u001b[38;5;241m>\u001b[39m Tensor:\n\u001b[1;32m    849\u001b[0m \u001b[38;5;250m    \u001b[39m\u001b[38;5;124mr\u001b[39m\u001b[38;5;124;03m\"\"\"Converts :class:`EdgeIndex` into a :pytorch:`null`\u001b[39;00m\n\u001b[1;32m    850\u001b[0m \u001b[38;5;124;03m    :class:`torch.sparse_csr_tensor`.\u001b[39;00m\n\u001b[1;32m    851\u001b[0m \n\u001b[0;32m   (...)\u001b[0m\n\u001b[1;32m    855\u001b[0m \u001b[38;5;124;03m            :obj:`1.0`. (default: :obj:`None`)\u001b[39;00m\n\u001b[1;32m    856\u001b[0m \u001b[38;5;124;03m    \"\"\"\u001b[39;00m\n\u001b[0;32m--> 857\u001b[0m     (rowptr, col), perm \u001b[38;5;241m=\u001b[39m \u001b[38;5;28;43mself\u001b[39;49m\u001b[38;5;241;43m.\u001b[39;49m\u001b[43mget_csr\u001b[49m\u001b[43m(\u001b[49m\u001b[43m)\u001b[49m\n\u001b[1;32m    858\u001b[0m     \u001b[38;5;28;01mif\u001b[39;00m value \u001b[38;5;129;01mis\u001b[39;00m \u001b[38;5;129;01mnot\u001b[39;00m \u001b[38;5;28;01mNone\u001b[39;00m \u001b[38;5;129;01mand\u001b[39;00m perm \u001b[38;5;129;01mis\u001b[39;00m \u001b[38;5;129;01mnot\u001b[39;00m \u001b[38;5;28;01mNone\u001b[39;00m:\n\u001b[1;32m    859\u001b[0m         value \u001b[38;5;241m=\u001b[39m value[perm]\n",
      "File \u001b[0;32m/opt/conda/lib/python3.11/site-packages/torch_geometric/edge_index.py:144\u001b[0m, in \u001b[0;36massert_sorted.<locals>.wrapper\u001b[0;34m(self, *args, **kwargs)\u001b[0m\n\u001b[1;32m    142\u001b[0m \u001b[38;5;28;01mif\u001b[39;00m \u001b[38;5;129;01mnot\u001b[39;00m \u001b[38;5;28mself\u001b[39m\u001b[38;5;241m.\u001b[39mis_sorted:\n\u001b[1;32m    143\u001b[0m     cls_name \u001b[38;5;241m=\u001b[39m \u001b[38;5;28mself\u001b[39m\u001b[38;5;241m.\u001b[39m\u001b[38;5;18m__class__\u001b[39m\u001b[38;5;241m.\u001b[39m\u001b[38;5;18m__name__\u001b[39m\n\u001b[0;32m--> 144\u001b[0m     \u001b[38;5;28;01mraise\u001b[39;00m \u001b[38;5;167;01mValueError\u001b[39;00m(\n\u001b[1;32m    145\u001b[0m         \u001b[38;5;124mf\u001b[39m\u001b[38;5;124m\"\u001b[39m\u001b[38;5;124mCannot call \u001b[39m\u001b[38;5;124m'\u001b[39m\u001b[38;5;132;01m{\u001b[39;00mfunc\u001b[38;5;241m.\u001b[39m\u001b[38;5;18m__name__\u001b[39m\u001b[38;5;132;01m}\u001b[39;00m\u001b[38;5;124m'\u001b[39m\u001b[38;5;124m since \u001b[39m\u001b[38;5;124m'\u001b[39m\u001b[38;5;132;01m{\u001b[39;00mcls_name\u001b[38;5;132;01m}\u001b[39;00m\u001b[38;5;124m'\u001b[39m\u001b[38;5;124m is not \u001b[39m\u001b[38;5;124m\"\u001b[39m\n\u001b[1;32m    146\u001b[0m         \u001b[38;5;124mf\u001b[39m\u001b[38;5;124m\"\u001b[39m\u001b[38;5;124msorted. Please call `\u001b[39m\u001b[38;5;132;01m{\u001b[39;00mcls_name\u001b[38;5;132;01m}\u001b[39;00m\u001b[38;5;124m.sort_by(...)` first.\u001b[39m\u001b[38;5;124m\"\u001b[39m)\n\u001b[1;32m    147\u001b[0m \u001b[38;5;28;01mreturn\u001b[39;00m func(\u001b[38;5;28mself\u001b[39m, \u001b[38;5;241m*\u001b[39margs, \u001b[38;5;241m*\u001b[39m\u001b[38;5;241m*\u001b[39mkwargs)\n",
      "\u001b[0;31mValueError\u001b[0m: Cannot call 'get_csr' since 'EdgeIndex' is not sorted. Please call `EdgeIndex.sort_by(...)` first."
     ]
    }
   ],
   "source": [
    "edge_index @ edge_index"
   ]
  },
  {
   "cell_type": "code",
   "execution_count": 38,
   "metadata": {},
   "outputs": [
    {
     "name": "stdout",
     "output_type": "stream",
     "text": [
      "tensor([0, 1, 2, 3, 4, 5])\n",
      "tensor([[1, 0, 2, 0, 2, 2],\n",
      "        [2, 3, 3, 3, 4, 5]])\n",
      "tensor([1, 1, 0, 2])\n",
      "tensor([True, True, True, True, True, True])\n",
      "tensor([2, 3, 4, 5])\n",
      "tensor([[0, 0, 0],\n",
      "        [1, 2, 3]])\n",
      "tensor([0, 1])\n",
      "tensor([ True, False,  True,  True, False])\n",
      "tensor([3, 4])\n",
      "tensor([], size=(2, 0), dtype=torch.int64)\n",
      "tensor([0, 0, 1])\n",
      "tensor([False, False, False])\n",
      "tensor([0, 5])\n",
      "tensor([[1],\n",
      "        [0]])\n",
      "tensor([1])\n",
      "tensor([ True, False, False])\n",
      "tensor([0, 6])\n",
      "tensor([[0],\n",
      "        [1]])\n",
      "tensor([0])\n",
      "tensor([ True, False])\n",
      "tensor([6, 7])\n",
      "tensor([[0],\n",
      "        [1]])\n",
      "tensor([0])\n",
      "tensor([False, False, False, False,  True])\n",
      "tensor([5])\n",
      "tensor([], size=(2, 0), dtype=torch.int64)\n",
      "tensor([0])\n",
      "tensor([False, False, False, False, False, False])\n",
      "tensor([6, 7])\n",
      "tensor([[0],\n",
      "        [1]])\n",
      "tensor([0])\n",
      "tensor([False, False,  True, False, False, False, False])\n",
      "tensor([5, 7])\n",
      "tensor([[0],\n",
      "        [1]])\n",
      "tensor([0, 0])\n",
      "tensor([False, False, False, False,  True])\n",
      "tensor([7])\n",
      "tensor([], size=(2, 0), dtype=torch.int64)\n",
      "tensor([0])\n",
      "tensor([False, False, False, False])\n",
      "tensor([2, 7])\n",
      "tensor([[0],\n",
      "        [1]])\n",
      "tensor([0])\n",
      "tensor([False,  True, False])\n",
      "tensor([1])\n",
      "tensor([], size=(2, 0), dtype=torch.int64)\n",
      "tensor([0])\n",
      "tensor([False, False])\n",
      "tensor([7])\n",
      "tensor([], size=(2, 0), dtype=torch.int64)\n",
      "tensor([0])\n",
      "tensor([False, False, False])\n",
      "tensor([7])\n",
      "tensor([], size=(2, 0), dtype=torch.int64)\n",
      "tensor([0])\n",
      "tensor([False, False])\n",
      "tensor([1, 8])\n",
      "tensor([], size=(2, 0), dtype=torch.int64)\n",
      "tensor([1, 0])\n",
      "tensor([False, False])\n",
      "tensor([8])\n",
      "tensor([], size=(2, 0), dtype=torch.int64)\n",
      "tensor([0])\n",
      "tensor([False])\n",
      "tensor([8])\n",
      "tensor([], size=(2, 0), dtype=torch.int64)\n",
      "tensor([0])\n",
      "tensor([], dtype=torch.bool)\n"
     ]
    },
    {
     "ename": "TypeError",
     "evalue": "expected Tensor as element 0 in argument 0, but got ellipsis",
     "output_type": "error",
     "traceback": [
      "\u001b[0;31m---------------------------------------------------------------------------\u001b[0m",
      "\u001b[0;31mTypeError\u001b[0m                                 Traceback (most recent call last)",
      "Cell \u001b[0;32mIn[38], line 1\u001b[0m\n\u001b[0;32m----> 1\u001b[0m \u001b[43mlift_order_temporal_2\u001b[49m\u001b[43m(\u001b[49m\u001b[43mg\u001b[49m\u001b[43m,\u001b[49m\u001b[43m \u001b[49m\u001b[43mdelta\u001b[49m\u001b[38;5;241;43m=\u001b[39;49m\u001b[38;5;241;43m10\u001b[39;49m\u001b[43m)\u001b[49m\n",
      "Cell \u001b[0;32mIn[35], line 26\u001b[0m, in \u001b[0;36mlift_order_temporal_2\u001b[0;34m(g, delta)\u001b[0m\n\u001b[1;32m     22\u001b[0m     \u001b[38;5;28mprint\u001b[39m(edge_mask)\n\u001b[1;32m     24\u001b[0m     second_order\u001b[38;5;241m.\u001b[39mappend(\u001b[38;5;241m.\u001b[39m\u001b[38;5;241m.\u001b[39m\u001b[38;5;241m.\u001b[39m)\n\u001b[0;32m---> 26\u001b[0m ho_index \u001b[38;5;241m=\u001b[39m \u001b[43mtorch\u001b[49m\u001b[38;5;241;43m.\u001b[39;49m\u001b[43mcat\u001b[49m\u001b[43m(\u001b[49m\u001b[43msecond_order\u001b[49m\u001b[43m,\u001b[49m\u001b[43m \u001b[49m\u001b[43mdim\u001b[49m\u001b[38;5;241;43m=\u001b[39;49m\u001b[38;5;241;43m1\u001b[39;49m\u001b[43m)\u001b[49m\n\u001b[1;32m     27\u001b[0m \u001b[38;5;28;01mreturn\u001b[39;00m ho_index\n",
      "\u001b[0;31mTypeError\u001b[0m: expected Tensor as element 0 in argument 0, but got ellipsis"
     ]
    }
   ],
   "source": [
    "lift_order_temporal_2(g, delta=10)"
   ]
  },
  {
   "cell_type": "code",
   "execution_count": null,
   "metadata": {},
   "outputs": [
    {
     "data": {
      "text/plain": [
       "tensor([[ 0,  1,  2,  3,  3,  3,  4,  4,  4,  8,  9, 10, 12, 13, 14, 16],\n",
       "        [ 4,  4,  5,  6,  7,  8,  6,  7,  8,  9, 10, 15, 15, 19, 19, 18]])"
      ]
     },
     "execution_count": 18,
     "metadata": {},
     "output_type": "execute_result"
    }
   ],
   "source": [
    "lift_order_temporal(g, delta=10)"
   ]
  },
  {
   "cell_type": "code",
   "execution_count": null,
   "metadata": {},
   "outputs": [
    {
     "name": "stdout",
     "output_type": "stream",
     "text": [
      "3.26 ms ± 215 μs per loop (mean ± std. dev. of 7 runs, 100 loops each)\n"
     ]
    }
   ],
   "source": [
    "%timeit lift_order_temporal(g, delta=10)"
   ]
  },
  {
   "cell_type": "code",
   "execution_count": null,
   "metadata": {},
   "outputs": [
    {
     "name": "stdout",
     "output_type": "stream",
     "text": [
      "5.93 ms ± 316 μs per loop (mean ± std. dev. of 7 runs, 100 loops each)\n"
     ]
    }
   ],
   "source": [
    "%timeit lift_order_temporal_1(g, delta=10)"
   ]
  },
  {
   "cell_type": "code",
   "execution_count": null,
   "metadata": {},
   "outputs": [
    {
     "ename": "NameError",
     "evalue": "name 'lift_order_res' is not defined",
     "output_type": "error",
     "traceback": [
      "\u001b[0;31m---------------------------------------------------------------------------\u001b[0m",
      "\u001b[0;31mNameError\u001b[0m                                 Traceback (most recent call last)",
      "Cell \u001b[0;32mIn[8], line 1\u001b[0m\n\u001b[0;32m----> 1\u001b[0m \u001b[43mlift_order_res\u001b[49m \u001b[38;5;241m==\u001b[39m lift_order_res_1\n",
      "\u001b[0;31mNameError\u001b[0m: name 'lift_order_res' is not defined"
     ]
    }
   ],
   "source": [
    "lift_order_res == lift_order_res_1"
   ]
  },
  {
   "cell_type": "code",
   "execution_count": null,
   "metadata": {},
   "outputs": [],
   "source": []
  }
 ],
 "metadata": {
  "kernelspec": {
   "display_name": "base",
   "language": "python",
   "name": "python3"
  },
  "language_info": {
   "codemirror_mode": {
    "name": "ipython",
    "version": 3
   },
   "file_extension": ".py",
   "mimetype": "text/x-python",
   "name": "python",
   "nbconvert_exporter": "python",
   "pygments_lexer": "ipython3",
   "version": "3.11.9"
  }
 },
 "nbformat": 4,
 "nbformat_minor": 2
}
