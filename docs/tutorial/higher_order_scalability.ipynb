{
 "cells": [
  {
   "cell_type": "code",
   "execution_count": 1,
   "metadata": {},
   "outputs": [
    {
     "name": "stdout",
     "output_type": "stream",
     "text": [
      "Running on cpu\n"
     ]
    }
   ],
   "source": [
    "import time\n",
    "import torch\n",
    "\n",
    "import pathpy as pp2\n",
    "import pathpyG as pp\n",
    "from matplotlib import pyplot as plt\n",
    "\n",
    "\n",
    "print('Running on', pp.config['torch']['device'])"
   ]
  },
  {
   "cell_type": "code",
   "execution_count": 17,
   "metadata": {},
   "outputs": [],
   "source": [
    "x = torch.nested.as_nested_tensor([\n",
    "    torch.tensor([\n",
    "        [0,1,2], \n",
    "        [1,2,3]\n",
    "    ]), \n",
    "    torch.tensor([\n",
    "        [0,1], \n",
    "        [1,2]\n",
    "    ]),\n",
    "    torch.tensor([\n",
    "        [2,3,4,5],\n",
    "        [3,4,5,6],\n",
    "    ]),\n",
    "    ], device=pp.config['torch']['device'])\n",
    "f = torch.tensor([1, 2, 4])"
   ]
  },
  {
   "cell_type": "code",
   "execution_count": 18,
   "metadata": {},
   "outputs": [
    {
     "data": {
      "text/plain": [
       "tensor([[0, 1, 2, 0, 1, 2, 3, 4, 5],\n",
       "        [1, 2, 3, 1, 2, 3, 4, 5, 6]])"
      ]
     },
     "execution_count": 18,
     "metadata": {},
     "output_type": "execute_result"
    }
   ],
   "source": [
    "torch.cat([t for t in x], dim=1)"
   ]
  },
  {
   "cell_type": "code",
   "execution_count": 32,
   "metadata": {},
   "outputs": [
    {
     "data": {
      "text/plain": [
       "tensor([1, 1, 1, 2, 2, 2, 3, 3, 3, 3])"
      ]
     },
     "execution_count": 32,
     "metadata": {},
     "output_type": "execute_result"
    }
   ],
   "source": [
    "torch.cat([f[i].repeat(t.size(dim=1)) for i, t in enumerate(x)])"
   ]
  },
  {
   "cell_type": "code",
   "execution_count": 29,
   "metadata": {},
   "outputs": [
    {
     "data": {
      "text/plain": [
       "tensor([1, 1, 1, 1, 1])"
      ]
     },
     "execution_count": 29,
     "metadata": {},
     "output_type": "execute_result"
    }
   ],
   "source": [
    "f[0].repeat(5)"
   ]
  },
  {
   "cell_type": "code",
   "execution_count": 8,
   "metadata": {},
   "outputs": [
    {
     "name": "stdout",
     "output_type": "stream",
     "text": [
      "tensor([[0, 1, 2],\n",
      "        [1, 2, 3]])\n",
      "tensor([[0, 1],\n",
      "        [1, 2]])\n",
      "tensor([[2, 3, 4, 5],\n",
      "        [3, 4, 5, 6]])\n"
     ]
    }
   ],
   "source": [
    "for t in x:\n",
    "    print(t)"
   ]
  },
  {
   "cell_type": "code",
   "execution_count": 2,
   "metadata": {},
   "outputs": [],
   "source": [
    "def nested_unfold(nt, k):\n",
    "    a = []\n",
    "    for t in nt:\n",
    "        if k < t.size(dim=1):\n",
    "            a.append(t.unfold(1, k, 1))\n",
    "        else:\n",
    "            a.append(torch.tensor([], dtype=int, device=pp.config['torch']['device']))    \n",
    "    return torch.cat(a, dim=1)"
   ]
  },
  {
   "cell_type": "code",
   "execution_count": 3,
   "metadata": {},
   "outputs": [
    {
     "ename": "NameError",
     "evalue": "name 'x' is not defined",
     "output_type": "error",
     "traceback": [
      "\u001b[0;31m---------------------------------------------------------------------------\u001b[0m",
      "\u001b[0;31mNameError\u001b[0m                                 Traceback (most recent call last)",
      "Cell \u001b[0;32mIn[3], line 1\u001b[0m\n\u001b[0;32m----> 1\u001b[0m i \u001b[38;5;241m=\u001b[39m nested_unfold(\u001b[43mx\u001b[49m, \u001b[38;5;241m2\u001b[39m)\n\u001b[1;32m      2\u001b[0m \u001b[38;5;28mprint\u001b[39m(i)\n",
      "\u001b[0;31mNameError\u001b[0m: name 'x' is not defined"
     ]
    }
   ],
   "source": [
    "i = nested_unfold(x, 2)\n",
    "print(i)"
   ]
  },
  {
   "cell_type": "code",
   "execution_count": 28,
   "metadata": {},
   "outputs": [
    {
     "name": "stdout",
     "output_type": "stream",
     "text": [
      "tensor([1, 1, 2, 4, 4, 4])\n"
     ]
    }
   ],
   "source": [
    "f_q = torch.cat([f[i].repeat(t.size(dim=1)-2+1 if t.size(dim=1)-2+1>0 else 0) for i, t in enumerate(x)])\n",
    "print(f_q)"
   ]
  },
  {
   "cell_type": "code",
   "execution_count": 29,
   "metadata": {},
   "outputs": [
    {
     "name": "stdout",
     "output_type": "stream",
     "text": [
      "tensor([[[0, 1],\n",
      "         [1, 2],\n",
      "         [2, 3],\n",
      "         [3, 4],\n",
      "         [4, 5]],\n",
      "\n",
      "        [[1, 2],\n",
      "         [2, 3],\n",
      "         [3, 4],\n",
      "         [4, 5],\n",
      "         [5, 6]]])\n",
      "tensor([0, 1, 2, 3, 4])\n"
     ]
    }
   ],
   "source": [
    "edge_index, reverse_index = i.unique(dim=1, return_inverse=True)\n",
    "print(edge_index)\n",
    "print(reverse_index)"
   ]
  },
  {
   "cell_type": "code",
   "execution_count": 31,
   "metadata": {},
   "outputs": [
    {
     "data": {
      "text/plain": [
       "tensor([1., 1., 2., 4., 4.], dtype=torch.float64)"
      ]
     },
     "execution_count": 31,
     "metadata": {},
     "output_type": "execute_result"
    }
   ],
   "source": [
    "torch.bincount(reverse_index, weights=f_q[reverse_index])"
   ]
  },
  {
   "cell_type": "code",
   "execution_count": 2,
   "metadata": {},
   "outputs": [
    {
     "name": "stderr",
     "output_type": "stream",
     "text": [
      "/opt/conda/lib/python3.10/site-packages/torch/nested/__init__.py:58: UserWarning: The PyTorch API of nested tensors is in prototype stage and will change in the near future. (Triggered internally at ../aten/src/ATen/NestedTensorImpl.cpp:178.)\n",
      "  return torch._nested_tensor_from_tensor_list(tensor_list, dtype, None, device, None)\n"
     ]
    }
   ],
   "source": [
    "pp.config['torch']['device'] = 'cpu'\n",
    "p = pp.PathData.from_csv('../data/tube_paths_train.ngram')"
   ]
  },
  {
   "cell_type": "code",
   "execution_count": 6,
   "metadata": {},
   "outputs": [],
   "source": [
    "g2 = pp.HigherOrderGraph(p, order=2, path_freq='path_freq')\n",
    "print(g2.N)\n",
    "print(g2.M)\n",
    "print(g2['edge_weight'].sum().item())"
   ]
  },
  {
   "cell_type": "code",
   "execution_count": 13,
   "metadata": {},
   "outputs": [
    {
     "name": "stdout",
     "output_type": "stream",
     "text": [
      "torch.Size([61748])\n"
     ]
    }
   ],
   "source": [
    "print(p.path_freq.size())"
   ]
  },
  {
   "cell_type": "code",
   "execution_count": 6,
   "metadata": {},
   "outputs": [],
   "source": [
    "pp.config['torch']['device'] = 'cpu'\n",
    "p = pp.PathData.from_csv('../data/tube_paths_train.ngram')"
   ]
  },
  {
   "cell_type": "code",
   "execution_count": 7,
   "metadata": {},
   "outputs": [
    {
     "name": "stdout",
     "output_type": "stream",
     "text": [
      "4056\n",
      "5332\n",
      "340694\n"
     ]
    }
   ],
   "source": [
    "g2 = pp.HigherOrderGraph(p, order=7, path_freq='path_freq')\n",
    "print(g2.N)\n",
    "print(g2.M)\n",
    "print(g2['edge_weight'].sum().item())"
   ]
  },
  {
   "cell_type": "code",
   "execution_count": null,
   "metadata": {},
   "outputs": [],
   "source": [
    "pp.config['torch']['device'] = 'cuda'\n",
    "p = pp.PathData.from_csv('../data/tube_paths_train.ngram')"
   ]
  },
  {
   "cell_type": "code",
   "execution_count": null,
   "metadata": {},
   "outputs": [],
   "source": [
    "g2 = pp.HigherOrderGraph(p, order=4, path_freq='path_freq')\n",
    "print(g2.N)\n",
    "print(g2.M)\n",
    "print(g2['edge_weight'].sum().item())"
   ]
  },
  {
   "cell_type": "code",
   "execution_count": null,
   "metadata": {},
   "outputs": [],
   "source": [
    "for e in g2.edges:\n",
    "    print(e, g2['edge_weight', e[0], e[1]])"
   ]
  },
  {
   "cell_type": "code",
   "execution_count": null,
   "metadata": {},
   "outputs": [],
   "source": [
    "g2['edge_weight', ('Southwark', 'Waterloo'), ('Waterloo', 'Embankment')]"
   ]
  },
  {
   "cell_type": "code",
   "execution_count": null,
   "metadata": {},
   "outputs": [],
   "source": [
    "paths = pp2.Paths.read_file(\"../data/tube_paths_train.ngram\", max_subpath_length=2)\n",
    "g2 = pp2.HigherOrderNetwork(paths, k=2)\n",
    "print(g2)"
   ]
  },
  {
   "attachments": {},
   "cell_type": "markdown",
   "metadata": {},
   "source": [
    "# Pathpy 2.0"
   ]
  },
  {
   "cell_type": "code",
   "execution_count": null,
   "metadata": {},
   "outputs": [],
   "source": [
    "ks = range(1,10)\n",
    "times = []\n",
    "for k in ks:\n",
    "    start = time.time() \n",
    "    paths = pp2.Paths.read_file(\"../data/tube_paths_train.ngram\", max_subpath_length=k)\n",
    "    g2 = pp2.HigherOrderNetwork(paths, k=k)\n",
    "    print(g2)\n",
    "    elapsed_pp = time.time()-start\n",
    "    times.append(elapsed_pp)\n",
    "plt.plot(ks, times)"
   ]
  },
  {
   "attachments": {},
   "cell_type": "markdown",
   "metadata": {},
   "source": [
    "# pathpyG (GPU)"
   ]
  },
  {
   "cell_type": "code",
   "execution_count": null,
   "metadata": {},
   "outputs": [],
   "source": [
    "pp.config['torch']['device'] = 'cuda:0'"
   ]
  },
  {
   "cell_type": "code",
   "execution_count": null,
   "metadata": {},
   "outputs": [],
   "source": [
    "ks = range(1,10)\n",
    "times_new_gpu = []\n",
    "for k in ks:\n",
    "    start = time.time()\n",
    "    p = pp.PathData.from_csv('../data/tube_paths_train.ngram')\n",
    "    gk = pp.HigherOrderGraph(p, order=k, path_freq='path_freq')\n",
    "    print(gk)\n",
    "    print('---')\n",
    "    elapsed_new = time.time()-start\n",
    "    times_new_gpu.append(elapsed_new)"
   ]
  },
  {
   "cell_type": "code",
   "execution_count": null,
   "metadata": {},
   "outputs": [],
   "source": [
    "pp.config['torch']['device'] = 'cpu'"
   ]
  },
  {
   "cell_type": "code",
   "execution_count": null,
   "metadata": {},
   "outputs": [],
   "source": [
    "ks = range(1,10)\n",
    "times_new_cpu = []\n",
    "for k in ks:\n",
    "    start = time.time()\n",
    "    p = pp.PathData.from_csv('../data/tube_paths_train.ngram')\n",
    "    gk = pp.HigherOrderGraph(p, order=k, path_freq='path_freq')\n",
    "    print(gk)\n",
    "    print('---')\n",
    "    elapsed_new = time.time()-start\n",
    "    times_new_cpu.append(elapsed_new)"
   ]
  },
  {
   "cell_type": "code",
   "execution_count": null,
   "metadata": {},
   "outputs": [],
   "source": [
    "plt.plot(ks, times, label='pathpy2')\n",
    "plt.plot(ks, times_new_gpu, label='pathpyG prototype (GPU)')\n",
    "plt.plot(ks, times_new_cpu, label='pathpyG prototype (CPU)')\n",
    "plt.xlabel('order')\n",
    "plt.grid()\n",
    "plt.ylabel('time [s]')\n",
    "plt.legend()"
   ]
  },
  {
   "cell_type": "code",
   "execution_count": null,
   "metadata": {},
   "outputs": [],
   "source": [
    "plt.plot(ks, times, label='pathpy2')\n",
    "plt.plot(ks, times_new_gpu, label='pathpyG prototype (GPU)')\n",
    "plt.plot(ks, times_new_cpu, label='pathpyG prototype (CPU)')\n",
    "plt.xlabel('order')\n",
    "plt.ylabel('time [s]')\n",
    "plt.legend()\n",
    "plt.grid()\n",
    "plt.yscale('log')\n",
    "plt.ylim(1,100)"
   ]
  },
  {
   "cell_type": "code",
   "execution_count": null,
   "metadata": {},
   "outputs": [],
   "source": []
  }
 ],
 "metadata": {
  "kernelspec": {
   "display_name": "base",
   "language": "python",
   "name": "python3"
  },
  "language_info": {
   "codemirror_mode": {
    "name": "ipython",
    "version": 3
   },
   "file_extension": ".py",
   "mimetype": "text/x-python",
   "name": "python",
   "nbconvert_exporter": "python",
   "pygments_lexer": "ipython3",
   "version": "3.10.13"
  },
  "orig_nbformat": 4,
  "vscode": {
   "interpreter": {
    "hash": "d4d1e4263499bec80672ea0156c357c1ee493ec2b1c70f0acce89fc37c4a6abe"
   }
  }
 },
 "nbformat": 4,
 "nbformat_minor": 2
}
