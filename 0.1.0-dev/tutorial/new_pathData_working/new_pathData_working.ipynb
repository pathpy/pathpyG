{
 "cells": [
  {
   "cell_type": "code",
   "execution_count": 1,
   "metadata": {},
   "outputs": [],
   "source": [
    "from typing import Optional\n",
    "\n",
    "from tqdm import trange\n",
    "import torch\n",
    "from torch import Tensor\n",
    "from torch_geometric.data import Data\n",
    "from torch_geometric.loader import DataLoader\n",
    "from torch_geometric.nn import MessagePassing\n",
    "from torch_geometric.experimental import disable_dynamic_shapes\n",
    "from torch_geometric.nn.aggr import Aggregation\n",
    "from torch_geometric.utils import coalesce, degree, cumsum\n",
    "from torch_geometric import EdgeIndex\n",
    "\n",
    "import pathpyG as pp\n",
    "pp.config['torch']['device'] = 'cuda'"
   ]
  },
  {
   "cell_type": "code",
   "execution_count": 2,
   "metadata": {},
   "outputs": [
    {
     "name": "stdout",
     "output_type": "stream",
     "text": [
      "DAGData with 2 dags with total weight 3.0\n"
     ]
    }
   ],
   "source": [
    "# Example with walks as node sequences\n",
    "g = pp.Graph.from_edge_list([('a', 'b'), ('b', 'c'), ('a', 'c')])\n",
    "dags = pp.DAGData(mapping = g.mapping)\n",
    "\n",
    "dags.append_walk(('a', 'b', 'c', 'b'), weight=1.0)\n",
    "dags.append_walk(('a', 'c'), weight = 2.0)\n",
    "print(dags)"
   ]
  },
  {
   "cell_type": "code",
   "execution_count": 5,
   "metadata": {},
   "outputs": [
    {
     "name": "stdout",
     "output_type": "stream",
     "text": [
      "DAGData with 3 dags with total weight 3.0\n"
     ]
    }
   ],
   "source": [
    "# Example with walks as edge indices (with no mapping)\n",
    "dags = pp.DAGData()\n",
    "dags.append_dag(torch.tensor([[3,0,1],[0,1,2]]))\n",
    "dags.append_dag(torch.tensor([[1,0,2],[0,2,0]]))\n",
    "dags.append_dag(torch.tensor([[0,1],[1,2]]))\n",
    "print(dags)"
   ]
  },
  {
   "cell_type": "code",
   "execution_count": null,
   "metadata": {},
   "outputs": [],
   "source": [
    "# Example with mix of walks or dags\n",
    "dags = pp.DAGData(mapping = g.mapping)\n",
    "\n",
    "dags.append_dag(torch.tensor([[0,0,1],[1,2,2]]))\n",
    "dags.append_walk(('a', 'b', 'c'))\n",
    "print(dags)"
   ]
  },
  {
   "cell_type": "code",
   "execution_count": null,
   "metadata": {},
   "outputs": [],
   "source": [
    "m = pp.MultiOrderModel.from_DAGs(dags, max_order=2)"
   ]
  },
  {
   "cell_type": "code",
   "execution_count": null,
   "metadata": {},
   "outputs": [],
   "source": [
    "print(m.layers[1].data.edge_index)\n",
    "print(m.layers[1].data.node_sequences)\n",
    "print(m.layers[1].mapping)"
   ]
  },
  {
   "cell_type": "code",
   "execution_count": null,
   "metadata": {},
   "outputs": [],
   "source": [
    "print(m.layers[2].data.edge_index)\n",
    "print(m.layers[2].data.node_sequences)\n",
    "print(m.layers[2].mapping)"
   ]
  },
  {
   "cell_type": "code",
   "execution_count": null,
   "metadata": {},
   "outputs": [],
   "source": [
    "# Real-world example\n",
    "dags = pp.DAGData.from_ngram('../data/tube_paths_train.ngram')\n",
    "print(dags)"
   ]
  },
  {
   "cell_type": "code",
   "execution_count": null,
   "metadata": {},
   "outputs": [],
   "source": [
    "m = pp.MultiOrderModel.from_DAGs(dags, max_order=10)"
   ]
  },
  {
   "cell_type": "code",
   "execution_count": null,
   "metadata": {},
   "outputs": [],
   "source": [
    "print(m.layers[3].mapping)"
   ]
  },
  {
   "cell_type": "code",
   "execution_count": null,
   "metadata": {},
   "outputs": [],
   "source": [
    "pp.plot(m.layers[10], node_label=list(map(str, m.layers[1].data.node_sequences.tolist())))"
   ]
  },
  {
   "cell_type": "code",
   "execution_count": null,
   "metadata": {},
   "outputs": [],
   "source": [
    "dags.map_node_seq(m.layers[10].data.node_sequences[5].tolist())"
   ]
  },
  {
   "cell_type": "code",
   "execution_count": null,
   "metadata": {},
   "outputs": [],
   "source": [
    "print(m.layers[2].data.edge_index)"
   ]
  },
  {
   "cell_type": "code",
   "execution_count": null,
   "metadata": {},
   "outputs": [],
   "source": [
    "print(m.layers[2].data.edge_weights)"
   ]
  },
  {
   "cell_type": "code",
   "execution_count": null,
   "metadata": {},
   "outputs": [],
   "source": [
    "print(m.layers[2].data.node_sequences)"
   ]
  },
  {
   "cell_type": "code",
   "execution_count": null,
   "metadata": {},
   "outputs": [],
   "source": []
  }
 ],
 "metadata": {
  "kernelspec": {
   "display_name": "Python 3 (ipykernel)",
   "language": "python",
   "name": "python3"
  },
  "language_info": {
   "codemirror_mode": {
    "name": "ipython",
    "version": 3
   },
   "file_extension": ".py",
   "mimetype": "text/x-python",
   "name": "python",
   "nbconvert_exporter": "python",
   "pygments_lexer": "ipython3",
   "version": "3.1.undefined"
  }
 },
 "nbformat": 4,
 "nbformat_minor": 4
}
