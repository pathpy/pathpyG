{
 "cells": [
  {
   "cell_type": "code",
   "execution_count": 1,
   "metadata": {},
   "outputs": [],
   "source": [
    "import pathpyG as pp\n",
    "import torch\n",
    "from torch_geometric.utils import cumsum, coalesce, degree, sort_edge_index\n",
    "\n",
    "from tqdm import tqdm"
   ]
  },
  {
   "cell_type": "code",
   "execution_count": 2,
   "metadata": {},
   "outputs": [
    {
     "name": "stdout",
     "output_type": "stream",
     "text": [
      "Temporal Graph with 327 nodes, 11636 unique edges and 377016 events in [1385982080.0, 1386345600.0]\n",
      "\n",
      "Graph attributes\n",
      "\tdst\t\t<class 'torch.Tensor'> -> torch.Size([377016])\n",
      "\tsrc\t\t<class 'torch.Tensor'> -> torch.Size([377016])\n",
      "\tt\t\t<class 'torch.Tensor'> -> torch.Size([377016])\n",
      "\n",
      "1157\n"
     ]
    },
    {
     "name": "stderr",
     "output_type": "stream",
     "text": [
      "/opt/conda/lib/python3.10/site-packages/torch_geometric/data/storage.py:450: UserWarning: Unable to accurately infer 'num_nodes' from the attribute set '{'dst', 'src', 't'}'. Please explicitly set 'num_nodes' as an attribute of 'data' to suppress this warning\n",
      "  warnings.warn(\n"
     ]
    }
   ],
   "source": [
    "t_sp = pp.TemporalGraph.from_csv('sociopatterns_highschool_2013.tedges').to_undirected()\n",
    "print(t_sp)\n",
    "print(torch.unique(t_sp.data.t).size(0))"
   ]
  },
  {
   "cell_type": "code",
   "execution_count": 4,
   "metadata": {},
   "outputs": [
    {
     "name": "stdout",
     "output_type": "stream",
     "text": [
      "Temporal Graph with 5 nodes, 5 unique edges and 5 events in [0.0, 2.0]\n",
      "\n",
      "Graph attributes\n",
      "\tdst\t\t<class 'torch.Tensor'> -> torch.Size([5])\n",
      "\tsrc\t\t<class 'torch.Tensor'> -> torch.Size([5])\n",
      "\tt\t\t<class 'torch.Tensor'> -> torch.Size([5])\n",
      "\n"
     ]
    }
   ],
   "source": [
    "t = pp.TemporalGraph.from_edge_list([(0,1,0), (0,2,0), (1,2,1), (1,3,1), (3,4,2)])\n",
    "print(t)"
   ]
  },
  {
   "cell_type": "code",
   "execution_count": 5,
   "metadata": {},
   "outputs": [],
   "source": [
    "# new memory-efficient code copied from `temporal_shortest_paths.ipynb`\n",
    "def lift_order_efficient(g: pp.TemporalGraph, delta: int = 1):\n",
    "\n",
    "    # first-order edge index\n",
    "    edge_index, timestamps = g.data.edge_index, g.data.t\n",
    "\n",
    "    #print(edge_index)\n",
    "    #print(timestamps)\n",
    "\n",
    "    indices = torch.arange(0, edge_index.size(1), device=g.data.edge_index.device)\n",
    "\n",
    "    unique_t, reverse_idx = torch.unique(timestamps, sorted=True, return_inverse=True)\n",
    "    second_order = []\n",
    "    count = 0\n",
    "\n",
    "    # lift order: find possible continuations for edges in each time stamp\n",
    "    for i in tqdm(range(unique_t.size(0))):\n",
    "        t = unique_t[i]\n",
    "        #print('timestamp index ', i)\n",
    "        #print('timestamp ', t)\n",
    "        \n",
    "        # find indices of all source edges that occur at unique timestamp t\n",
    "        src_time_mask = (timestamps == t)\n",
    "        src_edges = edge_index[:,src_time_mask]\n",
    "        src_edge_idx = indices[src_time_mask]\n",
    "        #print(src_edges)\n",
    "        #print(src_edge_idx)\n",
    "\n",
    "        # find indices of all edges that can continue edges at tine t for given delta\n",
    "        dst_time_mask = (timestamps > t) & (timestamps <= t+delta)\n",
    "        dst_edges = edge_index[:,dst_time_mask]        \n",
    "        dst_edge_idx = indices[dst_time_mask]\n",
    "        #print(dst_edges)\n",
    "        #print(dst_edge_idx)\n",
    "\n",
    "        if dst_edge_idx.size(0)>0 and src_edge_idx.size(0)>0:\n",
    "\n",
    "            # compute second-order edges between src and dst idx for all edges where dst in src_edges matches src in dst_edges        \n",
    "            x = torch.cartesian_prod(src_edge_idx, dst_edge_idx).t()\n",
    "            src_edges = torch.index_select(edge_index, dim=1, index=x[0])\n",
    "            dst_edges = torch.index_select(edge_index, dim=1, index=x[1])\n",
    "            #print(src_edges)\n",
    "            #print(dst_edges)\n",
    "            ho_edge_index = x[:,torch.where(src_edges[1,:] == dst_edges[0,:])[0]]\n",
    "            second_order.append(ho_edge_index)\n",
    "            #print(ho_edge_index) \n",
    "            \n",
    "            # #print('dst', dst)\n",
    "            # src_mask = (edge_index[:,mask][0]==dst)\n",
    "            # ctd = edge_index[:,mask][:,src_mask]\n",
    "            # #print('continuations', ctd)\n",
    "            # ctd_indices = torch.where(edge_index[:,mask][0]==dst)[0]        \n",
    "            # #print('ctd indx', ctd_indices)\n",
    "            # count += ctd_indices.size(0)\n",
    "    ho_index = torch.cat(second_order, dim=1)    \n",
    "    return ho_index.size(1), ho_index"
   ]
  },
  {
   "cell_type": "code",
   "execution_count": 4,
   "metadata": {},
   "outputs": [],
   "source": [
    "def time_respecting_paths(g: pp.TemporalGraph, delta: int) -> dict:\n",
    "    \"\"\"\n",
    "    Calculate all longest time-respecting paths in a temporal graph.\n",
    "    \"\"\"\n",
    "    paths_of_length = {}\n",
    "\n",
    "    node_sequence = torch.arange(g.data.num_nodes, device=g.data.edge_index.device).unsqueeze(1)\n",
    "    node_sequence = torch.cat([node_sequence[g.data.edge_index[0]], node_sequence[g.data.edge_index[1]][:, -1:]], dim=1)\n",
    "    edge_index = lift_order_efficient(g, delta)[1]\n",
    "    \n",
    "    # calculate degrees\n",
    "    out_degree = degree(edge_index[0], num_nodes=g.M, dtype=torch.long)\n",
    "    in_degree = degree(edge_index[1], num_nodes=g.M, dtype=torch.long)\n",
    "    # identify root nodes with in-degree zero\n",
    "    roots = torch.where(in_degree == 0)[0]\n",
    "    leafs = (out_degree == 0)\n",
    "    # print(\"Roots:\", roots)\n",
    "    # print(\"Leafs:\", leafs)\n",
    "    paths = node_sequence[roots]\n",
    "    paths_of_length[1] = paths[leafs[roots]].cpu()\n",
    "\n",
    "    paths = paths[~leafs[roots]]\n",
    "    nodes = roots[~leafs[roots]]\n",
    "\n",
    "    ptrs = cumsum(out_degree, dim=0)\n",
    "\n",
    "\n",
    "    # count all longest time-respecting paths in the temporal graph\n",
    "    step = 1\n",
    "    while nodes.size(0) > 0:\n",
    "        # print(\"step\", step)\n",
    "        # print(\"Paths: \", paths)\n",
    "        # print(\"Nodes: \", nodes)\n",
    "        idx_repeat = torch.repeat_interleave(out_degree[nodes])\n",
    "        next_idx = torch.repeat_interleave(ptrs[nodes], out_degree[nodes])\n",
    "        idx_correction = torch.arange(next_idx.size(0), device=edge_index.device) - cumsum(out_degree[nodes], dim=0)[idx_repeat]\n",
    "        next_idx += idx_correction\n",
    "        next_nodes = edge_index[1][next_idx]\n",
    "        paths = torch.cat([paths[idx_repeat], node_sequence[next_nodes, 1:]], dim=1)\n",
    "        paths_of_length[step] = paths[leafs[next_nodes]].tolist()\n",
    "        paths = paths[~leafs[next_nodes]]\n",
    "        nodes = next_nodes[~leafs[next_nodes]]\n",
    "        step += 1\n",
    "\n",
    "    return paths_of_length\n"
   ]
  },
  {
   "cell_type": "code",
   "execution_count": 6,
   "metadata": {},
   "outputs": [
    {
     "name": "stderr",
     "output_type": "stream",
     "text": [
      "  0%|          | 0/1157 [00:00<?, ?it/s]"
     ]
    },
    {
     "name": "stderr",
     "output_type": "stream",
     "text": [
      "100%|██████████| 1157/1157 [00:08<00:00, 134.85it/s]\n"
     ]
    },
    {
     "data": {
      "text/plain": [
       "(3693050,\n",
       " tensor([[     0,      0,      0,  ..., 376991, 376991, 376991],\n",
       "         [   835,    885,    933,  ..., 376995, 377000, 377004]]))"
      ]
     },
     "execution_count": 6,
     "metadata": {},
     "output_type": "execute_result"
    }
   ],
   "source": [
    "lift_order_efficient(t_sp, delta=300)"
   ]
  },
  {
   "cell_type": "code",
   "execution_count": 7,
   "metadata": {},
   "outputs": [],
   "source": [
    "# lift_order_efficient(t_sp, delta=300)"
   ]
  },
  {
   "cell_type": "code",
   "execution_count": 11,
   "metadata": {},
   "outputs": [
    {
     "data": {
      "text/plain": [
       "(tensor([[0, 0, 1, 1, 3],\n",
       "         [1, 2, 2, 3, 4]]),\n",
       " tensor([0., 0., 1., 1., 2.]))"
      ]
     },
     "execution_count": 11,
     "metadata": {},
     "output_type": "execute_result"
    }
   ],
   "source": [
    "t.data.edge_index, t.data.t"
   ]
  },
  {
   "cell_type": "code",
   "execution_count": 5,
   "metadata": {},
   "outputs": [
    {
     "name": "stderr",
     "output_type": "stream",
     "text": [
      "  0%|          | 0/1157 [00:00<?, ?it/s]"
     ]
    },
    {
     "name": "stderr",
     "output_type": "stream",
     "text": [
      "100%|██████████| 1157/1157 [00:07<00:00, 150.48it/s]\n"
     ]
    }
   ],
   "source": [
    "time_respecting_paths(t_sp, delta=300)"
   ]
  },
  {
   "cell_type": "code",
   "execution_count": null,
   "metadata": {},
   "outputs": [],
   "source": []
  }
 ],
 "metadata": {
  "kernelspec": {
   "display_name": "base",
   "language": "python",
   "name": "python3"
  },
  "language_info": {
   "codemirror_mode": {
    "name": "ipython",
    "version": 3
   },
   "file_extension": ".py",
   "mimetype": "text/x-python",
   "name": "python",
   "nbconvert_exporter": "python",
   "pygments_lexer": "ipython3",
   "version": "3.10.13"
  }
 },
 "nbformat": 4,
 "nbformat_minor": 2
}
