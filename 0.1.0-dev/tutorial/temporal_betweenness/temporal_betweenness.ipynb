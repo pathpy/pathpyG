{
 "cells": [
  {
   "cell_type": "code",
   "execution_count": 1,
   "metadata": {},
   "outputs": [],
   "source": [
    "import pathpyG as pp\n",
    "from torch_geometric.utils import cumsum, coalesce, degree, sort_edge_index\n",
    "import torch\n",
    "\n",
    "from collections import deque\n",
    "\n",
    "from scipy.sparse.csgraph import bellman_ford, dijkstra\n",
    "import numpy as np\n",
    "from time import time\n",
    "from collections import defaultdict\n",
    "\n",
    "\n",
    "from tqdm import tqdm"
   ]
  },
  {
   "cell_type": "code",
   "execution_count": 2,
   "metadata": {},
   "outputs": [
    {
     "name": "stdout",
     "output_type": "stream",
     "text": [
      "Temporal Graph with 327 nodes, 8950 unique edges and 220378 events in [1385982080.0, 1386163840.0]\n",
      "\n",
      "Graph attributes\n",
      "\tt\t\t<class 'torch.Tensor'> -> torch.Size([220378])\n",
      "\tsrc\t\t<class 'torch.Tensor'> -> torch.Size([220378])\n",
      "\tdst\t\t<class 'torch.Tensor'> -> torch.Size([220378])\n",
      "\n",
      "579\n"
     ]
    },
    {
     "name": "stderr",
     "output_type": "stream",
     "text": [
      "/opt/conda/lib/python3.10/site-packages/torch_geometric/data/storage.py:450: UserWarning: Unable to accurately infer 'num_nodes' from the attribute set '{'t', 'src', 'dst'}'. Please explicitly set 'num_nodes' as an attribute of 'data' to suppress this warning\n",
      "  warnings.warn(\n"
     ]
    }
   ],
   "source": [
    "t_sp = pp.TemporalGraph.from_csv('../data/sociopatterns_highschool_2013_train.tedges')\n",
    "print(t_sp)\n",
    "print(torch.unique(t_sp.data.t).size(0))"
   ]
  },
  {
   "cell_type": "code",
   "execution_count": 3,
   "metadata": {},
   "outputs": [
    {
     "name": "stdout",
     "output_type": "stream",
     "text": [
      "MultiOrderModel with max. order 2\n"
     ]
    }
   ],
   "source": [
    "m = pp.MultiOrderModel.from_temporal_graph(t_sp, delta=3600, max_order=2)\n",
    "print(m)"
   ]
  },
  {
   "cell_type": "code",
   "execution_count": 4,
   "metadata": {},
   "outputs": [
    {
     "name": "stdout",
     "output_type": "stream",
     "text": [
      "Temporal Graph with 68 nodes, 506 unique edges and 1045 events in [899.0, 1796.0]\n",
      "\n",
      "Graph attributes\n",
      "\tt\t\t<class 'torch.Tensor'> -> torch.Size([1045])\n",
      "\tsrc\t\t<class 'torch.Tensor'> -> torch.Size([1045])\n",
      "\tdst\t\t<class 'torch.Tensor'> -> torch.Size([1045])\n",
      "\n"
     ]
    },
    {
     "name": "stderr",
     "output_type": "stream",
     "text": [
      "/opt/conda/lib/python3.10/site-packages/torch_geometric/data/storage.py:450: UserWarning: Unable to accurately infer 'num_nodes' from the attribute set '{'t', 'src', 'dst'}'. Please explicitly set 'num_nodes' as an attribute of 'data' to suppress this warning\n",
      "  warnings.warn(\n"
     ]
    }
   ],
   "source": [
    "t_ants = pp.TemporalGraph.from_csv('../data/ants_2_2_val.tedges')\n",
    "print(t_ants)"
   ]
  },
  {
   "cell_type": "code",
   "execution_count": 7,
   "metadata": {},
   "outputs": [
    {
     "name": "stdout",
     "output_type": "stream",
     "text": [
      "MultiOrderModel with max. order 10\n",
      "tensor([ 2.,  1.,  1.,  3.,  3.,  1.,  2.,  1.,  1.,  1.,  1.,  2.,  1.,  1.,\n",
      "         1.,  1.,  1.,  1.,  4.,  1.,  1.,  1.,  1.,  5.,  2.,  6.,  6.,  1.,\n",
      "         1.,  3.,  3.,  1.,  1.,  3.,  1.,  2.,  9.,  3.,  1.,  1.,  4.,  1.,\n",
      "         1.,  1.,  4.,  2.,  3.,  2.,  1.,  4.,  3.,  2.,  4.,  1.,  1.,  3.,\n",
      "         1.,  2.,  3.,  1.,  1.,  4.,  2.,  9.,  5.,  1.,  2.,  4.,  1.,  2.,\n",
      "         1.,  1.,  1.,  3.,  4.,  1.,  2.,  3.,  4.,  1.,  1.,  3.,  4.,  4.,\n",
      "         3.,  4.,  3.,  1.,  2.,  3.,  1.,  2.,  4.,  2.,  1.,  1.,  1.,  1.,\n",
      "         1.,  1.,  1.,  2.,  1.,  3.,  1.,  4.,  1.,  1.,  1.,  1.,  5.,  2.,\n",
      "         1.,  1.,  2.,  1.,  1.,  2.,  1.,  4.,  3.,  4.,  1.,  2.,  1.,  1.,\n",
      "         1.,  2.,  3.,  1.,  4.,  1.,  3.,  3.,  1.,  1.,  3.,  1.,  2.,  1.,\n",
      "         1.,  4.,  1.,  1.,  1.,  1.,  1.,  1.,  1.,  3.,  1.,  3.,  1.,  1.,\n",
      "         1.,  1.,  3.,  2.,  2.,  2.,  2.,  1.,  1.,  2.,  4.,  3.,  1.,  2.,\n",
      "         2.,  3.,  5.,  5.,  2.,  1.,  2.,  1.,  1.,  5.,  2.,  3.,  2.,  1.,\n",
      "         1.,  2.,  5.,  1.,  1.,  2.,  2.,  6.,  1.,  2.,  4.,  1.,  2.,  5.,\n",
      "         4.,  5.,  1.,  1.,  2.,  1.,  3.,  6.,  2.,  1.,  1.,  1.,  2.,  2.,\n",
      "        12.,  7.,  4.,  1.,  1.,  1.,  4.,  2.,  1.,  1.,  1.,  3.,  2.,  1.,\n",
      "         1.,  1.,  2.,  2.,  2.,  1.,  1.,  1.,  1.,  1.,  1.,  1.,  1.,  1.,\n",
      "         1.,  6.,  1.,  4.,  2.,  2.,  1.,  2.,  2.,  3.,  3.,  2.,  4.,  4.,\n",
      "         1.,  7.,  5.,  1.,  2.,  2.,  1.,  2.,  4.,  4.,  5.,  6.,  4.,  1.,\n",
      "         2.,  2.,  1.,  4.,  3.,  1.,  1.,  1.,  5.,  7.,  1.,  3.,  5.,  1.,\n",
      "         1.,  4.,  1.,  1.,  2.,  1.,  6.,  4.,  2.,  2.,  1.,  4.,  1.,  1.,\n",
      "         5.,  1.,  2.,  3.,  4.,  1.,  1.,  1.,  2.,  1.,  2.,  2.,  3.,  1.,\n",
      "         2.,  7.,  1.,  7.,  1.,  2.,  1.,  2.,  1.,  3.,  1.,  3.,  3.,  1.,\n",
      "         3.,  3.,  1.,  4.,  3.,  2.,  2.,  1.,  1.,  1.,  3.,  1.,  1.,  3.,\n",
      "         1.,  1.,  3.,  1.,  6.,  1.,  3.,  3.,  1.,  1.,  1.,  3.,  1.,  1.,\n",
      "         1.,  1.,  1.,  1.,  1.,  1.,  2.,  3.,  5.,  2.,  4.,  1.,  3.,  4.,\n",
      "         3.,  1.,  2.,  2.,  2.,  1.,  2.,  1.,  3.,  2.,  2.,  1.,  5.,  1.,\n",
      "         3.,  1.,  2.,  3.,  2.,  2.,  1.,  1.,  1.,  1.,  2.,  1.,  1.,  2.,\n",
      "         1.,  2.,  3.,  2.,  2.,  1.,  1.,  1.,  1.,  1.,  1.,  2.,  3.,  4.,\n",
      "         1.,  2.,  1.,  5.,  1.,  1.,  2.,  1.,  1.,  1.,  1.,  1.,  2.,  1.,\n",
      "         2.,  1.,  2.,  2.,  2.,  3.,  1.,  1.,  1.,  1.,  1.,  1.,  2.,  2.,\n",
      "         3.,  2.,  1.,  2.,  1.,  1.,  3.,  1.,  1.,  1.,  3.,  1.,  1.,  1.,\n",
      "         2.,  1.,  1.,  3.,  5.,  1.,  1.,  1.,  4.,  1.,  1.,  1.,  4.,  5.,\n",
      "         1.,  2.,  1.,  1.,  1.,  1.,  1.,  2.,  3.,  1.,  1.,  1.,  1.,  1.,\n",
      "         3.,  2.,  1.,  1.,  3.,  2.,  1.,  2.,  1.,  1.,  1.,  1.,  1.,  1.,\n",
      "         2.,  1.,  1.,  1.,  2.,  1.,  1.,  4.,  2.,  1.,  3.,  3.,  3.,  3.,\n",
      "         1.,  1.])\n"
     ]
    }
   ],
   "source": [
    "m = pp.MultiOrderModel.from_temporal_graph(t_ants, delta=30, max_order=10)\n",
    "print(m)\n",
    "print(m.layers[1].data.edge_weight)"
   ]
  },
  {
   "cell_type": "code",
   "execution_count": 3,
   "metadata": {},
   "outputs": [
    {
     "name": "stderr",
     "output_type": "stream",
     "text": [
      "100%|██████████| 579/579 [00:53<00:00, 10.79it/s]\n",
      " 31%|███       | 102/327 [26:29<58:26, 15.59s/it]  \n"
     ]
    },
    {
     "ename": "KeyboardInterrupt",
     "evalue": "",
     "output_type": "error",
     "traceback": [
      "\u001b[0;31m---------------------------------------------------------------------------\u001b[0m",
      "\u001b[0;31mKeyboardInterrupt\u001b[0m                         Traceback (most recent call last)",
      "Cell \u001b[0;32mIn[3], line 1\u001b[0m\n\u001b[0;32m----> 1\u001b[0m bw \u001b[38;5;241m=\u001b[39m \u001b[43mpp\u001b[49m\u001b[38;5;241;43m.\u001b[39;49m\u001b[43malgorithms\u001b[49m\u001b[38;5;241;43m.\u001b[39;49m\u001b[43mcentrality\u001b[49m\u001b[38;5;241;43m.\u001b[39;49m\u001b[43mtemporal_betweenness_centrality\u001b[49m\u001b[43m(\u001b[49m\u001b[43mt_sp\u001b[49m\u001b[43m,\u001b[49m\u001b[43m \u001b[49m\u001b[43mdelta\u001b[49m\u001b[38;5;241;43m=\u001b[39;49m\u001b[38;5;241;43m3600\u001b[39;49m\u001b[43m)\u001b[49m\n\u001b[1;32m      2\u001b[0m \u001b[38;5;28mprint\u001b[39m(bw)\n",
      "File \u001b[0;32m/workspaces/pathpyG/src/pathpyG/algorithms/centrality.py:255\u001b[0m, in \u001b[0;36mtemporal_betweenness_centrality\u001b[0;34m(g, delta)\u001b[0m\n\u001b[1;32m    253\u001b[0m v \u001b[38;5;241m=\u001b[39m Q\u001b[38;5;241m.\u001b[39mpopleft()\n\u001b[1;32m    254\u001b[0m \u001b[38;5;66;03m# for all successor events within delta\u001b[39;00m\n\u001b[0;32m--> 255\u001b[0m \u001b[38;5;28;01mfor\u001b[39;00m w \u001b[38;5;129;01min\u001b[39;00m event_graph\u001b[38;5;241m.\u001b[39msuccessors(v):\n\u001b[1;32m    256\u001b[0m \n\u001b[1;32m    257\u001b[0m     \u001b[38;5;66;03m# we dicover w for the first time\u001b[39;00m\n\u001b[1;32m    258\u001b[0m     \u001b[38;5;28;01mif\u001b[39;00m dist[w] \u001b[38;5;241m==\u001b[39m \u001b[38;5;241m-\u001b[39m\u001b[38;5;241m1\u001b[39m:\n\u001b[1;32m    259\u001b[0m         dist[w] \u001b[38;5;241m=\u001b[39m dist[v] \u001b[38;5;241m+\u001b[39m \u001b[38;5;241m1\u001b[39m\n",
      "File \u001b[0;32m/workspaces/pathpyG/src/pathpyG/core/Graph.py:295\u001b[0m, in \u001b[0;36mGraph.successors\u001b[0;34m(self, node)\u001b[0m\n\u001b[1;32m    283\u001b[0m \u001b[38;5;28;01mdef\u001b[39;00m \u001b[38;5;21msuccessors\u001b[39m(\u001b[38;5;28mself\u001b[39m, node: Union[\u001b[38;5;28mint\u001b[39m, \u001b[38;5;28mstr\u001b[39m] \u001b[38;5;241m|\u001b[39m \u001b[38;5;28mtuple\u001b[39m) \\\n\u001b[1;32m    284\u001b[0m         \u001b[38;5;241m-\u001b[39m\u001b[38;5;241m>\u001b[39m Generator[Union[\u001b[38;5;28mint\u001b[39m, \u001b[38;5;28mstr\u001b[39m] \u001b[38;5;241m|\u001b[39m \u001b[38;5;28mtuple\u001b[39m, \u001b[38;5;28;01mNone\u001b[39;00m, \u001b[38;5;28;01mNone\u001b[39;00m]:\n\u001b[1;32m    285\u001b[0m \u001b[38;5;250m    \u001b[39m\u001b[38;5;124;03m\"\"\"Return all successors of a given node.\u001b[39;00m\n\u001b[1;32m    286\u001b[0m \n\u001b[1;32m    287\u001b[0m \u001b[38;5;124;03m    This method returns a generator object that yields all successors of a\u001b[39;00m\n\u001b[0;32m   (...)\u001b[0m\n\u001b[1;32m    292\u001b[0m \u001b[38;5;124;03m        node:   Index or string ID of node for which successors shall be returned.\u001b[39;00m\n\u001b[1;32m    293\u001b[0m \u001b[38;5;124;03m    \"\"\"\u001b[39;00m \n\u001b[0;32m--> 295\u001b[0m     \u001b[38;5;28;01mfor\u001b[39;00m j \u001b[38;5;129;01min\u001b[39;00m \u001b[38;5;28;43mself\u001b[39;49m\u001b[38;5;241;43m.\u001b[39;49m\u001b[43mget_successors\u001b[49m\u001b[43m(\u001b[49m\u001b[38;5;28;43mself\u001b[39;49m\u001b[38;5;241;43m.\u001b[39;49m\u001b[43mmapping\u001b[49m\u001b[38;5;241;43m.\u001b[39;49m\u001b[43mto_idx\u001b[49m\u001b[43m(\u001b[49m\u001b[43mnode\u001b[49m\u001b[43m)\u001b[49m\u001b[43m)\u001b[49m:  \u001b[38;5;66;03m# type: ignore\u001b[39;00m\n\u001b[1;32m    296\u001b[0m         \u001b[38;5;28;01myield\u001b[39;00m \u001b[38;5;28mself\u001b[39m\u001b[38;5;241m.\u001b[39mmapping\u001b[38;5;241m.\u001b[39mto_id(j\u001b[38;5;241m.\u001b[39mitem())\n",
      "\u001b[0;31mKeyboardInterrupt\u001b[0m: "
     ]
    }
   ],
   "source": [
    "bw = pp.algorithms.centrality.temporal_betweenness_centrality(t_sp, delta=3600)\n",
    "print(bw)"
   ]
  },
  {
   "cell_type": "code",
   "execution_count": 4,
   "metadata": {},
   "outputs": [
    {
     "name": "stderr",
     "output_type": "stream",
     "text": [
      "100%|██████████| 594/594 [00:00<00:00, 4581.51it/s]\n"
     ]
    },
    {
     "name": "stdout",
     "output_type": "stream",
     "text": [
      "defaultdict(<function temporal_betweenness_centrality.<locals>.<lambda> at 0x7f9453f36cb0>, {0: 9.083333333333336, 7: 15.0, 10: 114.12687232787852, 1: 5.0, 6: 9.5, 12: 35.060389610389606, 22: 58.61201533244884, 49: 2.500000000000001, 2: 346.2515994755158, 27: 249.9532851737187, 4: 140.7880952380952, 42: 28.220839755359876, 28: 146.0366185070518, 65: 15.791666666666675, 29: 190.04444444444454, 24: 26.736796536796536, 5: 126.14722222222221, 3: 40.32903828197944, 35: 3.9999999999999996, 9: 7.5, 17: 78.59657287157289, 20: 68.21558441558443, 48: 27.916666666666664, 11: 99.25000000000001, 15: 53.07553688141922, 8: 5.8571428571428585, 26: 118.34098235785545, 37: -0.33333333333333304, 34: 58.120919946926136, 23: 49.347619047619034, 16: -0.1666666666666714, 32: 1.3333333333333286, 46: 2.40126050420168, 19: -1.8611111111111098, 36: 1.0000000000000004, 39: 2.0, 14: 25.33333333333333, 31: 1.5, 21: 0.5555555555555536, 33: 2.1666666666666705, 13: 0.0, 18: -5.19444444444445, 25: -1.9984014443252818e-15, 41: 14.888888888888886, 57: 1.0, 52: 13.833333333333332, 51: 2.916666666666661, 44: 2.999999999999999, 47: 1.5, 38: 0.0, 40: 0.0, 62: -7.444444444444445, 56: 0.0, 61: 0.0, 67: 2.220446049250313e-16})\n"
     ]
    }
   ],
   "source": [
    "bw = pp.algorithms.centrality.temporal_betweenness_centrality(t_ants, delta=30)\n",
    "print(bw)"
   ]
  },
  {
   "cell_type": "code",
   "execution_count": 7,
   "metadata": {},
   "outputs": [
    {
     "name": "stderr",
     "output_type": "stream",
     "text": [
      "100%|██████████| 17/17 [00:00<00:00, 4453.94it/s]"
     ]
    },
    {
     "name": "stdout",
     "output_type": "stream",
     "text": [
      "Created temporal event DAG with 38 nodes and 47 edges\n",
      "{'a': 12.0, 'b': 16.0, 'c': 16.0, 'd': 14.666666666666666, 'e': 14.666666666666666, 'f': 24.0, 'g': 14.666666666666666, 'h': 28.0, 'i': 24.0}\n"
     ]
    },
    {
     "name": "stderr",
     "output_type": "stream",
     "text": [
      "\n"
     ]
    }
   ],
   "source": [
    "tedges = [('a', 'b', 1), ('b', 'c', 5), ('c', 'd', 9), ('c', 'e', 9),\n",
    "              ('c', 'f', 11), ('f', 'a', 13), ('a', 'g', 18), ('b', 'f', 21),\n",
    "              ('a', 'g', 26), ('c', 'f', 27), ('h', 'f', 27), ('g', 'h', 28),\n",
    "              ('a', 'c', 30), ('a', 'b', 31), ('c', 'h', 32), ('f', 'h', 33),\n",
    "              ('b', 'i', 42), ('i', 'b', 42), ('c', 'i', 47), ('h', 'i', 50)]\n",
    "t_long = pp.TemporalGraph.from_edge_list(tedges)\n",
    "c = pp.algorithms.centrality.temporal_closeness_centrality(t_long, 5)\n",
    "print(c)"
   ]
  },
  {
   "cell_type": "code",
   "execution_count": 9,
   "metadata": {},
   "outputs": [
    {
     "name": "stderr",
     "output_type": "stream",
     "text": [
      "  0%|          | 0/1157 [00:00<?, ?it/s]"
     ]
    },
    {
     "name": "stderr",
     "output_type": "stream",
     "text": [
      "  4%|▎         | 43/1157 [00:05<02:18,  8.05it/s]\n"
     ]
    },
    {
     "ename": "KeyboardInterrupt",
     "evalue": "",
     "output_type": "error",
     "traceback": [
      "\u001b[0;31m---------------------------------------------------------------------------\u001b[0m",
      "\u001b[0;31mKeyboardInterrupt\u001b[0m                         Traceback (most recent call last)",
      "Cell \u001b[0;32mIn[9], line 1\u001b[0m\n\u001b[0;32m----> 1\u001b[0m c \u001b[38;5;241m=\u001b[39m \u001b[43mpp\u001b[49m\u001b[38;5;241;43m.\u001b[39;49m\u001b[43malgorithms\u001b[49m\u001b[38;5;241;43m.\u001b[39;49m\u001b[43mcentrality\u001b[49m\u001b[38;5;241;43m.\u001b[39;49m\u001b[43mtemporal_closeness_centrality\u001b[49m\u001b[43m(\u001b[49m\u001b[43mt_sp\u001b[49m\u001b[43m,\u001b[49m\u001b[43m \u001b[49m\u001b[38;5;241;43m3600\u001b[39;49m\u001b[43m)\u001b[49m\n",
      "File \u001b[0;32m/workspaces/pathpyG/src/pathpyG/algorithms/centrality.py:186\u001b[0m, in \u001b[0;36mtemporal_closeness_centrality\u001b[0;34m(g, delta)\u001b[0m\n\u001b[1;32m    172\u001b[0m \u001b[38;5;250m\u001b[39m\u001b[38;5;124;03m\"\"\"Calculates the closeness of nodes based on observed shortest paths\u001b[39;00m\n\u001b[1;32m    173\u001b[0m \u001b[38;5;124;03mbetween all nodes. Following the definition by M. A. Beauchamp 1965\u001b[39;00m\n\u001b[1;32m    174\u001b[0m \u001b[38;5;124;03m(https://doi.org/10.1002/bs.3830100205).\u001b[39;00m\n\u001b[0;32m   (...)\u001b[0m\n\u001b[1;32m    183\u001b[0m \u001b[38;5;124;03mdict\u001b[39;00m\n\u001b[1;32m    184\u001b[0m \u001b[38;5;124;03m\"\"\"\u001b[39;00m\n\u001b[1;32m    185\u001b[0m centralities \u001b[38;5;241m=\u001b[39m \u001b[38;5;28mdict\u001b[39m()\n\u001b[0;32m--> 186\u001b[0m dist, _ \u001b[38;5;241m=\u001b[39m \u001b[43mtemporal_shortest_paths\u001b[49m\u001b[43m(\u001b[49m\u001b[43mg\u001b[49m\u001b[43m,\u001b[49m\u001b[43m \u001b[49m\u001b[43mdelta\u001b[49m\u001b[43m)\u001b[49m\n\u001b[1;32m    187\u001b[0m \u001b[38;5;28;01mfor\u001b[39;00m x \u001b[38;5;129;01min\u001b[39;00m g\u001b[38;5;241m.\u001b[39mnodes:\n\u001b[1;32m    188\u001b[0m     centralities[x] \u001b[38;5;241m=\u001b[39m \u001b[38;5;28msum\u001b[39m((g\u001b[38;5;241m.\u001b[39mN \u001b[38;5;241m-\u001b[39m \u001b[38;5;241m1\u001b[39m) \u001b[38;5;241m/\u001b[39m dist[_np\u001b[38;5;241m.\u001b[39marange(g\u001b[38;5;241m.\u001b[39mN) \u001b[38;5;241m!=\u001b[39m g\u001b[38;5;241m.\u001b[39mmapping\u001b[38;5;241m.\u001b[39mto_idx(x), g\u001b[38;5;241m.\u001b[39mmapping\u001b[38;5;241m.\u001b[39mto_idx(x)])\n",
      "File \u001b[0;32m/workspaces/pathpyG/src/pathpyG/algorithms/temporal.py:59\u001b[0m, in \u001b[0;36mtemporal_shortest_paths\u001b[0;34m(g, delta)\u001b[0m\n\u001b[1;32m     57\u001b[0m \u001b[38;5;28;01mdef\u001b[39;00m \u001b[38;5;21mtemporal_shortest_paths\u001b[39m(g: TemporalGraph, delta: \u001b[38;5;28mint\u001b[39m):\n\u001b[1;32m     58\u001b[0m     \u001b[38;5;66;03m# generate temporal event DAG\u001b[39;00m\n\u001b[0;32m---> 59\u001b[0m     edge_index \u001b[38;5;241m=\u001b[39m \u001b[43mlift_order_temporal\u001b[49m\u001b[43m(\u001b[49m\u001b[43mg\u001b[49m\u001b[43m,\u001b[49m\u001b[43m \u001b[49m\u001b[43mdelta\u001b[49m\u001b[43m)\u001b[49m\n\u001b[1;32m     61\u001b[0m     \u001b[38;5;66;03m# Add indices of g.N first-order nodes as source nodes of paths in augmented TEG\u001b[39;00m\n\u001b[1;32m     62\u001b[0m     src_edges_src \u001b[38;5;241m=\u001b[39m g\u001b[38;5;241m.\u001b[39mdata\u001b[38;5;241m.\u001b[39medge_index[\u001b[38;5;241m0\u001b[39m] \u001b[38;5;241m+\u001b[39m g\u001b[38;5;241m.\u001b[39mM\n",
      "File \u001b[0;32m/workspaces/pathpyG/src/pathpyG/algorithms/temporal.py:51\u001b[0m, in \u001b[0;36mlift_order_temporal\u001b[0;34m(g, delta)\u001b[0m\n\u001b[1;32m     49\u001b[0m         src_edges \u001b[38;5;241m=\u001b[39m torch\u001b[38;5;241m.\u001b[39mindex_select(edge_index, dim\u001b[38;5;241m=\u001b[39m\u001b[38;5;241m1\u001b[39m, index\u001b[38;5;241m=\u001b[39mx[\u001b[38;5;241m0\u001b[39m])\n\u001b[1;32m     50\u001b[0m         dst_edges \u001b[38;5;241m=\u001b[39m torch\u001b[38;5;241m.\u001b[39mindex_select(edge_index, dim\u001b[38;5;241m=\u001b[39m\u001b[38;5;241m1\u001b[39m, index\u001b[38;5;241m=\u001b[39mx[\u001b[38;5;241m1\u001b[39m])\n\u001b[0;32m---> 51\u001b[0m         ho_edge_index \u001b[38;5;241m=\u001b[39m x[:,\u001b[43mtorch\u001b[49m\u001b[38;5;241;43m.\u001b[39;49m\u001b[43mwhere\u001b[49m\u001b[43m(\u001b[49m\u001b[43msrc_edges\u001b[49m\u001b[43m[\u001b[49m\u001b[38;5;241;43m1\u001b[39;49m\u001b[43m,\u001b[49m\u001b[43m:\u001b[49m\u001b[43m]\u001b[49m\u001b[43m \u001b[49m\u001b[38;5;241;43m==\u001b[39;49m\u001b[43m \u001b[49m\u001b[43mdst_edges\u001b[49m\u001b[43m[\u001b[49m\u001b[38;5;241;43m0\u001b[39;49m\u001b[43m,\u001b[49m\u001b[43m:\u001b[49m\u001b[43m]\u001b[49m\u001b[43m)\u001b[49m[\u001b[38;5;241m0\u001b[39m]]\n\u001b[1;32m     52\u001b[0m         second_order\u001b[38;5;241m.\u001b[39mappend(ho_edge_index)\n\u001b[1;32m     54\u001b[0m ho_index \u001b[38;5;241m=\u001b[39m torch\u001b[38;5;241m.\u001b[39mcat(second_order, dim\u001b[38;5;241m=\u001b[39m\u001b[38;5;241m1\u001b[39m)    \n",
      "\u001b[0;31mKeyboardInterrupt\u001b[0m: "
     ]
    }
   ],
   "source": [
    "c = pp.algorithms.centrality.temporal_closeness_centrality(t_sp, 3600)"
   ]
  },
  {
   "cell_type": "code",
   "execution_count": 4,
   "metadata": {},
   "outputs": [
    {
     "name": "stdout",
     "output_type": "stream",
     "text": [
      "{'454': 41671.338095238054, '640': 42220.10476190471, '1': 31384.485714285773, '939': 43385.1666666666, '185': 46485.271428571396, '258': 42662.533333333326, '55': 41131.62698412695, '170': 43822.54999999994, '9': 55537.204761904715, '453': 42306.650000000016, '45': 54390.77142857138, '14': 42915.57142857141, '190': 51695.83809523803, '400': 37502.9365079365, '637': 40505.24126984126, '255': 43516.342857142794, '275': 53779.13333333323, '176': 52638.13333333328, '533': 36436.70952380954, '116': 46335.46666666662, '151': 46517.87142857134, '866': 51019.77619047604, '280': 40957.63095238092, '484': 38709.39523809525, '243': 42567.83809523808, '687': 43355.67142857139, '54': 44738.06666666662, '364': 43477.92142857135, '374': 41239.258730158705, '295': 37942.38968253968, '441': 44693.04761904753, '101': 46261.46984126977, '425': 40808.355411255354, '47': 34439.18333333336, '241': 40734.0880952381, '179': 51910.84285714278, '202': 47549.81666666654, '63': 48038.816666666564, '564': 38769.93809523808, '577': 34370.49047619052, '265': 42888.016666666605, '494': 40898.7698412698, '443': 42818.935714285675, '209': 33025.35238095244, '843': 39757.76984126982, '222': 31847.612698412748, '205': 43918.02142857136, '894': 39705.247619047565, '1359': 54767.9999999999, '1383': 37680.55476190476, '376': 53616.13333333324, '638': 41859.176190476144, '1238': 42806.904761904734, '1260': 38609.26666666665, '487': 46472.59365079362, '984': 45297.69999999997, '226': 42690.47619047611, '353': 46454.99999999993, '1342': 44222.67619047608, '1518': 59688.27142857133, '122': 48889.13333333324, '1067': 42078.83809523807, '1324': 41852.96666666664, '70': 44801.455555555476, '132': 47628.98809523799, '779': 42758.522222222164, '279': 42601.21428571425, '908': 36329.59523809524, '510': 29415.290476190487, '545': 44361.355555555485, '634': 49410.73333333322, '1332': 57435.76666666657, '1401': 48332.21666666656, '582': 44306.50476190468, '605': 55865.5333333332, '252': 45385.02142857135, '3': 50445.78333333325, '884': 48080.34285714278, '339': 41450.89999999998, '691': 48490.171428571346, '869': 47797.033333333246, '72': 48899.99999999993, '954': 46840.76666666663, '160': 47314.2428571428, '117': 46867.93333333327, '346': 41061.76984126978, '111': 45678.421428571404, '124': 43084.39285714283, '276': 42882.58333333332, '621': 39236.16984126983, '39': 41416.11255411249, '871': 44988.38809523805, '694': 49321.4714285713, '778': 49137.51428571418, '513': 39579.116666666654, '236': 35266.21428571434, '883': 40068.50476190471, '1594': 46784.104761904644, '1828': 41670.949999999946, '1214': 48579.43333333323, '196': 47528.471428571334, '201': 44797.83333333326, '245': 53325.838095237974, '390': 44972.08809523807, '938': 44610.77142857142, '923': 37550.54285714288, '106': 58207.29999999987, '272': 55849.23333333323, '753': 43170.54999999998, '486': 35035.81507936507, '531': 41168.10793650794, '254': 48965.199999999975, '382': 44808.699999999975, '119': 45078.038095238015, '240': 46369.36031746025, '447': 45610.11666666662, '649': 42277.54285714276, '1204': 46224.08333333323, '466': 32600.38809523813, '841': 37388.707142857165, '199': 43105.73809523804, '674': 54227.77142857136, '857': 38546.395238095225, '945': 40750.388095238064, '1218': 47321.61666666656, '1512': 51657.80476190465, '653': 49398.44365079353, '502': 44192.40476190468, '587': 29551.511904761897, '626': 41647.27619047614, '420': 45023.704761904715, '504': 40343.27619047614, '311': 46414.63809523806, '267': 44915.038095238066, '177': 48121.22222222215, '480': 40095.671428571455, '771': 23901.880158730197, '312': 46976.59999999993, '612': 43187.238095238026, '450': 36801.13095238098, '89': 47408.54999999997, '322': 49383.56666666663, '520': 33164.678571428616, '15': 45297.70000000002, '211': 47992.633333333324, '366': 37022.86269841269, '227': 45639.99999999996, '440': 48286.033333333275, '41': 47324.33333333326, '388': 47221.100000000006, '219': 42089.70476190474, '658': 48671.79999999991, '220': 42779.73809523808, '576': 39435.90952380952, '642': 46664.57142857137, '391': 37692.58571428572, '777': 35597.647619047646, '20': 39938.88095238094, '958': 50489.638095238006, '103': 29371.176984127007, '61': 47813.333333333234, '274': 36857.53412698415, '147': 51953.53333333325, '277': 32935.18492063496, '702': 30786.81904761907, '242': 44846.73333333334, '38': 52752.233333333206, '438': 37185.73333333332, '387': 46914.11666666656, '1295': 49073.866666666545, '1412': 52219.76666666659, '492': 47707.3833333333, '1345': 46802.733333333235, '1212': 51198.29999999987, '28': 45031.466666666616, '327': 45873.63333333326, '1216': 50562.59999999988, '372': 52590.526984126904, '720': 45705.19999999992, '1784': 41720.23809523804, '27': 46151.50952380945, '171': 34138.926984126985, '1336': 43007.54999999995, '1423': 52198.03333333327, '1366': 37297.11666666668, '407': 48333.3809523809, '1320': 46319.16666666659, '1805': 47327.438095237994, '1237': 41225.8047619047, '974': 29733.65793650794, '464': 45232.49999999995, '477': 42176.24999999997, '763': 36072.546825396836, '1894': 45776.221428571334, '1201': 43844.28333333326, '1228': 50051.86666666656, '786': 37304.61984126989, '886': 43075.46666666661, '797': 47585.13333333329, '959': 34756.25714285715, '1485': 41606.13809523808, '210': 46916.83333333329, '4': 42904.70476190475, '790': 30436.757142857183, '285': 53224.9333333333, '544': 43005.609523809464, '333': 50127.93333333329, '622': 35464.14285714289, '429': 45130.042857142784, '46': 39267.476190476154, '343': 37518.719047619066, '867': 36621.44285714288, '615': 44610.7714285714, '977': 42285.30476190473, '90': 46425.50476190473, '269': 44197.83809523808, '603': 46936.23809523808, '335': 43720.48095238093, '765': 43121.64999999997, '257': 41894.10476190469, '268': 39532.9333333333, '214': 43410.00476190473, '491': 43702.240476190455, '181': 39791.01666666664, '650': 40985.18571428571, '85': 46765.993650793615, '325': 43602.49999999998, '941': 39712.62142857144, '356': 40737.58095238093, '744': 37414.70952380953, '1543': 46257.07142857135, '145': 43442.992857142846, '173': 41173.02380952376, '909': 33217.84761904766, '79': 48995.083333333285, '854': 38707.45476190475, '527': 43498.49047619046, '475': 39621.94826839824, '471': 43425.269841269816, '681': 27453.98650793652, '465': 36373.57936507936, '446': 35151.33809523811, '58': 49894.29999999995, '32': 42986.204761904744, '991': 44181.53809523805, '725': 39806.15238095237, '859': 40474.45238095238, '798': 41875.088095238054, '256': 49459.63333333331, '306': 39031.514285714235, '131': 41163.70952380949, '677': 38990.11746031743, '960': 34713.56666666667, '769': 37148.47619047621, '248': 38814.18095238095, '125': 46992.89999999995, '917': 38007.71904761903, '120': 49546.566666666615, '115': 45982.68809523806, '1519': 34333.75079365083, '970': 40702.264285714264, '213': 46737.6744588744, '424': 48813.06666666662, '428': 42515.5746031746, '488': 47845.93333333331, '498': 44651.5214285714, '809': 40044.96031746028, '92': 42035.37142857144, '845': 43173.26666666668, '655': 34575.92222222225, '156': 47349.171428571295, '413': 44792.400000000016, '21': 38381.0666666667, '1232': 35705.92619047622, '290': 40728.654761904734, '71': 41315.0666666667, '65': 44592.919047619034, '791': 34942.5428571429, '874': 43733.67619047614, '448': 45072.60476190477, '496': 49872.56666666665, '921': 36919.888095238115, '497': 35312.785714285754, '627': 36676.94047619046, '194': 44672.866666666676, '927': 43220.614285714255, '232': 52527.138095238035, '172': 45822.40476190471, '165': 26068.48650793651, '87': 42138.604761904746, '253': 39907.833333333365, '706': 47116.05555555552, '134': 48729.23809523806, '624': 38011.988095238106, '548': 33913.83174603179, '893': 44520.73333333333, '920': 41900.31428571425, '836': 44773.91255411253, '80': 47968.5714285714, '743': 40576.13333333335, '826': 46025.76666666668, '184': 49569.076190476095, '601': 51230.89999999998, '1870': 34552.11904761907, '200': 45851.899999999994, '784': 39126.209523809506, '751': 34508.53477633482, '434': 23954.014285714296, '979': 35987.0365079365, '647': 36782.50238095241, '246': 36560.12380952383, '489': 43239.24285714284, '998': 42595.00476190477, '435': 38087.278571428564, '468': 21858.55058830061, '48': 42347.78809523811, '1339': 44040.27142857138, '159': 40869.921428571426, '149': 25296.729725829755, '1819': 39140.180952380964, '525': 45662.50952380946, '882': 28492.9174603175, '34': 43807.543650793574, '239': 31866.888095238148, '62': 20550.960028860038, '452': 43745.06031746028, '445': 28096.385447885485}\n"
     ]
    }
   ],
   "source": [
    "print(c)"
   ]
  },
  {
   "cell_type": "code",
   "execution_count": 5,
   "metadata": {},
   "outputs": [],
   "source": [
    "def temporal_event_graph(g: pp.TemporalGraph, delta=1): \n",
    "\n",
    "    print(g.data.edge_index)\n",
    "\n",
    "    # generate temporal event DAG\n",
    "    edge_index = pp.algorithms.lift_order_temporal(g, delta)\n",
    "    print(edge_index)\n",
    "\n",
    "    # Add indices of first-order nodes as src and dst of paths in augmented\n",
    "    # temporal event DAG\n",
    "    src_edges_src = g.data.edge_index[0] + g.data.edge_index.size(1)\n",
    "    print(src_edges_src)\n",
    "    src_edges_dst = torch.arange(0, g.data.edge_index.size(1))\n",
    "\n",
    "    dst_edges_src = torch.arange(0, g.data.edge_index.size(1))\n",
    "    dst_edges_dst = g.data.edge_index[1] + g.data.edge_index.size(1) + g.N\n",
    "    print(dst_edges_dst)\n",
    "\n",
    "    # add edges from source to edges and from edges to destinations\n",
    "    src_edges = torch.stack([src_edges_src, src_edges_dst])\n",
    "    dst_edges = torch.stack([dst_edges_src, dst_edges_dst])\n",
    "    edge_index = torch.cat([edge_index, src_edges, dst_edges], dim=1)\n",
    "\n",
    "    # create sparse scipy matrix\n",
    "    event_graph = pp.Graph.from_edge_index(edge_index) \n",
    "    return event_graph"
   ]
  },
  {
   "cell_type": "code",
   "execution_count": 10,
   "metadata": {},
   "outputs": [
    {
     "name": "stderr",
     "output_type": "stream",
     "text": [
      "100%|██████████| 17/17 [00:00<00:00, 3068.65it/s]"
     ]
    },
    {
     "name": "stdout",
     "output_type": "stream",
     "text": [
      "tensor([[ 0,  1,  1,  4,  5,  8, 12],\n",
      "        [ 1,  2,  3,  5,  6, 11, 14]])\n"
     ]
    },
    {
     "name": "stderr",
     "output_type": "stream",
     "text": [
      "\n"
     ]
    }
   ],
   "source": [
    "eg = pp.algorithms.lift_order_temporal(t_long, delta=5)\n",
    "print(eg)"
   ]
  },
  {
   "cell_type": "code",
   "execution_count": 11,
   "metadata": {},
   "outputs": [
    {
     "name": "stdout",
     "output_type": "stream",
     "text": [
      "tensor([[0, 1, 2, 2, 2, 5, 0, 1, 0, 7, 2, 6, 0, 0, 2, 5, 1, 8, 2, 7],\n",
      "        [1, 2, 3, 4, 5, 0, 6, 5, 6, 5, 5, 7, 2, 1, 7, 7, 8, 1, 8, 8]])\n"
     ]
    },
    {
     "name": "stderr",
     "output_type": "stream",
     "text": [
      "100%|██████████| 17/17 [00:00<00:00, 3405.44it/s]"
     ]
    },
    {
     "name": "stdout",
     "output_type": "stream",
     "text": [
      "tensor([[ 0,  1,  1,  4,  5,  8, 12],\n",
      "        [ 1,  2,  3,  5,  6, 11, 14]])\n",
      "tensor([20, 21, 22, 22, 22, 25, 20, 21, 20, 27, 22, 26, 20, 20, 22, 25, 21, 28,\n",
      "        22, 27])\n",
      "tensor([30, 31, 32, 33, 34, 29, 35, 34, 35, 34, 34, 36, 31, 30, 36, 36, 37, 30,\n",
      "        37, 37])\n",
      "Directed graph with 38 nodes and 47 edges\n",
      "\n",
      "Graph attributes\n",
      "\tnum_nodes\t\t<class 'int'>\n",
      "\n"
     ]
    },
    {
     "name": "stderr",
     "output_type": "stream",
     "text": [
      "\n"
     ]
    }
   ],
   "source": [
    "print(temporal_event_graph(t_long, delta=5))"
   ]
  },
  {
   "cell_type": "code",
   "execution_count": 13,
   "metadata": {},
   "outputs": [],
   "source": [
    "def betweenness_brandes(g: pp.Graph, sources = None):\n",
    "    bw = defaultdict(lambda: 0.0)\n",
    "\n",
    "    if sources == None:\n",
    "        sources = [v for v in g.nodes]\n",
    "\n",
    "    for s in tqdm(sources):\n",
    "        S = list()\n",
    "        P = defaultdict(list)\n",
    "\n",
    "        sigma = defaultdict(lambda: 0)  \n",
    "        sigma[s] = 1\n",
    "\n",
    "        d = defaultdict(lambda: -1)        \n",
    "        d[s] = 0\n",
    "\n",
    "        Q = [s]\n",
    "        while Q:\n",
    "            v = Q.pop(0)\n",
    "            S.append(v)\n",
    "            for w in g.successors(v):\n",
    "                if d[w] < 0:\n",
    "                    Q.append(w)\n",
    "                    d[w] = d[v] + 1\n",
    "                if d[w] == d[v] + 1:\n",
    "                    # we found shortest path from s via v to w\n",
    "                    sigma[w] = sigma[w] + sigma[v]\n",
    "                    P[w].append(v)\n",
    "        delta = defaultdict(lambda: 0.0)\n",
    "        while S:\n",
    "            w = S.pop()\n",
    "            for v in P[w]:\n",
    "                delta[v] = delta[v] + sigma[v]/sigma[w] * (1 + delta[w])\n",
    "                if v != w:\n",
    "                    bw[w] = bw[w] + delta[w]\n",
    "    return bw"
   ]
  },
  {
   "cell_type": "code",
   "execution_count": 14,
   "metadata": {},
   "outputs": [
    {
     "name": "stderr",
     "output_type": "stream",
     "text": [
      "5it [00:00, 3583.04it/s]\n"
     ]
    },
    {
     "data": {
      "text/plain": [
       "defaultdict(<function __main__.betweenness_brandes.<locals>.<lambda>()>,\n",
       "            {'e': 0.0, 'd': 0.0, 'c': 4.0})"
      ]
     },
     "execution_count": 14,
     "metadata": {},
     "output_type": "execute_result"
    }
   ],
   "source": [
    "g = pp.Graph.from_edge_list([('a', 'c'), ('b', 'c'), ('c', 'd'), ('c', 'e')])\n",
    "betweenness_brandes(g, g.nodes)"
   ]
  },
  {
   "cell_type": "code",
   "execution_count": 15,
   "metadata": {},
   "outputs": [],
   "source": [
    "def temporal_event_graph(g: pp.TemporalGraph, delta = 1):\n",
    "    # generate temporal event DAG\n",
    "    edge_index = pp.algorithms.lift_order_temporal(g, delta)    \n",
    "\n",
    "    # Add indices of first-order nodes as src and dst of paths in augmented\n",
    "    # temporal event DAG\n",
    "    print(g.data.edge_index)\n",
    "    edges = [f'{v}-{w}-{t}' for v, w, t in g.temporal_edges]\n",
    "    print(edges)\n",
    "    src_edges_src = g.data.edge_index[0] + g.M\n",
    "    src_edges_dst = torch.arange(0, g.data.edge_index.size(1))\n",
    "\n",
    "    src = [f'{v}-src' for v in g.nodes]\n",
    "    tgt = [f'{v}-tgt' for v in g.nodes]\n",
    "\n",
    "    dst_edges_src = torch.arange(0, g.data.edge_index.size(1))\n",
    "    dst_edges_dst = g.data.edge_index[1] + g.M + g.N\n",
    "\n",
    "    # add edges from source to edges and from edges to destinations\n",
    "    src_edges = torch.stack([src_edges_src, src_edges_dst])\n",
    "    dst_edges = torch.stack([dst_edges_src, dst_edges_dst])\n",
    "    edge_index = torch.cat([edge_index, src_edges, dst_edges], dim=1)\n",
    "\n",
    "    # create sparse scipy matrix\n",
    "    mapping = pp.IndexMap(edges + src + tgt)\n",
    "    event_graph = pp.Graph.from_edge_index(edge_index, mapping) \n",
    "    return event_graph"
   ]
  },
  {
   "cell_type": "code",
   "execution_count": 25,
   "metadata": {},
   "outputs": [],
   "source": [
    "# def fo_node(v, g, src_indices) -> int:\n",
    "#     # if v is one of the source nodes, return corresponding first-order node\n",
    "\n",
    "    \n",
    "# def fo_src(v, g, src_indices):\n",
    "#     if v in src_indices:\n",
    "#         return v - g.M\n",
    "#     else:\n",
    "#         return g.data.edge_index[0,v].item()\n",
    "\n",
    "def temporal_betweenness_brandes(g: pp.TemporalGraph, delta=1):\n",
    "\n",
    "    print(g.data.edge_index)\n",
    "\n",
    "    # generate temporal event DAG\n",
    "    edge_index = pp.algorithms.lift_order_temporal(g, delta)\n",
    "\n",
    "    # Add indices of first-order nodes as src and dst of paths in augmented\n",
    "    # temporal event DAG\n",
    " #   print(g.data.edge_index)\n",
    "    #edges = [f'{v}-{w}-{t}' for v, w, t in g.temporal_edges]\n",
    "#    print(edges)\n",
    "    src_edges_src = g.data.edge_index[0] + g.M\n",
    "    src_edges_dst = torch.arange(0, g.data.edge_index.size(1))\n",
    "\n",
    "    #src = [f'{v}-src' for v in g.nodes]\n",
    "    #tgt = [f'{v}-tgt' for v in g.nodes]\n",
    "\n",
    "    # dst_edges_src = torch.arange(0, g.data.edge_index.size(1))\n",
    "    # dst_edges_dst = g.data.edge_index[1] + g.M + g.N\n",
    "\n",
    "    # add edges from source to edges and from edges to destinations\n",
    "    src_edges = torch.stack([src_edges_src, src_edges_dst])\n",
    "    # dst_edges = torch.stack([dst_edges_src, dst_edges_dst])\n",
    "    edge_index = torch.cat([edge_index, src_edges], dim=1)\n",
    "\n",
    "    # create sparse scipy matrix\n",
    "    #mapping = pp.IndexMap(edges + src + tgt)\n",
    "    event_graph = pp.Graph.from_edge_index(edge_index, num_nodes=g.M+g.N)\n",
    "    print(event_graph)\n",
    "    #pp.plot(event_graph, node_label=[i for i in event_graph.nodes])\n",
    "    #print(edge_index)\n",
    "\n",
    "    # # sources = first-order source nodes in temporal event graph\n",
    "    src_indices = set(torch.unique(src_edges_src).tolist())\n",
    "    #print(src_edges_src-g.M)\n",
    "    # tgt_indices = set(torch.unique(dst_edges_dst).tolist())\n",
    "    #print(src_indices)\n",
    "    # print(tgt_indices)\n",
    "\n",
    "    e_i = g.data.edge_index.numpy()\n",
    "\n",
    "    fo_nodes = dict()\n",
    "    for v in event_graph.nodes:\n",
    "        if v in src_indices:\n",
    "            fo_nodes[v] = v - g.M\n",
    "        else: # return first-order target node otherwise\n",
    "            fo_nodes[v] = e_i[1,v]\n",
    "\n",
    "    # start from indegree zero nodes\n",
    "    #roots = torch.where((degree(g.data.edge_index[1])==0))[0]\n",
    "    #dist, _ = pp.algorithms.temporal_shortest_paths(g, delta=delta)\n",
    "    #print(dist)\n",
    "    bw = defaultdict(lambda: 0.0)\n",
    "\n",
    "    # for all first-order nodes\n",
    "    for s in tqdm(src_indices):\n",
    "        t_start = time()\n",
    "        print('source', g.mapping.to_id(fo_nodes[s]))\n",
    "\n",
    "        # for any given s, d[v] is the shortest path distance from s to v\n",
    "        # Note that here we calculate topological distances from sources to events (i.e. time-stamped edges)\n",
    "        delta_ = defaultdict(lambda: 0.0)\n",
    "\n",
    "        # for any given s, sigma[v] counts shortest paths from s to v\n",
    "        sigma = defaultdict(lambda: 0.0)          \n",
    "        sigma[s] = 1\n",
    "\n",
    "        sigma_fo = defaultdict(lambda: 0.0)       \n",
    "        sigma_fo[fo_nodes[s]] = 1\n",
    "\n",
    "        dist = defaultdict(lambda: -1)\n",
    "        dist[s] = 0\n",
    "\n",
    "        dist_fo = defaultdict(lambda: -1)\n",
    "        dist_fo[fo_nodes[s]] = 0\n",
    "                \n",
    "        # for any given s, P[v] is the set of predecessors of v on shortest paths from s\n",
    "        P = defaultdict(list)\n",
    "\n",
    "        # Q is a queue, so we append at the end and pop from the start\n",
    "        Q = deque()  \n",
    "        Q.append(s)\n",
    "\n",
    "        # S is a stack, so we append at the end and pop from the end\n",
    "        S = list()\n",
    "    \n",
    "        # dijkstra with path counting\n",
    "        while Q:\n",
    "            v = Q.popleft()\n",
    "            #print('popped ', v)\n",
    "            # for all successor events within delta\n",
    "            for w in event_graph.successors(v):\n",
    "\n",
    "                # we dicover w for the first time\n",
    "                if dist[w] == -1:\n",
    "                    dist[w] = dist[v] + 1\n",
    "                    if dist_fo[fo_nodes[w]] == -1:\n",
    "                        dist_fo[fo_nodes[w]] = dist[v] + 1\n",
    "                    S.append(w)\n",
    "                    Q.append(w)\n",
    "                # we found a shortest path to event w via event v\n",
    "                if dist[w] == dist[v] + 1:\n",
    "                    sigma[w] += sigma[w] + sigma[v]\n",
    "                    P[w].append(v)\n",
    "                    # we found a shortest path to first-order node of event w\n",
    "                    if dist[w] == dist_fo[fo_nodes[w]]:\n",
    "                        sigma_fo[fo_nodes[w]] += sigma[v]\n",
    "        #print('S =', S)\n",
    "        #print('P', P)\n",
    "        #print('d', dist)\n",
    "        print('finished BFS ', (time()- t_start))\n",
    "        c = 0\n",
    "        for i in dist_fo:\n",
    "            if dist_fo[i] >=0:\n",
    "                c+= 1\n",
    "        bw[fo_nodes[s]] = bw[fo_nodes[s]] - c + 1\n",
    "        #print(bw[fo_node(s, g, src_indices)])\n",
    "\n",
    "        # We computed top. shortest path distances and shortest path counts from (first-order) source nodes to all temporal events\n",
    "        # we must now project this to the first-order target nodes of those events\n",
    "        while S:\n",
    "            w = S.pop()\n",
    "            # work backwards through paths to all targets and sum delta and sigma\n",
    "\n",
    "            # check whether shortest path from s to event w is also shortest path to first-order target of w\n",
    "            # if d[w] == d_fo[w_fo]:            \n",
    "            if dist[w] == dist_fo[fo_nodes[w]]:\n",
    "                # v_fo = fo_tgt(v, g, src_indices, tgt_indices)\n",
    "                delta_[w] += (sigma[w]/sigma_fo[fo_nodes[w]])\n",
    "            for v in P[w]:\n",
    "                delta_[v] += (sigma[v]/sigma[w]) * delta_[w]\n",
    "                bw[fo_nodes[v]] += delta_[w] * (sigma[v]/sigma[w])\n",
    "    bw_id = defaultdict(lambda: 0.0)\n",
    "    for idx in bw:\n",
    "        bw_id[g.mapping.to_id(idx)] = bw[idx]\n",
    "    return bw_id\n"
   ]
  },
  {
   "cell_type": "code",
   "execution_count": 26,
   "metadata": {},
   "outputs": [
    {
     "name": "stdout",
     "output_type": "stream",
     "text": [
      "tensor([[ 43,  43,  44,  ..., 202, 162,  76],\n",
      "        [ 45,  44,  43,  ..., 262,  76, 162]])\n"
     ]
    },
    {
     "name": "stderr",
     "output_type": "stream",
     "text": [
      "  0%|          | 0/579 [00:00<?, ?it/s]"
     ]
    },
    {
     "name": "stderr",
     "output_type": "stream",
     "text": [
      "100%|██████████| 579/579 [00:39<00:00, 14.52it/s]\n"
     ]
    },
    {
     "name": "stdout",
     "output_type": "stream",
     "text": [
      "Directed graph with 220705 nodes and 18249204 edges\n",
      "\n",
      "Graph attributes\n",
      "\tnum_nodes\t\t<class 'int'>\n",
      "\n"
     ]
    },
    {
     "name": "stderr",
     "output_type": "stream",
     "text": [
      "  0%|          | 0/327 [00:00<?, ?it/s]"
     ]
    },
    {
     "name": "stdout",
     "output_type": "stream",
     "text": [
      "source 454\n",
      "finished BFS  21.46290111541748\n"
     ]
    },
    {
     "name": "stderr",
     "output_type": "stream",
     "text": [
      "  0%|          | 1/327 [00:23<2:06:37, 23.30s/it]"
     ]
    },
    {
     "name": "stdout",
     "output_type": "stream",
     "text": [
      "source 640\n",
      "finished BFS  20.32966423034668\n"
     ]
    },
    {
     "name": "stderr",
     "output_type": "stream",
     "text": [
      "  1%|          | 2/327 [00:45<2:03:25, 22.79s/it]"
     ]
    },
    {
     "name": "stdout",
     "output_type": "stream",
     "text": [
      "source 1\n",
      "finished BFS  9.732733726501465\n"
     ]
    },
    {
     "name": "stderr",
     "output_type": "stream",
     "text": [
      "  1%|          | 3/327 [00:56<1:32:16, 17.09s/it]"
     ]
    },
    {
     "name": "stdout",
     "output_type": "stream",
     "text": [
      "source 939\n"
     ]
    },
    {
     "name": "stderr",
     "output_type": "stream",
     "text": [
      "  1%|          | 3/327 [01:19<2:22:30, 26.39s/it]\n"
     ]
    },
    {
     "ename": "KeyboardInterrupt",
     "evalue": "",
     "output_type": "error",
     "traceback": [
      "\u001b[0;31m---------------------------------------------------------------------------\u001b[0m",
      "\u001b[0;31mKeyboardInterrupt\u001b[0m                         Traceback (most recent call last)",
      "Cell \u001b[0;32mIn[26], line 1\u001b[0m\n\u001b[0;32m----> 1\u001b[0m \u001b[43mtemporal_betweenness_brandes\u001b[49m\u001b[43m(\u001b[49m\u001b[43mt_sp\u001b[49m\u001b[43m,\u001b[49m\u001b[43m \u001b[49m\u001b[43mdelta\u001b[49m\u001b[38;5;241;43m=\u001b[39;49m\u001b[38;5;241;43m3600\u001b[39;49m\u001b[43m)\u001b[49m\n",
      "Cell \u001b[0;32mIn[25], line 103\u001b[0m, in \u001b[0;36mtemporal_betweenness_brandes\u001b[0;34m(g, delta)\u001b[0m\n\u001b[1;32m    100\u001b[0m v \u001b[38;5;241m=\u001b[39m Q\u001b[38;5;241m.\u001b[39mpopleft()\n\u001b[1;32m    101\u001b[0m \u001b[38;5;66;03m#print('popped ', v)\u001b[39;00m\n\u001b[1;32m    102\u001b[0m \u001b[38;5;66;03m# for all successor events within delta\u001b[39;00m\n\u001b[0;32m--> 103\u001b[0m \u001b[38;5;28;01mfor\u001b[39;00m w \u001b[38;5;129;01min\u001b[39;00m event_graph\u001b[38;5;241m.\u001b[39msuccessors(v):\n\u001b[1;32m    104\u001b[0m \n\u001b[1;32m    105\u001b[0m     \u001b[38;5;66;03m# we dicover w for the first time\u001b[39;00m\n\u001b[1;32m    106\u001b[0m     \u001b[38;5;28;01mif\u001b[39;00m dist[w] \u001b[38;5;241m==\u001b[39m \u001b[38;5;241m-\u001b[39m\u001b[38;5;241m1\u001b[39m:\n\u001b[1;32m    107\u001b[0m         dist[w] \u001b[38;5;241m=\u001b[39m dist[v] \u001b[38;5;241m+\u001b[39m \u001b[38;5;241m1\u001b[39m\n",
      "File \u001b[0;32m/workspaces/pathpyG/src/pathpyG/core/Graph.py:296\u001b[0m, in \u001b[0;36mGraph.successors\u001b[0;34m(self, node)\u001b[0m\n\u001b[1;32m    285\u001b[0m \u001b[38;5;250m\u001b[39m\u001b[38;5;124;03m\"\"\"Return all successors of a given node.\u001b[39;00m\n\u001b[1;32m    286\u001b[0m \n\u001b[1;32m    287\u001b[0m \u001b[38;5;124;03mThis method returns a generator object that yields all successors of a\u001b[39;00m\n\u001b[0;32m   (...)\u001b[0m\n\u001b[1;32m    292\u001b[0m \u001b[38;5;124;03m    node:   Index or string ID of node for which successors shall be returned.\u001b[39;00m\n\u001b[1;32m    293\u001b[0m \u001b[38;5;124;03m\"\"\"\u001b[39;00m \n\u001b[1;32m    295\u001b[0m \u001b[38;5;28;01mfor\u001b[39;00m j \u001b[38;5;129;01min\u001b[39;00m \u001b[38;5;28mself\u001b[39m\u001b[38;5;241m.\u001b[39mget_successors(\u001b[38;5;28mself\u001b[39m\u001b[38;5;241m.\u001b[39mmapping\u001b[38;5;241m.\u001b[39mto_idx(node)):  \u001b[38;5;66;03m# type: ignore\u001b[39;00m\n\u001b[0;32m--> 296\u001b[0m     \u001b[38;5;28;01myield\u001b[39;00m \u001b[38;5;28mself\u001b[39m\u001b[38;5;241m.\u001b[39mmapping\u001b[38;5;241m.\u001b[39mto_id(\u001b[43mj\u001b[49m\u001b[38;5;241;43m.\u001b[39;49m\u001b[43mitem\u001b[49m\u001b[43m(\u001b[49m\u001b[43m)\u001b[49m)\n",
      "\u001b[0;31mKeyboardInterrupt\u001b[0m: "
     ]
    }
   ],
   "source": [
    "temporal_betweenness_brandes(t_sp, delta=3600)"
   ]
  },
  {
   "cell_type": "code",
   "execution_count": 61,
   "metadata": {},
   "outputs": [
    {
     "name": "stdout",
     "output_type": "stream",
     "text": [
      "tensor([[0, 1, 1, 2, 3],\n",
      "        [1, 2, 3, 4, 4]])\n",
      "a -> 0\n",
      "b -> 1\n",
      "c -> 2\n",
      "d -> 3\n",
      "e -> 4\n",
      "\n",
      "tensor([[0, 1, 1, 2, 3],\n",
      "        [1, 2, 3, 4, 4]])\n"
     ]
    },
    {
     "name": "stderr",
     "output_type": "stream",
     "text": [
      "100%|██████████| 3/3 [00:00<00:00, 2574.77it/s]\n",
      "100%|██████████| 4/4 [00:00<00:00, 993.62it/s]"
     ]
    },
    {
     "name": "stdout",
     "output_type": "stream",
     "text": [
      "source d\n",
      "source a\n",
      "source b\n",
      "source c\n",
      "a 0.0\n",
      "b 3.0\n",
      "c 1.0\n",
      "d 1.0\n",
      "e 0.0\n"
     ]
    },
    {
     "name": "stderr",
     "output_type": "stream",
     "text": [
      "\n"
     ]
    }
   ],
   "source": [
    "# Example with two shortest time-respecting paths from a to e via c or d\n",
    "t = pp.TemporalGraph.from_edge_list([('a', 'b', 1), ('b', 'c', 2), ('b', 'd', 2), ('c', 'e', 3), ('d', 'e', 3)])\n",
    "print(t.data.edge_index)\n",
    "print(t.mapping)\n",
    "\n",
    "bw_1 = temporal_betweenness_brandes(t, delta=1)\n",
    "\n",
    "for v in t.nodes:\n",
    "    print(v, bw_1[t.mapping.to_idx(v)])"
   ]
  },
  {
   "cell_type": "code",
   "execution_count": 62,
   "metadata": {},
   "outputs": [
    {
     "name": "stdout",
     "output_type": "stream",
     "text": [
      "tensor([[0, 1, 2, 2, 2, 5, 0, 1, 0, 7, 2, 6, 0, 0, 2, 5, 1, 8, 2, 7],\n",
      "        [1, 2, 3, 4, 5, 0, 6, 5, 6, 5, 5, 7, 2, 1, 7, 7, 8, 1, 8, 8]])\n"
     ]
    },
    {
     "name": "stderr",
     "output_type": "stream",
     "text": [
      "100%|██████████| 17/17 [00:00<00:00, 3854.64it/s]\n",
      "100%|██████████| 7/7 [00:00<00:00, 1022.18it/s]"
     ]
    },
    {
     "name": "stdout",
     "output_type": "stream",
     "text": [
      "source a\n",
      "source b\n",
      "source c\n",
      "source f\n",
      "source g\n",
      "source h\n",
      "source i\n",
      "a 2.0\n",
      "b 2.0\n",
      "c 4.5\n",
      "d 0.0\n",
      "e 0.0\n",
      "f 2.0\n",
      "g 0.5\n",
      "h 0.0\n",
      "i 0.0\n"
     ]
    },
    {
     "name": "stderr",
     "output_type": "stream",
     "text": [
      "\n"
     ]
    }
   ],
   "source": [
    "bw = temporal_betweenness_brandes(t_long, 5)\n",
    "for v in t_long.nodes:\n",
    "    print(v, bw[t_long.mapping.to_idx(v)])"
   ]
  },
  {
   "cell_type": "code",
   "execution_count": 32,
   "metadata": {},
   "outputs": [
    {
     "name": "stdout",
     "output_type": "stream",
     "text": [
      "tensor([[0, 1, 2, 1],\n",
      "        [1, 2, 3, 3]])\n",
      "a -> 0\n",
      "b -> 1\n",
      "c -> 2\n",
      "d -> 3\n",
      "\n",
      "tensor([[0, 1, 2, 1],\n",
      "        [1, 2, 3, 3]])\n"
     ]
    },
    {
     "name": "stderr",
     "output_type": "stream",
     "text": [
      "100%|██████████| 3/3 [00:00<00:00, 3437.95it/s]\n"
     ]
    },
    {
     "name": "stdout",
     "output_type": "stream",
     "text": [
      "{4, 5, 6}\n"
     ]
    },
    {
     "name": "stderr",
     "output_type": "stream",
     "text": [
      "100%|██████████| 3/3 [00:00<00:00, 875.52it/s]\n"
     ]
    },
    {
     "name": "stdout",
     "output_type": "stream",
     "text": [
      "source a\n",
      "source b\n",
      "source c\n",
      "tensor([[0, 1, 2, 1],\n",
      "        [1, 2, 3, 3]])\n"
     ]
    },
    {
     "name": "stderr",
     "output_type": "stream",
     "text": [
      "100%|██████████| 3/3 [00:00<00:00, 2423.05it/s]\n"
     ]
    },
    {
     "name": "stdout",
     "output_type": "stream",
     "text": [
      "{4, 5, 6}\n"
     ]
    },
    {
     "name": "stderr",
     "output_type": "stream",
     "text": [
      "100%|██████████| 3/3 [00:00<00:00, 1125.28it/s]"
     ]
    },
    {
     "name": "stdout",
     "output_type": "stream",
     "text": [
      "source a\n",
      "source b\n",
      "source c\n",
      "a 0.0 -1.0\n",
      "b 1.0 1.0\n",
      "c 1.0 0.0\n",
      "d 0.0 0.0\n"
     ]
    },
    {
     "name": "stderr",
     "output_type": "stream",
     "text": [
      "\n"
     ]
    }
   ],
   "source": [
    "t = pp.TemporalGraph.from_edge_list([('a', 'b', 1), ('b', 'c', 2), ('c', 'd', 3), ('b', 'd', 3)])\n",
    "print(t.data.edge_index)\n",
    "print(t.mapping)\n",
    "\n",
    "bw_1 = temporal_betweenness_brandes(t, delta=1)\n",
    "bw_2 = temporal_betweenness_brandes(t, delta=2)\n",
    "\n",
    "for v in t.nodes:\n",
    "    print(v, bw_1[t.mapping.to_idx(v)], bw_2[t.mapping.to_idx(v)])"
   ]
  },
  {
   "cell_type": "code",
   "execution_count": 93,
   "metadata": {},
   "outputs": [
    {
     "name": "stderr",
     "output_type": "stream",
     "text": [
      "100%|██████████| 3/3 [00:00<00:00, 2388.10it/s]"
     ]
    },
    {
     "name": "stdout",
     "output_type": "stream",
     "text": [
      "Created temporal event DAG with 12 nodes and 11 edges\n"
     ]
    },
    {
     "name": "stderr",
     "output_type": "stream",
     "text": [
      "\n"
     ]
    },
    {
     "data": {
      "text/plain": [
       "(array([[ 0.,  1.,  2.,  2.],\n",
       "        [inf,  0.,  1.,  1.],\n",
       "        [inf, inf,  0.,  1.],\n",
       "        [inf, inf, inf,  0.]]),\n",
       " array([[-9999,     0,     1,     3],\n",
       "        [-9999, -9999,     1,     3],\n",
       "        [-9999, -9999, -9999,     2],\n",
       "        [-9999, -9999, -9999, -9999]], dtype=int32))"
      ]
     },
     "execution_count": 93,
     "metadata": {},
     "output_type": "execute_result"
    }
   ],
   "source": [
    "pp.algorithms.temporal_shortest_paths(t, delta=2)"
   ]
  },
  {
   "cell_type": "code",
   "execution_count": 57,
   "metadata": {},
   "outputs": [
    {
     "name": "stderr",
     "output_type": "stream",
     "text": [
      "100%|██████████| 3/3 [00:00<00:00, 3233.02it/s]"
     ]
    },
    {
     "name": "stdout",
     "output_type": "stream",
     "text": [
      "Created temporal event DAG with 12 nodes and 10 edges\n"
     ]
    },
    {
     "name": "stderr",
     "output_type": "stream",
     "text": [
      "\n"
     ]
    },
    {
     "data": {
      "text/plain": [
       "(array([[ 0.,  1.,  2.,  3.],\n",
       "        [inf,  0.,  1.,  1.],\n",
       "        [inf, inf,  0.,  1.],\n",
       "        [inf, inf, inf,  0.]]),\n",
       " array([[-9999,     0,     1,     2],\n",
       "        [-9999, -9999,     1,     3],\n",
       "        [-9999, -9999, -9999,     2],\n",
       "        [-9999, -9999, -9999, -9999]], dtype=int32))"
      ]
     },
     "execution_count": 57,
     "metadata": {},
     "output_type": "execute_result"
    }
   ],
   "source": [
    "pp.algorithms.temporal_shortest_paths(t, delta=1)"
   ]
  },
  {
   "cell_type": "code",
   "execution_count": 313,
   "metadata": {},
   "outputs": [
    {
     "name": "stdout",
     "output_type": "stream",
     "text": [
      "a -> 0\n",
      "c -> 1\n",
      "d -> 2\n",
      "b -> 3\n",
      "e -> 4\n",
      "\n",
      "tensor([[0, 1, 3, 1],\n",
      "        [1, 2, 1, 4]])\n"
     ]
    },
    {
     "name": "stderr",
     "output_type": "stream",
     "text": [
      "100%|██████████| 4/4 [00:00<00:00, 3559.77it/s]\n",
      "100%|██████████| 3/3 [00:00<00:00, 2406.37it/s]"
     ]
    },
    {
     "name": "stdout",
     "output_type": "stream",
     "text": [
      "10\n",
      "[0]\n",
      "11\n",
      "[1]\n",
      "13\n",
      "[]\n",
      "10\n",
      "[]\n",
      "11\n",
      "[1]\n",
      "13\n",
      "[3]\n",
      "10\n",
      "[2]\n",
      "11\n",
      "[]\n",
      "13\n",
      "[3]\n"
     ]
    },
    {
     "name": "stderr",
     "output_type": "stream",
     "text": [
      "\n"
     ]
    },
    {
     "data": {
      "text/plain": [
       "defaultdict(<function __main__.temporal_betweenness_brandes.<locals>.<lambda>()>,\n",
       "            {1: 0.0, 2: 0.0, 4: 0.0})"
      ]
     },
     "execution_count": 313,
     "metadata": {},
     "output_type": "execute_result"
    }
   ],
   "source": [
    "t = pp.TemporalGraph.from_edge_list([('a', 'c', 1), ('c', 'd', 2), ('b', 'c', 3), ('c', 'e', 4)])\n",
    "print(t.mapping)\n",
    "\n",
    "temporal_betweenness_brandes(t, delta=1)\n",
    "# 4 = a_src\n",
    "# 5 = c_src\n",
    "# 7 = b_src\n",
    "\n",
    "# 10 = c_tgt\n",
    "# 11 = d_tgt\n",
    "# 13 = e_tgt"
   ]
  },
  {
   "cell_type": "code",
   "execution_count": 253,
   "metadata": {},
   "outputs": [
    {
     "name": "stdout",
     "output_type": "stream",
     "text": [
      "a -> 0\n",
      "c -> 1\n",
      "d -> 2\n",
      "b -> 3\n",
      "e -> 4\n",
      "\n",
      "tensor([[0, 0, 1, 1, 3, 3, 1, 1],\n",
      "        [1, 1, 2, 4, 1, 1, 4, 2]])\n"
     ]
    },
    {
     "name": "stderr",
     "output_type": "stream",
     "text": [
      "100%|██████████| 4/4 [00:00<00:00, 2609.21it/s]\n"
     ]
    },
    {
     "name": "stdout",
     "output_type": "stream",
     "text": [
      "tensor([[0, 0, 1, 1, 4, 4, 5, 5],\n",
      "        [2, 3, 2, 3, 6, 7, 6, 7]])\n",
      "{8, 9, 11}\n",
      "{17, 14, 15}\n"
     ]
    },
    {
     "name": "stderr",
     "output_type": "stream",
     "text": [
      "8it [00:00, 3661.15it/s]\n"
     ]
    },
    {
     "data": {
      "text/plain": [
       "defaultdict(<function __main__.temporal_betweenness_brandes.<locals>.<lambda>()>,\n",
       "            {4: 0.0, 2: 0.0})"
      ]
     },
     "execution_count": 253,
     "metadata": {},
     "output_type": "execute_result"
    }
   ],
   "source": [
    "t = pp.TemporalGraph.from_edge_list([('a', 'c', 1), ('c', 'd', 2), ('b', 'c', 3), ('c', 'e', 4),('a', 'c', 1), ('c', 'e', 2), ('b', 'c', 3), ('c', 'd', 4)])\n",
    "print(t.mapping)\n",
    "\n",
    "temporal_betweenness_brandes(t, delta=1)\n",
    "# 4 = a_src\n",
    "# 5 = c_src\n",
    "# 7 = b_src\n",
    "\n",
    "# 10 = c_tgt\n",
    "# 11 = d_tgt\n",
    "# 13 = e_tgt"
   ]
  },
  {
   "cell_type": "code",
   "execution_count": 138,
   "metadata": {},
   "outputs": [
    {
     "name": "stderr",
     "output_type": "stream",
     "text": [
      "100%|██████████| 4/4 [00:00<00:00, 3337.42it/s]"
     ]
    },
    {
     "name": "stdout",
     "output_type": "stream",
     "text": [
      "tensor([[0, 1, 3, 1],\n",
      "        [1, 2, 1, 4]])\n",
      "['a-c-1.0', 'c-d-2.0', 'b-c-3.0', 'c-e-4.0']\n"
     ]
    },
    {
     "name": "stderr",
     "output_type": "stream",
     "text": [
      "\n"
     ]
    },
    {
     "data": {
      "text/html": [
       "<style>\n",
       "svg circle.node {\n",
       "  fill: #3b5998;\n",
       "  stroke: #1b3978;\n",
       "  stroke-width: 2.5px;\n",
       "  r: 15px;\n",
       "  opacity: 1;\n",
       "}\n",
       "\n",
       ".link {\n",
       "  stroke: #969595;\n",
       "  stroke-opacity: .75;\n",
       "  stroke-width: 2.5px;\n",
       "}\n",
       "\n",
       ".arrow {\n",
       "  fill: #969595;\n",
       "}\n",
       "\n",
       "\n",
       ".label-text {\n",
       "    fill: #969595;\n",
       "    font-size: 16px;\n",
       "    font-family: sans-serif;\n",
       "}\n",
       "\n",
       "</style>\n",
       "\n",
       "<div id = \"xdaee361136c841ae945e9a33447427b3\"> </div>\n",
       "<script charset=\"utf-8\" src=\"https://d3js.org/d3.v5.min.js\"></script>\n",
       "<script charset=\"utf-8\">\n",
       "// Load via requireJS if available (jupyter notebook environment)\n",
       "try {\n",
       "    // Problem: require.config will raise an exception when called for the second time \n",
       "    require.config({\n",
       "        paths: {\n",
       "            d3: \"https://d3js.org/d3.v5.min.js\".replace(\".js\", \"\")\n",
       "        }\n",
       "    });\n",
       "    console.log(\"OKAY: requireJS was detected.\");\n",
       "}\n",
       "catch(err){\n",
       "    // a reference error indicates that requireJS does not exist. \n",
       "    // other errors may occur due to multiple calls to config\n",
       "    if (err instanceof ReferenceError){\n",
       "        console.log(\"WARNING: NO requireJS was detected!\");\n",
       "\n",
       "        // Helper function that waits for d3js to be loaded\n",
       "        require = function require(symbols, callback) {\n",
       "            var ms = 10;\n",
       "            window.setTimeout(function(t) {\n",
       "                if (window[symbols[0]])\n",
       "                    callback(window[symbols[0]]);\n",
       "                else \n",
       "                    window.setTimeout(arguments.callee, ms);\n",
       "            }, ms);\n",
       "        }\n",
       "    }\n",
       "};\n",
       "require(['d3'], function(d3){ //START\n",
       "const data = {\"edges\": [{\"uid\": \"a-c-1.0-c-d-2.0\", \"source\": \"a-c-1.0\", \"target\": \"c-d-2.0\", \"weight\": 1}, {\"uid\": \"a-c-1.0-c-tgt\", \"source\": \"a-c-1.0\", \"target\": \"c-tgt\", \"weight\": 1}, {\"uid\": \"c-d-2.0-d-tgt\", \"source\": \"c-d-2.0\", \"target\": \"d-tgt\", \"weight\": 1}, {\"uid\": \"b-c-3.0-c-e-4.0\", \"source\": \"b-c-3.0\", \"target\": \"c-e-4.0\", \"weight\": 1}, {\"uid\": \"b-c-3.0-c-tgt\", \"source\": \"b-c-3.0\", \"target\": \"c-tgt\", \"weight\": 1}, {\"uid\": \"c-e-4.0-e-tgt\", \"source\": \"c-e-4.0\", \"target\": \"e-tgt\", \"weight\": 1}, {\"uid\": \"a-src-a-c-1.0\", \"source\": \"a-src\", \"target\": \"a-c-1.0\", \"weight\": 1}, {\"uid\": \"c-src-c-d-2.0\", \"source\": \"c-src\", \"target\": \"c-d-2.0\", \"weight\": 1}, {\"uid\": \"c-src-c-e-4.0\", \"source\": \"c-src\", \"target\": \"c-e-4.0\", \"weight\": 1}, {\"uid\": \"b-src-b-c-3.0\", \"source\": \"b-src\", \"target\": \"b-c-3.0\", \"weight\": 1}], \"nodes\": [{\"uid\": \"a-c-1.0\", \"label\": \"a-c-1.0\"}, {\"uid\": \"c-d-2.0\", \"label\": \"c-d-2.0\"}, {\"uid\": \"b-c-3.0\", \"label\": \"b-c-3.0\"}, {\"uid\": \"c-e-4.0\", \"label\": \"c-e-4.0\"}, {\"uid\": \"a-src\", \"label\": \"a-src\"}, {\"uid\": \"c-src\", \"label\": \"c-src\"}, {\"uid\": \"d-src\", \"label\": \"d-src\"}, {\"uid\": \"b-src\", \"label\": \"b-src\"}, {\"uid\": \"e-src\", \"label\": \"e-src\"}, {\"uid\": \"a-tgt\", \"label\": \"a-tgt\"}, {\"uid\": \"c-tgt\", \"label\": \"c-tgt\"}, {\"uid\": \"d-tgt\", \"label\": \"d-tgt\"}, {\"uid\": \"b-tgt\", \"label\": \"b-tgt\"}, {\"uid\": \"e-tgt\", \"label\": \"e-tgt\"}]}\n",
       "const config = {\"node_label\": [\"a-c-1.0\", \"c-d-2.0\", \"b-c-3.0\", \"c-e-4.0\", \"a-src\", \"c-src\", \"d-src\", \"b-src\", \"e-src\", \"a-tgt\", \"c-tgt\", \"d-tgt\", \"b-tgt\", \"e-tgt\"], \"directed\": true, \"curved\": true, \"selector\": \"#xdaee361136c841ae945e9a33447427b3\"}\n",
       "console.log(\"Static Network Template\");\n",
       "/* Resources\n",
       "   https://bl.ocks.org/mapio/53fed7d84cd1812d6a6639ed7aa83868\n",
       "   https://codepen.io/smlo/pen/JdMOej\n",
       "*/\n",
       "\n",
       "// variables from the config file\n",
       "const selector = config.selector;\n",
       "const width = config.width || 800;\n",
       "const height = config.height || 600;\n",
       "const charge_distance = config.charge_distance || 400;\n",
       "const charge_force = config.charge_force || -3000;\n",
       "const curved = config.curved || false;\n",
       "const directed = config.directed || false;\n",
       "// const weight = false;\n",
       "\n",
       "/* Create a svg element to display the network */\n",
       "var svg = d3.select(selector)\n",
       "    .append('svg')\n",
       "    .attr('width', width)\n",
       "    .attr('height', height)\n",
       "\n",
       "// add container to store the elements\n",
       "var container = svg.append(\"g\");\n",
       "\n",
       "/*Add zoom function to the container */\n",
       "svg.call(\n",
       "    d3.zoom()\n",
       "        .scaleExtent([.1, 4])\n",
       "        .on(\"zoom\", function() { container.attr(\"transform\", d3.event.transform); })\n",
       ");\n",
       "\n",
       "\n",
       "/*Load nodes and links from the data */\n",
       "var nodes = data.nodes\n",
       "var links = data.edges\n",
       "\n",
       "/*Create arrow head with same color as the edge */\n",
       "function marker (color) {\n",
       "       var reference;\n",
       "       svg.append(\"svg:defs\").selectAll(\"marker\")\n",
       "          .data([reference])\n",
       "          .enter().append(\"svg:marker\")\n",
       "          .attr(\"id\", \"arrow\"+color)\n",
       "          .attr(\"viewBox\", \"0 -5 10 10\")\n",
       "          .attr(\"refX\", 10)\n",
       "          .attr(\"refY\", -0)\n",
       "          .attr(\"markerWidth\", 6)\n",
       "          .attr(\"markerHeight\", 6)\n",
       "          .attr(\"orient\", \"auto\")\n",
       "          .append(\"svg:path\")\n",
       "          .attr('class','.arrow')\n",
       "          .attr(\"d\", \"M0,-5L10,0L0,5\")\n",
       "          .style('opacity',1)\n",
       "          .style(\"fill\", color);\n",
       "       return \"url(#\" + \"arrow\"+color + \")\";\n",
       "     };\n",
       "\n",
       "/*Link creation template */\n",
       "var link = container.append(\"g\").attr(\"class\", \"links\")\n",
       "    .selectAll(\".link\")\n",
       "    .data(links)\n",
       "    .enter()\n",
       "    .append(\"path\")\n",
       "    .attr(\"class\", \"link\")\n",
       "    .style(\"stroke\", function(d) { return d.color; })\n",
       "    .style(\"stroke-opacity\", function(d) { return d.opacity; })\n",
       "    .style(\"stroke-width\", function(d){  return d.size })\n",
       "    .style(\"fill\",\"none\")\n",
       "    .attr(\"marker-end\", function (d) {if(directed){return marker(d.color)}else{return null}; });\n",
       "\n",
       "    //.attr(\"marker-end\", function (d) { return marker(d.color); });\n",
       "    //.attr(\"marker-end\", \"url(#arrow)\");\n",
       "\n",
       "/*Node creation template */\n",
       "var node = container.append(\"g\").attr(\"class\", \"nodes\")\n",
       "    .selectAll(\"circle.node\")\n",
       "    .data(nodes)\n",
       "    .enter().append(\"circle\")\n",
       "    .attr(\"class\", \"node\")\n",
       "    .attr(\"x\", function(d) { return d.x; })\n",
       "    .attr(\"y\", function(d) { return d.y; })\n",
       "    .style(\"r\", function(d){  return d.size+\"px\"; })\n",
       "    .style(\"fill\", function(d) { return d.color; })\n",
       "    .style(\"opacity\", function(d) { return d.opacity; });\n",
       "\n",
       "/*Label creation template */\n",
       "var text = container.append(\"g\").attr(\"class\",\"labels\")\n",
       "    .selectAll(\"g\")\n",
       "    .data(nodes)\n",
       "    .enter().append(\"g\")\n",
       "\n",
       "text.append(\"text\")\n",
       "    .attr(\"class\", \"label-text\")\n",
       "    .attr(\"x\", function(d) {\n",
       "        var r = (d.size === undefined) ? 15 : d.size;\n",
       "        return 5 + r; })\n",
       "    .attr(\"dy\", \".31em\")\n",
       "    .text(function(d) { return d.label; });\n",
       "\n",
       "/*Scale weight for d3js */\n",
       "var weightScale = d3.scaleLinear()\n",
       "    .domain(d3.extent(links, function (d) { return d.weight }))\n",
       "    .range([.1, 1]);\n",
       "\n",
       "/*Simulation of the forces*/\n",
       "var simulation = d3.forceSimulation(nodes)\n",
       "    .force(\"links\", d3.forceLink(links)\n",
       "           .id(function(d) {return d.uid; })\n",
       "           .distance(50)\n",
       "           .strength(function(d){return weightScale(d.weight);})\n",
       "          )\n",
       "    .force(\"charge\", d3.forceManyBody()\n",
       "           .strength(charge_force)\n",
       "           .distanceMax(charge_distance)\n",
       "          )\n",
       "    .force(\"center\", d3.forceCenter(width / 2, height / 2))\n",
       "    .on(\"tick\", ticked);\n",
       "\n",
       "/*Update of the node and edge objects*/\n",
       "function ticked() {\n",
       "    node.call(updateNode);\n",
       "    link.call(updateLink);\n",
       "    text.call(updateText);\n",
       "};\n",
       "\n",
       "/*Update link positions */\n",
       "function updateLink(link) {\n",
       "    // link\n",
       "    //     .attr(\"x1\", function(d) { return d.source.x; })\n",
       "    //     .attr(\"y1\", function(d) { return d.source.y; })\n",
       "    //     .attr(\"x2\", function(d) { return d.target.x; })\n",
       "    //     .attr(\"y2\", function(d) { return d.target.y; });\n",
       "\n",
       "\n",
       "    link.attr(\"d\", function(d) {\n",
       "        var dx = d.target.x - d.source.x,\n",
       "            dy = d.target.y - d.source.y,\n",
       "            dr = Math.sqrt(dx * dx + dy * dy);\n",
       "        if(!curved)dr=0;\n",
       "        return \"M\" +\n",
       "            d.source.x + \",\" +\n",
       "            d.source.y + \"A\" +\n",
       "            dr + \",\" + dr + \" 0 0,1 \" +\n",
       "            d.target.x + \",\" +\n",
       "            d.target.y;\n",
       "    });\n",
       "\n",
       "    // recalculate and back off the distance\n",
       "    link.attr(\"d\", function (d, i) {\n",
       "        var pl = this.getTotalLength();\n",
       "        var r = (d.target.size === undefined) ? 15 : d.target.size;\n",
       "        var m = this.getPointAtLength(pl - r);\n",
       "        var dx = d.target.x - d.source.x,\n",
       "            dy = d.target.y - d.source.y,\n",
       "            dr = Math.sqrt(dx * dx + dy * dy);\n",
       "        if(!curved)dr=0;\n",
       "        var result = \"M\" + d.source.x + \",\" + d.source.y + \"A\" + dr + \",\" + dr + \" 0 0,1 \" + m.x + \",\" + m.y;\n",
       "        return result;\n",
       "    });\n",
       "};\n",
       "\n",
       "\n",
       "/*Update node positions */\n",
       "function updateNode(node) {\n",
       "    node.attr(\"transform\", function(d) {\n",
       "        return \"translate(\" + d.x + \",\" + d.y + \")\";\n",
       "    });\n",
       "    // node\n",
       "    //     .attr(\"cx\", function(d) { return d.x; })\n",
       "    //     .attr(\"cy\", function(d) { return d.y; });\n",
       "};\n",
       "\n",
       "/*Update text positions */\n",
       "function updateText(text) {\n",
       "    text.attr(\"transform\", function(d) {\n",
       "        return \"translate(\" + d.x + \",\" + d.y + \")\";\n",
       "    });\n",
       "};\n",
       "\n",
       "/*Add drag functionality to the node objects*/\n",
       "node.call(\n",
       "    d3.drag()\n",
       "        .on(\"start\", dragstarted)\n",
       "        .on(\"drag\", dragged)\n",
       "        .on(\"end\", dragended)\n",
       ");\n",
       "\n",
       "function dragstarted(d) {\n",
       "    d3.event.sourceEvent.stopPropagation();\n",
       "    if (!d3.event.active) simulation.alphaTarget(0.3).restart();\n",
       "    d.fx = d.x;\n",
       "    d.fy = d.y;\n",
       "};\n",
       "\n",
       "function dragged(d) {\n",
       "    d.fx = d3.event.x;\n",
       "    d.fy = d3.event.y;\n",
       "};\n",
       "\n",
       "function dragended(d) {\n",
       "    if (!d3.event.active) simulation.alphaTarget(0);\n",
       "    d.fx = null;\n",
       "    d.fy = null;\n",
       "};\n",
       "\n",
       "}); //END\n",
       "\n",
       "</script>"
      ]
     },
     "metadata": {},
     "output_type": "display_data"
    },
    {
     "data": {
      "text/plain": [
       "<pathpyG.visualisations.network_plots.StaticNetworkPlot at 0x7f8a1da53880>"
      ]
     },
     "execution_count": 138,
     "metadata": {},
     "output_type": "execute_result"
    }
   ],
   "source": [
    "event_graph = temporal_event_graph(t, delta=1)\n",
    "pp.plot(event_graph, node_label = [v for v in event_graph.nodes])"
   ]
  },
  {
   "cell_type": "code",
   "execution_count": 179,
   "metadata": {},
   "outputs": [
    {
     "name": "stderr",
     "output_type": "stream",
     "text": [
      "100%|██████████| 3/3 [00:00<00:00, 2910.69it/s]\n"
     ]
    },
    {
     "data": {
      "text/plain": [
       "defaultdict(<function __main__.betweenness_brandes.<locals>.<lambda>()>,\n",
       "            {'d-tgt': 0.0,\n",
       "             'c-tgt': 0.0,\n",
       "             'c-d-2.0': 2.0,\n",
       "             'a-c-1.0': 3.0,\n",
       "             'e-tgt': 0.0,\n",
       "             'c-e-4.0': 2.0,\n",
       "             'b-c-3.0': 3.0})"
      ]
     },
     "execution_count": 179,
     "metadata": {},
     "output_type": "execute_result"
    }
   ],
   "source": [
    "betweenness_brandes(event_graph, sources=['a-src', 'b-src', 'c-src'])"
   ]
  },
  {
   "cell_type": "code",
   "execution_count": 182,
   "metadata": {},
   "outputs": [
    {
     "name": "stdout",
     "output_type": "stream",
     "text": [
      "tensor([[0, 1, 3, 1],\n",
      "        [1, 2, 1, 4]])\n"
     ]
    },
    {
     "name": "stderr",
     "output_type": "stream",
     "text": [
      "100%|██████████| 4/4 [00:00<00:00, 2712.57it/s]\n"
     ]
    },
    {
     "name": "stdout",
     "output_type": "stream",
     "text": [
      "tensor([[ 0,  2,  4,  5,  7,  5,  0,  1,  2,  3],\n",
      "        [ 1,  3,  0,  1,  2,  3, 10, 11, 10, 13]])\n",
      "{4, 5, 7}\n"
     ]
    },
    {
     "name": "stderr",
     "output_type": "stream",
     "text": [
      "  0%|          | 0/3 [00:00<?, ?it/s]\n"
     ]
    },
    {
     "ename": "UnboundLocalError",
     "evalue": "local variable 'fo_src' referenced before assignment",
     "output_type": "error",
     "traceback": [
      "\u001b[0;31m---------------------------------------------------------------------------\u001b[0m",
      "\u001b[0;31mUnboundLocalError\u001b[0m                         Traceback (most recent call last)",
      "Cell \u001b[0;32mIn[182], line 1\u001b[0m\n\u001b[0;32m----> 1\u001b[0m \u001b[43mtemporal_betweenness_brandes\u001b[49m\u001b[43m(\u001b[49m\u001b[43mt\u001b[49m\u001b[43m,\u001b[49m\u001b[43m \u001b[49m\u001b[43mdelta\u001b[49m\u001b[38;5;241;43m=\u001b[39;49m\u001b[38;5;241;43m1\u001b[39;49m\u001b[43m)\u001b[49m\n",
      "Cell \u001b[0;32mIn[180], line 56\u001b[0m, in \u001b[0;36mtemporal_betweenness_brandes\u001b[0;34m(g, delta)\u001b[0m\n\u001b[1;32m     53\u001b[0m bw \u001b[38;5;241m=\u001b[39m defaultdict(\u001b[38;5;28;01mlambda\u001b[39;00m: \u001b[38;5;241m0.0\u001b[39m)\n\u001b[1;32m     54\u001b[0m \u001b[38;5;28;01mfor\u001b[39;00m s \u001b[38;5;129;01min\u001b[39;00m tqdm(src_indices):\n\u001b[0;32m---> 56\u001b[0m     fo_src \u001b[38;5;241m=\u001b[39m \u001b[43mfo_src\u001b[49m(s, g, src_indices, tgt_indices)     \n\u001b[1;32m     57\u001b[0m     dist_eg \u001b[38;5;241m=\u001b[39m defaultdict(\u001b[38;5;28;01mlambda\u001b[39;00m: \u001b[38;5;241m-\u001b[39m\u001b[38;5;241m1\u001b[39m)\n\u001b[1;32m     58\u001b[0m     dist_eg[s] \u001b[38;5;241m=\u001b[39m \u001b[38;5;241m0\u001b[39m\n",
      "\u001b[0;31mUnboundLocalError\u001b[0m: local variable 'fo_src' referenced before assignment"
     ]
    }
   ],
   "source": []
  },
  {
   "cell_type": "code",
   "execution_count": 75,
   "metadata": {},
   "outputs": [
    {
     "name": "stderr",
     "output_type": "stream",
     "text": [
      "100%|██████████| 1157/1157 [01:15<00:00, 15.43it/s]\n",
      "  8%|▊         | 25/327 [13:32<2:43:34, 32.50s/it]"
     ]
    },
    {
     "name": "stdout",
     "output_type": "stream",
     "text": [
      "Unexpected exception formatting exception. Falling back to standard exception\n"
     ]
    },
    {
     "name": "stderr",
     "output_type": "stream",
     "text": [
      "\n",
      "Traceback (most recent call last):\n",
      "  File \"/opt/conda/lib/python3.10/site-packages/IPython/core/interactiveshell.py\", line 3526, in run_code\n",
      "    exec(code_obj, self.user_global_ns, self.user_ns)\n",
      "  File \"/tmp/ipykernel_3320/540718842.py\", line 1, in <module>\n",
      "    temporal_betweenness_brandes(t_sp, delta=3600)\n",
      "  File \"/tmp/ipykernel_3320/1211725645.py\", line 36, in temporal_betweenness_brandes\n",
      "    return betweenness_brandes(event_graph, src_indices)\n",
      "  File \"/tmp/ipykernel_3320/2494254184.py\", line -1, in betweenness_brandes\n",
      "KeyboardInterrupt\n",
      "\n",
      "During handling of the above exception, another exception occurred:\n",
      "\n",
      "Traceback (most recent call last):\n",
      "  File \"/opt/conda/lib/python3.10/site-packages/IPython/core/interactiveshell.py\", line 2120, in showtraceback\n",
      "    stb = self.InteractiveTB.structured_traceback(\n",
      "  File \"/opt/conda/lib/python3.10/site-packages/IPython/core/ultratb.py\", line 1435, in structured_traceback\n",
      "    return FormattedTB.structured_traceback(\n",
      "  File \"/opt/conda/lib/python3.10/site-packages/IPython/core/ultratb.py\", line 1326, in structured_traceback\n",
      "    return VerboseTB.structured_traceback(\n",
      "  File \"/opt/conda/lib/python3.10/site-packages/IPython/core/ultratb.py\", line 1173, in structured_traceback\n",
      "    formatted_exception = self.format_exception_as_a_whole(etype, evalue, etb, number_of_lines_of_context,\n",
      "  File \"/opt/conda/lib/python3.10/site-packages/IPython/core/ultratb.py\", line 1088, in format_exception_as_a_whole\n",
      "    frames.append(self.format_record(record))\n",
      "  File \"/opt/conda/lib/python3.10/site-packages/IPython/core/ultratb.py\", line 970, in format_record\n",
      "    frame_info.lines, Colors, self.has_colors, lvals\n",
      "  File \"/opt/conda/lib/python3.10/site-packages/IPython/core/ultratb.py\", line 792, in lines\n",
      "    return self._sd.lines\n",
      "  File \"/opt/conda/lib/python3.10/site-packages/stack_data/utils.py\", line 145, in cached_property_wrapper\n",
      "    value = obj.__dict__[self.func.__name__] = self.func(obj)\n",
      "  File \"/opt/conda/lib/python3.10/site-packages/stack_data/core.py\", line 698, in lines\n",
      "    pieces = self.included_pieces\n",
      "  File \"/opt/conda/lib/python3.10/site-packages/stack_data/utils.py\", line 145, in cached_property_wrapper\n",
      "    value = obj.__dict__[self.func.__name__] = self.func(obj)\n",
      "  File \"/opt/conda/lib/python3.10/site-packages/stack_data/core.py\", line 649, in included_pieces\n",
      "    pos = scope_pieces.index(self.executing_piece)\n",
      "  File \"/opt/conda/lib/python3.10/site-packages/stack_data/utils.py\", line 145, in cached_property_wrapper\n",
      "    value = obj.__dict__[self.func.__name__] = self.func(obj)\n",
      "  File \"/opt/conda/lib/python3.10/site-packages/stack_data/core.py\", line 628, in executing_piece\n",
      "    return only(\n",
      "  File \"/opt/conda/lib/python3.10/site-packages/executing/executing.py\", line 164, in only\n",
      "    raise NotOneValueFound('Expected one value, found 0')\n",
      "executing.executing.NotOneValueFound: Expected one value, found 0\n"
     ]
    }
   ],
   "source": [
    "temporal_betweenness_brandes(t_sp, delta=3600)"
   ]
  },
  {
   "cell_type": "code",
   "execution_count": null,
   "metadata": {},
   "outputs": [],
   "source": []
  }
 ],
 "metadata": {
  "kernelspec": {
   "display_name": "base",
   "language": "python",
   "name": "python3"
  },
  "language_info": {
   "codemirror_mode": {
    "name": "ipython",
    "version": 3
   },
   "file_extension": ".py",
   "mimetype": "text/x-python",
   "name": "python",
   "nbconvert_exporter": "python",
   "pygments_lexer": "ipython3",
   "version": "3.10.13"
  }
 },
 "nbformat": 4,
 "nbformat_minor": 2
}
