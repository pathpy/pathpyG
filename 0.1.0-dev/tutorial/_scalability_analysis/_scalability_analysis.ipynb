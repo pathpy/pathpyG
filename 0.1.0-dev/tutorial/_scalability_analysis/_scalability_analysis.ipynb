{
 "cells": [
  {
   "cell_type": "code",
   "execution_count": 4,
   "metadata": {},
   "outputs": [],
   "source": [
    "import pathpyG as pp\n",
    "import torch\n",
    "import copy\n",
    "import time\n",
    "import numpy as np\n",
    "from collections import defaultdict\n",
    "\n",
    "import pprint \n",
    "printer = pprint.PrettyPrinter(indent=4)\n",
    "pp.config['device'] = 'cpu'\n",
    "import seaborn as sns"
   ]
  },
  {
   "cell_type": "code",
   "execution_count": null,
   "metadata": {},
   "outputs": [
    {
     "name": "stdout",
     "output_type": "stream",
     "text": [
      "Mapping node attributes based on node indices in column `index`\n"
     ]
    },
    {
     "data": {
      "text/plain": [
       "Data(edge_index=[2, 2172808], time=[2172808], node__pos=[96], analyses_average_degree=22633.416666666668, analyses_degree_assortativity=0.47204699336753403, analyses_degree_std_dev=21814.46446725327, analyses_diameter=3, analyses_edge_properties=[2], analyses_edge_reciprocity=1.0, analyses_global_clustering=0.8413817881426829, analyses_hashimoto_radius=58.674375265299176, analyses_is_bipartite=False, analyses_is_directed=False, analyses_knn_proj_1=3.5514214936943516, analyses_knn_proj_2=2.0132492259108, analyses_largest_component_fraction=1.0, analyses_mixing_time=19.3400781427721, analyses_num_edges=1086404, analyses_num_vertices=96, analyses_transition_gap=0.9496079163109559, analyses_vertex_properties=[1])"
      ]
     },
     "execution_count": 2,
     "metadata": {},
     "output_type": "execute_result"
    }
   ],
   "source": [
    "g = pp.io.read_netzschleuder_graph('reality_mining', time_attr='time')"
   ]
  },
  {
   "cell_type": "code",
   "execution_count": 5,
   "metadata": {},
   "outputs": [
    {
     "name": "stdout",
     "output_type": "stream",
     "text": [
      "cpu\n"
     ]
    },
    {
     "name": "stderr",
     "output_type": "stream",
     "text": [
      " 11%|█         | 3539/33452 [01:17<10:59, 45.38it/s]\n"
     ]
    },
    {
     "ename": "KeyboardInterrupt",
     "evalue": "",
     "output_type": "error",
     "traceback": [
      "\u001b[0;31m---------------------------------------------------------------------------\u001b[0m",
      "\u001b[0;31mKeyboardInterrupt\u001b[0m                         Traceback (most recent call last)",
      "Cell \u001b[0;32mIn[5], line 3\u001b[0m\n\u001b[1;32m      1\u001b[0m g\u001b[38;5;241m.\u001b[39mdata\u001b[38;5;241m.\u001b[39mto(pp\u001b[38;5;241m.\u001b[39mconfig[\u001b[38;5;124m'\u001b[39m\u001b[38;5;124mdevice\u001b[39m\u001b[38;5;124m'\u001b[39m])\n\u001b[1;32m      2\u001b[0m \u001b[38;5;28mprint\u001b[39m(g\u001b[38;5;241m.\u001b[39mdata\u001b[38;5;241m.\u001b[39medge_index\u001b[38;5;241m.\u001b[39mdevice)\n\u001b[0;32m----> 3\u001b[0m event_graph \u001b[38;5;241m=\u001b[39m \u001b[43mpp\u001b[49m\u001b[38;5;241;43m.\u001b[39;49m\u001b[43malgorithms\u001b[49m\u001b[38;5;241;43m.\u001b[39;49m\u001b[43mlift_order_temporal\u001b[49m\u001b[43m(\u001b[49m\u001b[43mg\u001b[49m\u001b[43m,\u001b[49m\u001b[43m \u001b[49m\u001b[43mdelta\u001b[49m\u001b[38;5;241;43m=\u001b[39;49m\u001b[38;5;241;43m3600\u001b[39;49m\u001b[43m)\u001b[49m\n\u001b[1;32m      4\u001b[0m \u001b[38;5;28mprint\u001b[39m(event_graph\u001b[38;5;241m.\u001b[39msize(\u001b[38;5;241m1\u001b[39m))\n",
      "File \u001b[0;32m/workspaces/pathpyG/src/pathpyG/algorithms/temporal.py:36\u001b[0m, in \u001b[0;36mlift_order_temporal\u001b[0;34m(g, delta)\u001b[0m\n\u001b[1;32m     34\u001b[0m \u001b[38;5;66;03m# find indices of all edges that can possibly continue edges occurring at time t for the given delta\u001b[39;00m\n\u001b[1;32m     35\u001b[0m dst_time_mask \u001b[38;5;241m=\u001b[39m (timestamps \u001b[38;5;241m>\u001b[39m t) \u001b[38;5;241m&\u001b[39m (timestamps \u001b[38;5;241m<\u001b[39m\u001b[38;5;241m=\u001b[39m t \u001b[38;5;241m+\u001b[39m delta)\n\u001b[0;32m---> 36\u001b[0m dst_node_mask \u001b[38;5;241m=\u001b[39m torch\u001b[38;5;241m.\u001b[39misin(\u001b[43medge_index\u001b[49m\u001b[43m[\u001b[49m\u001b[38;5;241;43m0\u001b[39;49m\u001b[43m]\u001b[49m, edge_index[\u001b[38;5;241m1\u001b[39m, src_edge_idx])\n\u001b[1;32m     37\u001b[0m dst_edge_idx \u001b[38;5;241m=\u001b[39m indices[dst_time_mask \u001b[38;5;241m&\u001b[39m dst_node_mask]\n\u001b[1;32m     39\u001b[0m \u001b[38;5;28;01mif\u001b[39;00m dst_edge_idx\u001b[38;5;241m.\u001b[39msize(\u001b[38;5;241m0\u001b[39m) \u001b[38;5;241m>\u001b[39m \u001b[38;5;241m0\u001b[39m \u001b[38;5;129;01mand\u001b[39;00m src_edge_idx\u001b[38;5;241m.\u001b[39msize(\u001b[38;5;241m0\u001b[39m) \u001b[38;5;241m>\u001b[39m \u001b[38;5;241m0\u001b[39m:\n\u001b[1;32m     40\u001b[0m \n\u001b[1;32m     41\u001b[0m     \u001b[38;5;66;03m# compute second-order edges between src and dst idx for all edges where dst in src_edges matches src in dst_edges\u001b[39;00m\n",
      "File \u001b[0;32m/opt/conda/lib/python3.10/site-packages/torch_geometric/edge_index.py:1037\u001b[0m, in \u001b[0;36mEdgeIndex.__torch_function__\u001b[0;34m(cls, func, types, args, kwargs)\u001b[0m\n\u001b[1;32m   1034\u001b[0m         edge_index\u001b[38;5;241m.\u001b[39m_indptr \u001b[38;5;241m=\u001b[39m colptr\n\u001b[1;32m   1035\u001b[0m         \u001b[38;5;28;01mreturn\u001b[39;00m edge_index\n\u001b[0;32m-> 1037\u001b[0m \u001b[38;5;129m@classmethod\u001b[39m\n\u001b[1;32m   1038\u001b[0m \u001b[38;5;28;01mdef\u001b[39;00m \u001b[38;5;21m__torch_function__\u001b[39m(\n\u001b[1;32m   1039\u001b[0m     \u001b[38;5;28mcls\u001b[39m: Type,\n\u001b[1;32m   1040\u001b[0m     func: Callable,\n\u001b[1;32m   1041\u001b[0m     types: Tuple[Type, \u001b[38;5;241m.\u001b[39m\u001b[38;5;241m.\u001b[39m\u001b[38;5;241m.\u001b[39m],\n\u001b[1;32m   1042\u001b[0m     args: Tuple[Any, \u001b[38;5;241m.\u001b[39m\u001b[38;5;241m.\u001b[39m\u001b[38;5;241m.\u001b[39m] \u001b[38;5;241m=\u001b[39m (),\n\u001b[1;32m   1043\u001b[0m     kwargs: Optional[Dict[\u001b[38;5;28mstr\u001b[39m, Any]] \u001b[38;5;241m=\u001b[39m \u001b[38;5;28;01mNone\u001b[39;00m,\n\u001b[1;32m   1044\u001b[0m ) \u001b[38;5;241m-\u001b[39m\u001b[38;5;241m>\u001b[39m Any:\n\u001b[1;32m   1045\u001b[0m     \u001b[38;5;66;03m# `EdgeIndex` should be treated as a regular PyTorch tensor for all\u001b[39;00m\n\u001b[1;32m   1046\u001b[0m     \u001b[38;5;66;03m# standard PyTorch functionalities. However,\u001b[39;00m\n\u001b[1;32m   1047\u001b[0m     \u001b[38;5;66;03m# * some of its metadata can be transferred to new functions, e.g.,\u001b[39;00m\n\u001b[1;32m   1048\u001b[0m     \u001b[38;5;66;03m#   `torch.cat(dim=1)` can inherit the sparse matrix size, or\u001b[39;00m\n\u001b[1;32m   1049\u001b[0m     \u001b[38;5;66;03m#   `torch.narrow(dim=1)` can inherit cached pointers.\u001b[39;00m\n\u001b[1;32m   1050\u001b[0m     \u001b[38;5;66;03m# * not all operations lead to valid `EdgeIndex` tensors again, e.g.,\u001b[39;00m\n\u001b[1;32m   1051\u001b[0m     \u001b[38;5;66;03m#   `torch.sum()` does not yield a `EdgeIndex` as its output, or\u001b[39;00m\n\u001b[1;32m   1052\u001b[0m     \u001b[38;5;66;03m#   `torch.cat(dim=0) violates the [2, *] shape assumption.\u001b[39;00m\n\u001b[1;32m   1053\u001b[0m \n\u001b[1;32m   1054\u001b[0m     \u001b[38;5;66;03m# To account for this, we hold a number of `HANDLED_FUNCTIONS` that\u001b[39;00m\n\u001b[1;32m   1055\u001b[0m     \u001b[38;5;66;03m# implement specific functions for valid `EdgeIndex` routines.\u001b[39;00m\n\u001b[1;32m   1056\u001b[0m     \u001b[38;5;28;01mif\u001b[39;00m func \u001b[38;5;129;01min\u001b[39;00m HANDLED_FUNCTIONS:\n\u001b[1;32m   1057\u001b[0m         \u001b[38;5;28;01mreturn\u001b[39;00m HANDLED_FUNCTIONS[func](\u001b[38;5;241m*\u001b[39margs, \u001b[38;5;241m*\u001b[39m\u001b[38;5;241m*\u001b[39m(kwargs \u001b[38;5;129;01mor\u001b[39;00m {}))\n",
      "\u001b[0;31mKeyboardInterrupt\u001b[0m: "
     ]
    }
   ],
   "source": [
    "g.data.to(pp.config['device'])\n",
    "print(g.data.edge_index.device)\n",
    "event_graph = pp.algorithms.lift_order_temporal(g, delta=3600)\n",
    "print(event_graph.size(1))"
   ]
  },
  {
   "cell_type": "code",
   "execution_count": null,
   "metadata": {},
   "outputs": [],
   "source": []
  },
  {
   "cell_type": "code",
   "execution_count": 7,
   "metadata": {},
   "outputs": [
    {
     "name": "stdout",
     "output_type": "stream",
     "text": [
      "[tensor([[0, 1],\n",
      "        [1, 2]], device='cuda:0'), tensor([[0, 1],\n",
      "        [1, 2]], device='cuda:0')]\n"
     ]
    }
   ],
   "source": [
    "x = torch.tensor([[0,1],[1,2]]).to('cuda')\n",
    "y = torch.tensor([[0,1],[1,2]]).to('cuda')\n",
    "l = [x,y]\n",
    "\n",
    "print(l)"
   ]
  },
  {
   "cell_type": "code",
   "execution_count": 59,
   "metadata": {},
   "outputs": [],
   "source": [
    "def test_mo_scalability(exp):\n",
    "    res = copy.deepcopy(exp)\n",
    "    pp.config['device'] = exp['device']\n",
    "    start_time = time.time()\n",
    "    g = pp.io.read_netzschleuder_graph(exp['record'], exp['network'], time_attr=exp['time_attr'])\n",
    "    g.data.to(exp['device'])\n",
    "    res['read_time_ns'] = time.time() - start_time\n",
    "    res['temp_net_nodes'] = g.N\n",
    "    res['temp_net_edges'] = g.M\n",
    "    res['temp_net_events'] = g.data.edge_index.size(1)\n",
    "\n",
    "    start_time = time.time()\n",
    "    eg = pp.algorithms.lift_order_temporal(g, delta=exp['delta'])\n",
    "    eg.to(exp['device'])\n",
    "    res['lift_event_graph_time'] = time.time() - start_time\n",
    "    res['event_graph_edges'] = eg.size(1)\n",
    "\n",
    "    start_time = time.time()\n",
    "    m = pp.MultiOrderModel.from_temporal_graph(g, delta=exp['delta'], max_order=exp['max_order'])\n",
    "    res['mo_time'] = time.time() - start_time\n",
    "    res['max_order_nodes'] = m.layers[exp['max_order']].N\n",
    "    res['max_order_edges'] = m.layers[exp['max_order']].M\n",
    "    return res\n"
   ]
  },
  {
   "cell_type": "code",
   "execution_count": 60,
   "metadata": {},
   "outputs": [
    {
     "name": "stdout",
     "output_type": "stream",
     "text": [
      "Mapping node attributes based on node indices in column `index`\n"
     ]
    },
    {
     "name": "stderr",
     "output_type": "stream",
     "text": [
      "100%|██████████| 24039/24039 [00:05<00:00, 4419.76it/s]\n",
      "100%|██████████| 24039/24039 [00:05<00:00, 4341.64it/s]\n"
     ]
    },
    {
     "name": "stdout",
     "output_type": "stream",
     "text": [
      "{   'delta': 1.0,\n",
      "    'device': 'cpu',\n",
      "    'event_graph_edges': 89,\n",
      "    'lift_event_graph_time': 5.45093846321106,\n",
      "    'max_order': 2,\n",
      "    'max_order_edges': 34,\n",
      "    'max_order_nodes': 1303,\n",
      "    'mo_time': 5.6448304653167725,\n",
      "    'network': 'sms',\n",
      "    'read_time_ns': 0.5371692180633545,\n",
      "    'record': 'copenhagen',\n",
      "    'temp_net_edges': 24333,\n",
      "    'temp_net_events': 24333,\n",
      "    'temp_net_nodes': 568,\n",
      "    'time_attr': 'timestamp'}\n",
      "Mapping node attributes based on node indices in column `index`\n"
     ]
    },
    {
     "name": "stderr",
     "output_type": "stream",
     "text": [
      "100%|██████████| 24039/24039 [00:06<00:00, 3628.34it/s]\n",
      "100%|██████████| 24039/24039 [00:06<00:00, 3587.17it/s]\n"
     ]
    },
    {
     "name": "stdout",
     "output_type": "stream",
     "text": [
      "{   'delta': 1.0,\n",
      "    'device': 'cpu',\n",
      "    'event_graph_edges': 89,\n",
      "    'lift_event_graph_time': 6.637180328369141,\n",
      "    'max_order': 3,\n",
      "    'max_order_edges': 4,\n",
      "    'max_order_nodes': 34,\n",
      "    'mo_time': 6.799363136291504,\n",
      "    'network': 'sms',\n",
      "    'read_time_ns': 0.5883340835571289,\n",
      "    'record': 'copenhagen',\n",
      "    'temp_net_edges': 24333,\n",
      "    'temp_net_events': 24333,\n",
      "    'temp_net_nodes': 568,\n",
      "    'time_attr': 'timestamp'}\n",
      "Mapping node attributes based on node indices in column `index`\n"
     ]
    },
    {
     "name": "stderr",
     "output_type": "stream",
     "text": [
      "100%|██████████| 24039/24039 [00:10<00:00, 2393.87it/s]\n",
      "100%|██████████| 24039/24039 [00:09<00:00, 2415.46it/s]\n"
     ]
    },
    {
     "name": "stdout",
     "output_type": "stream",
     "text": [
      "{   'delta': 900.75,\n",
      "    'device': 'cpu',\n",
      "    'event_graph_edges': 54271,\n",
      "    'lift_event_graph_time': 10.089986324310303,\n",
      "    'max_order': 2,\n",
      "    'max_order_edges': 1232,\n",
      "    'max_order_nodes': 1303,\n",
      "    'mo_time': 10.088692426681519,\n",
      "    'network': 'sms',\n",
      "    'read_time_ns': 0.47829651832580566,\n",
      "    'record': 'copenhagen',\n",
      "    'temp_net_edges': 24333,\n",
      "    'temp_net_events': 24333,\n",
      "    'temp_net_nodes': 568,\n",
      "    'time_attr': 'timestamp'}\n",
      "Mapping node attributes based on node indices in column `index`\n"
     ]
    },
    {
     "name": "stderr",
     "output_type": "stream",
     "text": [
      "100%|██████████| 24039/24039 [00:10<00:00, 2318.32it/s]\n",
      "100%|██████████| 24039/24039 [00:09<00:00, 2436.80it/s]\n"
     ]
    },
    {
     "name": "stdout",
     "output_type": "stream",
     "text": [
      "{   'delta': 900.75,\n",
      "    'device': 'cpu',\n",
      "    'event_graph_edges': 54271,\n",
      "    'lift_event_graph_time': 10.420698165893555,\n",
      "    'max_order': 3,\n",
      "    'max_order_edges': 1117,\n",
      "    'max_order_nodes': 1232,\n",
      "    'mo_time': 10.119099617004395,\n",
      "    'network': 'sms',\n",
      "    'read_time_ns': 0.4850621223449707,\n",
      "    'record': 'copenhagen',\n",
      "    'temp_net_edges': 24333,\n",
      "    'temp_net_events': 24333,\n",
      "    'temp_net_nodes': 568,\n",
      "    'time_attr': 'timestamp'}\n",
      "Mapping node attributes based on node indices in column `index`\n"
     ]
    },
    {
     "name": "stderr",
     "output_type": "stream",
     "text": [
      "100%|██████████| 24039/24039 [00:09<00:00, 2522.59it/s]\n",
      "100%|██████████| 24039/24039 [00:09<00:00, 2557.16it/s]\n"
     ]
    },
    {
     "name": "stdout",
     "output_type": "stream",
     "text": [
      "{   'delta': 1800.5,\n",
      "    'device': 'cpu',\n",
      "    'event_graph_edges': 77048,\n",
      "    'lift_event_graph_time': 9.585360288619995,\n",
      "    'max_order': 2,\n",
      "    'max_order_edges': 1344,\n",
      "    'max_order_nodes': 1303,\n",
      "    'mo_time': 9.54270601272583,\n",
      "    'network': 'sms',\n",
      "    'read_time_ns': 0.5124361515045166,\n",
      "    'record': 'copenhagen',\n",
      "    'temp_net_edges': 24333,\n",
      "    'temp_net_events': 24333,\n",
      "    'temp_net_nodes': 568,\n",
      "    'time_attr': 'timestamp'}\n",
      "Mapping node attributes based on node indices in column `index`\n"
     ]
    },
    {
     "name": "stderr",
     "output_type": "stream",
     "text": [
      "100%|██████████| 24039/24039 [00:09<00:00, 2634.00it/s]\n",
      "100%|██████████| 24039/24039 [00:09<00:00, 2552.80it/s]\n"
     ]
    },
    {
     "name": "stdout",
     "output_type": "stream",
     "text": [
      "{   'delta': 1800.5,\n",
      "    'device': 'cpu',\n",
      "    'event_graph_edges': 77048,\n",
      "    'lift_event_graph_time': 9.175652503967285,\n",
      "    'max_order': 3,\n",
      "    'max_order_edges': 1305,\n",
      "    'max_order_nodes': 1344,\n",
      "    'mo_time': 9.715734481811523,\n",
      "    'network': 'sms',\n",
      "    'read_time_ns': 0.4568464756011963,\n",
      "    'record': 'copenhagen',\n",
      "    'temp_net_edges': 24333,\n",
      "    'temp_net_events': 24333,\n",
      "    'temp_net_nodes': 568,\n",
      "    'time_attr': 'timestamp'}\n",
      "Mapping node attributes based on node indices in column `index`\n"
     ]
    },
    {
     "name": "stderr",
     "output_type": "stream",
     "text": [
      "100%|██████████| 24039/24039 [00:09<00:00, 2564.72it/s]\n",
      "100%|██████████| 24039/24039 [00:09<00:00, 2569.76it/s]\n"
     ]
    },
    {
     "name": "stdout",
     "output_type": "stream",
     "text": [
      "{   'delta': 2700.25,\n",
      "    'device': 'cpu',\n",
      "    'event_graph_edges': 92451,\n",
      "    'lift_event_graph_time': 9.429511070251465,\n",
      "    'max_order': 2,\n",
      "    'max_order_edges': 1408,\n",
      "    'max_order_nodes': 1303,\n",
      "    'mo_time': 9.486212730407715,\n",
      "    'network': 'sms',\n",
      "    'read_time_ns': 0.4557836055755615,\n",
      "    'record': 'copenhagen',\n",
      "    'temp_net_edges': 24333,\n",
      "    'temp_net_events': 24333,\n",
      "    'temp_net_nodes': 568,\n",
      "    'time_attr': 'timestamp'}\n",
      "Mapping node attributes based on node indices in column `index`\n"
     ]
    },
    {
     "name": "stderr",
     "output_type": "stream",
     "text": [
      "100%|██████████| 24039/24039 [00:09<00:00, 2467.55it/s]\n",
      "100%|██████████| 24039/24039 [00:09<00:00, 2573.09it/s]\n"
     ]
    },
    {
     "name": "stdout",
     "output_type": "stream",
     "text": [
      "{   'delta': 2700.25,\n",
      "    'device': 'cpu',\n",
      "    'event_graph_edges': 92451,\n",
      "    'lift_event_graph_time': 9.789302349090576,\n",
      "    'max_order': 3,\n",
      "    'max_order_edges': 1416,\n",
      "    'max_order_nodes': 1408,\n",
      "    'mo_time': 9.676949739456177,\n",
      "    'network': 'sms',\n",
      "    'read_time_ns': 0.560659646987915,\n",
      "    'record': 'copenhagen',\n",
      "    'temp_net_edges': 24333,\n",
      "    'temp_net_events': 24333,\n",
      "    'temp_net_nodes': 568,\n",
      "    'time_attr': 'timestamp'}\n",
      "Mapping node attributes based on node indices in column `index`\n"
     ]
    },
    {
     "name": "stderr",
     "output_type": "stream",
     "text": [
      "100%|██████████| 24039/24039 [00:09<00:00, 2594.05it/s]\n",
      "100%|██████████| 24039/24039 [00:09<00:00, 2542.90it/s]\n"
     ]
    },
    {
     "name": "stdout",
     "output_type": "stream",
     "text": [
      "{   'delta': 3600.0,\n",
      "    'device': 'cpu',\n",
      "    'event_graph_edges': 105280,\n",
      "    'lift_event_graph_time': 9.317339897155762,\n",
      "    'max_order': 2,\n",
      "    'max_order_edges': 1453,\n",
      "    'max_order_nodes': 1303,\n",
      "    'mo_time': 9.582679748535156,\n",
      "    'network': 'sms',\n",
      "    'read_time_ns': 0.5140020847320557,\n",
      "    'record': 'copenhagen',\n",
      "    'temp_net_edges': 24333,\n",
      "    'temp_net_events': 24333,\n",
      "    'temp_net_nodes': 568,\n",
      "    'time_attr': 'timestamp'}\n",
      "Mapping node attributes based on node indices in column `index`\n"
     ]
    },
    {
     "name": "stderr",
     "output_type": "stream",
     "text": [
      "100%|██████████| 24039/24039 [00:09<00:00, 2619.24it/s]\n",
      "100%|██████████| 24039/24039 [00:09<00:00, 2508.51it/s]\n"
     ]
    },
    {
     "name": "stdout",
     "output_type": "stream",
     "text": [
      "{   'delta': 3600.0,\n",
      "    'device': 'cpu',\n",
      "    'event_graph_edges': 105280,\n",
      "    'lift_event_graph_time': 9.226924180984497,\n",
      "    'max_order': 3,\n",
      "    'max_order_edges': 1506,\n",
      "    'max_order_nodes': 1453,\n",
      "    'mo_time': 9.954979658126831,\n",
      "    'network': 'sms',\n",
      "    'read_time_ns': 0.43961000442504883,\n",
      "    'record': 'copenhagen',\n",
      "    'temp_net_edges': 24333,\n",
      "    'temp_net_events': 24333,\n",
      "    'temp_net_nodes': 568,\n",
      "    'time_attr': 'timestamp'}\n"
     ]
    }
   ],
   "source": [
    "results = defaultdict(lambda: defaultdict())\n",
    "exp = {}\n",
    "exp['device'] = 'cpu'\n",
    "exp['record'] = 'copenhagen'\n",
    "exp['network'] = 'sms'\n",
    "exp['time_attr'] = 'timestamp'\n",
    "\n",
    "for delta in np.linspace(1, 3600, 5):\n",
    "\n",
    "    for k in range(2,4):\n",
    "        exp['delta'] = delta\n",
    "        \n",
    "        exp['max_order'] = k\n",
    "\n",
    "        res = test_mo_scalability(exp)\n",
    "        printer.pprint(res)\n",
    "        results[delta][k] = res"
   ]
  },
  {
   "cell_type": "code",
   "execution_count": 61,
   "metadata": {},
   "outputs": [
    {
     "name": "stdout",
     "output_type": "stream",
     "text": [
      "defaultdict(<function <lambda> at 0x7f92531c1cf0>,\n",
      "            {   1.0: defaultdict(None,\n",
      "                                 {   2: {   'delta': 1.0,\n",
      "                                            'device': 'cpu',\n",
      "                                            'event_graph_edges': 89,\n",
      "                                            'lift_event_graph_time': 5.45093846321106,\n",
      "                                            'max_order': 2,\n",
      "                                            'max_order_edges': 34,\n",
      "                                            'max_order_nodes': 1303,\n",
      "                                            'mo_time': 5.6448304653167725,\n",
      "                                            'network': 'sms',\n",
      "                                            'read_time_ns': 0.5371692180633545,\n",
      "                                            'record': 'copenhagen',\n",
      "                                            'temp_net_edges': 24333,\n",
      "                                            'temp_net_events': 24333,\n",
      "                                            'temp_net_nodes': 568,\n",
      "                                            'time_attr': 'timestamp'},\n",
      "                                     3: {   'delta': 1.0,\n",
      "                                            'device': 'cpu',\n",
      "                                            'event_graph_edges': 89,\n",
      "                                            'lift_event_graph_time': 6.637180328369141,\n",
      "                                            'max_order': 3,\n",
      "                                            'max_order_edges': 4,\n",
      "                                            'max_order_nodes': 34,\n",
      "                                            'mo_time': 6.799363136291504,\n",
      "                                            'network': 'sms',\n",
      "                                            'read_time_ns': 0.5883340835571289,\n",
      "                                            'record': 'copenhagen',\n",
      "                                            'temp_net_edges': 24333,\n",
      "                                            'temp_net_events': 24333,\n",
      "                                            'temp_net_nodes': 568,\n",
      "                                            'time_attr': 'timestamp'}}),\n",
      "                900.75: defaultdict(None,\n",
      "                                    {   2: {   'delta': 900.75,\n",
      "                                               'device': 'cpu',\n",
      "                                               'event_graph_edges': 54271,\n",
      "                                               'lift_event_graph_time': 10.089986324310303,\n",
      "                                               'max_order': 2,\n",
      "                                               'max_order_edges': 1232,\n",
      "                                               'max_order_nodes': 1303,\n",
      "                                               'mo_time': 10.088692426681519,\n",
      "                                               'network': 'sms',\n",
      "                                               'read_time_ns': 0.47829651832580566,\n",
      "                                               'record': 'copenhagen',\n",
      "                                               'temp_net_edges': 24333,\n",
      "                                               'temp_net_events': 24333,\n",
      "                                               'temp_net_nodes': 568,\n",
      "                                               'time_attr': 'timestamp'},\n",
      "                                        3: {   'delta': 900.75,\n",
      "                                               'device': 'cpu',\n",
      "                                               'event_graph_edges': 54271,\n",
      "                                               'lift_event_graph_time': 10.420698165893555,\n",
      "                                               'max_order': 3,\n",
      "                                               'max_order_edges': 1117,\n",
      "                                               'max_order_nodes': 1232,\n",
      "                                               'mo_time': 10.119099617004395,\n",
      "                                               'network': 'sms',\n",
      "                                               'read_time_ns': 0.4850621223449707,\n",
      "                                               'record': 'copenhagen',\n",
      "                                               'temp_net_edges': 24333,\n",
      "                                               'temp_net_events': 24333,\n",
      "                                               'temp_net_nodes': 568,\n",
      "                                               'time_attr': 'timestamp'}}),\n",
      "                1800.5: defaultdict(None,\n",
      "                                    {   2: {   'delta': 1800.5,\n",
      "                                               'device': 'cpu',\n",
      "                                               'event_graph_edges': 77048,\n",
      "                                               'lift_event_graph_time': 9.585360288619995,\n",
      "                                               'max_order': 2,\n",
      "                                               'max_order_edges': 1344,\n",
      "                                               'max_order_nodes': 1303,\n",
      "                                               'mo_time': 9.54270601272583,\n",
      "                                               'network': 'sms',\n",
      "                                               'read_time_ns': 0.5124361515045166,\n",
      "                                               'record': 'copenhagen',\n",
      "                                               'temp_net_edges': 24333,\n",
      "                                               'temp_net_events': 24333,\n",
      "                                               'temp_net_nodes': 568,\n",
      "                                               'time_attr': 'timestamp'},\n",
      "                                        3: {   'delta': 1800.5,\n",
      "                                               'device': 'cpu',\n",
      "                                               'event_graph_edges': 77048,\n",
      "                                               'lift_event_graph_time': 9.175652503967285,\n",
      "                                               'max_order': 3,\n",
      "                                               'max_order_edges': 1305,\n",
      "                                               'max_order_nodes': 1344,\n",
      "                                               'mo_time': 9.715734481811523,\n",
      "                                               'network': 'sms',\n",
      "                                               'read_time_ns': 0.4568464756011963,\n",
      "                                               'record': 'copenhagen',\n",
      "                                               'temp_net_edges': 24333,\n",
      "                                               'temp_net_events': 24333,\n",
      "                                               'temp_net_nodes': 568,\n",
      "                                               'time_attr': 'timestamp'}}),\n",
      "                2700.25: defaultdict(None,\n",
      "                                     {   2: {   'delta': 2700.25,\n",
      "                                                'device': 'cpu',\n",
      "                                                'event_graph_edges': 92451,\n",
      "                                                'lift_event_graph_time': 9.429511070251465,\n",
      "                                                'max_order': 2,\n",
      "                                                'max_order_edges': 1408,\n",
      "                                                'max_order_nodes': 1303,\n",
      "                                                'mo_time': 9.486212730407715,\n",
      "                                                'network': 'sms',\n",
      "                                                'read_time_ns': 0.4557836055755615,\n",
      "                                                'record': 'copenhagen',\n",
      "                                                'temp_net_edges': 24333,\n",
      "                                                'temp_net_events': 24333,\n",
      "                                                'temp_net_nodes': 568,\n",
      "                                                'time_attr': 'timestamp'},\n",
      "                                         3: {   'delta': 2700.25,\n",
      "                                                'device': 'cpu',\n",
      "                                                'event_graph_edges': 92451,\n",
      "                                                'lift_event_graph_time': 9.789302349090576,\n",
      "                                                'max_order': 3,\n",
      "                                                'max_order_edges': 1416,\n",
      "                                                'max_order_nodes': 1408,\n",
      "                                                'mo_time': 9.676949739456177,\n",
      "                                                'network': 'sms',\n",
      "                                                'read_time_ns': 0.560659646987915,\n",
      "                                                'record': 'copenhagen',\n",
      "                                                'temp_net_edges': 24333,\n",
      "                                                'temp_net_events': 24333,\n",
      "                                                'temp_net_nodes': 568,\n",
      "                                                'time_attr': 'timestamp'}}),\n",
      "                3600.0: defaultdict(None,\n",
      "                                    {   2: {   'delta': 3600.0,\n",
      "                                               'device': 'cpu',\n",
      "                                               'event_graph_edges': 105280,\n",
      "                                               'lift_event_graph_time': 9.317339897155762,\n",
      "                                               'max_order': 2,\n",
      "                                               'max_order_edges': 1453,\n",
      "                                               'max_order_nodes': 1303,\n",
      "                                               'mo_time': 9.582679748535156,\n",
      "                                               'network': 'sms',\n",
      "                                               'read_time_ns': 0.5140020847320557,\n",
      "                                               'record': 'copenhagen',\n",
      "                                               'temp_net_edges': 24333,\n",
      "                                               'temp_net_events': 24333,\n",
      "                                               'temp_net_nodes': 568,\n",
      "                                               'time_attr': 'timestamp'},\n",
      "                                        3: {   'delta': 3600.0,\n",
      "                                               'device': 'cpu',\n",
      "                                               'event_graph_edges': 105280,\n",
      "                                               'lift_event_graph_time': 9.226924180984497,\n",
      "                                               'max_order': 3,\n",
      "                                               'max_order_edges': 1506,\n",
      "                                               'max_order_nodes': 1453,\n",
      "                                               'mo_time': 9.954979658126831,\n",
      "                                               'network': 'sms',\n",
      "                                               'read_time_ns': 0.43961000442504883,\n",
      "                                               'record': 'copenhagen',\n",
      "                                               'temp_net_edges': 24333,\n",
      "                                               'temp_net_events': 24333,\n",
      "                                               'temp_net_nodes': 568,\n",
      "                                               'time_attr': 'timestamp'}})})\n"
     ]
    }
   ],
   "source": [
    "printer.pprint(results)"
   ]
  },
  {
   "cell_type": "code",
   "execution_count": 58,
   "metadata": {},
   "outputs": [
    {
     "data": {
      "text/plain": [
       "<Axes: >"
      ]
     },
     "execution_count": 58,
     "metadata": {},
     "output_type": "execute_result"
    },
    {
     "data": {
      "image/png": "[encoded data removed]",
      "text/plain": [
       "<Figure size 640x480 with 1 Axes>"
      ]
     },
     "metadata": {},
     "output_type": "display_data"
    }
   ],
   "source": [
    "order = [] \n",
    "eg_time = []\n",
    "mo_time = []\n",
    "delta = 3600.\n",
    "\n",
    "for k in results[delta]:\n",
    "    order.append(k)\n",
    "    eg_time.append(results[delta][k]['lift_event_graph_time'])\n",
    "    mo_time.append(results[delta][k]['mo_time']-results[delta][k]['lift_event_graph_time'])\n",
    "sns.lineplot(x=order, y=eg_time, label='event graph')\n",
    "sns.lineplot(x=order, y=mo_time, label='order lifting')"
   ]
  }
 ],
 "metadata": {
  "kernelspec": {
   "display_name": "base",
   "language": "python",
   "name": "python3"
  },
  "language_info": {
   "codemirror_mode": {
    "name": "ipython",
    "version": 3
   },
   "file_extension": ".py",
   "mimetype": "text/x-python",
   "name": "python",
   "nbconvert_exporter": "python",
   "pygments_lexer": "ipython3",
   "version": "3.10.13"
  }
 },
 "nbformat": 4,
 "nbformat_minor": 2
}
