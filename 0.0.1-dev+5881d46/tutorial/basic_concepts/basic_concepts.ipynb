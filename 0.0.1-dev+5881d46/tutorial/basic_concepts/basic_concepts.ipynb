{
 "cells": [
  {
   "cell_type": "markdown",
   "metadata": {},
   "source": [
    "# Basic pathpyG Concepts\n",
    "\n",
    "## Motivation and Learning Objectives\n",
    "\n",
    "This first step of our multi-stage introductory tutorial introduces foundational concepts of `pathpyG`. While `pathpyG` is particularly useful for the GPU-accelerated analysis and graph learning in time series data on graphs, it also provides great tools to represent, analyze and visualize data on static networks. The `Graph` class that we will use for this purpose is implemented based on the `Data` object in `pyG`, which comes with the advantage that we can directly apply `pyG` transforms.\n",
    "\n",
    "In this basic tutorial you will learn how to use `pathpyG` to represent simple static graphs. We start with basic features to create directed and undirected graphs with node-, edge-, and graph-level attributes and inspect how graph data is internally stored. We further discuss how we can analyze the centrality of nodes, and how we can read graph data from the `netzschleuder` database. We will finally show how we can implement graph algorithms.\n",
    "\n",
    "To get started with `pathpyG`, we first import the modules `torch` and `pathpyG`. By setting the device used by `torch`, we can further specify whether we want to run our code on the CPU or on the GPU. To run your code on the CPU, set the `torch.device` configuration to `cpu`. If you want to instead run your code on the GPU, please set the device to `cuda`."
   ]
  },
  {
   "cell_type": "code",
   "execution_count": 1,
   "metadata": {},
   "outputs": [],
   "source": [
    "import torch\n",
    "\n",
    "import pathpyG as pp\n",
    "\n",
    "pp.config['torch']['device'] = 'cuda'"
   ]
  },
  {
   "cell_type": "markdown",
   "metadata": {},
   "source": [
    "## Creating Graphs from Tensors and Edge Lists\n",
    " \n",
    "Let's start by generating a simple, directed graph with three nodes `a`, `b`, `c` and three edges `(a,b)`, `(b,c)` and `(a,b)`. We will represent those nodes by integer indices, where index `0` represents node `a`, index `1` represents node `b` and index `2` represents node `c`. In line with the efficient tensor-based representation of sparse graphs in `pyG`, we use an `edge_index` tensor with shape `(2,m)` to represent the `m` edges of the graph."
   ]
  },
  {
   "cell_type": "markdown",
   "metadata": {},
   "source": [
    "The following snippet generates a graph with three nodes, which are referred to by their indices 0, 1, 2, and three edges (0,2), (1,2), (0,1)."
   ]
  },
  {
   "cell_type": "code",
   "execution_count": 2,
   "metadata": {},
   "outputs": [
    {
     "name": "stdout",
     "output_type": "stream",
     "text": [
      "Graph with 3 nodes and 3 edges\n",
      "\n",
      "Graph attributes\n",
      "\tnum_nodes\t\t<class 'int'>\n",
      "\tnode_id\t\t<class 'list'>\n",
      "\n"
     ]
    }
   ],
   "source": [
    "g = pp.Graph(edge_index=torch.tensor([[0,1,0], [2,2,1]]))\n",
    "print(g)"
   ]
  },
  {
   "cell_type": "markdown",
   "metadata": {},
   "source": [
    "Let's use the generator functions `nodes` and `edges` to iterate through the nodes and edges of this graph:"
   ]
  },
  {
   "cell_type": "code",
   "execution_count": 3,
   "metadata": {},
   "outputs": [
    {
     "name": "stdout",
     "output_type": "stream",
     "text": [
      "0\n",
      "1\n",
      "2\n",
      "(0, 2)\n",
      "(1, 2)\n",
      "(0, 1)\n"
     ]
    }
   ],
   "source": [
    "for v in g.nodes:\n",
    "    print(v)\n",
    "\n",
    "for e in g.edges:\n",
    "    print(e)"
   ]
  },
  {
   "cell_type": "markdown",
   "metadata": {},
   "source": [
    "While the representation of sparse graphs as integer tensors is highly efficient, it is often more convenient to use string identifiers to refer to nodes. To simplify the handling of real-world graphs, `pathpyG` provides a transparent mapping of string identifiers to node indices. \n",
    "\n",
    "If we want to associate node indices with string IDs, we can set the `node_id` attribute of the resulting graph object. To map the nodes with indices 0, 1, and 2 to string IDs `a`, `b`, and `c`, we can add the following node id mapping:"
   ]
  },
  {
   "cell_type": "code",
   "execution_count": 4,
   "metadata": {},
   "outputs": [],
   "source": [
    "g.add_node_id(['a', 'b', 'c'])"
   ]
  },
  {
   "cell_type": "markdown",
   "metadata": {},
   "source": [
    "If we now iterate through the nodes and edges of the graph, we get:"
   ]
  },
  {
   "cell_type": "code",
   "execution_count": 5,
   "metadata": {},
   "outputs": [
    {
     "name": "stdout",
     "output_type": "stream",
     "text": [
      "a\n",
      "b\n",
      "c\n",
      "('a', 'c')\n",
      "('b', 'c')\n",
      "('a', 'b')\n"
     ]
    }
   ],
   "source": [
    "for v in g.nodes:\n",
    "    print(v)\n",
    "\n",
    "for e in g.edges:\n",
    "    print(e)"
   ]
  },
  {
   "cell_type": "markdown",
   "metadata": {},
   "source": [
    "We can get the same resulting Graph object if we pass the `node_id` mapping in the constructor of the graph, which will automatically apply the mapping in all future function calls."
   ]
  },
  {
   "cell_type": "code",
   "execution_count": 6,
   "metadata": {},
   "outputs": [
    {
     "name": "stdout",
     "output_type": "stream",
     "text": [
      "Graph with 3 nodes and 3 edges\n",
      "\n",
      "Node attributes\n",
      "\tnode_id\t\t<class 'list'>\n",
      "\n",
      "Graph attributes\n",
      "\tnum_nodes\t\t<class 'int'>\n",
      "\n"
     ]
    }
   ],
   "source": [
    "g = pp.Graph(edge_index=torch.tensor([[0,1,0], [2,2,1]]), node_id=['a', 'b', 'c'])\n",
    "print(g)"
   ]
  },
  {
   "cell_type": "markdown",
   "metadata": {},
   "source": [
    "Alternatively, we can construct the same graph based on an edge list that uses string identifiers for nodes. This will automatically generate the sparse integer tensor representation of the edge index, as well as the associated node ID mapping:"
   ]
  },
  {
   "cell_type": "code",
   "execution_count": 7,
   "metadata": {},
   "outputs": [
    {
     "name": "stdout",
     "output_type": "stream",
     "text": [
      "Graph with 3 nodes and 3 edges\n",
      "\n",
      "Node attributes\n",
      "\tnode_id\t\t<class 'list'>\n",
      "\n",
      "Graph attributes\n",
      "\tnum_nodes\t\t<class 'int'>\n",
      "\n"
     ]
    }
   ],
   "source": [
    "g = pp.Graph.from_edge_list([['a','b'], ['b','c'], ['a','c']])\n",
    "print(g)"
   ]
  },
  {
   "cell_type": "markdown",
   "metadata": {},
   "source": [
    "## Traversing Graphs\n",
    "\n",
    "If we want to implement graph algorithms that require to traverse the graph, we can use the `successors` and `predecessors` functions of the `Graph` object: "
   ]
  },
  {
   "cell_type": "code",
   "execution_count": 53,
   "metadata": {},
   "outputs": [
    {
     "name": "stdout",
     "output_type": "stream",
     "text": [
      "b\n",
      "c\n"
     ]
    }
   ],
   "source": [
    "for v in g.successors('a'):\n",
    "    print(v)"
   ]
  },
  {
   "cell_type": "code",
   "execution_count": 54,
   "metadata": {},
   "outputs": [
    {
     "name": "stdout",
     "output_type": "stream",
     "text": [
      "a\n",
      "b\n"
     ]
    }
   ],
   "source": [
    "for v in g.predecessors('c'):\n",
    "    print(v)"
   ]
  },
  {
   "cell_type": "markdown",
   "metadata": {},
   "source": [
    "We can also easily check, whether an edge exists in the graph:"
   ]
  },
  {
   "cell_type": "code",
   "execution_count": 55,
   "metadata": {},
   "outputs": [
    {
     "data": {
      "text/plain": [
       "True"
      ]
     },
     "execution_count": 55,
     "metadata": {},
     "output_type": "execute_result"
    }
   ],
   "source": [
    "g.is_edge('a', 'b')"
   ]
  },
  {
   "cell_type": "markdown",
   "metadata": {},
   "source": [
    "Alternatively, we can use the following code to check whether node `b` is a successor of `a`"
   ]
  },
  {
   "cell_type": "code",
   "execution_count": 56,
   "metadata": {},
   "outputs": [
    {
     "data": {
      "text/plain": [
       "True"
      ]
     },
     "execution_count": 56,
     "metadata": {},
     "output_type": "execute_result"
    }
   ],
   "source": [
    "'b' in g.successors('a')"
   ]
  },
  {
   "cell_type": "markdown",
   "metadata": {},
   "source": [
    "By default, a graph object in `pathpyG` is directed, i.e. for the graph above, the edge `(b,a)` does not exist, which we can verify as follows:"
   ]
  },
  {
   "cell_type": "code",
   "execution_count": 57,
   "metadata": {},
   "outputs": [
    {
     "data": {
      "text/plain": [
       "False"
      ]
     },
     "execution_count": 57,
     "metadata": {},
     "output_type": "execute_result"
    }
   ],
   "source": [
    "'a' in g.successors('b')"
   ]
  },
  {
   "cell_type": "markdown",
   "metadata": {},
   "source": [
    "To check the (directed) in- and out-degrees of nodes, we can use the properties `in_degrees` and `out_degrees`, which return a dictionary that maps node IDs to their degrees:"
   ]
  },
  {
   "cell_type": "code",
   "execution_count": 58,
   "metadata": {},
   "outputs": [
    {
     "data": {
      "text/plain": [
       "{'a': 0, 'b': 1, 'c': 2}"
      ]
     },
     "execution_count": 58,
     "metadata": {},
     "output_type": "execute_result"
    }
   ],
   "source": [
    "g.in_degrees"
   ]
  },
  {
   "cell_type": "code",
   "execution_count": 59,
   "metadata": {},
   "outputs": [
    {
     "data": {
      "text/plain": [
       "1"
      ]
     },
     "execution_count": 59,
     "metadata": {},
     "output_type": "execute_result"
    }
   ],
   "source": [
    "g.in_degrees['b']"
   ]
  },
  {
   "cell_type": "code",
   "execution_count": 60,
   "metadata": {},
   "outputs": [
    {
     "data": {
      "text/plain": [
       "2"
      ]
     },
     "execution_count": 60,
     "metadata": {},
     "output_type": "execute_result"
    }
   ],
   "source": [
    "g.in_degrees['c']"
   ]
  },
  {
   "cell_type": "markdown",
   "metadata": {},
   "source": [
    "Importantly, irrespective of how we have generated the graph object, the actual node and edge data are always stored as a `pyG` data object, which we can access as follows:"
   ]
  },
  {
   "cell_type": "code",
   "execution_count": 61,
   "metadata": {},
   "outputs": [
    {
     "data": {
      "text/plain": [
       "Data(edge_index=[2, 3], node_id=[3], num_nodes=3)"
      ]
     },
     "execution_count": 61,
     "metadata": {},
     "output_type": "execute_result"
    }
   ],
   "source": [
    "g.data"
   ]
  },
  {
   "cell_type": "markdown",
   "metadata": {},
   "source": [
    "This allows us to use the full power of `torch` and `pyG`, including, e.g., the application of transforms, splits, or any easy migration between CPU and GPU-based computation. In general, `pathpyG` will use the device specified in the `torch.device` configuration (see above) whenver it internally creates a torch tensors. Since above, we have specified the `cuda` device, the data object of the graph generated above will reside in GPU memory:"
   ]
  },
  {
   "cell_type": "code",
   "execution_count": 62,
   "metadata": {},
   "outputs": [
    {
     "data": {
      "text/plain": [
       "False"
      ]
     },
     "execution_count": 62,
     "metadata": {},
     "output_type": "execute_result"
    }
   ],
   "source": [
    "g.data.is_cuda"
   ]
  },
  {
   "cell_type": "markdown",
   "metadata": {},
   "source": [
    "If we instead set the device to `cpu`, the `Data` object will internally be created in main memory instead."
   ]
  },
  {
   "cell_type": "code",
   "execution_count": 63,
   "metadata": {},
   "outputs": [
    {
     "data": {
      "text/plain": [
       "False"
      ]
     },
     "execution_count": 63,
     "metadata": {},
     "output_type": "execute_result"
    }
   ],
   "source": [
    "pp.config['torch']['device'] = 'cpu'\n",
    "\n",
    "g = pp.Graph.from_edge_list([['a','b'], ['b','c'], ['a','c']])\n",
    "g.data.is_cuda"
   ]
  },
  {
   "cell_type": "markdown",
   "metadata": {},
   "source": [
    "## Node-, Edge- or Graph-Level Attributes\n",
    "\n",
    "Real-world graphs commonly have node-, edge-, or graph-level attributes. In `pathpyG`, we can simply add attributes as tensors, either by directly assigning them to the `pyG` data object of an existing graph (or by adding them as keyword arguments in the constructor). Following the `pyG` semantics of attribute names, we must use the prefixes `node_` and `edge_` to refer to node- and edge-level attributes. Attributes with other names will be assumed to refer to graph-level attributes.  "
   ]
  },
  {
   "cell_type": "code",
   "execution_count": 64,
   "metadata": {},
   "outputs": [],
   "source": [
    "g.data['node_class'] = torch.tensor([[0], [0], [1]])\n",
    "g.data['edge_weight'] = torch.tensor([[1], [2], [3]])\n",
    "g.data['graph_feature'] = torch.tensor([3, 2])"
   ]
  },
  {
   "cell_type": "markdown",
   "metadata": {},
   "source": [
    "Once we have added attributes to nodes, edges, or the graph, those attributes, along with their type and shape will be shown when you print a string representation of the graph object:"
   ]
  },
  {
   "cell_type": "code",
   "execution_count": 65,
   "metadata": {},
   "outputs": [
    {
     "name": "stdout",
     "output_type": "stream",
     "text": [
      "Graph with 3 nodes and 3 edges\n",
      "\n",
      "Node attributes\n",
      "\tnode_id\t\t<class 'list'>\n",
      "\tnode_class\t\t<class 'torch.Tensor'> -> torch.Size([3, 1])\n",
      "\n",
      "Edge attributes\n",
      "\tedge_weight\t\t<class 'torch.Tensor'> -> torch.Size([3, 1])\n",
      "\n",
      "Graph attributes\n",
      "\tnum_nodes\t\t<class 'int'>\n",
      "\tgraph_feature\t\t<class 'torch.Tensor'> -> torch.Size([2])\n",
      "\n"
     ]
    }
   ],
   "source": [
    "print(g)"
   ]
  },
  {
   "cell_type": "markdown",
   "metadata": {},
   "source": [
    "To simplify the access to attribute values, the `Graph` class in `pathpyG` provides item getter and setter functions that allow an indexed access based on the node IDs. To access the feature `node_feature` of node `a`, we can write:"
   ]
  },
  {
   "cell_type": "code",
   "execution_count": 66,
   "metadata": {},
   "outputs": [
    {
     "data": {
      "text/plain": [
       "tensor([0])"
      ]
     },
     "execution_count": 66,
     "metadata": {},
     "output_type": "execute_result"
    }
   ],
   "source": [
    "g['node_class', 'a']"
   ]
  },
  {
   "cell_type": "code",
   "execution_count": 67,
   "metadata": {},
   "outputs": [
    {
     "data": {
      "text/plain": [
       "tensor([1])"
      ]
     },
     "execution_count": 67,
     "metadata": {},
     "output_type": "execute_result"
    }
   ],
   "source": [
    "g['edge_weight', 'a', 'b']"
   ]
  },
  {
   "cell_type": "code",
   "execution_count": 68,
   "metadata": {},
   "outputs": [
    {
     "data": {
      "text/plain": [
       "tensor([3, 2])"
      ]
     },
     "execution_count": 68,
     "metadata": {},
     "output_type": "execute_result"
    }
   ],
   "source": [
    "g['graph_feature']"
   ]
  },
  {
   "cell_type": "markdown",
   "metadata": {},
   "source": [
    "We can use the setter function to change attributes:"
   ]
  },
  {
   "cell_type": "code",
   "execution_count": 69,
   "metadata": {},
   "outputs": [],
   "source": [
    "g['node_class'] = torch.tensor([[7], [2], [3]])"
   ]
  },
  {
   "cell_type": "code",
   "execution_count": 70,
   "metadata": {},
   "outputs": [
    {
     "data": {
      "text/plain": [
       "tensor([7])"
      ]
     },
     "execution_count": 70,
     "metadata": {},
     "output_type": "execute_result"
    }
   ],
   "source": [
    "g['node_class', 'a']"
   ]
  },
  {
   "cell_type": "markdown",
   "metadata": {},
   "source": [
    "To create a sparse adjacency matrix representations of the topology of a graph, we can use the following function:"
   ]
  },
  {
   "cell_type": "code",
   "execution_count": 71,
   "metadata": {},
   "outputs": [
    {
     "name": "stdout",
     "output_type": "stream",
     "text": [
      "  (0, 1)\t1.0\n",
      "  (1, 2)\t1.0\n",
      "  (0, 2)\t1.0\n"
     ]
    }
   ],
   "source": [
    "print(g.get_sparse_adj_matrix())"
   ]
  },
  {
   "cell_type": "markdown",
   "metadata": {},
   "source": [
    "This returns a `scipy.sparse.coo_matrix` object, which can be turned into a dense `numpy` matrix as follows: "
   ]
  },
  {
   "cell_type": "code",
   "execution_count": 72,
   "metadata": {},
   "outputs": [
    {
     "name": "stdout",
     "output_type": "stream",
     "text": [
      "[[0. 1. 1.]\n",
      " [0. 0. 1.]\n",
      " [0. 0. 0.]]\n"
     ]
    }
   ],
   "source": [
    "print(g.get_sparse_adj_matrix().todense())"
   ]
  },
  {
   "cell_type": "markdown",
   "metadata": {},
   "source": [
    "By passing the name of the attribute, we can also use edge attributes in the creation of the adjacency matrix. To create a sparse, weighted adjacency matrix that uses the `edge_weight` attribute of our graph object we can simply write:"
   ]
  },
  {
   "cell_type": "code",
   "execution_count": 73,
   "metadata": {},
   "outputs": [
    {
     "name": "stdout",
     "output_type": "stream",
     "text": [
      "[[0 1 3]\n",
      " [0 0 2]\n",
      " [0 0 0]]\n"
     ]
    }
   ],
   "source": [
    "print(g.get_sparse_adj_matrix(edge_attr='edge_weight').todense())"
   ]
  },
  {
   "cell_type": "markdown",
   "metadata": {},
   "source": [
    "To easily apply GNN models to a graph, we can add attributes based on one-hot-encodings of nodes and edges:"
   ]
  },
  {
   "cell_type": "code",
   "execution_count": 74,
   "metadata": {},
   "outputs": [
    {
     "name": "stdout",
     "output_type": "stream",
     "text": [
      "Graph with 3 nodes and 3 edges\n",
      "\n",
      "Node attributes\n",
      "\tnode_id\t\t<class 'list'>\n",
      "\tnode_ohe_feature_2\t\t<class 'torch.Tensor'> -> torch.Size([3, 4])\n",
      "\tnode_ohe_feature_1\t\t<class 'torch.Tensor'> -> torch.Size([3, 3])\n",
      "\tnode_class\t\t<class 'torch.Tensor'> -> torch.Size([3, 1])\n",
      "\n",
      "Edge attributes\n",
      "\tedge_weight\t\t<class 'torch.Tensor'> -> torch.Size([3, 1])\n",
      "\tedge_ohe_feature_1\t\t<class 'torch.Tensor'> -> torch.Size([3, 5])\n",
      "\n",
      "Graph attributes\n",
      "\tnum_nodes\t\t<class 'int'>\n",
      "\tgraph_feature\t\t<class 'torch.Tensor'> -> torch.Size([2])\n",
      "\n",
      "tensor([[1., 0., 0.],\n",
      "        [0., 1., 0.],\n",
      "        [0., 0., 1.]])\n",
      "tensor([[1., 0., 0., 0.],\n",
      "        [0., 1., 0., 0.],\n",
      "        [0., 0., 1., 0.]])\n",
      "tensor([[1., 0., 0., 0., 0.],\n",
      "        [0., 1., 0., 0., 0.],\n",
      "        [0., 0., 1., 0., 0.]])\n"
     ]
    }
   ],
   "source": [
    "g.add_node_ohe(attr_name='node_ohe_feature_1')\n",
    "g.add_node_ohe(attr_name='node_ohe_feature_2', dim=4)\n",
    "g.add_edge_ohe(attr_name='edge_ohe_feature_1', dim=5)\n",
    "print(g)\n",
    "\n",
    "print(g.data['node_ohe_feature_1'])\n",
    "print(g.data['node_ohe_feature_2'])\n",
    "print(g.data['edge_ohe_feature_1'])"
   ]
  },
  {
   "cell_type": "markdown",
   "metadata": {},
   "source": [
    "By default, all graphs in `pathpyG` are directed. To represent undirected graphs, we must add all edges in both directions. We can use the `to_undirected()` function to make a directed graph undirected, i.e. to add all (missing) edges that point in the opposite direction. This will automatically duplicate and assign the corresponding edge attributes to the newly formed (directed) edges, i.e. edges are assumed to have the same attributes in both directions."
   ]
  },
  {
   "cell_type": "code",
   "execution_count": 76,
   "metadata": {},
   "outputs": [
    {
     "name": "stdout",
     "output_type": "stream",
     "text": [
      "Graph with 3 nodes and 6 edges\n",
      "\n",
      "Node attributes\n",
      "\tnode_id\t\t<class 'list'>\n",
      "\tnode_ohe_feature_2\t\t<class 'torch.Tensor'> -> torch.Size([3, 4])\n",
      "\tnode_ohe_feature_1\t\t<class 'torch.Tensor'> -> torch.Size([3, 3])\n",
      "\tnode_class\t\t<class 'torch.Tensor'> -> torch.Size([3, 1])\n",
      "\n",
      "Edge attributes\n",
      "\tedge_weight\t\t<class 'torch.Tensor'> -> torch.Size([6, 1])\n",
      "\tedge_ohe_feature_1\t\t<class 'torch.Tensor'> -> torch.Size([6, 5])\n",
      "\n",
      "Graph attributes\n",
      "\tnum_nodes\t\t<class 'int'>\n",
      "\tgraph_feature\t\t<class 'torch.Tensor'> -> torch.Size([2])\n",
      "\n"
     ]
    }
   ],
   "source": [
    "g.to_undirected()\n",
    "print(g)"
   ]
  },
  {
   "cell_type": "markdown",
   "metadata": {},
   "source": [
    "## Graphs and pyG Data\n",
    "\n",
    "We can easily generate pyG data frames from a Graph. This allows us to easily combine multiple node or edge features which have a tensor value."
   ]
  },
  {
   "cell_type": "code",
   "execution_count": 34,
   "metadata": {},
   "outputs": [
    {
     "name": "stdout",
     "output_type": "stream",
     "text": [
      "Data(edge_index=[2, 3], node_id=[3], num_nodes=3, node_class=[3, 1], edge_weight=[3, 1], graph_feature=[2], node_ohe_feature_1=[3, 3], node_ohe_feature_2=[3, 4], edge_ohe_feature_1=[3, 5])\n"
     ]
    }
   ],
   "source": [
    "data = g.to_pyg_data()\n",
    "print(data)"
   ]
  },
  {
   "cell_type": "markdown",
   "metadata": {},
   "source": [
    "We can also easily create a graph from a pyG `Data` object: "
   ]
  },
  {
   "cell_type": "code",
   "execution_count": 48,
   "metadata": {},
   "outputs": [
    {
     "name": "stdout",
     "output_type": "stream",
     "text": [
      "Graph with 4 nodes and 4 edges\n",
      "\n",
      "Node attributes\n",
      "\tnode_id\t\t<class 'list'>\n",
      "\tx\t\t<class 'torch.Tensor'> -> torch.Size([4])\n",
      "\n",
      "Graph attributes\n",
      "\tnum_nodes\t\t<class 'int'>\n",
      "\n"
     ]
    }
   ],
   "source": [
    "from torch_geometric.data import Data\n",
    "d = Data(x=torch.Tensor([0,0,0,1]), edge_index=torch.Tensor([[0,0,1,3],[1,2,2,2]]), node_id=['a', 'b', 'c', 'd'])\n",
    "d.to(pp.config['torch']['device'])\n",
    "\n",
    "g = pp.Graph.from_pyg_data(d)\n",
    "print(g)"
   ]
  },
  {
   "cell_type": "markdown",
   "metadata": {},
   "source": [
    "As we will see in a separate notebook focussing on the advanced (temporal) graph visualization features of `pathpyG`, it is easy to generate (interactive) HTML plots of graphs, that are embedded into jupyter notebooks. You can simply call the `pp.plot` function on the Graph object:\n",
    "\n",
    "Note that, for the time being, visualizations are generally undirected even if the underlying graph object is directed."
   ]
  },
  {
   "cell_type": "code",
   "execution_count": 17,
   "metadata": {},
   "outputs": [
    {
     "data": {
      "text/html": [
       "<style>\n",
       "svg circle.node {\n",
       "  fill: #3b5998;\n",
       "  stroke: #1b3978;\n",
       "  stroke-width: 5.5px;\n",
       "  r: 15px;\n",
       "  opacity: 1;\n",
       "}\n",
       "\n",
       ".link {\n",
       "  stroke: #4e4d4d;\n",
       "  stroke-opacity: .6;\n",
       "  stroke-width: 4px;\n",
       "}\n",
       "\n",
       ".labelText {\n",
       "  fill: #4e4d4d;\n",
       "}\n",
       "</style>\n",
       "\n",
       "<div id = \"xe6f30e81e92c49e0897a6d840edb9e1d\"> </div>\n",
       "<script charset=\"utf-8\" src=\"https://d3js.org/d3.v5.min.js\"></script>\n",
       "<script charset=\"utf-8\">\n",
       "// Load via requireJS if available (jupyter notebook environment)\n",
       "try {\n",
       "    // Problem: require.config will raise an exception when called for the second time \n",
       "    require.config({\n",
       "        paths: {\n",
       "            d3: \"https://d3js.org/d3.v5.min.js\".replace(\".js\", \"\")\n",
       "        }\n",
       "    });\n",
       "    console.log(\"OKAY: requireJS was detected.\");\n",
       "}\n",
       "catch(err){\n",
       "    // a reference error indicates that requireJS does not exist. \n",
       "    // other errors may occur due to multiple calls to config\n",
       "    if (err instanceof ReferenceError){\n",
       "        console.log(\"WARNING: NO requireJS was detected!\");\n",
       "\n",
       "        // Helper function that waits for d3js to be loaded\n",
       "        require = function require(symbols, callback) {\n",
       "            var ms = 5;\n",
       "            window.setTimeout(function(t) {\n",
       "                if (window[symbols[0]])\n",
       "                    callback(window[symbols[0]]);\n",
       "                else \n",
       "                    window.setTimeout(arguments.callee, ms);\n",
       "            }, ms);\n",
       "        }\n",
       "    }\n",
       "};\n",
       "require(['d3'], function(d3){ //START\n",
       "const data = {\"edges\": [{\"uid\": \"a-b\", \"source\": \"a\", \"target\": \"b\", \"weight\": 1}, {\"uid\": \"b-c\", \"source\": \"b\", \"target\": \"c\", \"weight\": 1}, {\"uid\": \"a-c\", \"source\": \"a\", \"target\": \"c\", \"weight\": 1}], \"nodes\": [{\"uid\": \"a\", \"x\": 0.24281462526557884, \"y\": 0.9886579344909412}, {\"uid\": \"b\", \"x\": 0.5159615332524546, \"y\": 0.06594363158684968}, {\"uid\": \"c\", \"x\": 0.9954527314281985, \"y\": 0.5089911300632146}]}\n",
       "const config = {\"selector\": \"#xe6f30e81e92c49e0897a6d840edb9e1d\"}\n",
       "console.log(\"Static Network Template\");\n",
       "/* Resources\n",
       "   https://bl.ocks.org/mapio/53fed7d84cd1812d6a6639ed7aa83868\n",
       "   https://codepen.io/smlo/pen/JdMOej\n",
       "*/\n",
       "\n",
       "// variables from the config file\n",
       "const selector = config.selector;\n",
       "const width = config.width || 400;\n",
       "const height = config.height || 400;\n",
       "\n",
       "/* Create a svg element to display the network */\n",
       "var svg = d3.select(selector)\n",
       "    .append('svg')\n",
       "    .attr('width', width)\n",
       "    .attr('height', height)\n",
       "\n",
       "// add container to store the elements\n",
       "var container = svg.append(\"g\");\n",
       "\n",
       "/*Add zoom function to the container */\n",
       "svg.call(\n",
       "    d3.zoom()\n",
       "        .scaleExtent([.1, 4])\n",
       "        .on(\"zoom\", function() { container.attr(\"transform\", d3.event.transform); })\n",
       ");\n",
       "\n",
       "\n",
       "/*Load nodes and links from the data */\n",
       "var nodes = data.nodes\n",
       "var links = data.edges\n",
       "\n",
       "/*Link creation template */\n",
       "var link = container.append(\"g\").attr(\"class\", \"links\")\n",
       "    .selectAll(\".link\")\n",
       "    .data(links)\n",
       "    .enter()\n",
       "    .append(\"line\")\n",
       "    .attr(\"class\", \"link\")\n",
       "    .style(\"stroke\", function(d) { return d.color; })\n",
       "    .style(\"stroke-opacity\", function(d) { return d.opacity; })\n",
       "    .style(\"stroke-width\", function(d){  return d.size });\n",
       "\n",
       "/*Node creation template */\n",
       "var node = container.append(\"g\").attr(\"class\", \"nodes\")\n",
       "    .selectAll(\"circle.node\")\n",
       "    .data(nodes)\n",
       "    .enter().append(\"circle\")\n",
       "    .attr(\"class\", \"node\")\n",
       "    .attr(\"x\", function(d) { return d.x; })\n",
       "    .attr(\"y\", function(d) { return d.y; })\n",
       "    .style(\"r\", function(d){  return d.size+\"px\"; })\n",
       "    .style(\"fill\", function(d) { return d.color; })\n",
       "    .style(\"opacity\", function(d) { return d.opacity; });\n",
       "\n",
       "\n",
       "/*Simulation of the forces*/\n",
       "var simulation = d3.forceSimulation(nodes)\n",
       "    .force(\"charge\", d3.forceManyBody().strength(-3000))\n",
       "    .force(\"center\", d3.forceCenter(width / 2, height / 2))\n",
       "    .force(\"x\", d3.forceX(width / 2).strength(1))\n",
       "    .force(\"y\", d3.forceY(height / 2).strength(1))\n",
       "    .force(\"links\", d3.forceLink(links)\n",
       "           .id(function(d) {return d.uid; })\n",
       "           .distance(50).strength(function(d){return d.weight;}))\n",
       "    .on(\"tick\", ticked);\n",
       "\n",
       "/*Update of the node and edge objects*/\n",
       "function ticked() {\n",
       "    node.call(updateNode);\n",
       "    link.call(updateLink);\n",
       "};\n",
       "\n",
       "/*Update link positions */\n",
       "function updateLink(link) {\n",
       "    link\n",
       "        .attr(\"x1\", function(d) { return d.source.x; })\n",
       "        .attr(\"y1\", function(d) { return d.source.y; })\n",
       "        .attr(\"x2\", function(d) { return d.target.x; })\n",
       "        .attr(\"y2\", function(d) { return d.target.y; });\n",
       "};\n",
       "\n",
       "/*Update node positions */\n",
       "function updateNode(node) {\n",
       "    node.attr(\"transform\", function(d) {\n",
       "        return \"translate(\" + d.x + \",\" + d.y + \")\";\n",
       "    });\n",
       "};\n",
       "\n",
       "/*Add drag functionality to the node objects*/\n",
       "node.call(\n",
       "    d3.drag()\n",
       "        .on(\"start\", dragstarted)\n",
       "        .on(\"drag\", dragged)\n",
       "        .on(\"end\", dragended)\n",
       ");\n",
       "\n",
       "function dragstarted(d) {\n",
       "    d3.event.sourceEvent.stopPropagation();\n",
       "    if (!d3.event.active) simulation.alphaTarget(0.3).restart();\n",
       "    d.fx = d.x;\n",
       "    d.fy = d.y;\n",
       "};\n",
       "\n",
       "function dragged(d) {\n",
       "    d.fx = d3.event.x;\n",
       "    d.fy = d3.event.y;\n",
       "};\n",
       "\n",
       "function dragended(d) {\n",
       "    if (!d3.event.active) simulation.alphaTarget(0);\n",
       "    d.fx = null;\n",
       "    d.fy = null;\n",
       "};\n",
       "\n",
       "}); //END\n",
       "\n",
       "</script>"
      ]
     },
     "metadata": {},
     "output_type": "display_data"
    }
   ],
   "source": [
    "pp.plot(g);"
   ]
  },
  {
   "cell_type": "markdown",
   "metadata": {},
   "source": [
    "## Node Centralities\n",
    "\n",
    "To calculate node centralities, we can use a `networkx` delegate mechanism implemented in the module `pathpyG.algorithms.centrality`. Simply speaking, you can call any function implented in the networkx centrality module that starts with the string `centrality_`. The `pathpyG` will be internally converted to a `networkx.DiGraph` object, the corresponding centrality function (with all of its parameters) will be called, and the result will be mapped to the nodes based on their IDs. \n",
    "\n",
    "In order to calculate the closeness centralities of all nodes for the graph above, we can call:"
   ]
  },
  {
   "cell_type": "code",
   "execution_count": 77,
   "metadata": {},
   "outputs": [
    {
     "data": {
      "text/plain": [
       "{'a': 1.0, 'b': 1.0, 'c': 1.0}"
      ]
     },
     "execution_count": 77,
     "metadata": {},
     "output_type": "execute_result"
    }
   ],
   "source": [
    "pp.algorithms.centrality.closeness_centrality(g)"
   ]
  }
 ],
 "metadata": {
  "kernelspec": {
   "display_name": "Python 3 (ipykernel)",
   "language": "python",
   "name": "python3"
  },
  "language_info": {
   "codemirror_mode": {
    "name": "ipython",
    "version": 3
   },
   "file_extension": ".py",
   "mimetype": "text/x-python",
   "name": "python",
   "nbconvert_exporter": "python",
   "pygments_lexer": "ipython3",
   "version": "3.10.13"
  }
 },
 "nbformat": 4,
 "nbformat_minor": 4
}
