{
 "cells": [
  {
   "cell_type": "markdown",
   "metadata": {},
   "source": [
    "# Accessing the Netzschleuder Repository\n",
    "\n",
    "## Motivation and Learning Objectives\n",
    "\n",
    "Access to a large number of graphs with different topological characteristics and from different domains is crucial for the development and evaluation of graph learning methods. Tousands of graph data sets are available scattered throughout the web, possibly using different data formats and with missing information on their actual origin. Addressing this issue the [Netschleuder Online Repository](https://networks.skewed.de/) by Tiago Peixoto provides a single repository of graphs in a single format, including descriptions, citations, and node-/edge- or graph-level meta-data. To facilitate the development of graph learning techniques, pathpyG provides a feature that allows to directly read networks from the netzschleuder repository via an API.\n",
    "\n",
    "In this brief unit, we will learn how we can retrieve network records and graph data from the netzschleuder repository. We will further demonstrate how we can conveniently apply a Graph Neural Network to predict node-level categories contained in the meta-data.\n",
    "\n",
    "We first need to import a few modules."
   ]
  },
  {
   "cell_type": "code",
   "execution_count": 1,
   "metadata": {},
   "outputs": [],
   "source": [
    "import numpy as np\n",
    "from matplotlib import pyplot as plt\n",
    "\n",
    "from sklearn import metrics\n",
    "from sklearn.decomposition import TruncatedSVD\n",
    "\n",
    "import torch\n",
    "from torch.nn import Linear, ReLU, Sigmoid, Parameter\n",
    "\n",
    "import torch_geometric\n",
    "from torch_geometric.nn import Sequential, GCNConv, SimpleConv, MessagePassing\n",
    "\n",
    "import pathpyG as pp\n",
    "\n",
    "pp.config['torch']['device'] = 'cpu'"
   ]
  },
  {
   "cell_type": "markdown",
   "metadata": {},
   "source": [
    "## Reading graphs from the netzschleuder repository\n",
    "\n",
    "In the `pathpy.io` module, there is a function that allows to read graph data from the API. \n",
    "\n",
    "We can read a given networks from the netzschleuder database using its record name. Just browse the [Netschleuder Online Repository](https://networks.skewed.de/) to find the record names. In the following, we use a graph capturing co-purchase relationships between political books.\n",
    "\n"
   ]
  },
  {
   "cell_type": "code",
   "execution_count": 2,
   "metadata": {},
   "outputs": [
    {
     "name": "stdout",
     "output_type": "stream",
     "text": [
      "Undirected graph with 105 nodes and 882 edges\n",
      "\n",
      "Node attributes\n",
      "\tnode_label\t\t<class 'list'>\n",
      "\tnode__pos\t\t<class 'list'>\n",
      "\tnode_value\t\t<class 'list'>\n",
      "\n",
      "Graph attributes\n",
      "\tnum_nodes\t\t<class 'int'>\n",
      "\ttags\t\t<class 'list'>\n",
      "\tcitation\t\t<class 'str'>\n",
      "\tdirected\t\t<class 'float'>\n",
      "\tname\t\t<class 'str'>\n",
      "\turl\t\t<class 'str'>\n",
      "\tdescription\t\t<class 'str'>\n",
      "\n"
     ]
    }
   ],
   "source": [
    "g = pp.io.read_netzschleuder_network('polbooks')\n",
    "print(g)"
   ]
  },
  {
   "cell_type": "markdown",
   "metadata": {},
   "source": [
    "If we print the resulting `Graph` instance, we find that the meta information at the node- and grah-level are automatically retrieved and added to the graph.\n",
    "\n",
    "Let us read the famous karate club network. The record `karate club` actually contains two networks with labels `77` and `78`, which refer to two different versions of the graph data. If multiple graph data sets exist in the same record, we need to specify the name of the graph as second argument."
   ]
  },
  {
   "cell_type": "code",
   "execution_count": 3,
   "metadata": {},
   "outputs": [
    {
     "name": "stdout",
     "output_type": "stream",
     "text": [
      "Undirected graph with 34 nodes and 154 edges\n",
      "\n",
      "Node attributes\n",
      "\tnode_name\t\t<class 'list'>\n",
      "\tnode__pos\t\t<class 'list'>\n",
      "\tnode_groups\t\t<class 'list'>\n",
      "\n",
      "Graph attributes\n",
      "\tnum_nodes\t\t<class 'int'>\n",
      "\ttags\t\t<class 'list'>\n",
      "\tcitation\t\t<class 'str'>\n",
      "\tname\t\t<class 'str'>\n",
      "\turl\t\t<class 'str'>\n",
      "\tdescription\t\t<class 'str'>\n",
      "\n"
     ]
    }
   ],
   "source": [
    "g = pp.io.read_netzschleuder_network('karate', '77')\n",
    "print(g)"
   ]
  },
  {
   "cell_type": "code",
   "execution_count": 4,
   "metadata": {},
   "outputs": [
    {
     "data": {
      "text/html": [
       "<style>\n",
       "svg circle.node {\n",
       "  fill: #3b5998;\n",
       "  stroke: #1b3978;\n",
       "  stroke-width: 2.5px;\n",
       "  r: 15px;\n",
       "  opacity: 1;\n",
       "}\n",
       "\n",
       ".link {\n",
       "  stroke: #969595;\n",
       "  stroke-opacity: .75;\n",
       "  stroke-width: 2.5px;\n",
       "}\n",
       "\n",
       ".arrow {\n",
       "  fill: #969595;\n",
       "}\n",
       "\n",
       "\n",
       ".label-text {\n",
       "    fill: #969595;\n",
       "    font-size: 16px;\n",
       "    font-family: sans-serif;\n",
       "}\n",
       "\n",
       "</style>\n",
       "\n",
       "<div id = \"xfefa84076b7c4289ab7f7c47c82499d2\"> </div>\n",
       "<script charset=\"utf-8\" src=\"https://d3js.org/d3.v5.min.js\"></script>\n",
       "<script charset=\"utf-8\">\n",
       "// Load via requireJS if available (jupyter notebook environment)\n",
       "try {\n",
       "    // Problem: require.config will raise an exception when called for the second time \n",
       "    require.config({\n",
       "        paths: {\n",
       "            d3: \"https://d3js.org/d3.v5.min.js\".replace(\".js\", \"\")\n",
       "        }\n",
       "    });\n",
       "    console.log(\"OKAY: requireJS was detected.\");\n",
       "}\n",
       "catch(err){\n",
       "    // a reference error indicates that requireJS does not exist. \n",
       "    // other errors may occur due to multiple calls to config\n",
       "    if (err instanceof ReferenceError){\n",
       "        console.log(\"WARNING: NO requireJS was detected!\");\n",
       "\n",
       "        // Helper function that waits for d3js to be loaded\n",
       "        require = function require(symbols, callback) {\n",
       "            var ms = 10;\n",
       "            window.setTimeout(function(t) {\n",
       "                if (window[symbols[0]])\n",
       "                    callback(window[symbols[0]]);\n",
       "                else \n",
       "                    window.setTimeout(arguments.callee, ms);\n",
       "            }, ms);\n",
       "        }\n",
       "    }\n",
       "};\n",
       "require(['d3'], function(d3){ //START\n",
       "const data = {\"edges\": [{\"uid\": \"0-2\", \"source\": \"0\", \"target\": \"2\", \"color\": \"gray\", \"weight\": 1}, {\"uid\": \"0-1\", \"source\": \"0\", \"target\": \"1\", \"color\": \"gray\", \"weight\": 1}, {\"uid\": \"0-31\", \"source\": \"0\", \"target\": \"31\", \"color\": \"gray\", \"weight\": 1}, {\"uid\": \"0-21\", \"source\": \"0\", \"target\": \"21\", \"color\": \"gray\", \"weight\": 1}, {\"uid\": \"0-19\", \"source\": \"0\", \"target\": \"19\", \"color\": \"gray\", \"weight\": 1}, {\"uid\": \"0-17\", \"source\": \"0\", \"target\": \"17\", \"color\": \"gray\", \"weight\": 1}, {\"uid\": \"0-13\", \"source\": \"0\", \"target\": \"13\", \"color\": \"gray\", \"weight\": 1}, {\"uid\": \"0-12\", \"source\": \"0\", \"target\": \"12\", \"color\": \"gray\", \"weight\": 1}, {\"uid\": \"0-11\", \"source\": \"0\", \"target\": \"11\", \"color\": \"gray\", \"weight\": 1}, {\"uid\": \"0-8\", \"source\": \"0\", \"target\": \"8\", \"color\": \"gray\", \"weight\": 1}, {\"uid\": \"0-10\", \"source\": \"0\", \"target\": \"10\", \"color\": \"gray\", \"weight\": 1}, {\"uid\": \"0-3\", \"source\": \"0\", \"target\": \"3\", \"color\": \"gray\", \"weight\": 1}, {\"uid\": \"0-4\", \"source\": \"0\", \"target\": \"4\", \"color\": \"gray\", \"weight\": 1}, {\"uid\": \"0-6\", \"source\": \"0\", \"target\": \"6\", \"color\": \"gray\", \"weight\": 1}, {\"uid\": \"0-7\", \"source\": \"0\", \"target\": \"7\", \"color\": \"gray\", \"weight\": 1}, {\"uid\": \"0-5\", \"source\": \"0\", \"target\": \"5\", \"color\": \"gray\", \"weight\": 1}, {\"uid\": \"1-17\", \"source\": \"1\", \"target\": \"17\", \"color\": \"gray\", \"weight\": 1}, {\"uid\": \"1-30\", \"source\": \"1\", \"target\": \"30\", \"color\": \"gray\", \"weight\": 1}, {\"uid\": \"1-21\", \"source\": \"1\", \"target\": \"21\", \"color\": \"gray\", \"weight\": 1}, {\"uid\": \"1-19\", \"source\": \"1\", \"target\": \"19\", \"color\": \"gray\", \"weight\": 1}, {\"uid\": \"1-13\", \"source\": \"1\", \"target\": \"13\", \"color\": \"gray\", \"weight\": 1}, {\"uid\": \"1-7\", \"source\": \"1\", \"target\": \"7\", \"color\": \"gray\", \"weight\": 1}, {\"uid\": \"1-3\", \"source\": \"1\", \"target\": \"3\", \"color\": \"gray\", \"weight\": 1}, {\"uid\": \"1-2\", \"source\": \"1\", \"target\": \"2\", \"color\": \"gray\", \"weight\": 1}, {\"uid\": \"1-0\", \"source\": \"1\", \"target\": \"0\", \"color\": \"gray\", \"weight\": 1}, {\"uid\": \"2-3\", \"source\": \"2\", \"target\": \"3\", \"color\": \"gray\", \"weight\": 1}, {\"uid\": \"2-32\", \"source\": \"2\", \"target\": \"32\", \"color\": \"gray\", \"weight\": 1}, {\"uid\": \"2-28\", \"source\": \"2\", \"target\": \"28\", \"color\": \"gray\", \"weight\": 1}, {\"uid\": \"2-27\", \"source\": \"2\", \"target\": \"27\", \"color\": \"gray\", \"weight\": 1}, {\"uid\": \"2-13\", \"source\": \"2\", \"target\": \"13\", \"color\": \"gray\", \"weight\": 1}, {\"uid\": \"2-9\", \"source\": \"2\", \"target\": \"9\", \"color\": \"gray\", \"weight\": 1}, {\"uid\": \"2-8\", \"source\": \"2\", \"target\": \"8\", \"color\": \"gray\", \"weight\": 1}, {\"uid\": \"2-7\", \"source\": \"2\", \"target\": \"7\", \"color\": \"gray\", \"weight\": 1}, {\"uid\": \"2-1\", \"source\": \"2\", \"target\": \"1\", \"color\": \"gray\", \"weight\": 1}, {\"uid\": \"2-0\", \"source\": \"2\", \"target\": \"0\", \"color\": \"gray\", \"weight\": 1}, {\"uid\": \"3-0\", \"source\": \"3\", \"target\": \"0\", \"color\": \"gray\", \"weight\": 1}, {\"uid\": \"3-1\", \"source\": \"3\", \"target\": \"1\", \"color\": \"gray\", \"weight\": 1}, {\"uid\": \"3-2\", \"source\": \"3\", \"target\": \"2\", \"color\": \"gray\", \"weight\": 1}, {\"uid\": \"3-7\", \"source\": \"3\", \"target\": \"7\", \"color\": \"gray\", \"weight\": 1}, {\"uid\": \"3-12\", \"source\": \"3\", \"target\": \"12\", \"color\": \"gray\", \"weight\": 1}, {\"uid\": \"3-13\", \"source\": \"3\", \"target\": \"13\", \"color\": \"gray\", \"weight\": 1}, {\"uid\": \"4-10\", \"source\": \"4\", \"target\": \"10\", \"color\": \"gray\", \"weight\": 1}, {\"uid\": \"4-0\", \"source\": \"4\", \"target\": \"0\", \"color\": \"gray\", \"weight\": 1}, {\"uid\": \"4-6\", \"source\": \"4\", \"target\": \"6\", \"color\": \"gray\", \"weight\": 1}, {\"uid\": \"5-0\", \"source\": \"5\", \"target\": \"0\", \"color\": \"gray\", \"weight\": 1}, {\"uid\": \"5-6\", \"source\": \"5\", \"target\": \"6\", \"color\": \"gray\", \"weight\": 1}, {\"uid\": \"5-10\", \"source\": \"5\", \"target\": \"10\", \"color\": \"gray\", \"weight\": 1}, {\"uid\": \"5-16\", \"source\": \"5\", \"target\": \"16\", \"color\": \"gray\", \"weight\": 1}, {\"uid\": \"6-0\", \"source\": \"6\", \"target\": \"0\", \"color\": \"gray\", \"weight\": 1}, {\"uid\": \"6-4\", \"source\": \"6\", \"target\": \"4\", \"color\": \"gray\", \"weight\": 1}, {\"uid\": \"6-5\", \"source\": \"6\", \"target\": \"5\", \"color\": \"gray\", \"weight\": 1}, {\"uid\": \"6-16\", \"source\": \"6\", \"target\": \"16\", \"color\": \"gray\", \"weight\": 1}, {\"uid\": \"7-0\", \"source\": \"7\", \"target\": \"0\", \"color\": \"gray\", \"weight\": 1}, {\"uid\": \"7-1\", \"source\": \"7\", \"target\": \"1\", \"color\": \"gray\", \"weight\": 1}, {\"uid\": \"7-2\", \"source\": \"7\", \"target\": \"2\", \"color\": \"gray\", \"weight\": 1}, {\"uid\": \"7-3\", \"source\": \"7\", \"target\": \"3\", \"color\": \"gray\", \"weight\": 1}, {\"uid\": \"8-32\", \"source\": \"8\", \"target\": \"32\", \"color\": \"gray\", \"weight\": 1}, {\"uid\": \"8-33\", \"source\": \"8\", \"target\": \"33\", \"color\": \"gray\", \"weight\": 1}, {\"uid\": \"8-2\", \"source\": \"8\", \"target\": \"2\", \"color\": \"gray\", \"weight\": 1}, {\"uid\": \"8-0\", \"source\": \"8\", \"target\": \"0\", \"color\": \"gray\", \"weight\": 1}, {\"uid\": \"8-30\", \"source\": \"8\", \"target\": \"30\", \"color\": \"gray\", \"weight\": 1}, {\"uid\": \"9-2\", \"source\": \"9\", \"target\": \"2\", \"color\": \"gray\", \"weight\": 1}, {\"uid\": \"9-33\", \"source\": \"9\", \"target\": \"33\", \"color\": \"gray\", \"weight\": 1}, {\"uid\": \"10-0\", \"source\": \"10\", \"target\": \"0\", \"color\": \"gray\", \"weight\": 1}, {\"uid\": \"10-4\", \"source\": \"10\", \"target\": \"4\", \"color\": \"gray\", \"weight\": 1}, {\"uid\": \"10-5\", \"source\": \"10\", \"target\": \"5\", \"color\": \"gray\", \"weight\": 1}, {\"uid\": \"11-0\", \"source\": \"11\", \"target\": \"0\", \"color\": \"gray\", \"weight\": 1}, {\"uid\": \"12-0\", \"source\": \"12\", \"target\": \"0\", \"color\": \"gray\", \"weight\": 1}, {\"uid\": \"12-3\", \"source\": \"12\", \"target\": \"3\", \"color\": \"gray\", \"weight\": 1}, {\"uid\": \"13-0\", \"source\": \"13\", \"target\": \"0\", \"color\": \"gray\", \"weight\": 1}, {\"uid\": \"13-1\", \"source\": \"13\", \"target\": \"1\", \"color\": \"gray\", \"weight\": 1}, {\"uid\": \"13-2\", \"source\": \"13\", \"target\": \"2\", \"color\": \"gray\", \"weight\": 1}, {\"uid\": \"13-3\", \"source\": \"13\", \"target\": \"3\", \"color\": \"gray\", \"weight\": 1}, {\"uid\": \"13-33\", \"source\": \"13\", \"target\": \"33\", \"color\": \"gray\", \"weight\": 1}, {\"uid\": \"14-32\", \"source\": \"14\", \"target\": \"32\", \"color\": \"gray\", \"weight\": 1}, {\"uid\": \"14-33\", \"source\": \"14\", \"target\": \"33\", \"color\": \"gray\", \"weight\": 1}, {\"uid\": \"15-33\", \"source\": \"15\", \"target\": \"33\", \"color\": \"gray\", \"weight\": 1}, {\"uid\": \"15-32\", \"source\": \"15\", \"target\": \"32\", \"color\": \"gray\", \"weight\": 1}, {\"uid\": \"16-5\", \"source\": \"16\", \"target\": \"5\", \"color\": \"gray\", \"weight\": 1}, {\"uid\": \"16-6\", \"source\": \"16\", \"target\": \"6\", \"color\": \"gray\", \"weight\": 1}, {\"uid\": \"17-0\", \"source\": \"17\", \"target\": \"0\", \"color\": \"gray\", \"weight\": 1}, {\"uid\": \"17-1\", \"source\": \"17\", \"target\": \"1\", \"color\": \"gray\", \"weight\": 1}, {\"uid\": \"18-32\", \"source\": \"18\", \"target\": \"32\", \"color\": \"gray\", \"weight\": 1}, {\"uid\": \"18-33\", \"source\": \"18\", \"target\": \"33\", \"color\": \"gray\", \"weight\": 1}, {\"uid\": \"19-1\", \"source\": \"19\", \"target\": \"1\", \"color\": \"gray\", \"weight\": 1}, {\"uid\": \"19-33\", \"source\": \"19\", \"target\": \"33\", \"color\": \"gray\", \"weight\": 1}, {\"uid\": \"19-0\", \"source\": \"19\", \"target\": \"0\", \"color\": \"gray\", \"weight\": 1}, {\"uid\": \"20-32\", \"source\": \"20\", \"target\": \"32\", \"color\": \"gray\", \"weight\": 1}, {\"uid\": \"20-33\", \"source\": \"20\", \"target\": \"33\", \"color\": \"gray\", \"weight\": 1}, {\"uid\": \"21-0\", \"source\": \"21\", \"target\": \"0\", \"color\": \"gray\", \"weight\": 1}, {\"uid\": \"21-1\", \"source\": \"21\", \"target\": \"1\", \"color\": \"gray\", \"weight\": 1}, {\"uid\": \"22-32\", \"source\": \"22\", \"target\": \"32\", \"color\": \"gray\", \"weight\": 1}, {\"uid\": \"23-32\", \"source\": \"23\", \"target\": \"32\", \"color\": \"gray\", \"weight\": 1}, {\"uid\": \"23-33\", \"source\": \"23\", \"target\": \"33\", \"color\": \"gray\", \"weight\": 1}, {\"uid\": \"23-29\", \"source\": \"23\", \"target\": \"29\", \"color\": \"gray\", \"weight\": 1}, {\"uid\": \"23-25\", \"source\": \"23\", \"target\": \"25\", \"color\": \"gray\", \"weight\": 1}, {\"uid\": \"23-27\", \"source\": \"23\", \"target\": \"27\", \"color\": \"gray\", \"weight\": 1}, {\"uid\": \"24-25\", \"source\": \"24\", \"target\": \"25\", \"color\": \"gray\", \"weight\": 1}, {\"uid\": \"24-27\", \"source\": \"24\", \"target\": \"27\", \"color\": \"gray\", \"weight\": 1}, {\"uid\": \"24-31\", \"source\": \"24\", \"target\": \"31\", \"color\": \"gray\", \"weight\": 1}, {\"uid\": \"25-23\", \"source\": \"25\", \"target\": \"23\", \"color\": \"gray\", \"weight\": 1}, {\"uid\": \"25-24\", \"source\": \"25\", \"target\": \"24\", \"color\": \"gray\", \"weight\": 1}, {\"uid\": \"25-31\", \"source\": \"25\", \"target\": \"31\", \"color\": \"gray\", \"weight\": 1}, {\"uid\": \"26-33\", \"source\": \"26\", \"target\": \"33\", \"color\": \"gray\", \"weight\": 1}, {\"uid\": \"26-29\", \"source\": \"26\", \"target\": \"29\", \"color\": \"gray\", \"weight\": 1}, {\"uid\": \"27-2\", \"source\": \"27\", \"target\": \"2\", \"color\": \"gray\", \"weight\": 1}, {\"uid\": \"27-23\", \"source\": \"27\", \"target\": \"23\", \"color\": \"gray\", \"weight\": 1}, {\"uid\": \"27-24\", \"source\": \"27\", \"target\": \"24\", \"color\": \"gray\", \"weight\": 1}, {\"uid\": \"27-33\", \"source\": \"27\", \"target\": \"33\", \"color\": \"gray\", \"weight\": 1}, {\"uid\": \"28-2\", \"source\": \"28\", \"target\": \"2\", \"color\": \"gray\", \"weight\": 1}, {\"uid\": \"28-31\", \"source\": \"28\", \"target\": \"31\", \"color\": \"gray\", \"weight\": 1}, {\"uid\": \"28-33\", \"source\": \"28\", \"target\": \"33\", \"color\": \"gray\", \"weight\": 1}, {\"uid\": \"29-32\", \"source\": \"29\", \"target\": \"32\", \"color\": \"gray\", \"weight\": 1}, {\"uid\": \"29-33\", \"source\": \"29\", \"target\": \"33\", \"color\": \"gray\", \"weight\": 1}, {\"uid\": \"29-23\", \"source\": \"29\", \"target\": \"23\", \"color\": \"gray\", \"weight\": 1}, {\"uid\": \"29-26\", \"source\": \"29\", \"target\": \"26\", \"color\": \"gray\", \"weight\": 1}, {\"uid\": \"30-1\", \"source\": \"30\", \"target\": \"1\", \"color\": \"gray\", \"weight\": 1}, {\"uid\": \"30-8\", \"source\": \"30\", \"target\": \"8\", \"color\": \"gray\", \"weight\": 1}, {\"uid\": \"30-32\", \"source\": \"30\", \"target\": \"32\", \"color\": \"gray\", \"weight\": 1}, {\"uid\": \"30-33\", \"source\": \"30\", \"target\": \"33\", \"color\": \"gray\", \"weight\": 1}, {\"uid\": \"31-28\", \"source\": \"31\", \"target\": \"28\", \"color\": \"gray\", \"weight\": 1}, {\"uid\": \"31-33\", \"source\": \"31\", \"target\": \"33\", \"color\": \"gray\", \"weight\": 1}, {\"uid\": \"31-32\", \"source\": \"31\", \"target\": \"32\", \"color\": \"gray\", \"weight\": 1}, {\"uid\": \"31-25\", \"source\": \"31\", \"target\": \"25\", \"color\": \"gray\", \"weight\": 1}, {\"uid\": \"31-24\", \"source\": \"31\", \"target\": \"24\", \"color\": \"gray\", \"weight\": 1}, {\"uid\": \"31-0\", \"source\": \"31\", \"target\": \"0\", \"color\": \"gray\", \"weight\": 1}, {\"uid\": \"32-29\", \"source\": \"32\", \"target\": \"29\", \"color\": \"gray\", \"weight\": 1}, {\"uid\": \"32-33\", \"source\": \"32\", \"target\": \"33\", \"color\": \"gray\", \"weight\": 1}, {\"uid\": \"32-31\", \"source\": \"32\", \"target\": \"31\", \"color\": \"gray\", \"weight\": 1}, {\"uid\": \"32-30\", \"source\": \"32\", \"target\": \"30\", \"color\": \"gray\", \"weight\": 1}, {\"uid\": \"32-23\", \"source\": \"32\", \"target\": \"23\", \"color\": \"gray\", \"weight\": 1}, {\"uid\": \"32-22\", \"source\": \"32\", \"target\": \"22\", \"color\": \"gray\", \"weight\": 1}, {\"uid\": \"32-18\", \"source\": \"32\", \"target\": \"18\", \"color\": \"gray\", \"weight\": 1}, {\"uid\": \"32-15\", \"source\": \"32\", \"target\": \"15\", \"color\": \"gray\", \"weight\": 1}, {\"uid\": \"32-14\", \"source\": \"32\", \"target\": \"14\", \"color\": \"gray\", \"weight\": 1}, {\"uid\": \"32-8\", \"source\": \"32\", \"target\": \"8\", \"color\": \"gray\", \"weight\": 1}, {\"uid\": \"32-2\", \"source\": \"32\", \"target\": \"2\", \"color\": \"gray\", \"weight\": 1}, {\"uid\": \"32-20\", \"source\": \"32\", \"target\": \"20\", \"color\": \"gray\", \"weight\": 1}, {\"uid\": \"33-32\", \"source\": \"33\", \"target\": \"32\", \"color\": \"gray\", \"weight\": 1}, {\"uid\": \"33-31\", \"source\": \"33\", \"target\": \"31\", \"color\": \"gray\", \"weight\": 1}, {\"uid\": \"33-30\", \"source\": \"33\", \"target\": \"30\", \"color\": \"gray\", \"weight\": 1}, {\"uid\": \"33-29\", \"source\": \"33\", \"target\": \"29\", \"color\": \"gray\", \"weight\": 1}, {\"uid\": \"33-28\", \"source\": \"33\", \"target\": \"28\", \"color\": \"gray\", \"weight\": 1}, {\"uid\": \"33-27\", \"source\": \"33\", \"target\": \"27\", \"color\": \"gray\", \"weight\": 1}, {\"uid\": \"33-26\", \"source\": \"33\", \"target\": \"26\", \"color\": \"gray\", \"weight\": 1}, {\"uid\": \"33-23\", \"source\": \"33\", \"target\": \"23\", \"color\": \"gray\", \"weight\": 1}, {\"uid\": \"33-20\", \"source\": \"33\", \"target\": \"20\", \"color\": \"gray\", \"weight\": 1}, {\"uid\": \"33-19\", \"source\": \"33\", \"target\": \"19\", \"color\": \"gray\", \"weight\": 1}, {\"uid\": \"33-18\", \"source\": \"33\", \"target\": \"18\", \"color\": \"gray\", \"weight\": 1}, {\"uid\": \"33-15\", \"source\": \"33\", \"target\": \"15\", \"color\": \"gray\", \"weight\": 1}, {\"uid\": \"33-14\", \"source\": \"33\", \"target\": \"14\", \"color\": \"gray\", \"weight\": 1}, {\"uid\": \"33-13\", \"source\": \"33\", \"target\": \"13\", \"color\": \"gray\", \"weight\": 1}, {\"uid\": \"33-9\", \"source\": \"33\", \"target\": \"9\", \"color\": \"gray\", \"weight\": 1}, {\"uid\": \"33-8\", \"source\": \"33\", \"target\": \"8\", \"color\": \"gray\", \"weight\": 1}], \"nodes\": [{\"uid\": \"0\"}, {\"uid\": \"1\"}, {\"uid\": \"2\"}, {\"uid\": \"3\"}, {\"uid\": \"4\"}, {\"uid\": \"5\"}, {\"uid\": \"6\"}, {\"uid\": \"7\"}, {\"uid\": \"8\"}, {\"uid\": \"9\"}, {\"uid\": \"10\"}, {\"uid\": \"11\"}, {\"uid\": \"12\"}, {\"uid\": \"13\"}, {\"uid\": \"14\"}, {\"uid\": \"15\"}, {\"uid\": \"16\"}, {\"uid\": \"17\"}, {\"uid\": \"18\"}, {\"uid\": \"19\"}, {\"uid\": \"20\"}, {\"uid\": \"21\"}, {\"uid\": \"22\"}, {\"uid\": \"23\"}, {\"uid\": \"24\"}, {\"uid\": \"25\"}, {\"uid\": \"26\"}, {\"uid\": \"27\"}, {\"uid\": \"28\"}, {\"uid\": \"29\"}, {\"uid\": \"30\"}, {\"uid\": \"31\"}, {\"uid\": \"32\"}, {\"uid\": \"33\"}]}\n",
       "const config = {\"edge_color\": \"gray\", \"directed\": false, \"curved\": false, \"selector\": \"#xfefa84076b7c4289ab7f7c47c82499d2\"}\n",
       "console.log(\"Static Network Template\");\n",
       "/* Resources\n",
       "   https://bl.ocks.org/mapio/53fed7d84cd1812d6a6639ed7aa83868\n",
       "   https://codepen.io/smlo/pen/JdMOej\n",
       "*/\n",
       "\n",
       "// variables from the config file\n",
       "const selector = config.selector;\n",
       "const width = config.width || 800;\n",
       "const height = config.height || 600;\n",
       "const charge_distance = config.charge_distance || 400;\n",
       "const charge_force = config.charge_force || -3000;\n",
       "const curved = config.curved || false;\n",
       "const directed = config.directed || false;\n",
       "// const weight = false;\n",
       "\n",
       "/* Create a svg element to display the network */\n",
       "var svg = d3.select(selector)\n",
       "    .append('svg')\n",
       "    .attr('width', width)\n",
       "    .attr('height', height)\n",
       "\n",
       "// add container to store the elements\n",
       "var container = svg.append(\"g\");\n",
       "\n",
       "/*Add zoom function to the container */\n",
       "svg.call(\n",
       "    d3.zoom()\n",
       "        .scaleExtent([.1, 4])\n",
       "        .on(\"zoom\", function() { container.attr(\"transform\", d3.event.transform); })\n",
       ");\n",
       "\n",
       "\n",
       "/*Load nodes and links from the data */\n",
       "var nodes = data.nodes\n",
       "var links = data.edges\n",
       "\n",
       "/*Create arrow head with same color as the edge */\n",
       "function marker (color) {\n",
       "       var reference;\n",
       "       svg.append(\"svg:defs\").selectAll(\"marker\")\n",
       "          .data([reference])\n",
       "          .enter().append(\"svg:marker\")\n",
       "          .attr(\"id\", \"arrow\"+color)\n",
       "          .attr(\"viewBox\", \"0 -5 10 10\")\n",
       "          .attr(\"refX\", 10)\n",
       "          .attr(\"refY\", -0)\n",
       "          .attr(\"markerWidth\", 6)\n",
       "          .attr(\"markerHeight\", 6)\n",
       "          .attr(\"orient\", \"auto\")\n",
       "          .append(\"svg:path\")\n",
       "          .attr('class','.arrow')\n",
       "          .attr(\"d\", \"M0,-5L10,0L0,5\")\n",
       "          .style('opacity',1)\n",
       "          .style(\"fill\", color);\n",
       "       return \"url(#\" + \"arrow\"+color + \")\";\n",
       "     };\n",
       "\n",
       "/*Link creation template */\n",
       "var link = container.append(\"g\").attr(\"class\", \"links\")\n",
       "    .selectAll(\".link\")\n",
       "    .data(links)\n",
       "    .enter()\n",
       "    .append(\"path\")\n",
       "    .attr(\"class\", \"link\")\n",
       "    .style(\"stroke\", function(d) { return d.color; })\n",
       "    .style(\"stroke-opacity\", function(d) { return d.opacity; })\n",
       "    .style(\"stroke-width\", function(d){  return d.size })\n",
       "    .style(\"fill\",\"none\")\n",
       "    .attr(\"marker-end\", function (d) {if(directed){return marker(d.color)}else{return null}; });\n",
       "\n",
       "    //.attr(\"marker-end\", function (d) { return marker(d.color); });\n",
       "    //.attr(\"marker-end\", \"url(#arrow)\");\n",
       "\n",
       "/*Node creation template */\n",
       "var node = container.append(\"g\").attr(\"class\", \"nodes\")\n",
       "    .selectAll(\"circle.node\")\n",
       "    .data(nodes)\n",
       "    .enter().append(\"circle\")\n",
       "    .attr(\"class\", \"node\")\n",
       "    .attr(\"x\", function(d) { return d.x; })\n",
       "    .attr(\"y\", function(d) { return d.y; })\n",
       "    .style(\"r\", function(d){  return d.size+\"px\"; })\n",
       "    .style(\"fill\", function(d) { return d.color; })\n",
       "    .style(\"opacity\", function(d) { return d.opacity; });\n",
       "\n",
       "/*Label creation template */\n",
       "var text = container.append(\"g\").attr(\"class\",\"labels\")\n",
       "    .selectAll(\"g\")\n",
       "    .data(nodes)\n",
       "    .enter().append(\"g\")\n",
       "\n",
       "text.append(\"text\")\n",
       "    .attr(\"class\", \"label-text\")\n",
       "    .attr(\"x\", function(d) {\n",
       "        var r = (d.size === undefined) ? 15 : d.size;\n",
       "        return 5 + r; })\n",
       "    .attr(\"dy\", \".31em\")\n",
       "    .text(function(d) { return d.label; });\n",
       "\n",
       "/*Scale weight for d3js */\n",
       "var weightScale = d3.scaleLinear()\n",
       "    .domain(d3.extent(links, function (d) { return d.weight }))\n",
       "    .range([.1, 1]);\n",
       "\n",
       "/*Simulation of the forces*/\n",
       "var simulation = d3.forceSimulation(nodes)\n",
       "    .force(\"links\", d3.forceLink(links)\n",
       "           .id(function(d) {return d.uid; })\n",
       "           .distance(50)\n",
       "           .strength(function(d){return weightScale(d.weight);})\n",
       "          )\n",
       "    .force(\"charge\", d3.forceManyBody()\n",
       "           .strength(charge_force)\n",
       "           .distanceMax(charge_distance)\n",
       "          )\n",
       "    .force(\"center\", d3.forceCenter(width / 2, height / 2))\n",
       "    .on(\"tick\", ticked);\n",
       "\n",
       "/*Update of the node and edge objects*/\n",
       "function ticked() {\n",
       "    node.call(updateNode);\n",
       "    link.call(updateLink);\n",
       "    text.call(updateText);\n",
       "};\n",
       "\n",
       "/*Update link positions */\n",
       "function updateLink(link) {\n",
       "    // link\n",
       "    //     .attr(\"x1\", function(d) { return d.source.x; })\n",
       "    //     .attr(\"y1\", function(d) { return d.source.y; })\n",
       "    //     .attr(\"x2\", function(d) { return d.target.x; })\n",
       "    //     .attr(\"y2\", function(d) { return d.target.y; });\n",
       "\n",
       "\n",
       "    link.attr(\"d\", function(d) {\n",
       "        var dx = d.target.x - d.source.x,\n",
       "            dy = d.target.y - d.source.y,\n",
       "            dr = Math.sqrt(dx * dx + dy * dy);\n",
       "        if(!curved)dr=0;\n",
       "        return \"M\" +\n",
       "            d.source.x + \",\" +\n",
       "            d.source.y + \"A\" +\n",
       "            dr + \",\" + dr + \" 0 0,1 \" +\n",
       "            d.target.x + \",\" +\n",
       "            d.target.y;\n",
       "    });\n",
       "\n",
       "    // recalculate and back off the distance\n",
       "    link.attr(\"d\", function (d, i) {\n",
       "        var pl = this.getTotalLength();\n",
       "        var r = (d.target.size === undefined) ? 15 : d.target.size;\n",
       "        var m = this.getPointAtLength(pl - r);\n",
       "        var dx = d.target.x - d.source.x,\n",
       "            dy = d.target.y - d.source.y,\n",
       "            dr = Math.sqrt(dx * dx + dy * dy);\n",
       "        if(!curved)dr=0;\n",
       "        var result = \"M\" + d.source.x + \",\" + d.source.y + \"A\" + dr + \",\" + dr + \" 0 0,1 \" + m.x + \",\" + m.y;\n",
       "        return result;\n",
       "    });\n",
       "};\n",
       "\n",
       "\n",
       "/*Update node positions */\n",
       "function updateNode(node) {\n",
       "    node.attr(\"transform\", function(d) {\n",
       "        return \"translate(\" + d.x + \",\" + d.y + \")\";\n",
       "    });\n",
       "    // node\n",
       "    //     .attr(\"cx\", function(d) { return d.x; })\n",
       "    //     .attr(\"cy\", function(d) { return d.y; });\n",
       "};\n",
       "\n",
       "/*Update text positions */\n",
       "function updateText(text) {\n",
       "    text.attr(\"transform\", function(d) {\n",
       "        return \"translate(\" + d.x + \",\" + d.y + \")\";\n",
       "    });\n",
       "};\n",
       "\n",
       "/*Add drag functionality to the node objects*/\n",
       "node.call(\n",
       "    d3.drag()\n",
       "        .on(\"start\", dragstarted)\n",
       "        .on(\"drag\", dragged)\n",
       "        .on(\"end\", dragended)\n",
       ");\n",
       "\n",
       "function dragstarted(d) {\n",
       "    d3.event.sourceEvent.stopPropagation();\n",
       "    if (!d3.event.active) simulation.alphaTarget(0.3).restart();\n",
       "    d.fx = d.x;\n",
       "    d.fy = d.y;\n",
       "};\n",
       "\n",
       "function dragged(d) {\n",
       "    d.fx = d3.event.x;\n",
       "    d.fy = d3.event.y;\n",
       "};\n",
       "\n",
       "function dragended(d) {\n",
       "    if (!d3.event.active) simulation.alphaTarget(0);\n",
       "    d.fx = null;\n",
       "    d.fy = null;\n",
       "};\n",
       "\n",
       "}); //END\n",
       "\n",
       "</script>"
      ]
     },
     "metadata": {},
     "output_type": "display_data"
    }
   ],
   "source": [
    "pp.plot(g, edge_color='gray');"
   ]
  },
  {
   "cell_type": "markdown",
   "metadata": {},
   "source": [
    "We see that the nodes actually contain a `node_group` property, which maps the nodes to two groups. Those groups are often used as `ground truth` for communities in this simple illustrative graph. We will instead use it as ground truth categorical node label for a node classification experiment based on a Graph Neural Network."
   ]
  },
  {
   "cell_type": "code",
   "execution_count": 5,
   "metadata": {},
   "outputs": [
    {
     "name": "stdout",
     "output_type": "stream",
     "text": [
      "[[1], [1], [1], [1], [1], [1], [1], [1], [1], [2], [1], [1], [1], [1], [2], [2], [1], [1], [2], [1], [2], [1], [2], [2], [2], [2], [2], [2], [2], [2], [2], [2], [2], [2]]\n"
     ]
    }
   ],
   "source": [
    "print(g['node_groups'])"
   ]
  },
  {
   "cell_type": "markdown",
   "metadata": {},
   "source": [
    "We can plot categorical labels by passing them as node colors in the pathpy plot function."
   ]
  },
  {
   "cell_type": "code",
   "execution_count": 6,
   "metadata": {},
   "outputs": [
    {
     "data": {
      "text/html": [
       "<style>\n",
       "svg circle.node {\n",
       "  fill: #3b5998;\n",
       "  stroke: #1b3978;\n",
       "  stroke-width: 2.5px;\n",
       "  r: 15px;\n",
       "  opacity: 1;\n",
       "}\n",
       "\n",
       ".link {\n",
       "  stroke: #969595;\n",
       "  stroke-opacity: .75;\n",
       "  stroke-width: 2.5px;\n",
       "}\n",
       "\n",
       ".arrow {\n",
       "  fill: #969595;\n",
       "}\n",
       "\n",
       "\n",
       ".label-text {\n",
       "    fill: #969595;\n",
       "    font-size: 16px;\n",
       "    font-family: sans-serif;\n",
       "}\n",
       "\n",
       "</style>\n",
       "\n",
       "<div id = \"xb20f03aeef07421dac1b7ffe06e2a5ac\"> </div>\n",
       "<script charset=\"utf-8\" src=\"https://d3js.org/d3.v5.min.js\"></script>\n",
       "<script charset=\"utf-8\">\n",
       "// Load via requireJS if available (jupyter notebook environment)\n",
       "try {\n",
       "    // Problem: require.config will raise an exception when called for the second time \n",
       "    require.config({\n",
       "        paths: {\n",
       "            d3: \"https://d3js.org/d3.v5.min.js\".replace(\".js\", \"\")\n",
       "        }\n",
       "    });\n",
       "    console.log(\"OKAY: requireJS was detected.\");\n",
       "}\n",
       "catch(err){\n",
       "    // a reference error indicates that requireJS does not exist. \n",
       "    // other errors may occur due to multiple calls to config\n",
       "    if (err instanceof ReferenceError){\n",
       "        console.log(\"WARNING: NO requireJS was detected!\");\n",
       "\n",
       "        // Helper function that waits for d3js to be loaded\n",
       "        require = function require(symbols, callback) {\n",
       "            var ms = 10;\n",
       "            window.setTimeout(function(t) {\n",
       "                if (window[symbols[0]])\n",
       "                    callback(window[symbols[0]]);\n",
       "                else \n",
       "                    window.setTimeout(arguments.callee, ms);\n",
       "            }, ms);\n",
       "        }\n",
       "    }\n",
       "};\n",
       "require(['d3'], function(d3){ //START\n",
       "const data = {\"edges\": [{\"uid\": \"0-2\", \"source\": \"0\", \"target\": \"2\", \"weight\": 1}, {\"uid\": \"0-1\", \"source\": \"0\", \"target\": \"1\", \"weight\": 1}, {\"uid\": \"0-31\", \"source\": \"0\", \"target\": \"31\", \"weight\": 1}, {\"uid\": \"0-21\", \"source\": \"0\", \"target\": \"21\", \"weight\": 1}, {\"uid\": \"0-19\", \"source\": \"0\", \"target\": \"19\", \"weight\": 1}, {\"uid\": \"0-17\", \"source\": \"0\", \"target\": \"17\", \"weight\": 1}, {\"uid\": \"0-13\", \"source\": \"0\", \"target\": \"13\", \"weight\": 1}, {\"uid\": \"0-12\", \"source\": \"0\", \"target\": \"12\", \"weight\": 1}, {\"uid\": \"0-11\", \"source\": \"0\", \"target\": \"11\", \"weight\": 1}, {\"uid\": \"0-8\", \"source\": \"0\", \"target\": \"8\", \"weight\": 1}, {\"uid\": \"0-10\", \"source\": \"0\", \"target\": \"10\", \"weight\": 1}, {\"uid\": \"0-3\", \"source\": \"0\", \"target\": \"3\", \"weight\": 1}, {\"uid\": \"0-4\", \"source\": \"0\", \"target\": \"4\", \"weight\": 1}, {\"uid\": \"0-6\", \"source\": \"0\", \"target\": \"6\", \"weight\": 1}, {\"uid\": \"0-7\", \"source\": \"0\", \"target\": \"7\", \"weight\": 1}, {\"uid\": \"0-5\", \"source\": \"0\", \"target\": \"5\", \"weight\": 1}, {\"uid\": \"1-17\", \"source\": \"1\", \"target\": \"17\", \"weight\": 1}, {\"uid\": \"1-30\", \"source\": \"1\", \"target\": \"30\", \"weight\": 1}, {\"uid\": \"1-21\", \"source\": \"1\", \"target\": \"21\", \"weight\": 1}, {\"uid\": \"1-19\", \"source\": \"1\", \"target\": \"19\", \"weight\": 1}, {\"uid\": \"1-13\", \"source\": \"1\", \"target\": \"13\", \"weight\": 1}, {\"uid\": \"1-7\", \"source\": \"1\", \"target\": \"7\", \"weight\": 1}, {\"uid\": \"1-3\", \"source\": \"1\", \"target\": \"3\", \"weight\": 1}, {\"uid\": \"1-2\", \"source\": \"1\", \"target\": \"2\", \"weight\": 1}, {\"uid\": \"1-0\", \"source\": \"1\", \"target\": \"0\", \"weight\": 1}, {\"uid\": \"2-3\", \"source\": \"2\", \"target\": \"3\", \"weight\": 1}, {\"uid\": \"2-32\", \"source\": \"2\", \"target\": \"32\", \"weight\": 1}, {\"uid\": \"2-28\", \"source\": \"2\", \"target\": \"28\", \"weight\": 1}, {\"uid\": \"2-27\", \"source\": \"2\", \"target\": \"27\", \"weight\": 1}, {\"uid\": \"2-13\", \"source\": \"2\", \"target\": \"13\", \"weight\": 1}, {\"uid\": \"2-9\", \"source\": \"2\", \"target\": \"9\", \"weight\": 1}, {\"uid\": \"2-8\", \"source\": \"2\", \"target\": \"8\", \"weight\": 1}, {\"uid\": \"2-7\", \"source\": \"2\", \"target\": \"7\", \"weight\": 1}, {\"uid\": \"2-1\", \"source\": \"2\", \"target\": \"1\", \"weight\": 1}, {\"uid\": \"2-0\", \"source\": \"2\", \"target\": \"0\", \"weight\": 1}, {\"uid\": \"3-0\", \"source\": \"3\", \"target\": \"0\", \"weight\": 1}, {\"uid\": \"3-1\", \"source\": \"3\", \"target\": \"1\", \"weight\": 1}, {\"uid\": \"3-2\", \"source\": \"3\", \"target\": \"2\", \"weight\": 1}, {\"uid\": \"3-7\", \"source\": \"3\", \"target\": \"7\", \"weight\": 1}, {\"uid\": \"3-12\", \"source\": \"3\", \"target\": \"12\", \"weight\": 1}, {\"uid\": \"3-13\", \"source\": \"3\", \"target\": \"13\", \"weight\": 1}, {\"uid\": \"4-10\", \"source\": \"4\", \"target\": \"10\", \"weight\": 1}, {\"uid\": \"4-0\", \"source\": \"4\", \"target\": \"0\", \"weight\": 1}, {\"uid\": \"4-6\", \"source\": \"4\", \"target\": \"6\", \"weight\": 1}, {\"uid\": \"5-0\", \"source\": \"5\", \"target\": \"0\", \"weight\": 1}, {\"uid\": \"5-6\", \"source\": \"5\", \"target\": \"6\", \"weight\": 1}, {\"uid\": \"5-10\", \"source\": \"5\", \"target\": \"10\", \"weight\": 1}, {\"uid\": \"5-16\", \"source\": \"5\", \"target\": \"16\", \"weight\": 1}, {\"uid\": \"6-0\", \"source\": \"6\", \"target\": \"0\", \"weight\": 1}, {\"uid\": \"6-4\", \"source\": \"6\", \"target\": \"4\", \"weight\": 1}, {\"uid\": \"6-5\", \"source\": \"6\", \"target\": \"5\", \"weight\": 1}, {\"uid\": \"6-16\", \"source\": \"6\", \"target\": \"16\", \"weight\": 1}, {\"uid\": \"7-0\", \"source\": \"7\", \"target\": \"0\", \"weight\": 1}, {\"uid\": \"7-1\", \"source\": \"7\", \"target\": \"1\", \"weight\": 1}, {\"uid\": \"7-2\", \"source\": \"7\", \"target\": \"2\", \"weight\": 1}, {\"uid\": \"7-3\", \"source\": \"7\", \"target\": \"3\", \"weight\": 1}, {\"uid\": \"8-32\", \"source\": \"8\", \"target\": \"32\", \"weight\": 1}, {\"uid\": \"8-33\", \"source\": \"8\", \"target\": \"33\", \"weight\": 1}, {\"uid\": \"8-2\", \"source\": \"8\", \"target\": \"2\", \"weight\": 1}, {\"uid\": \"8-0\", \"source\": \"8\", \"target\": \"0\", \"weight\": 1}, {\"uid\": \"8-30\", \"source\": \"8\", \"target\": \"30\", \"weight\": 1}, {\"uid\": \"9-2\", \"source\": \"9\", \"target\": \"2\", \"weight\": 1}, {\"uid\": \"9-33\", \"source\": \"9\", \"target\": \"33\", \"weight\": 1}, {\"uid\": \"10-0\", \"source\": \"10\", \"target\": \"0\", \"weight\": 1}, {\"uid\": \"10-4\", \"source\": \"10\", \"target\": \"4\", \"weight\": 1}, {\"uid\": \"10-5\", \"source\": \"10\", \"target\": \"5\", \"weight\": 1}, {\"uid\": \"11-0\", \"source\": \"11\", \"target\": \"0\", \"weight\": 1}, {\"uid\": \"12-0\", \"source\": \"12\", \"target\": \"0\", \"weight\": 1}, {\"uid\": \"12-3\", \"source\": \"12\", \"target\": \"3\", \"weight\": 1}, {\"uid\": \"13-0\", \"source\": \"13\", \"target\": \"0\", \"weight\": 1}, {\"uid\": \"13-1\", \"source\": \"13\", \"target\": \"1\", \"weight\": 1}, {\"uid\": \"13-2\", \"source\": \"13\", \"target\": \"2\", \"weight\": 1}, {\"uid\": \"13-3\", \"source\": \"13\", \"target\": \"3\", \"weight\": 1}, {\"uid\": \"13-33\", \"source\": \"13\", \"target\": \"33\", \"weight\": 1}, {\"uid\": \"14-32\", \"source\": \"14\", \"target\": \"32\", \"weight\": 1}, {\"uid\": \"14-33\", \"source\": \"14\", \"target\": \"33\", \"weight\": 1}, {\"uid\": \"15-33\", \"source\": \"15\", \"target\": \"33\", \"weight\": 1}, {\"uid\": \"15-32\", \"source\": \"15\", \"target\": \"32\", \"weight\": 1}, {\"uid\": \"16-5\", \"source\": \"16\", \"target\": \"5\", \"weight\": 1}, {\"uid\": \"16-6\", \"source\": \"16\", \"target\": \"6\", \"weight\": 1}, {\"uid\": \"17-0\", \"source\": \"17\", \"target\": \"0\", \"weight\": 1}, {\"uid\": \"17-1\", \"source\": \"17\", \"target\": \"1\", \"weight\": 1}, {\"uid\": \"18-32\", \"source\": \"18\", \"target\": \"32\", \"weight\": 1}, {\"uid\": \"18-33\", \"source\": \"18\", \"target\": \"33\", \"weight\": 1}, {\"uid\": \"19-1\", \"source\": \"19\", \"target\": \"1\", \"weight\": 1}, {\"uid\": \"19-33\", \"source\": \"19\", \"target\": \"33\", \"weight\": 1}, {\"uid\": \"19-0\", \"source\": \"19\", \"target\": \"0\", \"weight\": 1}, {\"uid\": \"20-32\", \"source\": \"20\", \"target\": \"32\", \"weight\": 1}, {\"uid\": \"20-33\", \"source\": \"20\", \"target\": \"33\", \"weight\": 1}, {\"uid\": \"21-0\", \"source\": \"21\", \"target\": \"0\", \"weight\": 1}, {\"uid\": \"21-1\", \"source\": \"21\", \"target\": \"1\", \"weight\": 1}, {\"uid\": \"22-32\", \"source\": \"22\", \"target\": \"32\", \"weight\": 1}, {\"uid\": \"23-32\", \"source\": \"23\", \"target\": \"32\", \"weight\": 1}, {\"uid\": \"23-33\", \"source\": \"23\", \"target\": \"33\", \"weight\": 1}, {\"uid\": \"23-29\", \"source\": \"23\", \"target\": \"29\", \"weight\": 1}, {\"uid\": \"23-25\", \"source\": \"23\", \"target\": \"25\", \"weight\": 1}, {\"uid\": \"23-27\", \"source\": \"23\", \"target\": \"27\", \"weight\": 1}, {\"uid\": \"24-25\", \"source\": \"24\", \"target\": \"25\", \"weight\": 1}, {\"uid\": \"24-27\", \"source\": \"24\", \"target\": \"27\", \"weight\": 1}, {\"uid\": \"24-31\", \"source\": \"24\", \"target\": \"31\", \"weight\": 1}, {\"uid\": \"25-23\", \"source\": \"25\", \"target\": \"23\", \"weight\": 1}, {\"uid\": \"25-24\", \"source\": \"25\", \"target\": \"24\", \"weight\": 1}, {\"uid\": \"25-31\", \"source\": \"25\", \"target\": \"31\", \"weight\": 1}, {\"uid\": \"26-33\", \"source\": \"26\", \"target\": \"33\", \"weight\": 1}, {\"uid\": \"26-29\", \"source\": \"26\", \"target\": \"29\", \"weight\": 1}, {\"uid\": \"27-2\", \"source\": \"27\", \"target\": \"2\", \"weight\": 1}, {\"uid\": \"27-23\", \"source\": \"27\", \"target\": \"23\", \"weight\": 1}, {\"uid\": \"27-24\", \"source\": \"27\", \"target\": \"24\", \"weight\": 1}, {\"uid\": \"27-33\", \"source\": \"27\", \"target\": \"33\", \"weight\": 1}, {\"uid\": \"28-2\", \"source\": \"28\", \"target\": \"2\", \"weight\": 1}, {\"uid\": \"28-31\", \"source\": \"28\", \"target\": \"31\", \"weight\": 1}, {\"uid\": \"28-33\", \"source\": \"28\", \"target\": \"33\", \"weight\": 1}, {\"uid\": \"29-32\", \"source\": \"29\", \"target\": \"32\", \"weight\": 1}, {\"uid\": \"29-33\", \"source\": \"29\", \"target\": \"33\", \"weight\": 1}, {\"uid\": \"29-23\", \"source\": \"29\", \"target\": \"23\", \"weight\": 1}, {\"uid\": \"29-26\", \"source\": \"29\", \"target\": \"26\", \"weight\": 1}, {\"uid\": \"30-1\", \"source\": \"30\", \"target\": \"1\", \"weight\": 1}, {\"uid\": \"30-8\", \"source\": \"30\", \"target\": \"8\", \"weight\": 1}, {\"uid\": \"30-32\", \"source\": \"30\", \"target\": \"32\", \"weight\": 1}, {\"uid\": \"30-33\", \"source\": \"30\", \"target\": \"33\", \"weight\": 1}, {\"uid\": \"31-28\", \"source\": \"31\", \"target\": \"28\", \"weight\": 1}, {\"uid\": \"31-33\", \"source\": \"31\", \"target\": \"33\", \"weight\": 1}, {\"uid\": \"31-32\", \"source\": \"31\", \"target\": \"32\", \"weight\": 1}, {\"uid\": \"31-25\", \"source\": \"31\", \"target\": \"25\", \"weight\": 1}, {\"uid\": \"31-24\", \"source\": \"31\", \"target\": \"24\", \"weight\": 1}, {\"uid\": \"31-0\", \"source\": \"31\", \"target\": \"0\", \"weight\": 1}, {\"uid\": \"32-29\", \"source\": \"32\", \"target\": \"29\", \"weight\": 1}, {\"uid\": \"32-33\", \"source\": \"32\", \"target\": \"33\", \"weight\": 1}, {\"uid\": \"32-31\", \"source\": \"32\", \"target\": \"31\", \"weight\": 1}, {\"uid\": \"32-30\", \"source\": \"32\", \"target\": \"30\", \"weight\": 1}, {\"uid\": \"32-23\", \"source\": \"32\", \"target\": \"23\", \"weight\": 1}, {\"uid\": \"32-22\", \"source\": \"32\", \"target\": \"22\", \"weight\": 1}, {\"uid\": \"32-18\", \"source\": \"32\", \"target\": \"18\", \"weight\": 1}, {\"uid\": \"32-15\", \"source\": \"32\", \"target\": \"15\", \"weight\": 1}, {\"uid\": \"32-14\", \"source\": \"32\", \"target\": \"14\", \"weight\": 1}, {\"uid\": \"32-8\", \"source\": \"32\", \"target\": \"8\", \"weight\": 1}, {\"uid\": \"32-2\", \"source\": \"32\", \"target\": \"2\", \"weight\": 1}, {\"uid\": \"32-20\", \"source\": \"32\", \"target\": \"20\", \"weight\": 1}, {\"uid\": \"33-32\", \"source\": \"33\", \"target\": \"32\", \"weight\": 1}, {\"uid\": \"33-31\", \"source\": \"33\", \"target\": \"31\", \"weight\": 1}, {\"uid\": \"33-30\", \"source\": \"33\", \"target\": \"30\", \"weight\": 1}, {\"uid\": \"33-29\", \"source\": \"33\", \"target\": \"29\", \"weight\": 1}, {\"uid\": \"33-28\", \"source\": \"33\", \"target\": \"28\", \"weight\": 1}, {\"uid\": \"33-27\", \"source\": \"33\", \"target\": \"27\", \"weight\": 1}, {\"uid\": \"33-26\", \"source\": \"33\", \"target\": \"26\", \"weight\": 1}, {\"uid\": \"33-23\", \"source\": \"33\", \"target\": \"23\", \"weight\": 1}, {\"uid\": \"33-20\", \"source\": \"33\", \"target\": \"20\", \"weight\": 1}, {\"uid\": \"33-19\", \"source\": \"33\", \"target\": \"19\", \"weight\": 1}, {\"uid\": \"33-18\", \"source\": \"33\", \"target\": \"18\", \"weight\": 1}, {\"uid\": \"33-15\", \"source\": \"33\", \"target\": \"15\", \"weight\": 1}, {\"uid\": \"33-14\", \"source\": \"33\", \"target\": \"14\", \"weight\": 1}, {\"uid\": \"33-13\", \"source\": \"33\", \"target\": \"13\", \"weight\": 1}, {\"uid\": \"33-9\", \"source\": \"33\", \"target\": \"9\", \"weight\": 1}, {\"uid\": \"33-8\", \"source\": \"33\", \"target\": \"8\", \"weight\": 1}], \"nodes\": [{\"uid\": \"0\", \"color\": \"#00ff00\"}, {\"uid\": \"1\", \"color\": \"#00ff00\"}, {\"uid\": \"2\", \"color\": \"#00ff00\"}, {\"uid\": \"3\", \"color\": \"#00ff00\"}, {\"uid\": \"4\", \"color\": \"#00ff00\"}, {\"uid\": \"5\", \"color\": \"#00ff00\"}, {\"uid\": \"6\", \"color\": \"#00ff00\"}, {\"uid\": \"7\", \"color\": \"#00ff00\"}, {\"uid\": \"8\", \"color\": \"#00ff00\"}, {\"uid\": \"9\", \"color\": \"#ff0000\"}, {\"uid\": \"10\", \"color\": \"#00ff00\"}, {\"uid\": \"11\", \"color\": \"#00ff00\"}, {\"uid\": \"12\", \"color\": \"#00ff00\"}, {\"uid\": \"13\", \"color\": \"#00ff00\"}, {\"uid\": \"14\", \"color\": \"#ff0000\"}, {\"uid\": \"15\", \"color\": \"#ff0000\"}, {\"uid\": \"16\", \"color\": \"#00ff00\"}, {\"uid\": \"17\", \"color\": \"#00ff00\"}, {\"uid\": \"18\", \"color\": \"#ff0000\"}, {\"uid\": \"19\", \"color\": \"#00ff00\"}, {\"uid\": \"20\", \"color\": \"#ff0000\"}, {\"uid\": \"21\", \"color\": \"#00ff00\"}, {\"uid\": \"22\", \"color\": \"#ff0000\"}, {\"uid\": \"23\", \"color\": \"#ff0000\"}, {\"uid\": \"24\", \"color\": \"#ff0000\"}, {\"uid\": \"25\", \"color\": \"#ff0000\"}, {\"uid\": \"26\", \"color\": \"#ff0000\"}, {\"uid\": \"27\", \"color\": \"#ff0000\"}, {\"uid\": \"28\", \"color\": \"#ff0000\"}, {\"uid\": \"29\", \"color\": \"#ff0000\"}, {\"uid\": \"30\", \"color\": \"#ff0000\"}, {\"uid\": \"31\", \"color\": \"#ff0000\"}, {\"uid\": \"32\", \"color\": \"#ff0000\"}, {\"uid\": \"33\", \"color\": \"#ff0000\"}]}\n",
       "const config = {\"node_color\": [1, 1, 1, 1, 1, 1, 1, 1, 1, 2, 1, 1, 1, 1, 2, 2, 1, 1, 2, 1, 2, 1, 2, 2, 2, 2, 2, 2, 2, 2, 2, 2, 2, 2], \"directed\": false, \"curved\": false, \"selector\": \"#xb20f03aeef07421dac1b7ffe06e2a5ac\"}\n",
       "console.log(\"Static Network Template\");\n",
       "/* Resources\n",
       "   https://bl.ocks.org/mapio/53fed7d84cd1812d6a6639ed7aa83868\n",
       "   https://codepen.io/smlo/pen/JdMOej\n",
       "*/\n",
       "\n",
       "// variables from the config file\n",
       "const selector = config.selector;\n",
       "const width = config.width || 800;\n",
       "const height = config.height || 600;\n",
       "const charge_distance = config.charge_distance || 400;\n",
       "const charge_force = config.charge_force || -3000;\n",
       "const curved = config.curved || false;\n",
       "const directed = config.directed || false;\n",
       "// const weight = false;\n",
       "\n",
       "/* Create a svg element to display the network */\n",
       "var svg = d3.select(selector)\n",
       "    .append('svg')\n",
       "    .attr('width', width)\n",
       "    .attr('height', height)\n",
       "\n",
       "// add container to store the elements\n",
       "var container = svg.append(\"g\");\n",
       "\n",
       "/*Add zoom function to the container */\n",
       "svg.call(\n",
       "    d3.zoom()\n",
       "        .scaleExtent([.1, 4])\n",
       "        .on(\"zoom\", function() { container.attr(\"transform\", d3.event.transform); })\n",
       ");\n",
       "\n",
       "\n",
       "/*Load nodes and links from the data */\n",
       "var nodes = data.nodes\n",
       "var links = data.edges\n",
       "\n",
       "/*Create arrow head with same color as the edge */\n",
       "function marker (color) {\n",
       "       var reference;\n",
       "       svg.append(\"svg:defs\").selectAll(\"marker\")\n",
       "          .data([reference])\n",
       "          .enter().append(\"svg:marker\")\n",
       "          .attr(\"id\", \"arrow\"+color)\n",
       "          .attr(\"viewBox\", \"0 -5 10 10\")\n",
       "          .attr(\"refX\", 10)\n",
       "          .attr(\"refY\", -0)\n",
       "          .attr(\"markerWidth\", 6)\n",
       "          .attr(\"markerHeight\", 6)\n",
       "          .attr(\"orient\", \"auto\")\n",
       "          .append(\"svg:path\")\n",
       "          .attr('class','.arrow')\n",
       "          .attr(\"d\", \"M0,-5L10,0L0,5\")\n",
       "          .style('opacity',1)\n",
       "          .style(\"fill\", color);\n",
       "       return \"url(#\" + \"arrow\"+color + \")\";\n",
       "     };\n",
       "\n",
       "/*Link creation template */\n",
       "var link = container.append(\"g\").attr(\"class\", \"links\")\n",
       "    .selectAll(\".link\")\n",
       "    .data(links)\n",
       "    .enter()\n",
       "    .append(\"path\")\n",
       "    .attr(\"class\", \"link\")\n",
       "    .style(\"stroke\", function(d) { return d.color; })\n",
       "    .style(\"stroke-opacity\", function(d) { return d.opacity; })\n",
       "    .style(\"stroke-width\", function(d){  return d.size })\n",
       "    .style(\"fill\",\"none\")\n",
       "    .attr(\"marker-end\", function (d) {if(directed){return marker(d.color)}else{return null}; });\n",
       "\n",
       "    //.attr(\"marker-end\", function (d) { return marker(d.color); });\n",
       "    //.attr(\"marker-end\", \"url(#arrow)\");\n",
       "\n",
       "/*Node creation template */\n",
       "var node = container.append(\"g\").attr(\"class\", \"nodes\")\n",
       "    .selectAll(\"circle.node\")\n",
       "    .data(nodes)\n",
       "    .enter().append(\"circle\")\n",
       "    .attr(\"class\", \"node\")\n",
       "    .attr(\"x\", function(d) { return d.x; })\n",
       "    .attr(\"y\", function(d) { return d.y; })\n",
       "    .style(\"r\", function(d){  return d.size+\"px\"; })\n",
       "    .style(\"fill\", function(d) { return d.color; })\n",
       "    .style(\"opacity\", function(d) { return d.opacity; });\n",
       "\n",
       "/*Label creation template */\n",
       "var text = container.append(\"g\").attr(\"class\",\"labels\")\n",
       "    .selectAll(\"g\")\n",
       "    .data(nodes)\n",
       "    .enter().append(\"g\")\n",
       "\n",
       "text.append(\"text\")\n",
       "    .attr(\"class\", \"label-text\")\n",
       "    .attr(\"x\", function(d) {\n",
       "        var r = (d.size === undefined) ? 15 : d.size;\n",
       "        return 5 + r; })\n",
       "    .attr(\"dy\", \".31em\")\n",
       "    .text(function(d) { return d.label; });\n",
       "\n",
       "/*Scale weight for d3js */\n",
       "var weightScale = d3.scaleLinear()\n",
       "    .domain(d3.extent(links, function (d) { return d.weight }))\n",
       "    .range([.1, 1]);\n",
       "\n",
       "/*Simulation of the forces*/\n",
       "var simulation = d3.forceSimulation(nodes)\n",
       "    .force(\"links\", d3.forceLink(links)\n",
       "           .id(function(d) {return d.uid; })\n",
       "           .distance(50)\n",
       "           .strength(function(d){return weightScale(d.weight);})\n",
       "          )\n",
       "    .force(\"charge\", d3.forceManyBody()\n",
       "           .strength(charge_force)\n",
       "           .distanceMax(charge_distance)\n",
       "          )\n",
       "    .force(\"center\", d3.forceCenter(width / 2, height / 2))\n",
       "    .on(\"tick\", ticked);\n",
       "\n",
       "/*Update of the node and edge objects*/\n",
       "function ticked() {\n",
       "    node.call(updateNode);\n",
       "    link.call(updateLink);\n",
       "    text.call(updateText);\n",
       "};\n",
       "\n",
       "/*Update link positions */\n",
       "function updateLink(link) {\n",
       "    // link\n",
       "    //     .attr(\"x1\", function(d) { return d.source.x; })\n",
       "    //     .attr(\"y1\", function(d) { return d.source.y; })\n",
       "    //     .attr(\"x2\", function(d) { return d.target.x; })\n",
       "    //     .attr(\"y2\", function(d) { return d.target.y; });\n",
       "\n",
       "\n",
       "    link.attr(\"d\", function(d) {\n",
       "        var dx = d.target.x - d.source.x,\n",
       "            dy = d.target.y - d.source.y,\n",
       "            dr = Math.sqrt(dx * dx + dy * dy);\n",
       "        if(!curved)dr=0;\n",
       "        return \"M\" +\n",
       "            d.source.x + \",\" +\n",
       "            d.source.y + \"A\" +\n",
       "            dr + \",\" + dr + \" 0 0,1 \" +\n",
       "            d.target.x + \",\" +\n",
       "            d.target.y;\n",
       "    });\n",
       "\n",
       "    // recalculate and back off the distance\n",
       "    link.attr(\"d\", function (d, i) {\n",
       "        var pl = this.getTotalLength();\n",
       "        var r = (d.target.size === undefined) ? 15 : d.target.size;\n",
       "        var m = this.getPointAtLength(pl - r);\n",
       "        var dx = d.target.x - d.source.x,\n",
       "            dy = d.target.y - d.source.y,\n",
       "            dr = Math.sqrt(dx * dx + dy * dy);\n",
       "        if(!curved)dr=0;\n",
       "        var result = \"M\" + d.source.x + \",\" + d.source.y + \"A\" + dr + \",\" + dr + \" 0 0,1 \" + m.x + \",\" + m.y;\n",
       "        return result;\n",
       "    });\n",
       "};\n",
       "\n",
       "\n",
       "/*Update node positions */\n",
       "function updateNode(node) {\n",
       "    node.attr(\"transform\", function(d) {\n",
       "        return \"translate(\" + d.x + \",\" + d.y + \")\";\n",
       "    });\n",
       "    // node\n",
       "    //     .attr(\"cx\", function(d) { return d.x; })\n",
       "    //     .attr(\"cy\", function(d) { return d.y; });\n",
       "};\n",
       "\n",
       "/*Update text positions */\n",
       "function updateText(text) {\n",
       "    text.attr(\"transform\", function(d) {\n",
       "        return \"translate(\" + d.x + \",\" + d.y + \")\";\n",
       "    });\n",
       "};\n",
       "\n",
       "/*Add drag functionality to the node objects*/\n",
       "node.call(\n",
       "    d3.drag()\n",
       "        .on(\"start\", dragstarted)\n",
       "        .on(\"drag\", dragged)\n",
       "        .on(\"end\", dragended)\n",
       ");\n",
       "\n",
       "function dragstarted(d) {\n",
       "    d3.event.sourceEvent.stopPropagation();\n",
       "    if (!d3.event.active) simulation.alphaTarget(0.3).restart();\n",
       "    d.fx = d.x;\n",
       "    d.fy = d.y;\n",
       "};\n",
       "\n",
       "function dragged(d) {\n",
       "    d.fx = d3.event.x;\n",
       "    d.fy = d3.event.y;\n",
       "};\n",
       "\n",
       "function dragended(d) {\n",
       "    if (!d3.event.active) simulation.alphaTarget(0);\n",
       "    d.fx = null;\n",
       "    d.fy = null;\n",
       "};\n",
       "\n",
       "}); //END\n",
       "\n",
       "</script>"
      ]
     },
     "metadata": {},
     "output_type": "display_data"
    },
    {
     "data": {
      "text/plain": [
       "<pathpyG.visualisations.network_plots.StaticNetworkPlot at 0x7fab2bf61720>"
      ]
     },
     "execution_count": 6,
     "metadata": {},
     "output_type": "execute_result"
    }
   ],
   "source": [
    "pp.plot(g, node_color = [g['node_groups',v][0] for v in g.nodes])"
   ]
  },
  {
   "cell_type": "markdown",
   "metadata": {},
   "source": [
    "For convenience, let us shift the group labels to binary values 0 and 1: "
   ]
  },
  {
   "cell_type": "code",
   "execution_count": 7,
   "metadata": {},
   "outputs": [
    {
     "name": "stdout",
     "output_type": "stream",
     "text": [
      "tensor([[0.],\n",
      "        [0.],\n",
      "        [0.],\n",
      "        [0.],\n",
      "        [0.],\n",
      "        [0.],\n",
      "        [0.],\n",
      "        [0.],\n",
      "        [0.],\n",
      "        [1.],\n",
      "        [0.],\n",
      "        [0.],\n",
      "        [0.],\n",
      "        [0.],\n",
      "        [1.],\n",
      "        [1.],\n",
      "        [0.],\n",
      "        [0.],\n",
      "        [1.],\n",
      "        [0.],\n",
      "        [1.],\n",
      "        [0.],\n",
      "        [1.],\n",
      "        [1.],\n",
      "        [1.],\n",
      "        [1.],\n",
      "        [1.],\n",
      "        [1.],\n",
      "        [1.],\n",
      "        [1.],\n",
      "        [1.],\n",
      "        [1.],\n",
      "        [1.],\n",
      "        [1.]])\n"
     ]
    }
   ],
   "source": [
    "g['node_groups'] = torch.tensor(g['node_groups']).float()\n",
    "g['node_groups'] -= 1\n",
    "print(g['node_groups'])"
   ]
  },
  {
   "cell_type": "markdown",
   "metadata": {},
   "source": [
    "## Applying Graph Neural Networks to Netzschleuder Data"
   ]
  },
  {
   "cell_type": "markdown",
   "metadata": {},
   "source": [
    "We can retrieve a data object that contains the graph and its attributes:"
   ]
  },
  {
   "cell_type": "code",
   "execution_count": 16,
   "metadata": {},
   "outputs": [
    {
     "name": "stdout",
     "output_type": "stream",
     "text": [
      "Data(edge_index=[2, 154], num_nodes=34, node_name=[34], node_groups=[34, 1], node__pos=[34], name='karate (77)', description='Network of friendships among members of a university karate club. Includes metadata for faction membership after a social partition. Note: there are two versions of this network, one with 77 edges and one with 78, due to an ambiguous typo in the original study. (The most commonly used is the one with 78 edges.)[^icon]\n",
      "[^icon]: Description obtained from the [ICON](https://icon.colorado.edu) project.', citation='['W. W. Zachary, \"An information flow model for conflict and fission in small groups.\" Journal of Anthropological Research 33, 452-473 (1977)., https://doi.org/10.1086/jar.33.4.3629752']', url='https://aaronclauset.github.io/datacode.htm', tags=[3], node_feature=[34, 34], x=[34, 34], y=[34, 1])\n"
     ]
    }
   ],
   "source": [
    "print(g.data)"
   ]
  },
  {
   "cell_type": "markdown",
   "metadata": {},
   "source": [
    "Let's use a one-hot encoding of nodes as a simple feature `x`, and let's use the node groups as target label `y`. "
   ]
  },
  {
   "cell_type": "code",
   "execution_count": 9,
   "metadata": {},
   "outputs": [],
   "source": [
    "data = g.data\n",
    "g.add_node_ohe('node_feature')\n",
    "data['x'] = data['node_feature']\n",
    "data['y'] = data['node_groups']"
   ]
  },
  {
   "cell_type": "markdown",
   "metadata": {},
   "source": [
    "It is easy to define a Graph Convolutional Network that ues the one-hot-encodings of nodes and the topology to predict binary node labels:"
   ]
  },
  {
   "cell_type": "code",
   "execution_count": 23,
   "metadata": {},
   "outputs": [
    {
     "data": {
      "text/plain": [
       "Sequential(\n",
       "  (0) - GCNConv(34, 8): node_ohe, edge_index -> hidden\n",
       "  (1) - ReLU(inplace=True): hidden -> hidden\n",
       "  (2) - GCNConv(8, 1): hidden, edge_index -> output\n",
       "  (3) - Sigmoid(): output -> output\n",
       ")"
      ]
     },
     "execution_count": 23,
     "metadata": {},
     "output_type": "execute_result"
    }
   ],
   "source": [
    "model = Sequential('node_ohe, edge_index', [\n",
    "    (GCNConv(in_channels=data.num_node_features, out_channels=8), 'node_ohe, edge_index -> hidden'),\n",
    "    ReLU(inplace=True),\n",
    "    (GCNConv(in_channels=8, out_channels=1), 'hidden, edge_index -> output'),\n",
    "    Sigmoid(),\n",
    "])\n",
    "model.to(pp.config['torch']['device'])"
   ]
  },
  {
   "cell_type": "markdown",
   "metadata": {},
   "source": [
    "We next apply a `RandomNodeSplit` transformation to split the nodes in a training and test set."
   ]
  },
  {
   "cell_type": "code",
   "execution_count": 24,
   "metadata": {},
   "outputs": [],
   "source": [
    "transform = torch_geometric.transforms.RandomNodeSplit(split='train_rest', num_val=0.5, num_test=0)\n",
    "data = transform(data)"
   ]
  },
  {
   "cell_type": "markdown",
   "metadata": {},
   "source": [
    "We then train our model for 1000 epochs on the training set."
   ]
  },
  {
   "cell_type": "code",
   "execution_count": 25,
   "metadata": {},
   "outputs": [
    {
     "data": {
      "image/png": "[encoded data removed]",
      "text/plain": [
       "<Figure size 640x480 with 1 Axes>"
      ]
     },
     "metadata": {},
     "output_type": "display_data"
    }
   ],
   "source": [
    "epochs = 1000\n",
    "\n",
    "optimizer = torch.optim.Adam(model.parameters(), lr=0.01, weight_decay=5e-4)\n",
    "    \n",
    "losses = []\n",
    "\n",
    "model.train()\n",
    "for epoch in range(epochs):\n",
    "    optimizer.zero_grad()\n",
    "    out = model(data.x, data.edge_index)\n",
    "    loss = torch.nn.functional.binary_cross_entropy(out[data.train_mask], data.y[data.train_mask])\n",
    "    loss.backward()\n",
    "    optimizer.step()\n",
    "\n",
    "    losses.append(loss.cpu().detach().numpy())\n",
    "\n",
    "plt.plot(range(epochs), losses)\n",
    "plt.grid()"
   ]
  },
  {
   "cell_type": "markdown",
   "metadata": {},
   "source": [
    "We evaluate the model in the test set and calculate the adjusted mutual information for the ground truth."
   ]
  },
  {
   "cell_type": "code",
   "execution_count": 26,
   "metadata": {},
   "outputs": [
    {
     "data": {
      "text/plain": [
       "1.0"
      ]
     },
     "execution_count": 26,
     "metadata": {},
     "output_type": "execute_result"
    }
   ],
   "source": [
    "model.eval()\n",
    "predicted_groups = model(data.x, data.edge_index).round().long()\n",
    "metrics.adjusted_mutual_info_score(data.y[data.test_mask].squeeze().cpu().numpy(), predicted_groups[data.test_mask].squeeze().cpu().numpy())"
   ]
  },
  {
   "cell_type": "markdown",
   "metadata": {},
   "source": [
    "We visualize node representations learned by the model. The training nodes are colored, while test nodes are greyed out."
   ]
  },
  {
   "cell_type": "code",
   "execution_count": 27,
   "metadata": {},
   "outputs": [
    {
     "data": {
      "image/png": "[encoded data removed]",
      "text/plain": [
       "<Figure size 640x480 with 1 Axes>"
      ]
     },
     "metadata": {},
     "output_type": "display_data"
    }
   ],
   "source": [
    "# get activations in first-layer\n",
    "embedding = model[0].forward(data.x, data.edge_index)\n",
    "\n",
    "# dimensionality reduction\n",
    "svd = TruncatedSVD()\n",
    "low_dim = svd.fit_transform(embedding.cpu().detach().numpy())\n",
    "\n",
    "# plot with colors corresponding to groups in validation set\n",
    "colors = {}\n",
    "for v in range(g.N):\n",
    "    if data.val_mask[v]:\n",
    "        colors[v] = 'grey'\n",
    "    else:\n",
    "        if data.y[v].item() == 0.0:\n",
    "            colors[v] = 'blue'\n",
    "        else:\n",
    "            colors[v] = 'orange'\n",
    "\n",
    "plt.scatter(low_dim[:,0], low_dim[:,1], c=colors.values());"
   ]
  },
  {
   "cell_type": "markdown",
   "metadata": {},
   "source": [
    "This simple code gives you thousands of networks with various meta information at your fingertips, to wich you can directly apply graph learning models provided in pyG, or deep graoh learning architectures defined by yourself. "
   ]
  }
 ],
 "metadata": {
  "kernelspec": {
   "display_name": "base",
   "language": "python",
   "name": "python3"
  },
  "language_info": {
   "codemirror_mode": {
    "name": "ipython",
    "version": 3
   },
   "file_extension": ".py",
   "mimetype": "text/x-python",
   "name": "python",
   "nbconvert_exporter": "python",
   "pygments_lexer": "ipython3",
   "version": "3.10.13"
  },
  "orig_nbformat": 4
 },
 "nbformat": 4,
 "nbformat_minor": 2
}
