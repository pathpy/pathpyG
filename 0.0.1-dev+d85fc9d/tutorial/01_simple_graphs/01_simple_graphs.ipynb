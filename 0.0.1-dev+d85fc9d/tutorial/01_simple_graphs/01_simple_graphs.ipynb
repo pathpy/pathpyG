{
 "cells": [
  {
   "cell_type": "code",
   "execution_count": 1,
   "metadata": {},
   "outputs": [
    {
     "name": "stdout",
     "output_type": "stream",
     "text": [
      "Running on cuda\n"
     ]
    }
   ],
   "source": [
    "import torch\n",
    "\n",
    "import pathpyG as pp\n",
    "\n",
    "print('Running on', pp.config['torch']['device'])"
   ]
  },
  {
   "cell_type": "markdown",
   "metadata": {},
   "source": [
    "The following snippet generates a graph with three nodes a, b, c and three edges (a,c), (b,c), (a,b)"
   ]
  },
  {
   "cell_type": "code",
   "execution_count": 2,
   "metadata": {},
   "outputs": [
    {
     "name": "stdout",
     "output_type": "stream",
     "text": [
      "Graph with 3 nodes and 3 edges\n",
      "\n",
      "Node attributes\n",
      "\tnode_id\t\t<class 'list'>\n",
      "\n",
      "Graph attributes\n",
      "\tnum_nodes\t\t<class 'int'>\n",
      "\n"
     ]
    }
   ],
   "source": [
    "g = pp.Graph(edge_index=torch.tensor([[0,1,0], [2,2,1]]).to(pp.config['torch']['device']), node_id=['a', 'b', 'c'])\n",
    "print(g)"
   ]
  },
  {
   "cell_type": "code",
   "execution_count": 3,
   "metadata": {},
   "outputs": [
    {
     "data": {
      "text/plain": [
       "<1x3 sparse matrix of type '<class 'numpy.float32'>'\n",
       "\twith 2 stored elements in Compressed Sparse Row format>"
      ]
     },
     "execution_count": 3,
     "metadata": {},
     "output_type": "execute_result"
    }
   ],
   "source": [
    "g.get_sparse_adj_matrix().getrow(0)"
   ]
  },
  {
   "cell_type": "code",
   "execution_count": 4,
   "metadata": {},
   "outputs": [
    {
     "name": "stdout",
     "output_type": "stream",
     "text": [
      "a\n",
      "b\n",
      "c\n",
      "('a', 'c')\n",
      "('b', 'c')\n",
      "('a', 'b')\n"
     ]
    }
   ],
   "source": [
    "for v in g.nodes:\n",
    "    print(v)\n",
    "\n",
    "for e in g.edges:\n",
    "    print(e)"
   ]
  },
  {
   "cell_type": "code",
   "execution_count": 14,
   "metadata": {},
   "outputs": [
    {
     "data": {
      "text/plain": [
       "1"
      ]
     },
     "execution_count": 14,
     "metadata": {},
     "output_type": "execute_result"
    }
   ],
   "source": [
    "g.in_degrees['b']"
   ]
  },
  {
   "cell_type": "code",
   "execution_count": 15,
   "metadata": {},
   "outputs": [
    {
     "data": {
      "text/plain": [
       "2"
      ]
     },
     "execution_count": 15,
     "metadata": {},
     "output_type": "execute_result"
    }
   ],
   "source": [
    "g.out_degrees['a']"
   ]
  },
  {
   "cell_type": "code",
   "execution_count": 16,
   "metadata": {},
   "outputs": [
    {
     "data": {
      "text/plain": [
       "False"
      ]
     },
     "execution_count": 16,
     "metadata": {},
     "output_type": "execute_result"
    }
   ],
   "source": [
    "'b' in g.successors('c')"
   ]
  },
  {
   "cell_type": "code",
   "execution_count": 17,
   "metadata": {},
   "outputs": [
    {
     "data": {
      "text/plain": [
       "True"
      ]
     },
     "execution_count": 17,
     "metadata": {},
     "output_type": "execute_result"
    }
   ],
   "source": [
    "g.is_edge('a', 'b')"
   ]
  },
  {
   "cell_type": "markdown",
   "metadata": {},
   "source": [
    "We can create the same graph based on an edge list."
   ]
  },
  {
   "cell_type": "code",
   "execution_count": 9,
   "metadata": {},
   "outputs": [
    {
     "name": "stdout",
     "output_type": "stream",
     "text": [
      "Graph with 3 nodes and 3 edges\n",
      "\n",
      "Node attributes\n",
      "\tnode_id\t\t<class 'list'>\n",
      "\n",
      "Graph attributes\n",
      "\tnum_nodes\t\t<class 'int'>\n",
      "\n",
      "tensor([[0, 1, 0],\n",
      "        [1, 2, 2]], device='cuda:0')\n",
      "{0: 'a', 1: 'b', 2: 'c'}\n",
      "{'a': 0, 'b': 1, 'c': 2}\n"
     ]
    }
   ],
   "source": [
    "g = pp.Graph.from_edge_list([['a','b'], ['b','c'], ['a','c']])\n",
    "print(g)\n",
    "print(g.data.edge_index)\n",
    "print(g.node_index_to_id)\n",
    "print(g.node_id_to_index)"
   ]
  },
  {
   "cell_type": "code",
   "execution_count": 10,
   "metadata": {},
   "outputs": [
    {
     "name": "stdout",
     "output_type": "stream",
     "text": [
      "Graph with 3 nodes and 3 edges\n",
      "\n",
      "Node attributes\n",
      "\tnode_class\t\t<class 'torch.Tensor'> -> torch.Size([3, 1])\n",
      "\tnode_id\t\t<class 'list'>\n",
      "\n",
      "Edge attributes\n",
      "\tedge_weight\t\t<class 'torch.Tensor'> -> torch.Size([3, 1])\n",
      "\n",
      "Graph attributes\n",
      "\tgraph_feature\t\t<class 'torch.Tensor'> -> torch.Size([1])\n",
      "\tnum_nodes\t\t<class 'int'>\n",
      "\n"
     ]
    }
   ],
   "source": [
    "g.data['node_class'] = torch.tensor([[1],[2],[3]]).to(pp.config['torch']['device'])\n",
    "g.data['edge_weight'] = torch.tensor([[1],[1],[2]]).to(pp.config['torch']['device'])\n",
    "g.data['graph_feature'] = torch.tensor([42]).to(pp.config['torch']['device'])\n",
    "print(g)"
   ]
  },
  {
   "cell_type": "markdown",
   "metadata": {},
   "source": [
    "We can conveniently access attributes of individual nodes and edges as follows:"
   ]
  },
  {
   "cell_type": "code",
   "execution_count": 11,
   "metadata": {},
   "outputs": [
    {
     "name": "stdout",
     "output_type": "stream",
     "text": [
      "tensor([2], device='cuda:0')\n",
      "tensor([2], device='cuda:0')\n",
      "tensor([42], device='cuda:0')\n"
     ]
    }
   ],
   "source": [
    "print(g['node_class', 'b'])\n",
    "print(g['edge_weight', 'a', 'c'])\n",
    "print(g['graph_feature'])"
   ]
  },
  {
   "cell_type": "markdown",
   "metadata": {},
   "source": [
    "We can iterate through successors and predecessors of nodes:"
   ]
  },
  {
   "cell_type": "code",
   "execution_count": 12,
   "metadata": {},
   "outputs": [
    {
     "name": "stdout",
     "output_type": "stream",
     "text": [
      "b\n",
      "c\n",
      "---\n",
      "a\n"
     ]
    }
   ],
   "source": [
    "for w in g.successors('a'):\n",
    "    print(w)\n",
    "print('---')\n",
    "for w in g.predecessors('b'):\n",
    "    print(w)"
   ]
  },
  {
   "cell_type": "markdown",
   "metadata": {},
   "source": [
    "We can compute weighted adjacency matrices as follows:"
   ]
  },
  {
   "cell_type": "code",
   "execution_count": 13,
   "metadata": {},
   "outputs": [
    {
     "name": "stdout",
     "output_type": "stream",
     "text": [
      "[[0 1 2]\n",
      " [0 0 1]\n",
      " [0 0 0]]\n"
     ]
    }
   ],
   "source": [
    "print(g.get_sparse_adj_matrix(edge_attr='edge_weight').todense())"
   ]
  },
  {
   "cell_type": "markdown",
   "metadata": {},
   "source": [
    "To easily apply GNNs, we can add attributes based on one-hot-encodings of nodes and edges:"
   ]
  },
  {
   "cell_type": "code",
   "execution_count": 14,
   "metadata": {},
   "outputs": [
    {
     "name": "stdout",
     "output_type": "stream",
     "text": [
      "Graph with 3 nodes and 3 edges\n",
      "\n",
      "Node attributes\n",
      "\tnode_class\t\t<class 'torch.Tensor'> -> torch.Size([3, 1])\n",
      "\tnode_feature_2\t\t<class 'torch.Tensor'> -> torch.Size([3, 4])\n",
      "\tnode_id\t\t<class 'list'>\n",
      "\tnode_feature_1\t\t<class 'torch.Tensor'> -> torch.Size([3, 3])\n",
      "\n",
      "Edge attributes\n",
      "\tedge_feature\t\t<class 'torch.Tensor'> -> torch.Size([3, 5])\n",
      "\tedge_weight\t\t<class 'torch.Tensor'> -> torch.Size([3, 1])\n",
      "\n",
      "Graph attributes\n",
      "\tgraph_feature\t\t<class 'torch.Tensor'> -> torch.Size([1])\n",
      "\tnum_nodes\t\t<class 'int'>\n",
      "\n",
      "tensor([[1., 0., 0.],\n",
      "        [0., 1., 0.],\n",
      "        [0., 0., 1.]], device='cuda:0')\n",
      "tensor([[1., 0., 0., 0.],\n",
      "        [0., 1., 0., 0.],\n",
      "        [0., 0., 1., 0.]], device='cuda:0')\n",
      "tensor([[1., 0., 0., 0., 0.],\n",
      "        [0., 1., 0., 0., 0.],\n",
      "        [0., 0., 1., 0., 0.]], device='cuda:0')\n"
     ]
    }
   ],
   "source": [
    "g.add_node_ohe(attr_name='node_feature_1')\n",
    "g.add_node_ohe(attr_name='node_feature_2', dim=4)\n",
    "g.add_edge_ohe(attr_name='edge_feature', dim=5)\n",
    "print(g)\n",
    "\n",
    "print(g.data['node_feature_1'])\n",
    "print(g.data['node_feature_2'])\n",
    "print(g.data['edge_feature'])"
   ]
  },
  {
   "cell_type": "markdown",
   "metadata": {},
   "source": [
    "We can generate pyG data frames from a Graph. We can easily combine multiple node or edge features which have a tensor value."
   ]
  },
  {
   "cell_type": "code",
   "execution_count": 15,
   "metadata": {},
   "outputs": [
    {
     "name": "stdout",
     "output_type": "stream",
     "text": [
      "Data(edge_index=[2, 3], node_id=[3], num_nodes=3, node_class=[3, 1], edge_weight=[3, 1], graph_feature=[1], node_feature_1=[3, 3], node_feature_2=[3, 4], edge_feature=[3, 5])\n"
     ]
    }
   ],
   "source": [
    "data = g.to_pyg_data()\n",
    "print(data)"
   ]
  },
  {
   "cell_type": "markdown",
   "metadata": {},
   "source": [
    "Example for a graph with multi-edges:"
   ]
  },
  {
   "cell_type": "code",
   "execution_count": 16,
   "metadata": {},
   "outputs": [
    {
     "name": "stdout",
     "output_type": "stream",
     "text": [
      "Graph with 3 nodes and 4 edges\n",
      "\n",
      "Node attributes\n",
      "\tnode_id\t\t<class 'list'>\n",
      "\n",
      "Graph attributes\n",
      "\tnum_nodes\t\t<class 'int'>\n",
      "\n",
      "tensor([[0, 1, 0, 0],\n",
      "        [1, 2, 2, 1]], device='cuda:0')\n",
      "{0: 'a', 1: 'b', 2: 'c'}\n",
      "{'a': 0, 'b': 1, 'c': 2}\n"
     ]
    }
   ],
   "source": [
    "g = pp.Graph.from_edge_list([['a','b'], ['b','c'], ['a','c'], ['a', 'b']])\n",
    "print(g)\n",
    "print(g.data.edge_index)\n",
    "print(g.node_index_to_id)\n",
    "print(g.node_id_to_index)"
   ]
  },
  {
   "cell_type": "code",
   "execution_count": 17,
   "metadata": {},
   "outputs": [
    {
     "name": "stdout",
     "output_type": "stream",
     "text": [
      "('a', 'b')\n",
      "('b', 'c')\n",
      "('a', 'c')\n",
      "('a', 'b')\n"
     ]
    }
   ],
   "source": [
    "for e in g.edges:\n",
    "    print(e)"
   ]
  },
  {
   "cell_type": "markdown",
   "metadata": {},
   "source": [
    "Generate a graph from a pyG data set: "
   ]
  },
  {
   "cell_type": "code",
   "execution_count": 18,
   "metadata": {},
   "outputs": [
    {
     "data": {
      "text/plain": [
       "Data(x=[4], edge_index=[2, 3], node_id=[4])"
      ]
     },
     "execution_count": 18,
     "metadata": {},
     "output_type": "execute_result"
    }
   ],
   "source": [
    "from torch_geometric.data import Data\n",
    "d = Data(x=torch.Tensor([0,0,0,1]), edge_index=torch.Tensor([[0,0,1],[1,2,2]]), node_id=['a', 'b', 'c', 'd'])\n",
    "d.to(pp.config['torch']['device'])"
   ]
  },
  {
   "cell_type": "code",
   "execution_count": 19,
   "metadata": {},
   "outputs": [
    {
     "name": "stdout",
     "output_type": "stream",
     "text": [
      "Data(x=[4], edge_index=[2, 3], node_id=[4])\n"
     ]
    }
   ],
   "source": [
    "print(d)"
   ]
  },
  {
   "cell_type": "code",
   "execution_count": 20,
   "metadata": {},
   "outputs": [
    {
     "name": "stdout",
     "output_type": "stream",
     "text": [
      "Graph with 4 nodes and 3 edges\n",
      "\n",
      "Node attributes\n",
      "\tnode_id\t\t<class 'list'>\n",
      "\tx\t\t<class 'torch.Tensor'> -> torch.Size([4])\n",
      "\n",
      "Graph attributes\n",
      "\tnum_nodes\t\t<class 'int'>\n",
      "\n"
     ]
    }
   ],
   "source": [
    "g = pp.Graph.from_pyg_data(d)\n",
    "print(g)"
   ]
  },
  {
   "cell_type": "code",
   "execution_count": null,
   "metadata": {},
   "outputs": [],
   "source": []
  }
 ],
 "metadata": {
  "kernelspec": {
   "display_name": "base",
   "language": "python",
   "name": "python3"
  },
  "language_info": {
   "codemirror_mode": {
    "name": "ipython",
    "version": 3
   },
   "file_extension": ".py",
   "mimetype": "text/x-python",
   "name": "python",
   "nbconvert_exporter": "python",
   "pygments_lexer": "ipython3",
   "version": "3.10.11"
  },
  "orig_nbformat": 4
 },
 "nbformat": 4,
 "nbformat_minor": 2
}
