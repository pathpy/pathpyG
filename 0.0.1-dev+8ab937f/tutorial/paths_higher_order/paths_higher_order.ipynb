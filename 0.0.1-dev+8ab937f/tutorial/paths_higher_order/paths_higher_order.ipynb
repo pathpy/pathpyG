{
 "cells": [
  {
   "cell_type": "markdown",
   "metadata": {},
   "source": [
    "# Path Data and Higher-Order De Bruijn Graphs\n",
    "\n",
    "## Motivation and Learning Objective\n",
    "\n",
    "While `pathpyG` is useful to handle static graphs - as the name suggests - its main advantage is that it facilitates the GPU-based analysis of time series data capturing paths in networks. As we shall see in the following tutorial, there are various types of data that naturally give rise to paths, including (random) walks or trajectories in networks, traces of dynamical processes giving rise to directed acyclic graphs, or temporal graphs with time-stamped edges. ``pathpyG` allows to model patterns in such graphs based on higher-order De Bruijn graph models, a modelling framework that naturally extends well-known graph models to causal topologies in temporal graphs.\n",
    "\n",
    "In this first unit, we will introduce the `PathData` class, which can be used to store data on walks and directed acyclic graphs. We will show how such data are internally stored as torch Tensors, and how this approach faciliattes the GPU-based gemeration of higher-order De Bruijn graph models, a modelling approach that is able to captures higher-order correlations in time series data, and which facilitates graph learning and network analysis tasks. \n",
    "\n",
    "As before, we first import the modules `torch` and `pathpyG`. By setting the device used by `torch`, we can pecify whether we want to run our code on the CPU or on the GPU. If you want to run your code on the GPU, just set the device to `cuda`."
   ]
  },
  {
   "cell_type": "code",
   "execution_count": 1,
   "metadata": {},
   "outputs": [],
   "source": [
    "import torch\n",
    "import pathpyG as pp\n",
    "\n",
    "pp.config['torch']['device'] = 'cpu'"
   ]
  },
  {
   "cell_type": "markdown",
   "metadata": {},
   "source": [
    "## Modelling Walks in a Graph\n",
    "\n",
    "Let us consider a simple graph consisting of five nodes `a`, `b`, `c`, `d`, `e` and four edges. The graph is shown below:"
   ]
  },
  {
   "cell_type": "code",
   "execution_count": 3,
   "metadata": {},
   "outputs": [
    {
     "data": {
      "text/html": [
       "<style>\n",
       "svg circle.node {\n",
       "  fill: #3b5998;\n",
       "  stroke: #1b3978;\n",
       "  stroke-width: 5.5px;\n",
       "  r: 15px;\n",
       "  opacity: 1;\n",
       "}\n",
       "\n",
       ".link {\n",
       "  stroke: #4e4d4d;\n",
       "  stroke-opacity: .6;\n",
       "  stroke-width: 4px;\n",
       "}\n",
       "\n",
       ".labelText {\n",
       "  fill: #4e4d4d;\n",
       "}\n",
       "</style>\n",
       "\n",
       "<div id = \"x9e0af1fd4b7d4777827754930771a8cf\"> </div>\n",
       "<script charset=\"utf-8\" src=\"https://d3js.org/d3.v5.min.js\"></script>\n",
       "<script charset=\"utf-8\">\n",
       "// Load via requireJS if available (jupyter notebook environment)\n",
       "try {\n",
       "    // Problem: require.config will raise an exception when called for the second time \n",
       "    require.config({\n",
       "        paths: {\n",
       "            d3: \"https://d3js.org/d3.v5.min.js\".replace(\".js\", \"\")\n",
       "        }\n",
       "    });\n",
       "    console.log(\"OKAY: requireJS was detected.\");\n",
       "}\n",
       "catch(err){\n",
       "    // a reference error indicates that requireJS does not exist. \n",
       "    // other errors may occur due to multiple calls to config\n",
       "    if (err instanceof ReferenceError){\n",
       "        console.log(\"WARNING: NO requireJS was detected!\");\n",
       "\n",
       "        // Helper function that waits for d3js to be loaded\n",
       "        require = function require(symbols, callback) {\n",
       "            var ms = 5;\n",
       "            window.setTimeout(function(t) {\n",
       "                if (window[symbols[0]])\n",
       "                    callback(window[symbols[0]]);\n",
       "                else \n",
       "                    window.setTimeout(arguments.callee, ms);\n",
       "            }, ms);\n",
       "        }\n",
       "    }\n",
       "};\n",
       "require(['d3'], function(d3){ //START\n",
       "const data = {\"edges\": [{\"uid\": \"a-c\", \"source\": \"a\", \"target\": \"c\", \"weight\": 1}, {\"uid\": \"b-c\", \"source\": \"b\", \"target\": \"c\", \"weight\": 1}, {\"uid\": \"c-d\", \"source\": \"c\", \"target\": \"d\", \"weight\": 1}, {\"uid\": \"c-e\", \"source\": \"c\", \"target\": \"e\", \"weight\": 1}], \"nodes\": [{\"uid\": \"a\", \"x\": 0.1240203930619771, \"y\": 0.055835616930511645}, {\"uid\": \"c\", \"x\": 0.6767185030810176, \"y\": 0.1525892747256944}, {\"uid\": \"b\", \"x\": 0.5942748757435836, \"y\": 0.5945427825848391}, {\"uid\": \"d\", \"x\": 0.7274975181975037, \"y\": 0.2732204251780833}, {\"uid\": \"e\", \"x\": 0.5027719753031643, \"y\": 0.7877817547982042}]}\n",
       "const config = {\"selector\": \"#x9e0af1fd4b7d4777827754930771a8cf\"}\n",
       "console.log(\"Static Network Template\");\n",
       "/* Resources\n",
       "   https://bl.ocks.org/mapio/53fed7d84cd1812d6a6639ed7aa83868\n",
       "   https://codepen.io/smlo/pen/JdMOej\n",
       "*/\n",
       "\n",
       "// variables from the config file\n",
       "const selector = config.selector;\n",
       "const width = config.width || 400;\n",
       "const height = config.height || 400;\n",
       "\n",
       "/* Create a svg element to display the network */\n",
       "var svg = d3.select(selector)\n",
       "    .append('svg')\n",
       "    .attr('width', width)\n",
       "    .attr('height', height)\n",
       "\n",
       "// add container to store the elements\n",
       "var container = svg.append(\"g\");\n",
       "\n",
       "/*Add zoom function to the container */\n",
       "svg.call(\n",
       "    d3.zoom()\n",
       "        .scaleExtent([.1, 4])\n",
       "        .on(\"zoom\", function() { container.attr(\"transform\", d3.event.transform); })\n",
       ");\n",
       "\n",
       "\n",
       "/*Load nodes and links from the data */\n",
       "var nodes = data.nodes\n",
       "var links = data.edges\n",
       "\n",
       "/*Link creation template */\n",
       "var link = container.append(\"g\").attr(\"class\", \"links\")\n",
       "    .selectAll(\".link\")\n",
       "    .data(links)\n",
       "    .enter()\n",
       "    .append(\"line\")\n",
       "    .attr(\"class\", \"link\")\n",
       "    .style(\"stroke\", function(d) { return d.color; })\n",
       "    .style(\"stroke-opacity\", function(d) { return d.opacity; })\n",
       "    .style(\"stroke-width\", function(d){  return d.size });\n",
       "\n",
       "/*Node creation template */\n",
       "var node = container.append(\"g\").attr(\"class\", \"nodes\")\n",
       "    .selectAll(\"circle.node\")\n",
       "    .data(nodes)\n",
       "    .enter().append(\"circle\")\n",
       "    .attr(\"class\", \"node\")\n",
       "    .attr(\"x\", function(d) { return d.x; })\n",
       "    .attr(\"y\", function(d) { return d.y; })\n",
       "    .style(\"r\", function(d){  return d.size+\"px\"; })\n",
       "    .style(\"fill\", function(d) { return d.color; })\n",
       "    .style(\"opacity\", function(d) { return d.opacity; });\n",
       "\n",
       "\n",
       "/*Simulation of the forces*/\n",
       "var simulation = d3.forceSimulation(nodes)\n",
       "    .force(\"charge\", d3.forceManyBody().strength(-3000))\n",
       "    .force(\"center\", d3.forceCenter(width / 2, height / 2))\n",
       "    .force(\"x\", d3.forceX(width / 2).strength(1))\n",
       "    .force(\"y\", d3.forceY(height / 2).strength(1))\n",
       "    .force(\"links\", d3.forceLink(links)\n",
       "           .id(function(d) {return d.uid; })\n",
       "           .distance(50).strength(function(d){return d.weight;}))\n",
       "    .on(\"tick\", ticked);\n",
       "\n",
       "/*Update of the node and edge objects*/\n",
       "function ticked() {\n",
       "    node.call(updateNode);\n",
       "    link.call(updateLink);\n",
       "};\n",
       "\n",
       "/*Update link positions */\n",
       "function updateLink(link) {\n",
       "    link\n",
       "        .attr(\"x1\", function(d) { return d.source.x; })\n",
       "        .attr(\"y1\", function(d) { return d.source.y; })\n",
       "        .attr(\"x2\", function(d) { return d.target.x; })\n",
       "        .attr(\"y2\", function(d) { return d.target.y; });\n",
       "};\n",
       "\n",
       "/*Update node positions */\n",
       "function updateNode(node) {\n",
       "    node.attr(\"transform\", function(d) {\n",
       "        return \"translate(\" + d.x + \",\" + d.y + \")\";\n",
       "    });\n",
       "};\n",
       "\n",
       "/*Add drag functionality to the node objects*/\n",
       "node.call(\n",
       "    d3.drag()\n",
       "        .on(\"start\", dragstarted)\n",
       "        .on(\"drag\", dragged)\n",
       "        .on(\"end\", dragended)\n",
       ");\n",
       "\n",
       "function dragstarted(d) {\n",
       "    d3.event.sourceEvent.stopPropagation();\n",
       "    if (!d3.event.active) simulation.alphaTarget(0.3).restart();\n",
       "    d.fx = d.x;\n",
       "    d.fy = d.y;\n",
       "};\n",
       "\n",
       "function dragged(d) {\n",
       "    d.fx = d3.event.x;\n",
       "    d.fy = d3.event.y;\n",
       "};\n",
       "\n",
       "function dragended(d) {\n",
       "    if (!d3.event.active) simulation.alphaTarget(0);\n",
       "    d.fx = null;\n",
       "    d.fy = null;\n",
       "};\n",
       "\n",
       "}); //END\n",
       "\n",
       "</script>"
      ]
     },
     "metadata": {},
     "output_type": "display_data"
    }
   ],
   "source": [
    "g = pp.Graph.from_edge_list([['a', 'c'], ['b', 'c'], ['c', 'd'], ['c', 'e']])\n",
    "pp.plot(g);"
   ]
  },
  {
   "cell_type": "markdown",
   "metadata": {},
   "source": [
    "Let us now assume that we have additional data that captures two observations each for the following two paths (or walks) of length two:\n",
    "\n",
    "- 2 x `a` -> `c` -> `d`  \n",
    "- 2 x `b` -> `c` -> `e` \n",
    "\n",
    "Note that we define the length of a path or walk as the number of edges that are traversed, i.e. a sequence that consists of a single node, e.g. `a` is a walk or path of length zero, while every edge in a graph is a walk or path of length one."
   ]
  },
  {
   "cell_type": "markdown",
   "metadata": {},
   "source": [
    "The `PathData` object in `pathpyG` can be used to store such observations of paths or walks of length $l$ in the form of tensor with shape $(2,l)$. To manually construct an instance of `PathData` we can just create an empty instance and then add observations.\n",
    "\n",
    "In the following, we will use the mapping node IDs to indices from the Graph above:"
   ]
  },
  {
   "cell_type": "code",
   "execution_count": 20,
   "metadata": {},
   "outputs": [
    {
     "data": {
      "text/plain": [
       "{0: 'a', 1: 'c', 2: 'b', 3: 'd', 4: 'e'}"
      ]
     },
     "execution_count": 20,
     "metadata": {},
     "output_type": "execute_result"
    }
   ],
   "source": [
    "g.node_index_to_id"
   ]
  },
  {
   "cell_type": "markdown",
   "metadata": {},
   "source": [
    "With this mapping, we can use the following ordered `edge_index` with source and target node indices to represent the walk `a` -> `c` -> `d`:\n",
    "\n",
    "`[[0,2],` # source node indices for `a` and `c`  \n",
    " ` [2,3]]`   # target node indices for `c` and `d`\n",
    "\n",
    "It is easy to see that this representation naturally extends the `edge_index` semantics of `pyG`. It will further allow us to efficiently generate higher-order De Bruijn graph models for path data based on a convolution operation that can actually be executed on the GPU. \n",
    "\n",
    "For our data set, we can add two walks as follows, where each walk is observed two times."
   ]
  },
  {
   "cell_type": "code",
   "execution_count": 106,
   "metadata": {},
   "outputs": [],
   "source": [
    "paths = pp.PathData()\n",
    "paths.add_walk(torch.tensor([[0,2],[2,3]]), freq=2) # a -> c -> d\n",
    "paths.add_walk(torch.tensor([[1,2],[2,4]]), freq=2) # b -> c -> e"
   ]
  },
  {
   "cell_type": "markdown",
   "metadata": {},
   "source": [
    "After adding the four walks, we can directly access an aggregate graph representation of the paths:"
   ]
  },
  {
   "cell_type": "code",
   "execution_count": 53,
   "metadata": {},
   "outputs": [
    {
     "name": "stdout",
     "output_type": "stream",
     "text": [
      "Paths traverse 5 nodes via 4\n",
      "tensor([[0, 1, 2, 2],\n",
      "        [2, 2, 3, 4]])\n"
     ]
    }
   ],
   "source": [
    "print(f'Paths traverse {paths.num_nodes} nodes via {paths.num_edges}')\n",
    "print(paths.edge_index)"
   ]
  },
  {
   "cell_type": "markdown",
   "metadata": {},
   "source": [
    "We can also create a weighted `edge_index` where each traversed edge occurs only once, and the weights capture the number of times each edge is traversed. This function returnes two tensors, the first one being the edge_index and the second one being the edge weights."
   ]
  },
  {
   "cell_type": "code",
   "execution_count": 54,
   "metadata": {},
   "outputs": [
    {
     "name": "stdout",
     "output_type": "stream",
     "text": [
      "(tensor([[0, 1, 2, 2],\n",
      "        [2, 2, 3, 4]]), tensor([2., 2., 2., 2.]))\n"
     ]
    }
   ],
   "source": [
    "print(paths.edge_index_weighted)"
   ]
  },
  {
   "cell_type": "markdown",
   "metadata": {},
   "source": [
    "## Loading empirical walks from N-Gram Files"
   ]
  },
  {
   "cell_type": "markdown",
   "metadata": {},
   "source": [
    "Naturally, for real data on observed walks in graphs it is not convenient to manually construct and add walks based on edge tensors. For such data, we can load paths from an n-gram file, i.e. a text file where each line correponds to one observed path consisting of comma-separated node IDs. The last component of each line is considered to be the observation count of that particular walk.\n",
    "\n",
    "As an example, the file `data/tube_paths_train.ngram` contains observed passenger itineraries between stations in the London Tube network, along with their observation frequencies. The following is an excerpt from that file:\n",
    "\n",
    "```\n",
    "Southwark,Waterloo,212.0\n",
    "Liverpool Street,Bank / Monument,1271.0\n",
    "Barking,West Ham,283.0\n",
    "Tufnell Park,Kentish Town,103.0\n",
    "...\n",
    "```"
   ]
  },
  {
   "cell_type": "code",
   "execution_count": 55,
   "metadata": {},
   "outputs": [
    {
     "name": "stdout",
     "output_type": "stream",
     "text": [
      "PathData with 61748 walks and 0 dags\n",
      "London Tube network has 268 nodes and 646 edges.\n"
     ]
    }
   ],
   "source": [
    "paths_tube = pp.PathData.from_csv('../data/tube_paths_train.ngram', sep=',')\n",
    "print(paths_tube)\n",
    "print(f'London Tube network has {paths_tube.num_nodes} nodes and {paths_tube.num_edges} edges.')"
   ]
  },
  {
   "cell_type": "markdown",
   "metadata": {},
   "source": [
    "In the example above, our observations exclusively consisted of walks, i.e. simple sequences of traversed nodes. Let's now have a look how walks are internally stored in the `PathData` object. Each observation in the `PathData` object is internally assigned an integer identifier and there are three dictionaries that store (i) the tensors capturing the observed path, (ii) their frequencies, and (iii) the type of the observation."
   ]
  },
  {
   "cell_type": "code",
   "execution_count": 36,
   "metadata": {},
   "outputs": [
    {
     "data": {
      "text/plain": [
       "{0: tensor([[0, 2],\n",
       "         [2, 3]]),\n",
       " 1: tensor([[1, 2],\n",
       "         [2, 4]])}"
      ]
     },
     "execution_count": 36,
     "metadata": {},
     "output_type": "execute_result"
    }
   ],
   "source": [
    "paths.paths"
   ]
  },
  {
   "cell_type": "markdown",
   "metadata": {},
   "source": [
    "For the sake of convenience, there is a helper function that can be used to transform the tensor-based `edge_index` representation of a given walk into a simple sequence of traversed nodes, i.e. for the walk with index 0 above we get the node index sequence `[0,2,3]`:"
   ]
  },
  {
   "cell_type": "code",
   "execution_count": 48,
   "metadata": {},
   "outputs": [
    {
     "data": {
      "text/plain": [
       "tensor([0, 2, 3])"
      ]
     },
     "execution_count": 48,
     "metadata": {},
     "output_type": "execute_result"
    }
   ],
   "source": [
    "pp.PathData.walk_to_node_seq(paths.paths[0])"
   ]
  },
  {
   "cell_type": "markdown",
   "metadata": {},
   "source": [
    "The frequencies of walks are stored in the dictionary `path_freq`."
   ]
  },
  {
   "cell_type": "code",
   "execution_count": 56,
   "metadata": {},
   "outputs": [
    {
     "data": {
      "text/plain": [
       "{0: 2, 1: 2}"
      ]
     },
     "execution_count": 56,
     "metadata": {},
     "output_type": "execute_result"
    }
   ],
   "source": [
    "paths.path_freq"
   ]
  },
  {
   "cell_type": "markdown",
   "metadata": {},
   "source": [
    "There is a third dictionary that stores the type of paths:"
   ]
  },
  {
   "cell_type": "code",
   "execution_count": 57,
   "metadata": {},
   "outputs": [
    {
     "data": {
      "text/plain": [
       "{0: <PathType.WALK: 0>, 1: <PathType.WALK: 0>}"
      ]
     },
     "execution_count": 57,
     "metadata": {},
     "output_type": "execute_result"
    }
   ],
   "source": [
    "paths.path_types"
   ]
  },
  {
   "cell_type": "markdown",
   "metadata": {},
   "source": [
    "## From Walks to DAGs\n",
    "\n",
    "We see that this corresponds to our two walks, each being observed two times. But what is the point of explicitly storing the type of an observation as a walk? What other types of path data can be stored and analyzed in `pathpyG`? \n",
    "\n",
    "A major feature of `pathpyG` is that it allows us to model the causal topology of temporal graph data, i.e. the topology of time-stamped edges by which nodes can causally influence each other via time-respecting paths, i.e. paths that must (minimally) follow the arrow of time.\n",
    "\n",
    "As we shall see in the next tutorial, time-respecting paths in temporal graphs naturally give rise to directed acyclic graphs, where the directionality of edges is due to the directionality of the arrow of time. A very simple example for a DAG is one that consists of the following edges:\n",
    "\n",
    "`a` -> `b`  \n",
    "`b` -> `c`  \n",
    "`b` -> `d`  \n",
    "\n",
    "This DAG captures that node `a` causally influences node `b`, which in turn causally influences the two nodes `c` and `d`, potentially at a later point in time. In `pathpyG`, such a DAG can be represented by a topologically ordered edge index, where the order of edges corresponds to the topological ordering. For the example above, and assuming the same node ID mapping as in the example before, we can thus add two observations of this DAG to a `pathData` object as follows:"
   ]
  },
  {
   "cell_type": "code",
   "execution_count": 109,
   "metadata": {},
   "outputs": [],
   "source": [
    "paths = pp.PathData()\n",
    "paths.node_id = ['a', 'b', 'c', 'd']\n",
    "paths.add_dag(torch.tensor([[0, 1, 1],\n",
    "                            [1, 2, 3]]),\n",
    "                        freq=2)"
   ]
  },
  {
   "cell_type": "markdown",
   "metadata": {},
   "source": [
    "In pathpyG, we can actually mix observations of walks and DAGs, i.e. we can additionally add two observations of a walk `a` -> `b` -> `c` -> `d` to our `PathData` object as follows:"
   ]
  },
  {
   "cell_type": "code",
   "execution_count": 110,
   "metadata": {},
   "outputs": [],
   "source": [
    "paths.add_walk(torch.tensor([[0, 1, 2], \n",
    "                             [1, 2, 3]]), \n",
    "                             freq=2)"
   ]
  },
  {
   "cell_type": "markdown",
   "metadata": {},
   "source": [
    "We can now again inspect the internal dictionaries holding our data, which now consists of two tensors with different types:"
   ]
  },
  {
   "cell_type": "code",
   "execution_count": 111,
   "metadata": {},
   "outputs": [
    {
     "name": "stdout",
     "output_type": "stream",
     "text": [
      "{0: tensor([[0, 1, 1],\n",
      "        [1, 2, 3]]), 1: tensor([[0, 1, 2],\n",
      "        [1, 2, 3]])}\n",
      "{0: <PathType.DAG: 1>, 1: <PathType.WALK: 0>}\n",
      "{0: 2, 1: 2}\n"
     ]
    }
   ],
   "source": [
    "print(paths.paths)\n",
    "print(paths.path_types)\n",
    "print(paths.path_freq)"
   ]
  },
  {
   "cell_type": "markdown",
   "metadata": {},
   "source": [
    "At first glance, it may actually seem unnecessary to distinguish between walks and DAGs, as a walk is simply a special type of a DAG, where all nodes have in- and out-degrees smaller or equal than one. And indeed, you could simply ignore this distinction and store both walks and DAGs as a DAG. Nevertheless, `pathpyG` explicitly dinstiguishes between the two types of path data, since some downstream operations - specifically the creation of higher-order De Bruijn graph models - are much faster for walks (which are essentially just sequences of nodes) than for DAGs  (which can have arbitrarily complex structures). It is thus advisable to explicitly store walk data as WALK. To improve the scalability of  path calculations in temporal graphs, `pathpyG` will further detect whether the resulting paths actually require a DAG representation, automatically choosing the most efficient representation."
   ]
  },
  {
   "cell_type": "markdown",
   "metadata": {},
   "source": [
    "## Higher-Order De Bruijn Graph Models of Paths"
   ]
  },
  {
   "cell_type": "markdown",
   "metadata": {},
   "source": [
    "As shown before, we can use the `PathData` class to easily generate an `edge_index` tensor of a weighted graph representation, which essentially aggregates all of the observed walks and DAGs into a weighted static graph. For the example above, this graph has four nodes connected by four edges that have weights four and two."
   ]
  },
  {
   "cell_type": "code",
   "execution_count": 112,
   "metadata": {},
   "outputs": [
    {
     "name": "stdout",
     "output_type": "stream",
     "text": [
      "tensor([[0, 1, 1, 2],\n",
      "        [1, 2, 3, 3]])\n",
      "tensor([4., 4., 2., 2.])\n"
     ]
    }
   ],
   "source": [
    "edge_index, edge_weight = paths.edge_index_weighted\n",
    "print(edge_index)\n",
    "print(edge_weight)"
   ]
  },
  {
   "cell_type": "markdown",
   "metadata": {},
   "source": [
    "Let's have a look at a visualization of this graph:"
   ]
  },
  {
   "cell_type": "code",
   "execution_count": 113,
   "metadata": {},
   "outputs": [
    {
     "data": {
      "text/html": [
       "<style>\n",
       "svg circle.node {\n",
       "  fill: #3b5998;\n",
       "  stroke: #1b3978;\n",
       "  stroke-width: 5.5px;\n",
       "  r: 15px;\n",
       "  opacity: 1;\n",
       "}\n",
       "\n",
       ".link {\n",
       "  stroke: #4e4d4d;\n",
       "  stroke-opacity: .6;\n",
       "  stroke-width: 4px;\n",
       "}\n",
       "\n",
       ".labelText {\n",
       "  fill: #4e4d4d;\n",
       "}\n",
       "</style>\n",
       "\n",
       "<div id = \"xc9434f29f1434afd853c1ba34033368c\"> </div>\n",
       "<script charset=\"utf-8\" src=\"https://d3js.org/d3.v5.min.js\"></script>\n",
       "<script charset=\"utf-8\">\n",
       "// Load via requireJS if available (jupyter notebook environment)\n",
       "try {\n",
       "    // Problem: require.config will raise an exception when called for the second time \n",
       "    require.config({\n",
       "        paths: {\n",
       "            d3: \"https://d3js.org/d3.v5.min.js\".replace(\".js\", \"\")\n",
       "        }\n",
       "    });\n",
       "    console.log(\"OKAY: requireJS was detected.\");\n",
       "}\n",
       "catch(err){\n",
       "    // a reference error indicates that requireJS does not exist. \n",
       "    // other errors may occur due to multiple calls to config\n",
       "    if (err instanceof ReferenceError){\n",
       "        console.log(\"WARNING: NO requireJS was detected!\");\n",
       "\n",
       "        // Helper function that waits for d3js to be loaded\n",
       "        require = function require(symbols, callback) {\n",
       "            var ms = 5;\n",
       "            window.setTimeout(function(t) {\n",
       "                if (window[symbols[0]])\n",
       "                    callback(window[symbols[0]]);\n",
       "                else \n",
       "                    window.setTimeout(arguments.callee, ms);\n",
       "            }, ms);\n",
       "        }\n",
       "    }\n",
       "};\n",
       "require(['d3'], function(d3){ //START\n",
       "const data = {\"edges\": [{\"uid\": \"a-b\", \"source\": \"a\", \"target\": \"b\", \"weight\": 4.0}, {\"uid\": \"b-c\", \"source\": \"b\", \"target\": \"c\", \"weight\": 4.0}, {\"uid\": \"b-d\", \"source\": \"b\", \"target\": \"d\", \"weight\": 2.0}, {\"uid\": \"c-d\", \"source\": \"c\", \"target\": \"d\", \"weight\": 2.0}], \"nodes\": [{\"uid\": \"a\", \"x\": 0.2976480576604771, \"y\": 0.5038587547040465}, {\"uid\": \"b\", \"x\": 0.6018091562795416, \"y\": 0.47364966486464366}, {\"uid\": \"c\", \"x\": 0.984596074761446, \"y\": 0.9019067434952173}, {\"uid\": \"d\", \"x\": 0.043232192733103636, \"y\": 0.3128630715173075}]}\n",
       "const config = {\"selector\": \"#xc9434f29f1434afd853c1ba34033368c\"}\n",
       "console.log(\"Static Network Template\");\n",
       "/* Resources\n",
       "   https://bl.ocks.org/mapio/53fed7d84cd1812d6a6639ed7aa83868\n",
       "   https://codepen.io/smlo/pen/JdMOej\n",
       "*/\n",
       "\n",
       "// variables from the config file\n",
       "const selector = config.selector;\n",
       "const width = config.width || 400;\n",
       "const height = config.height || 400;\n",
       "\n",
       "/* Create a svg element to display the network */\n",
       "var svg = d3.select(selector)\n",
       "    .append('svg')\n",
       "    .attr('width', width)\n",
       "    .attr('height', height)\n",
       "\n",
       "// add container to store the elements\n",
       "var container = svg.append(\"g\");\n",
       "\n",
       "/*Add zoom function to the container */\n",
       "svg.call(\n",
       "    d3.zoom()\n",
       "        .scaleExtent([.1, 4])\n",
       "        .on(\"zoom\", function() { container.attr(\"transform\", d3.event.transform); })\n",
       ");\n",
       "\n",
       "\n",
       "/*Load nodes and links from the data */\n",
       "var nodes = data.nodes\n",
       "var links = data.edges\n",
       "\n",
       "/*Link creation template */\n",
       "var link = container.append(\"g\").attr(\"class\", \"links\")\n",
       "    .selectAll(\".link\")\n",
       "    .data(links)\n",
       "    .enter()\n",
       "    .append(\"line\")\n",
       "    .attr(\"class\", \"link\")\n",
       "    .style(\"stroke\", function(d) { return d.color; })\n",
       "    .style(\"stroke-opacity\", function(d) { return d.opacity; })\n",
       "    .style(\"stroke-width\", function(d){  return d.size });\n",
       "\n",
       "/*Node creation template */\n",
       "var node = container.append(\"g\").attr(\"class\", \"nodes\")\n",
       "    .selectAll(\"circle.node\")\n",
       "    .data(nodes)\n",
       "    .enter().append(\"circle\")\n",
       "    .attr(\"class\", \"node\")\n",
       "    .attr(\"x\", function(d) { return d.x; })\n",
       "    .attr(\"y\", function(d) { return d.y; })\n",
       "    .style(\"r\", function(d){  return d.size+\"px\"; })\n",
       "    .style(\"fill\", function(d) { return d.color; })\n",
       "    .style(\"opacity\", function(d) { return d.opacity; });\n",
       "\n",
       "\n",
       "/*Simulation of the forces*/\n",
       "var simulation = d3.forceSimulation(nodes)\n",
       "    .force(\"charge\", d3.forceManyBody().strength(-3000))\n",
       "    .force(\"center\", d3.forceCenter(width / 2, height / 2))\n",
       "    .force(\"x\", d3.forceX(width / 2).strength(1))\n",
       "    .force(\"y\", d3.forceY(height / 2).strength(1))\n",
       "    .force(\"links\", d3.forceLink(links)\n",
       "           .id(function(d) {return d.uid; })\n",
       "           .distance(50).strength(function(d){return d.weight;}))\n",
       "    .on(\"tick\", ticked);\n",
       "\n",
       "/*Update of the node and edge objects*/\n",
       "function ticked() {\n",
       "    node.call(updateNode);\n",
       "    link.call(updateLink);\n",
       "};\n",
       "\n",
       "/*Update link positions */\n",
       "function updateLink(link) {\n",
       "    link\n",
       "        .attr(\"x1\", function(d) { return d.source.x; })\n",
       "        .attr(\"y1\", function(d) { return d.source.y; })\n",
       "        .attr(\"x2\", function(d) { return d.target.x; })\n",
       "        .attr(\"y2\", function(d) { return d.target.y; });\n",
       "};\n",
       "\n",
       "/*Update node positions */\n",
       "function updateNode(node) {\n",
       "    node.attr(\"transform\", function(d) {\n",
       "        return \"translate(\" + d.x + \",\" + d.y + \")\";\n",
       "    });\n",
       "};\n",
       "\n",
       "/*Add drag functionality to the node objects*/\n",
       "node.call(\n",
       "    d3.drag()\n",
       "        .on(\"start\", dragstarted)\n",
       "        .on(\"drag\", dragged)\n",
       "        .on(\"end\", dragended)\n",
       ");\n",
       "\n",
       "function dragstarted(d) {\n",
       "    d3.event.sourceEvent.stopPropagation();\n",
       "    if (!d3.event.active) simulation.alphaTarget(0.3).restart();\n",
       "    d.fx = d.x;\n",
       "    d.fy = d.y;\n",
       "};\n",
       "\n",
       "function dragged(d) {\n",
       "    d.fx = d3.event.x;\n",
       "    d.fy = d3.event.y;\n",
       "};\n",
       "\n",
       "function dragended(d) {\n",
       "    if (!d3.event.active) simulation.alphaTarget(0);\n",
       "    d.fx = null;\n",
       "    d.fy = null;\n",
       "};\n",
       "\n",
       "}); //END\n",
       "\n",
       "</script>"
      ]
     },
     "metadata": {},
     "output_type": "display_data"
    }
   ],
   "source": [
    "g = pp.Graph(edge_index, edge_weight=edge_weight, node_id = paths.node_id)\n",
    "pp.plot(g);"
   ]
  },
  {
   "cell_type": "markdown",
   "metadata": {},
   "source": [
    "This is a first-order graph representation, as it only captures the (weighted) edges in the underlying path data, i.e. we could say that we only count the paths of length one. This naturally gives rise to an `edge_index` tensor with shape $(2,m)$, where $m$ is the number of unique edges in the graph that are traversed by the paths.\n",
    "\n",
    "A key feature of `pathpyG` is it allows to generalize this first-order modelling perspective to $k$-th order De Bruijn graph models for paths, where the nodes in a $k$-th order De Bruijn graph model are sequences of $k$ nodes. Edges connect pairs of nodes that overlap in $k-1$ nodes and capture paths of length $k$.\n",
    "\n",
    "A De Bruijn graph of order $k=1$ is simply a normal (weighted) graph consisting of nodes and edges. Fere the pairs of nodes connected by edges overlap in $k-1=0$ nodes and capture paths of length $k=1$, i.e. simple edges in the underlying path data.\n",
    "\n",
    "For a De Bruijn graph with order $k=2$, in our example above, an edge could connect a pair of nodes $[a,b]$ and $[b,c]$ overlapping in the $k-1=1$ node $b$ and such an edge would represent the path $a -> b -> c$ of length two."
   ]
  },
  {
   "cell_type": "markdown",
   "metadata": {},
   "source": [
    "In `pathpyG`, we can directly calculate the `edge_index` for a $k$-th order De Bruijn graph model of the paths contained in a `PathData` object. For our example, we can do this as follows:"
   ]
  },
  {
   "cell_type": "code",
   "execution_count": 114,
   "metadata": {},
   "outputs": [
    {
     "name": "stdout",
     "output_type": "stream",
     "text": [
      "higher-order edges = tensor([[[0, 1],\n",
      "         [0, 1],\n",
      "         [1, 2]],\n",
      "\n",
      "        [[1, 2],\n",
      "         [1, 3],\n",
      "         [2, 3]]])\n",
      "weights = tensor([4., 2., 2.])\n"
     ]
    }
   ],
   "source": [
    "i, w = paths.edge_index_k_weighted(k=2)\n",
    "print('higher-order edges =', i)\n",
    "print('weights =', w)"
   ]
  },
  {
   "cell_type": "markdown",
   "metadata": {},
   "source": [
    "Naturally extending the `pyG`-style `edge_index` to a higher-dimensional representation, the edge_index of a k-th De Bruijn graph model with m edges has the shape [2,m,k], i.e. it consists of a src and dst tensor with $m$ entries, where each entry is a k-dimensional tensor that contains the k nodes in the graph that constitute the higher-order node. For the example above, each node is thus actually a tensor with two elements. \n",
    "\n",
    "While this go way beyond the scope of the tutorial, thanks to the tensor-based representation of walks and DAGs in the `PathData` object, the construction of a higher-order De Bruijn graph model can actually be done based on efficient GPU operations, i.e. we can scale up the models for large graphs."
   ]
  },
  {
   "cell_type": "markdown",
   "metadata": {},
   "source": [
    "We can use paths to generate k-th order graphs that can be used for GNNs. To make access to nodes and edges convenient, we can pass a node_id mapping that assigns string IDs to the indices of the first-order nodes:"
   ]
  },
  {
   "cell_type": "code",
   "execution_count": 142,
   "metadata": {},
   "outputs": [
    {
     "name": "stdout",
     "output_type": "stream",
     "text": [
      "HigherOrderGraph (k=2) with 4 nodes and 3 edges\n",
      "\tTotal edge weight = 8.0\n",
      "Node attributes\n",
      "\tnode_id\t\t<class 'list'>\n",
      "\n",
      "Edge attributes\n",
      "\tedge_weight\t\t<class 'torch.Tensor'> -> torch.Size([3])\n",
      "\n",
      "Graph attributes\n",
      "\tnum_nodes\t\t<class 'int'>\n",
      "\n"
     ]
    },
    {
     "data": {
      "text/html": [
       "<style>\n",
       "svg circle.node {\n",
       "  fill: #3b5998;\n",
       "  stroke: #1b3978;\n",
       "  stroke-width: 5.5px;\n",
       "  r: 15px;\n",
       "  opacity: 1;\n",
       "}\n",
       "\n",
       ".link {\n",
       "  stroke: #4e4d4d;\n",
       "  stroke-opacity: .6;\n",
       "  stroke-width: 4px;\n",
       "}\n",
       "\n",
       ".labelText {\n",
       "  fill: #4e4d4d;\n",
       "}\n",
       "</style>\n",
       "\n",
       "<div id = \"x5c05db50454a46a0965583fb55f25a99\"> </div>\n",
       "<script charset=\"utf-8\" src=\"https://d3js.org/d3.v5.min.js\"></script>\n",
       "<script charset=\"utf-8\">\n",
       "// Load via requireJS if available (jupyter notebook environment)\n",
       "try {\n",
       "    // Problem: require.config will raise an exception when called for the second time \n",
       "    require.config({\n",
       "        paths: {\n",
       "            d3: \"https://d3js.org/d3.v5.min.js\".replace(\".js\", \"\")\n",
       "        }\n",
       "    });\n",
       "    console.log(\"OKAY: requireJS was detected.\");\n",
       "}\n",
       "catch(err){\n",
       "    // a reference error indicates that requireJS does not exist. \n",
       "    // other errors may occur due to multiple calls to config\n",
       "    if (err instanceof ReferenceError){\n",
       "        console.log(\"WARNING: NO requireJS was detected!\");\n",
       "\n",
       "        // Helper function that waits for d3js to be loaded\n",
       "        require = function require(symbols, callback) {\n",
       "            var ms = 5;\n",
       "            window.setTimeout(function(t) {\n",
       "                if (window[symbols[0]])\n",
       "                    callback(window[symbols[0]]);\n",
       "                else \n",
       "                    window.setTimeout(arguments.callee, ms);\n",
       "            }, ms);\n",
       "        }\n",
       "    }\n",
       "};\n",
       "require(['d3'], function(d3){ //START\n",
       "const data = {\"edges\": [{\"uid\": \"('a', 'b')-('b', 'c')\", \"source\": \"('a', 'b')\", \"target\": \"('b', 'c')\", \"weight\": 4.0}, {\"uid\": \"('a', 'b')-('b', 'd')\", \"source\": \"('a', 'b')\", \"target\": \"('b', 'd')\", \"weight\": 2.0}, {\"uid\": \"('b', 'c')-('c', 'd')\", \"source\": \"('b', 'c')\", \"target\": \"('c', 'd')\", \"weight\": 2.0}], \"nodes\": [{\"uid\": \"('a', 'b')\", \"x\": 0.9293403194094357, \"y\": 0.5170790898612596}, {\"uid\": \"('b', 'c')\", \"x\": 0.28248930068050127, \"y\": 0.42534820176144617}, {\"uid\": \"('b', 'd')\", \"x\": 0.31668271614740273, \"y\": 0.8909290965927905}, {\"uid\": \"('c', 'd')\", \"x\": 0.6603404862360589, \"y\": 0.26130566028383395}]}\n",
       "const config = {\"selector\": \"#x5c05db50454a46a0965583fb55f25a99\"}\n",
       "console.log(\"Static Network Template\");\n",
       "/* Resources\n",
       "   https://bl.ocks.org/mapio/53fed7d84cd1812d6a6639ed7aa83868\n",
       "   https://codepen.io/smlo/pen/JdMOej\n",
       "*/\n",
       "\n",
       "// variables from the config file\n",
       "const selector = config.selector;\n",
       "const width = config.width || 400;\n",
       "const height = config.height || 400;\n",
       "\n",
       "/* Create a svg element to display the network */\n",
       "var svg = d3.select(selector)\n",
       "    .append('svg')\n",
       "    .attr('width', width)\n",
       "    .attr('height', height)\n",
       "\n",
       "// add container to store the elements\n",
       "var container = svg.append(\"g\");\n",
       "\n",
       "/*Add zoom function to the container */\n",
       "svg.call(\n",
       "    d3.zoom()\n",
       "        .scaleExtent([.1, 4])\n",
       "        .on(\"zoom\", function() { container.attr(\"transform\", d3.event.transform); })\n",
       ");\n",
       "\n",
       "\n",
       "/*Load nodes and links from the data */\n",
       "var nodes = data.nodes\n",
       "var links = data.edges\n",
       "\n",
       "/*Link creation template */\n",
       "var link = container.append(\"g\").attr(\"class\", \"links\")\n",
       "    .selectAll(\".link\")\n",
       "    .data(links)\n",
       "    .enter()\n",
       "    .append(\"line\")\n",
       "    .attr(\"class\", \"link\")\n",
       "    .style(\"stroke\", function(d) { return d.color; })\n",
       "    .style(\"stroke-opacity\", function(d) { return d.opacity; })\n",
       "    .style(\"stroke-width\", function(d){  return d.size });\n",
       "\n",
       "/*Node creation template */\n",
       "var node = container.append(\"g\").attr(\"class\", \"nodes\")\n",
       "    .selectAll(\"circle.node\")\n",
       "    .data(nodes)\n",
       "    .enter().append(\"circle\")\n",
       "    .attr(\"class\", \"node\")\n",
       "    .attr(\"x\", function(d) { return d.x; })\n",
       "    .attr(\"y\", function(d) { return d.y; })\n",
       "    .style(\"r\", function(d){  return d.size+\"px\"; })\n",
       "    .style(\"fill\", function(d) { return d.color; })\n",
       "    .style(\"opacity\", function(d) { return d.opacity; });\n",
       "\n",
       "\n",
       "/*Simulation of the forces*/\n",
       "var simulation = d3.forceSimulation(nodes)\n",
       "    .force(\"charge\", d3.forceManyBody().strength(-3000))\n",
       "    .force(\"center\", d3.forceCenter(width / 2, height / 2))\n",
       "    .force(\"x\", d3.forceX(width / 2).strength(1))\n",
       "    .force(\"y\", d3.forceY(height / 2).strength(1))\n",
       "    .force(\"links\", d3.forceLink(links)\n",
       "           .id(function(d) {return d.uid; })\n",
       "           .distance(50).strength(function(d){return d.weight;}))\n",
       "    .on(\"tick\", ticked);\n",
       "\n",
       "/*Update of the node and edge objects*/\n",
       "function ticked() {\n",
       "    node.call(updateNode);\n",
       "    link.call(updateLink);\n",
       "};\n",
       "\n",
       "/*Update link positions */\n",
       "function updateLink(link) {\n",
       "    link\n",
       "        .attr(\"x1\", function(d) { return d.source.x; })\n",
       "        .attr(\"y1\", function(d) { return d.source.y; })\n",
       "        .attr(\"x2\", function(d) { return d.target.x; })\n",
       "        .attr(\"y2\", function(d) { return d.target.y; });\n",
       "};\n",
       "\n",
       "/*Update node positions */\n",
       "function updateNode(node) {\n",
       "    node.attr(\"transform\", function(d) {\n",
       "        return \"translate(\" + d.x + \",\" + d.y + \")\";\n",
       "    });\n",
       "};\n",
       "\n",
       "/*Add drag functionality to the node objects*/\n",
       "node.call(\n",
       "    d3.drag()\n",
       "        .on(\"start\", dragstarted)\n",
       "        .on(\"drag\", dragged)\n",
       "        .on(\"end\", dragended)\n",
       ");\n",
       "\n",
       "function dragstarted(d) {\n",
       "    d3.event.sourceEvent.stopPropagation();\n",
       "    if (!d3.event.active) simulation.alphaTarget(0.3).restart();\n",
       "    d.fx = d.x;\n",
       "    d.fy = d.y;\n",
       "};\n",
       "\n",
       "function dragged(d) {\n",
       "    d.fx = d3.event.x;\n",
       "    d.fy = d3.event.y;\n",
       "};\n",
       "\n",
       "function dragended(d) {\n",
       "    if (!d3.event.active) simulation.alphaTarget(0);\n",
       "    d.fx = null;\n",
       "    d.fy = null;\n",
       "};\n",
       "\n",
       "}); //END\n",
       "\n",
       "</script>"
      ]
     },
     "metadata": {},
     "output_type": "display_data"
    }
   ],
   "source": [
    "g2 = pp.HigherOrderGraph(paths, order=2, node_id=paths.node_id)\n",
    "print(g2)\n",
    "pp.plot(g2);"
   ]
  },
  {
   "cell_type": "markdown",
   "metadata": {},
   "source": [
    "Just like for a \"normal\" first-order graph, we can iterate through the nodes of a higher-order graph, which are tuples with k elements:"
   ]
  },
  {
   "cell_type": "code",
   "execution_count": 128,
   "metadata": {},
   "outputs": [
    {
     "name": "stdout",
     "output_type": "stream",
     "text": [
      "('a', 'b')\n",
      "('b', 'c')\n",
      "('b', 'd')\n",
      "('c', 'd')\n"
     ]
    }
   ],
   "source": [
    "for n in g2.nodes:\n",
    "    print(n)"
   ]
  },
  {
   "cell_type": "markdown",
   "metadata": {},
   "source": [
    "Edges are tuples with two elements, where each element is a k-th order node:"
   ]
  },
  {
   "cell_type": "code",
   "execution_count": 129,
   "metadata": {},
   "outputs": [
    {
     "name": "stdout",
     "output_type": "stream",
     "text": [
      "(('a', 'b', 'c'), ('b', 'c', 'd'))\n"
     ]
    }
   ],
   "source": [
    "for e in g.edges:\n",
    "    print(e)"
   ]
  },
  {
   "cell_type": "markdown",
   "metadata": {},
   "source": [
    "The weight attribute stores a tensor whose entries capture the frequencies of edges, i.e. the frequencies of paths of length $k$."
   ]
  },
  {
   "cell_type": "code",
   "execution_count": 133,
   "metadata": {},
   "outputs": [
    {
     "name": "stdout",
     "output_type": "stream",
     "text": [
      "(('a', 'b'), ('b', 'c')) 4.0\n",
      "(('a', 'b'), ('b', 'd')) 2.0\n",
      "(('b', 'c'), ('c', 'd')) 2.0\n"
     ]
    }
   ],
   "source": [
    "for e in g2.edges:\n",
    "    print(e, g2['edge_weight', e[0], e[1]].item())"
   ]
  },
  {
   "cell_type": "code",
   "execution_count": 134,
   "metadata": {},
   "outputs": [
    {
     "name": "stdout",
     "output_type": "stream",
     "text": [
      "HigherOrderGraph (k=3) with 2 nodes and 1 edges\n",
      "\tTotal edge weight = 2.0\n",
      "Edge attributes\n",
      "\tedge_weight\t\t<class 'torch.Tensor'> -> torch.Size([1])\n",
      "\n",
      "Graph attributes\n",
      "\tnode_id\t\t<class 'list'>\n",
      "\tnum_nodes\t\t<class 'int'>\n",
      "\n"
     ]
    }
   ],
   "source": [
    "g3 = pp.HigherOrderGraph(paths, order=3, node_id=paths.node_id)\n",
    "print(g3)"
   ]
  },
  {
   "cell_type": "code",
   "execution_count": 140,
   "metadata": {},
   "outputs": [
    {
     "name": "stdout",
     "output_type": "stream",
     "text": [
      "tensor([[[0, 1, 2]],\n",
      "\n",
      "        [[1, 2, 3]]])\n",
      "tensor([2.])\n"
     ]
    }
   ],
   "source": [
    "edge_index, edge_weight = paths.edge_index_k_weighted(k=3)\n",
    "print(edge_index)\n",
    "print(edge_weight)"
   ]
  },
  {
   "cell_type": "code",
   "execution_count": 141,
   "metadata": {},
   "outputs": [
    {
     "name": "stdout",
     "output_type": "stream",
     "text": [
      "(('a', 'b', 'c'), ('b', 'c', 'd')) 2.0\n"
     ]
    }
   ],
   "source": [
    "for e in g3.edges:\n",
    "    print(e, g3['edge_weight', e[0], e[1]].item())"
   ]
  },
  {
   "cell_type": "markdown",
   "metadata": {},
   "source": [
    "As we shall see in the following tutorial, the ``PathData` and the `HigherOrderGraph` classes are the basis for the GPU-based analysis and modelling of causal structures in temporal graphs. In particular, the underlying generalization of first-order static graph models to higher-order De Bruijn graphs allows us to easily build causality-aware graph neural network architectures that consider both the topology and the temoral ordering of time-stamped edges in a temporal graph. "
   ]
  }
 ],
 "metadata": {
  "kernelspec": {
   "display_name": "base",
   "language": "python",
   "name": "python3"
  },
  "language_info": {
   "codemirror_mode": {
    "name": "ipython",
    "version": 3
   },
   "file_extension": ".py",
   "mimetype": "text/x-python",
   "name": "python",
   "nbconvert_exporter": "python",
   "pygments_lexer": "ipython3",
   "version": "3.10.13"
  },
  "orig_nbformat": 4
 },
 "nbformat": 4,
 "nbformat_minor": 2
}
