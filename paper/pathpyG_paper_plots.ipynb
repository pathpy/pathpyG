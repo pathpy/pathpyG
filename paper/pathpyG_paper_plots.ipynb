{
 "cells": [
  {
   "cell_type": "code",
   "execution_count": 1,
   "id": "546e4551",
   "metadata": {},
   "outputs": [],
   "source": [
    "import pathpyG as pp"
   ]
  },
  {
   "cell_type": "code",
   "execution_count": 2,
   "id": "d643e932",
   "metadata": {},
   "outputs": [],
   "source": [
    "custom_red = (213, 94, 0)\n",
    "custom_blue = (1, 115, 178)"
   ]
  },
  {
   "cell_type": "code",
   "execution_count": 3,
   "id": "ef0a1eee",
   "metadata": {},
   "outputs": [
    {
     "data": {
      "text/plain": [
       "<pathpyG.visualisations._tikz.backend.TikzBackend at 0x7fbdd187db40>"
      ]
     },
     "execution_count": 3,
     "metadata": {},
     "output_type": "execute_result"
    }
   ],
   "source": [
    "t_1 = pp.TemporalGraph.from_edge_list(\n",
    "    [\n",
    "        (\"A\", \"B\", 0),\n",
    "        (\"C\", \"D\", 0),\n",
    "        (\"B\", \"C\", 1),\n",
    "        (\"B\", \"A\", 1),\n",
    "        (\"D\", \"C\", 1),\n",
    "        (\"A\", \"C\", 2),\n",
    "        (\"C\", \"B\", 2),\n",
    "        (\"C\", \"B\", 3),\n",
    "    ],\n",
    ")\n",
    "\n",
    "edge_color = {\n",
    "    (\"A\", \"B\", 0): custom_red,\n",
    "    (\"C\", \"D\", 0): custom_red,\n",
    "    (\"C\", \"B\", 2): custom_red,\n",
    "}\n",
    "node_opacity = {(node_id, time): 0.1 for node_id in t_1.nodes for time in range(t_1.data.time.max().item() + 2)}\n",
    "node_opacity.update({(source_id, time): 0.75 for source_id, target_id, time in t_1.temporal_edges})\n",
    "node_opacity.update({(target_id, time + 1): 0.75 for source_id, target_id, time in t_1.temporal_edges})\n",
    "pp.plot(\n",
    "    t_1,\n",
    "    backend=\"tikz\",\n",
    "    kind=\"unfolded\",\n",
    "    edge_color=edge_color,\n",
    "    edge_opacity=0.8,\n",
    "    node_opacity=node_opacity,\n",
    "    filename=\"t_1_unfolded.pdf\",\n",
    "    width = \"5cm\",\n",
    "    margin=0.2\n",
    ")"
   ]
  },
  {
   "cell_type": "code",
   "execution_count": 4,
   "id": "08c1d796",
   "metadata": {},
   "outputs": [
    {
     "data": {
      "text/plain": [
       "<pathpyG.visualisations._tikz.backend.TikzBackend at 0x7fbdd187e8f0>"
      ]
     },
     "execution_count": 4,
     "metadata": {},
     "output_type": "execute_result"
    }
   ],
   "source": [
    "t_2 = pp.TemporalGraph.from_edge_list(\n",
    "    [\n",
    "        (\"C\", \"B\", 0),\n",
    "        (\"B\", \"C\", 1),\n",
    "        (\"B\", \"A\", 1),\n",
    "        (\"D\", \"C\", 1),\n",
    "        (\"A\", \"B\", 2),\n",
    "        (\"A\", \"C\", 2),\n",
    "        (\"C\", \"D\", 2),\n",
    "        (\"C\", \"B\", 3)\n",
    "    ],\n",
    ")\n",
    "\n",
    "edge_color = {\n",
    "    (\"A\", \"B\", 2): custom_blue,\n",
    "    (\"C\", \"D\", 2): custom_blue,\n",
    "    (\"C\", \"B\", 0): custom_blue,\n",
    "}\n",
    "node_opacity = {(node_id, time): 0.1 for node_id in t_2.nodes for time in range(t_2.data.time.max().item() + 2)}\n",
    "node_opacity.update({(source_id, time): 0.75 for source_id, target_id, time in t_2.temporal_edges})\n",
    "node_opacity.update({(target_id, time + 1): 0.75 for source_id, target_id, time in t_2.temporal_edges})\n",
    "pp.plot(\n",
    "    t_2,\n",
    "    backend=\"tikz\",\n",
    "    kind=\"unfolded\",\n",
    "    edge_color=edge_color,\n",
    "    edge_opacity=0.8,\n",
    "    node_opacity=node_opacity,\n",
    "    filename=\"t_2_unfolded.pdf\",\n",
    "    width = \"5cm\",\n",
    "    margin=0.2\n",
    ")"
   ]
  },
  {
   "cell_type": "code",
   "execution_count": 5,
   "id": "9100107d",
   "metadata": {},
   "outputs": [
    {
     "name": "stderr",
     "output_type": "stream",
     "text": [
      "100%|██████████| 4/4 [00:00<00:00, 2023.06it/s]\n",
      "100%|██████████| 4/4 [00:00<00:00, 1942.71it/s]\n"
     ]
    }
   ],
   "source": [
    "m_1 = pp.MultiOrderModel.from_temporal_graph(t_1, max_order=2, delta=1)\n",
    "m_2 = pp.MultiOrderModel.from_temporal_graph(t_2, max_order=2, delta=1)\n",
    "\n",
    "layout = pp.layout(m_1.layers[2] + m_2.layers[2], layout=\"fa2\")"
   ]
  },
  {
   "cell_type": "code",
   "execution_count": 6,
   "id": "a7ad43ab",
   "metadata": {},
   "outputs": [
    {
     "data": {
      "text/plain": [
       "<pathpyG.visualisations._tikz.backend.TikzBackend at 0x7fbdd1703280>"
      ]
     },
     "execution_count": 6,
     "metadata": {},
     "output_type": "execute_result"
    }
   ],
   "source": [
    "edge_color = {\n",
    "    (\"A->B\", \"B->C\"): custom_red,\n",
    "    (\"A->B\", \"B->A\"): custom_red,\n",
    "    (\"B->C\", \"C->B\"): custom_red,\n",
    "    (\"C->D\", \"D->C\"): custom_red,\n",
    "    (\"D->C\", \"C->B\"): custom_red,\n",
    "}\n",
    "\n",
    "pp.plot(\n",
    "    m_1.layers[2],\n",
    "    backend=\"tikz\",\n",
    "    layout=layout,\n",
    "    edge_size=2,\n",
    "    edge_opacity=0.8,\n",
    "    edge_color=edge_color,\n",
    "    filename=\"event_1.pdf\",\n",
    "    width = \"5cm\",\n",
    "    height = \"5cm\",\n",
    "    margin=0.2\n",
    ")"
   ]
  },
  {
   "cell_type": "code",
   "execution_count": 7,
   "id": "9b390453",
   "metadata": {},
   "outputs": [
    {
     "data": {
      "text/plain": [
       "<pathpyG.visualisations._tikz.backend.TikzBackend at 0x7fbdd1701600>"
      ]
     },
     "execution_count": 7,
     "metadata": {},
     "output_type": "execute_result"
    }
   ],
   "source": [
    "edge_color = {\n",
    "    (\"C->B\", \"B->A\"): custom_blue,\n",
    "    (\"B->A\", \"A->B\"): custom_blue,\n",
    "    (\"C->B\", \"B->C\"): custom_blue,\n",
    "    (\"B->C\", \"C->D\"): custom_blue,\n",
    "    (\"D->C\", \"C->D\"): custom_blue,\n",
    "}\n",
    "\n",
    "pp.plot(\n",
    "    m_2.layers[2],\n",
    "    backend=\"tikz\",\n",
    "    layout=layout,\n",
    "    edge_size=2,\n",
    "    edge_opacity=0.8,\n",
    "    edge_color=edge_color,\n",
    "    filename=\"event_2.pdf\",\n",
    "    width = \"5cm\",\n",
    "    height = \"5cm\",\n",
    "    margin=0.2\n",
    ")"
   ]
  },
  {
   "cell_type": "code",
   "execution_count": 8,
   "id": "862cfdf9",
   "metadata": {},
   "outputs": [
    {
     "data": {
      "text/plain": [
       "<pathpyG.visualisations._tikz.backend.TikzBackend at 0x7fbdd179cbb0>"
      ]
     },
     "execution_count": 8,
     "metadata": {},
     "output_type": "execute_result"
    }
   ],
   "source": [
    "static_1 = t_1.to_static_graph()\n",
    "static_2 = t_2.to_static_graph()\n",
    "\n",
    "layout_static = pp.layout(static_1 + static_2, layout=\"fa2\")\n",
    "\n",
    "pp.plot(\n",
    "    static_1,\n",
    "    backend=\"tikz\",\n",
    "    layout=layout_static,\n",
    "    edge_size=2,\n",
    "    edge_opacity=0.8,\n",
    "    filename=\"static.pdf\",\n",
    "    width=\"5cm\",\n",
    "    height=\"5cm\",\n",
    "    margin=0.2\n",
    ")"
   ]
  },
  {
   "cell_type": "code",
   "execution_count": null,
   "id": "e46bc3f3",
   "metadata": {},
   "outputs": [],
   "source": []
  }
 ],
 "metadata": {
  "kernelspec": {
   "display_name": "pathpyg",
   "language": "python",
   "name": "python3"
  },
  "language_info": {
   "codemirror_mode": {
    "name": "ipython",
    "version": 3
   },
   "file_extension": ".py",
   "mimetype": "text/x-python",
   "name": "python",
   "nbconvert_exporter": "python",
   "pygments_lexer": "ipython3",
   "version": "3.10.18"
  }
 },
 "nbformat": 4,
 "nbformat_minor": 5
}
