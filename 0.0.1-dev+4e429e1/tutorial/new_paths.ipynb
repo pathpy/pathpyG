{
 "cells": [
  {
   "cell_type": "code",
   "execution_count": 1,
   "metadata": {},
   "outputs": [],
   "source": [
    "from pathpyG.core.Paths import PathData\n",
    "from torch import IntTensor\n",
    "\n",
    "import pathpyG as pp\n",
    "\n",
    "pp.config['torch']['device'] = 'cpu'"
   ]
  },
  {
   "cell_type": "code",
   "execution_count": 2,
   "metadata": {},
   "outputs": [
    {
     "name": "stdout",
     "output_type": "stream",
     "text": [
      "{0: tensor([[0, 1, 2],\n",
      "        [1, 2, 3]], dtype=torch.int32), 1: tensor([[0, 1, 1],\n",
      "        [1, 2, 3]], dtype=torch.int32)}\n",
      "{0: <PathType.WALK: 0>, 1: <PathType.DAG: 1>}\n",
      "{0: 2, 1: 3}\n"
     ]
    }
   ],
   "source": [
    "paths = PathData()\n",
    "paths.add_walk(IntTensor([[0,1,2],[1,2,3]]), freq=2)\n",
    "paths.add_dag(IntTensor([[0,1,1],[1,2,3]]), freq=3)\n",
    "print(paths.paths)\n",
    "print(paths.path_types)\n",
    "print(paths.path_freq)"
   ]
  },
  {
   "cell_type": "code",
   "execution_count": 3,
   "metadata": {},
   "outputs": [
    {
     "name": "stdout",
     "output_type": "stream",
     "text": [
      "torch.Size([2, 6])\n",
      "tensor([2., 2., 2., 3., 3., 3.])\n",
      "[tensor([[0],\n",
      "        [3]]), tensor([[1],\n",
      "        [4]]), tensor([[5]]), tensor([[2]])]\n"
     ]
    },
    {
     "data": {
      "text/plain": [
       "tensor([[0, 1, 1, 2],\n",
       "        [1, 2, 3, 3]], dtype=torch.int32)"
      ]
     },
     "execution_count": 3,
     "metadata": {},
     "output_type": "execute_result"
    }
   ],
   "source": [
    "paths.edge_index"
   ]
  },
  {
   "cell_type": "code",
   "execution_count": 8,
   "metadata": {},
   "outputs": [
    {
     "name": "stdout",
     "output_type": "stream",
     "text": [
      "torch.Size([2, 4, 2])\n",
      "tensor([2., 2., 3., 3.])\n",
      "[tensor([[0],\n",
      "        [2]]), tensor([[3]]), tensor([[1]])]\n"
     ]
    },
    {
     "data": {
      "text/plain": [
       "(tensor([[[0, 1],\n",
       "          [0, 1],\n",
       "          [1, 2]],\n",
       " \n",
       "         [[1, 2],\n",
       "          [1, 3],\n",
       "          [2, 3]]], dtype=torch.int32),\n",
       " tensor([5., 3., 2.]))"
      ]
     },
     "execution_count": 8,
     "metadata": {},
     "output_type": "execute_result"
    }
   ],
   "source": [
    "paths.edge_index_k_weighted(k=2)"
   ]
  },
  {
   "cell_type": "code",
   "execution_count": 6,
   "metadata": {},
   "outputs": [
    {
     "data": {
      "text/plain": [
       "tensor([[[0, 1],\n",
       "         [1, 2]],\n",
       "\n",
       "        [[1, 2],\n",
       "         [2, 3]]], dtype=torch.int32)"
      ]
     },
     "execution_count": 6,
     "metadata": {},
     "output_type": "execute_result"
    }
   ],
   "source": [
    "edge_index = IntTensor([[0,1,2],[1,2,3]])\n",
    "PathData.edge_index_kth_order_walk(edge_index, k=2)"
   ]
  },
  {
   "cell_type": "code",
   "execution_count": 7,
   "metadata": {},
   "outputs": [
    {
     "ename": "IndexError",
     "evalue": "Dimension out of range (expected to be in range of [-1, 0], but got 1)",
     "output_type": "error",
     "traceback": [
      "\u001b[0;31m---------------------------------------------------------------------------\u001b[0m",
      "\u001b[0;31mIndexError\u001b[0m                                Traceback (most recent call last)",
      "Cell \u001b[0;32mIn[7], line 2\u001b[0m\n\u001b[1;32m      1\u001b[0m edge_index \u001b[39m=\u001b[39m IntTensor([[\u001b[39m0\u001b[39m,\u001b[39m1\u001b[39m,\u001b[39m2\u001b[39m],[\u001b[39m1\u001b[39m,\u001b[39m1\u001b[39m,\u001b[39m3\u001b[39m]])\n\u001b[0;32m----> 2\u001b[0m PathData\u001b[39m.\u001b[39;49medge_index_kth_order_dag(edge_index, k\u001b[39m=\u001b[39;49m\u001b[39m2\u001b[39;49m)\n",
      "File \u001b[0;32m/workspaces/pathpyG/src/pathpyG/core/Paths.py:182\u001b[0m, in \u001b[0;36mPathData.edge_index_kth_order_dag\u001b[0;34m(edge_index, k)\u001b[0m\n\u001b[1;32m    180\u001b[0m x \u001b[39m=\u001b[39m edge_index\n\u001b[1;32m    181\u001b[0m \u001b[39mfor\u001b[39;00m i \u001b[39min\u001b[39;00m \u001b[39mrange\u001b[39m(\u001b[39m1\u001b[39m, k):\n\u001b[0;32m--> 182\u001b[0m     x \u001b[39m=\u001b[39m PathData\u001b[39m.\u001b[39;49mlift_order_dag(x)\n\u001b[1;32m    183\u001b[0m \u001b[39mreturn\u001b[39;00m x\n",
      "File \u001b[0;32m/workspaces/pathpyG/src/pathpyG/core/Paths.py:202\u001b[0m, in \u001b[0;36mPathData.lift_order_dag\u001b[0;34m(edge_index)\u001b[0m\n\u001b[1;32m    199\u001b[0m \u001b[39m# create edges of order k+1\u001b[39;00m\n\u001b[1;32m    200\u001b[0m \u001b[39mfor\u001b[39;00m v \u001b[39min\u001b[39;00m center_nodes:\n\u001b[1;32m    201\u001b[0m     \u001b[39m# get all predecessors of v, i.e. elements in edge_index[0] where edge_index[1] == v\u001b[39;00m\n\u001b[0;32m--> 202\u001b[0m     srcs \u001b[39m=\u001b[39m edge_index[\u001b[39m0\u001b[39m][torch\u001b[39m.\u001b[39;49mall(edge_index[\u001b[39m1\u001b[39;49m]\u001b[39m==\u001b[39;49mv, axis\u001b[39m=\u001b[39;49m\u001b[39m1\u001b[39;49m)\u001b[39m.\u001b[39mnonzero()\u001b[39m.\u001b[39mflatten()] \u001b[39m# type: ignore\u001b[39;00m\n\u001b[1;32m    203\u001b[0m     \u001b[39m# get all successors of v, i.e. elements in edge_index[1] where edge_index[0] == v\u001b[39;00m\n\u001b[1;32m    204\u001b[0m     dsts \u001b[39m=\u001b[39m edge_index[\u001b[39m1\u001b[39m][torch\u001b[39m.\u001b[39mall(edge_index[\u001b[39m0\u001b[39m]\u001b[39m==\u001b[39mv, axis\u001b[39m=\u001b[39m\u001b[39m1\u001b[39m)\u001b[39m.\u001b[39mnonzero()\u001b[39m.\u001b[39mflatten()] \u001b[39m# type: ignore\u001b[39;00m\n",
      "\u001b[0;31mIndexError\u001b[0m: Dimension out of range (expected to be in range of [-1, 0], but got 1)"
     ]
    }
   ],
   "source": [
    "edge_index = IntTensor([[0,1,2],[1,1,3]])\n",
    "PathData.edge_index_kth_order_dag(edge_index, k=2)"
   ]
  },
  {
   "cell_type": "code",
   "execution_count": null,
   "metadata": {},
   "outputs": [],
   "source": [
    "IntTensor([[0,1,2],[1,1,3]]).size()"
   ]
  },
  {
   "cell_type": "code",
   "execution_count": null,
   "metadata": {},
   "outputs": [],
   "source": [
    "IntTensor([[[0],[1],[2]],[[1],[1],[3]]]).size()"
   ]
  },
  {
   "cell_type": "code",
   "execution_count": null,
   "metadata": {},
   "outputs": [],
   "source": [
    "IntTensor([[[0],[1],[2]],[[1],[1],[3]]]).reshape(IntTensor([[[0],[1],[2]],[[1],[1],[3]]]).size() + (1,))"
   ]
  },
  {
   "cell_type": "code",
   "execution_count": null,
   "metadata": {},
   "outputs": [],
   "source": [
    "(1,2,3) + (1,)"
   ]
  },
  {
   "cell_type": "code",
   "execution_count": null,
   "metadata": {},
   "outputs": [],
   "source": []
  }
 ],
 "metadata": {
  "kernelspec": {
   "display_name": "base",
   "language": "python",
   "name": "python3"
  },
  "language_info": {
   "codemirror_mode": {
    "name": "ipython",
    "version": 3
   },
   "file_extension": ".py",
   "mimetype": "text/x-python",
   "name": "python",
   "nbconvert_exporter": "python",
   "pygments_lexer": "ipython3",
   "version": "3.10.11"
  },
  "orig_nbformat": 4
 },
 "nbformat": 4,
 "nbformat_minor": 2
}
